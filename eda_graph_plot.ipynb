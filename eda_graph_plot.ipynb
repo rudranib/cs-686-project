{
 "cells": [
  {
   "cell_type": "code",
   "execution_count": 1,
   "metadata": {},
   "outputs": [],
   "source": [
    "import pandas as pd\n",
    "import numpy as np\n",
    "import matplotlib.pyplot as plt\n",
    "import seaborn as sns\n",
    "from sklearn.preprocessing import StandardScaler\n",
    "from sklearn.decomposition import PCA\n",
    "from sklearn.feature_selection import SelectFromModel\n",
    "from sklearn.model_selection import train_test_split\n",
    "from sklearn.metrics import confusion_matrix\n",
    "import datetime as dt\n",
    "from scipy import stats\n",
    "from sklearn import preprocessing"
   ]
  },
  {
   "cell_type": "code",
   "execution_count": 2,
   "metadata": {},
   "outputs": [
    {
     "data": {
      "text/html": [
       "<div>\n",
       "<style scoped>\n",
       "    .dataframe tbody tr th:only-of-type {\n",
       "        vertical-align: middle;\n",
       "    }\n",
       "\n",
       "    .dataframe tbody tr th {\n",
       "        vertical-align: top;\n",
       "    }\n",
       "\n",
       "    .dataframe thead th {\n",
       "        text-align: right;\n",
       "    }\n",
       "</style>\n",
       "<table border=\"1\" class=\"dataframe\">\n",
       "  <thead>\n",
       "    <tr style=\"text-align: right;\">\n",
       "      <th></th>\n",
       "      <th>uniqueID</th>\n",
       "      <th>drugName</th>\n",
       "      <th>condition</th>\n",
       "      <th>review</th>\n",
       "      <th>rating</th>\n",
       "      <th>date</th>\n",
       "      <th>usefulCount</th>\n",
       "    </tr>\n",
       "  </thead>\n",
       "  <tbody>\n",
       "    <tr>\n",
       "      <th>0</th>\n",
       "      <td>206461</td>\n",
       "      <td>Valsartan</td>\n",
       "      <td>Left Ventricular Dysfunction</td>\n",
       "      <td>\"It has no side effect, I take it in combinati...</td>\n",
       "      <td>9</td>\n",
       "      <td>20-May-12</td>\n",
       "      <td>27</td>\n",
       "    </tr>\n",
       "    <tr>\n",
       "      <th>1</th>\n",
       "      <td>95260</td>\n",
       "      <td>Guanfacine</td>\n",
       "      <td>ADHD</td>\n",
       "      <td>\"My son is halfway through his fourth week of ...</td>\n",
       "      <td>8</td>\n",
       "      <td>27-Apr-10</td>\n",
       "      <td>192</td>\n",
       "    </tr>\n",
       "    <tr>\n",
       "      <th>2</th>\n",
       "      <td>92703</td>\n",
       "      <td>Lybrel</td>\n",
       "      <td>Birth Control</td>\n",
       "      <td>\"I used to take another oral contraceptive, wh...</td>\n",
       "      <td>5</td>\n",
       "      <td>14-Dec-09</td>\n",
       "      <td>17</td>\n",
       "    </tr>\n",
       "    <tr>\n",
       "      <th>3</th>\n",
       "      <td>138000</td>\n",
       "      <td>Ortho Evra</td>\n",
       "      <td>Birth Control</td>\n",
       "      <td>\"This is my first time using any form of birth...</td>\n",
       "      <td>8</td>\n",
       "      <td>3-Nov-15</td>\n",
       "      <td>10</td>\n",
       "    </tr>\n",
       "    <tr>\n",
       "      <th>4</th>\n",
       "      <td>35696</td>\n",
       "      <td>Buprenorphine / naloxone</td>\n",
       "      <td>Opiate Dependence</td>\n",
       "      <td>\"Suboxone has completely turned my life around...</td>\n",
       "      <td>9</td>\n",
       "      <td>27-Nov-16</td>\n",
       "      <td>37</td>\n",
       "    </tr>\n",
       "  </tbody>\n",
       "</table>\n",
       "</div>"
      ],
      "text/plain": [
       "   uniqueID                  drugName                     condition  \\\n",
       "0    206461                 Valsartan  Left Ventricular Dysfunction   \n",
       "1     95260                Guanfacine                          ADHD   \n",
       "2     92703                    Lybrel                 Birth Control   \n",
       "3    138000                Ortho Evra                 Birth Control   \n",
       "4     35696  Buprenorphine / naloxone             Opiate Dependence   \n",
       "\n",
       "                                              review  rating       date  \\\n",
       "0  \"It has no side effect, I take it in combinati...       9  20-May-12   \n",
       "1  \"My son is halfway through his fourth week of ...       8  27-Apr-10   \n",
       "2  \"I used to take another oral contraceptive, wh...       5  14-Dec-09   \n",
       "3  \"This is my first time using any form of birth...       8   3-Nov-15   \n",
       "4  \"Suboxone has completely turned my life around...       9  27-Nov-16   \n",
       "\n",
       "   usefulCount  \n",
       "0           27  \n",
       "1          192  \n",
       "2           17  \n",
       "3           10  \n",
       "4           37  "
      ]
     },
     "execution_count": 2,
     "metadata": {},
     "output_type": "execute_result"
    }
   ],
   "source": [
    "df1=pd.read_csv('drugsComTrain_raw.csv')\n",
    "df2=pd.read_csv('drugsComTest_raw.csv')\n",
    "\n",
    "df=pd.concat([df1,df2])\n",
    "df.head()"
   ]
  },
  {
   "cell_type": "code",
   "execution_count": 3,
   "metadata": {},
   "outputs": [],
   "source": [
    "df['date'] = pd.to_datetime(df['date'])"
   ]
  },
  {
   "cell_type": "code",
   "execution_count": 4,
   "metadata": {},
   "outputs": [],
   "source": [
    "df['year']=df['date'].dt.year\n",
    "df['month']=df['date'].dt.month\n",
    "df['day']=df['date'].dt.day"
   ]
  },
  {
   "cell_type": "code",
   "execution_count": 5,
   "metadata": {},
   "outputs": [
    {
     "data": {
      "text/plain": [
       "Text(0.5, 0, 'rating')"
      ]
     },
     "execution_count": 5,
     "metadata": {},
     "output_type": "execute_result"
    },
    {
     "data": {
      "image/png": "[encoded data removed]",
      "text/plain": [
       "<Figure size 1008x432 with 1 Axes>"
      ]
     },
     "metadata": {
      "needs_background": "light"
     },
     "output_type": "display_data"
    }
   ],
   "source": [
    "plt.figure(figsize=(14,6))\n",
    "df2_top20=df.rating.value_counts()[:20].reset_index(name='count')\n",
    "df2_top20\n",
    "sns.barplot(x='index',y='count',data=df2_top20,palette='muted')\n",
    "plt.xticks(rotation=90)\n",
    "plt.xlabel('rating')"
   ]
  },
  {
   "cell_type": "code",
   "execution_count": 6,
   "metadata": {},
   "outputs": [
    {
     "data": {
      "text/plain": [
       "(5.5, 9.5)"
      ]
     },
     "execution_count": 6,
     "metadata": {},
     "output_type": "execute_result"
    },
    {
     "data": {
      "image/png": "[encoded data removed]",
      "text/plain": [
       "<Figure size 1008x432 with 1 Axes>"
      ]
     },
     "metadata": {
      "needs_background": "light"
     },
     "output_type": "display_data"
    }
   ],
   "source": [
    "#dfry=df.groupby(['year']).size().reset_index(name='count')\n",
    "plt.figure(figsize=(14,6))\n",
    "dfry=df.groupby(['year'])['rating'].mean().reset_index(name='count')\n",
    "s1=sns.barplot(x='year',y='count',data=dfry,palette='muted')\n",
    "\n",
    "plt.xlabel('year')\n",
    "plt.ylabel('avg rating')\n",
    "s1.set_ylim([5.5,9.5])"
   ]
  },
  {
   "cell_type": "code",
   "execution_count": 7,
   "metadata": {},
   "outputs": [
    {
     "data": {
      "text/plain": [
       "(6.7, 7.25)"
      ]
     },
     "execution_count": 7,
     "metadata": {},
     "output_type": "execute_result"
    },
    {
     "data": {
      "image/png": "[encoded data removed]",
      "text/plain": [
       "<Figure size 1008x432 with 1 Axes>"
      ]
     },
     "metadata": {
      "needs_background": "light"
     },
     "output_type": "display_data"
    }
   ],
   "source": [
    "plt.figure(figsize=(14,6))\n",
    "dfrmm=df.groupby(['month'])['rating'].mean().reset_index(name='count')\n",
    "s2=sns.barplot(x='month',y='count',data=dfrmm,palette='muted')\n",
    "\n",
    "plt.xlabel('month')\n",
    "plt.ylabel('avg rating')\n",
    "plt.xticks(rotation=90)\n",
    "s2.set_ylim([6.7,7.25])"
   ]
  },
  {
   "cell_type": "code",
   "execution_count": 8,
   "metadata": {},
   "outputs": [
    {
     "data": {
      "text/plain": [
       "(6.7, 7.2)"
      ]
     },
     "execution_count": 8,
     "metadata": {},
     "output_type": "execute_result"
    },
    {
     "data": {
      "image/png": "[encoded data removed]",
      "text/plain": [
       "<Figure size 1008x432 with 1 Axes>"
      ]
     },
     "metadata": {
      "needs_background": "light"
     },
     "output_type": "display_data"
    }
   ],
   "source": [
    "plt.figure(figsize=(14,6))\n",
    "dfrmd=df.groupby(['day'])['rating'].mean().reset_index(name='count')\n",
    "s3=sns.barplot(x='day',y='count',data=dfrmd,palette='muted')\n",
    "\n",
    "plt.xlabel('day')\n",
    "plt.ylabel('avg rating')\n",
    "plt.xticks(rotation=90)\n",
    "s3.set_ylim([6.7,7.2])"
   ]
  },
  {
   "cell_type": "code",
   "execution_count": 9,
   "metadata": {},
   "outputs": [
    {
     "data": {
      "text/plain": [
       "916"
      ]
     },
     "execution_count": 9,
     "metadata": {},
     "output_type": "execute_result"
    }
   ],
   "source": [
    "df['condition'].nunique()"
   ]
  },
  {
   "cell_type": "code",
   "execution_count": 10,
   "metadata": {},
   "outputs": [],
   "source": [
    "df.loc[df['rating']<=4,'label']=-1\n",
    "df.loc[(df['rating']>4) & (df['rating']<7),'label']=0\n",
    "df.loc[df['rating']>=7,'label']=1"
   ]
  },
  {
   "cell_type": "code",
   "execution_count": 11,
   "metadata": {},
   "outputs": [],
   "source": [
    "from sklearn.model_selection import train_test_split"
   ]
  },
  {
   "cell_type": "code",
   "execution_count": 12,
   "metadata": {},
   "outputs": [],
   "source": [
    "X_train, X_test, y_train, y_test=train_test_split(df['review'], df['label'], test_size=0.25, random_state=0)\n"
   ]
  },
  {
   "cell_type": "code",
   "execution_count": 13,
   "metadata": {},
   "outputs": [
    {
     "data": {
      "text/plain": [
       "(161297,)"
      ]
     },
     "execution_count": 13,
     "metadata": {},
     "output_type": "execute_result"
    }
   ],
   "source": [
    "X_train.shape"
   ]
  },
  {
   "cell_type": "code",
   "execution_count": 14,
   "metadata": {},
   "outputs": [
    {
     "data": {
      "text/plain": [
       "(53766,)"
      ]
     },
     "execution_count": 14,
     "metadata": {},
     "output_type": "execute_result"
    }
   ],
   "source": [
    "X_test.shape"
   ]
  },
  {
   "cell_type": "code",
   "execution_count": 15,
   "metadata": {},
   "outputs": [
    {
     "data": {
      "text/plain": [
       "3671"
      ]
     },
     "execution_count": 15,
     "metadata": {},
     "output_type": "execute_result"
    }
   ],
   "source": [
    "df['drugName'].nunique()"
   ]
  },
  {
   "cell_type": "code",
   "execution_count": 16,
   "metadata": {},
   "outputs": [
    {
     "data": {
      "text/plain": [
       "8.92064185843218"
      ]
     },
     "execution_count": 16,
     "metadata": {},
     "output_type": "execute_result"
    }
   ],
   "source": [
    "#100.*df.A.eq('Used').sum()/df.shape[0]\n",
    "100.*(df['label'] == 0).sum()/len(df.index)"
   ]
  },
  {
   "cell_type": "code",
   "execution_count": 55,
   "metadata": {},
   "outputs": [
    {
     "data": {
      "text/plain": [
       "Text(0, 0.5, 'accuracy %')"
      ]
     },
     "execution_count": 55,
     "metadata": {},
     "output_type": "execute_result"
    },
    {
     "data": {
      "image/png": "[encoded data removed]",
      "text/plain": [
       "<Figure size 576x360 with 1 Axes>"
      ]
     },
     "metadata": {
      "needs_background": "light"
     },
     "output_type": "display_data"
    }
   ],
   "source": [
    "#logistic regression for (1,2)\n",
    "\n",
    "train_acc_cv1=[80.2113149939237, 85.99837295489469, 90.6123514819167, 93.58221097351532, 95.45632589110849, 96.68665320839234, 97.51524099350186, 98.06562415258068, 98.43522452218104]\n",
    "test_acc_cv1=[70.43386562217535, 72.94064477252185, 76.10123531184092, 78.10786381440192, 79.80415787887918, 80.63272069900572, 81.3106357336547, 81.87707140705032, 82.30189816209702]\n",
    "train_acc_tf1=[76.95119869032912, 79.42691855735335, 81.18854640593771, 82.53035644339992, 83.42322255365734, 84.16242329285808, 84.82830656743701, 85.37467233119406, 85.82562495605974]\n",
    "test_acc_tf1=[70.68996685748719, 71.86200662850256, 72.89846339258813, 73.60650798433262, 74.28442301898161, 74.80566435673396, 75.0557396806267, 75.45043687857789, 75.73365471527569]\n",
    "plt.figure(figsize=(8,5))\n",
    "n=range(10000,55000,5000)\n",
    "# plt.plot(n,train_acc_cv1,\"-b\",label=\"training data for count vectors\")\n",
    "# plt.plot(n,test_acc_cv1,\"-r\",label=\"test data for count vectors\")\n",
    "# plt.plot(n,train_acc_tf1, \"-g\",label=\"training data for tdif\")\n",
    "# plt.plot(n,test_acc_tf1, \"-c\",label=\"test data for tdif\")\n",
    "\n",
    "sns.lineplot(n,train_acc_cv1,palette='dark',label=\"training data for bag-of-words\")\n",
    "sns.lineplot(n,test_acc_cv1,palette='dark',label=\"test data for bag-of-words\")\n",
    "sns.lineplot(n,train_acc_tf1, palette='dark',label=\"training data for tfidf\")\n",
    "sns.lineplot(n,test_acc_tf1, palette='dark',label=\"test data for tfidf\")\n",
    "\n",
    "\n",
    "#box = plt.get_position()\n",
    "#plt.set_position([box.x0, box.y0 + box.height * 0.1,box.width, box.height * 0.9])\n",
    "\n",
    "#plt.legend(loc=\"upper left\",prop={\"size\":8})\n",
    "plt.legend(bbox_to_anchor=(0.5,-0.2), loc='center', borderaxespad=0.,ncol=2, mode=\"expand\")\n",
    "#plt.title(\"line chart of e\")\n",
    "plt.xlabel(\"# of features\")\n",
    "plt.ylabel(\"accuracy %\")"
   ]
  },
  {
   "cell_type": "code",
   "execution_count": 12,
   "metadata": {},
   "outputs": [
    {
     "name": "stdout",
     "output_type": "stream",
     "text": [
      "92.95147990800164\n",
      "78.16778815573633\n",
      "82.63458553313626\n",
      "73.82076261256738\n"
     ]
    }
   ],
   "source": [
    "from statistics import mean\n",
    "\n",
    "print(mean(train_acc_cv1))\n",
    "print(mean(test_acc_cv1))\n",
    "print(mean(train_acc_tf1))\n",
    "print(mean(test_acc_tf1))"
   ]
  },
  {
   "cell_type": "code",
   "execution_count": 56,
   "metadata": {},
   "outputs": [
    {
     "data": {
      "text/plain": [
       "Text(0, 0.5, 'accuracy %')"
      ]
     },
     "execution_count": 56,
     "metadata": {},
     "output_type": "execute_result"
    },
    {
     "data": {
      "image/png": "[encoded data removed]",
      "text/plain": [
       "<Figure size 576x360 with 1 Axes>"
      ]
     },
     "metadata": {
      "needs_background": "light"
     },
     "output_type": "display_data"
    }
   ],
   "source": [
    "#  multi nb\n",
    "\n",
    "train_acc_cv2=[69.3954824389607, 70.66297066297066, 71.92644149165889, 72.94585555455122, 73.93714785019134, 74.7305834262356, 75.63650607128868, 76.40081553125032, 77.03958138740748]\n",
    "test_acc_cv2=[67.12262729737873, 68.02651401024406, 68.77673998192226, 69.13528171135884, 69.52094004218138, 69.92467610726122, 70.21391985537812, 70.66285025610124, 70.88279602289846]\n",
    "train_acc_tf2=[71.55382807556721, 72.47180290658551, 73.15777315777315, 73.5826127130475, 74.05766970984362, 74.36901784727871, 74.57591370634849, 74.7305834262356, 74.93044884349233]\n",
    "test_acc_tf2=[70.52726724917143, 71.03043085266647, 71.39499849352214, 71.5818017475143, 71.8047604700211, 71.88912322988853, 72.07592648388069, 72.0879783067189, 72.20247062368183]\n",
    "plt.figure(figsize=(8,5))\n",
    "n=range(10000,55000,5000)\n",
    "# plt.plot(n,train_acc_cv1,\"-b\",label=\"training data for count vectors\")\n",
    "# plt.plot(n,test_acc_cv1,\"-r\",label=\"test data for count vectors\")\n",
    "# plt.plot(n,train_acc_tf1, \"-g\",label=\"training data for tdif\")\n",
    "# plt.plot(n,test_acc_tf1, \"-c\",label=\"test data for tdif\")\n",
    "\n",
    "sns.lineplot(n,train_acc_cv2,palette='dark',label=\"training data for bag-of-words\")\n",
    "sns.lineplot(n,test_acc_cv2,palette='dark',label=\"test data for bag-of-words\")\n",
    "sns.lineplot(n,train_acc_tf2, palette='dark',label=\"training data for tfidf\")\n",
    "sns.lineplot(n,test_acc_tf2, palette='dark',label=\"test data for tfidf\")\n",
    "\n",
    "\n",
    "#box = plt.get_position()\n",
    "#plt.set_position([box.x0, box.y0 + box.height * 0.1,box.width, box.height * 0.9])\n",
    "\n",
    "#plt.legend(loc=\"upper left\",prop={\"size\":8})\n",
    "plt.legend(bbox_to_anchor=(0.5,-0.2), loc='center', borderaxespad=0.,ncol=2, mode=\"expand\")\n",
    "#plt.title(\"line chart of e\")\n",
    "plt.xlabel(\"# of features\")\n",
    "plt.ylabel(\"accuracy %\")"
   ]
  },
  {
   "cell_type": "code",
   "execution_count": 13,
   "metadata": {},
   "outputs": [
    {
     "name": "stdout",
     "output_type": "stream",
     "text": [
      "73.63059826827943\n",
      "69.36292725385826\n",
      "73.71440559846357\n",
      "71.62163971745171\n"
     ]
    }
   ],
   "source": [
    "print(mean(train_acc_cv2))\n",
    "print(mean(test_acc_cv2))\n",
    "print(mean(train_acc_tf2))\n",
    "print(mean(test_acc_tf2))"
   ]
  },
  {
   "cell_type": "code",
   "execution_count": 14,
   "metadata": {},
   "outputs": [],
   "source": [
    "# rf for n=10\n",
    "test_acc_cv3=[80.87677011147936, 81.18107863814402, 80.94908104850859, 81.53058150045194, 81.08767701114795, 81.5396203675806, 80.90388671286533, 80.92497740283218, 81.37089484784573]\n",
    "test_acc_tf3=[81.08165109972883, 81.05754745405243, 80.92799035854173, 80.93100331425129, 81.31364868936427, 81.16300090388671, 81.00632720699006, 81.17505272672491, 81.36486893642663]"
   ]
  },
  {
   "cell_type": "code",
   "execution_count": 15,
   "metadata": {},
   "outputs": [],
   "source": [
    "# rf for n=50\n",
    "test_acc_cv4=[84.70924977402832, 84.98644169930702, 85.05272672491715, 85.10093401626996, 85.01054534498343, 84.99548056643567, 85.0376619463694, 85.18830973184694, 85.01355830069298]\n",
    "test_acc_tf4=[84.67610726122325, 85.0557396806267, 84.73335341970473, 85.16721904188009, 84.81771617957216, 84.98041578788792, 85.0798433263031, 85.09189514914131, 85.18228382042784]"
   ]
  },
  {
   "cell_type": "code",
   "execution_count": 16,
   "metadata": {},
   "outputs": [],
   "source": [
    "# rf for n=100\n",
    "test_acc_cv5=[85.4986441699307, 85.41126845435372, 85.52274781560712, 85.45646278999699, 85.4986441699307, 85.5347996384453, 85.70955106959927, 85.52274781560712, 85.50768303705935]\n",
    "test_acc_tf5=[85.3389575173245, 85.39017776438686, 85.22446520036155, 85.40825549864417, 85.53781259415486, 85.66736968966556, 85.65531786682736, 85.68846037963242, 85.62518830973185]"
   ]
  },
  {
   "cell_type": "code",
   "execution_count": 57,
   "metadata": {},
   "outputs": [
    {
     "data": {
      "text/plain": [
       "Text(0, 0.5, 'accuracy %')"
      ]
     },
     "execution_count": 57,
     "metadata": {},
     "output_type": "execute_result"
    },
    {
     "data": {
      "image/png": "[encoded data removed]",
      "text/plain": [
       "<Figure size 576x360 with 1 Axes>"
      ]
     },
     "metadata": {
      "needs_background": "light"
     },
     "output_type": "display_data"
    }
   ],
   "source": [
    "plt.figure(figsize=(8,5))\n",
    "n=range(10000,55000,5000)\n",
    "# plt.plot(n,train_acc_cv1,\"-b\",label=\"training data for count vectors\")\n",
    "# plt.plot(n,test_acc_cv1,\"-r\",label=\"test data for count vectors\")\n",
    "# plt.plot(n,train_acc_tf1, \"-g\",label=\"training data for tdif\")\n",
    "# plt.plot(n,test_acc_tf1, \"-c\",label=\"test data for tdif\")\n",
    "\n",
    "sns.lineplot(n,test_acc_cv3,palette='dark',label=\"test data-bag-of-words, #of trees=10\")\n",
    "sns.lineplot(n,test_acc_tf3,palette='dark',label=\"test data-tfidf, # of trees=10\")\n",
    "sns.lineplot(n,test_acc_cv4, palette='dark',label=\"test data-bag-of-words, # of trees=50\")\n",
    "sns.lineplot(n,test_acc_tf4, palette='dark',label=\"test data-tfidf, # of trees=50\")\n",
    "sns.lineplot(n,test_acc_cv5, palette='dark',label=\"test data-bag-of-words, # of trees=100\")\n",
    "sns.lineplot(n,test_acc_tf5, palette='dark',label=\"test data-tfidf, # of trees=100\")\n",
    "\n",
    "\n",
    "#box = plt.get_position()\n",
    "#plt.set_position([box.x0, box.y0 + box.height * 0.1,box.width, box.height * 0.9])\n",
    "\n",
    "#plt.legend(loc=\"upper left\",prop={\"size\":8})\n",
    "plt.legend(bbox_to_anchor=(0.5,-0.25), loc='center', borderaxespad=0.,ncol=2, mode=\"expand\")\n",
    "#plt.title(\"line chart of e\")\n",
    "plt.xlabel(\"# of features\")\n",
    "plt.ylabel(\"accuracy %\")"
   ]
  },
  {
   "cell_type": "code",
   "execution_count": 18,
   "metadata": {},
   "outputs": [],
   "source": [
    "#tra rf n=10\n",
    "\n",
    "train_acc_cv3=[99.36926893448631, 99.35119065553847, 99.37328632980807, 99.35420370202979, 99.3742906786385, 99.3883515622646, 99.3572167485211, 99.3602297950124, 99.3572167485211]\n",
    "train_acc_tf3=[99.40944288770376, 99.36223849267327, 99.41245593419507, 99.39136460875592, 99.3602297950124, 99.37328632980807, 99.36926893448631, 99.35219500436891, 99.35219500436891]\n",
    "#tra rf n=50\n",
    "train_acc_cv4=[99.92366948888687, 99.92065644239557, 99.92366948888687, 99.92366948888687, 99.92366948888687, 99.92567818654776, 99.92567818654776, 99.921660791226, 99.92668253537819]\n",
    "train_acc_tf4=[99.921660791226, 99.921660791226, 99.92266514005644, 99.92467383771732, 99.92467383771732, 99.92567818654776, 99.92567818654776, 99.92467383771732, 99.92668253537819]\n",
    "\n",
    "#tra rf n=100\n",
    "train_acc_cv5=[99.921660791226, 99.92366948888687, 99.92567818654776, 99.92567818654776, 99.92567818654776, 99.92668253537819, 99.92668253537819, 99.92467383771732, 99.92869123303906]\n",
    "train_acc_tf5=[99.92467383771732, 99.92366948888687, 99.92567818654776, 99.92467383771732, 99.92467383771732, 99.92567818654776, 99.92668253537819, 99.92668253537819, 99.92869123303906]"
   ]
  },
  {
   "cell_type": "code",
   "execution_count": 49,
   "metadata": {
    "scrolled": true
   },
   "outputs": [
    {
     "name": "stdout",
     "output_type": "stream",
     "text": [
      "99.3650283505356\n",
      "99.3758529990414\n",
      "99.92389267751587\n",
      "99.92422746045935\n",
      "99.92545499791876\n",
      "99.92567818654776\n",
      "81.15161862676175\n",
      "81.11345452110743\n",
      "85.01054534498343\n",
      "84.9760637407519\n",
      "85.51806099561448\n",
      "85.50400053563656\n"
     ]
    }
   ],
   "source": [
    "print(mean(train_acc_cv3))\n",
    "print(mean(train_acc_tf3))\n",
    "print(mean(train_acc_cv4))\n",
    "print(mean(train_acc_tf4))\n",
    "print(mean(train_acc_cv5))\n",
    "print(mean(train_acc_tf5))\n",
    "\n",
    "print(mean(test_acc_cv3))\n",
    "print(mean(test_acc_tf3))\n",
    "print(mean(test_acc_cv4))\n",
    "print(mean(test_acc_tf4))\n",
    "print(mean(test_acc_cv5))\n",
    "print(mean(test_acc_tf5))"
   ]
  },
  {
   "cell_type": "code",
   "execution_count": 58,
   "metadata": {},
   "outputs": [
    {
     "data": {
      "text/plain": [
       "Text(0, 0.5, 'accuracy %')"
      ]
     },
     "execution_count": 58,
     "metadata": {},
     "output_type": "execute_result"
    },
    {
     "data": {
      "image/png": "[encoded data removed]",
      "text/plain": [
       "<Figure size 576x360 with 1 Axes>"
      ]
     },
     "metadata": {
      "needs_background": "light"
     },
     "output_type": "display_data"
    }
   ],
   "source": [
    "# gb\n",
    "train_acc_cv6=[67.28735424387598, 68.80392097783403, 69.78316108750892, 73.37370815631685, 75.09014030753161,76.52635913505479]\n",
    "test_acc_cv6=[66.36938836999096, 67.70412774932208, 68.53871648086773, 71.15094908104851, 72.08496535100934,72.74480265140102]\n",
    "train_acc_tf6=[67.57058061405887, 69.23177357959966, 70.38275733927908, 74.41923528880051, 76.51731999558086,78.19257384474776]\n",
    "test_acc_tf6=[66.74600783368484, 67.99939740885809, 68.90027116601387, 71.46128351913227, 72.55197348598975,73.2389273877674]\n",
    "\n",
    "plt.figure(figsize=(8,5))\n",
    "r=[100,150,200,500,750,1000]\n",
    "sns.lineplot(r,train_acc_cv6,palette='dark',label=\"training data for bag-of-words\")\n",
    "sns.lineplot(r,test_acc_cv6,palette='dark',label=\"test data for bag-of-words\")\n",
    "sns.lineplot(r,train_acc_tf6, palette='dark',label=\"training data for tfidf\")\n",
    "sns.lineplot(r,test_acc_tf6, palette='dark',label=\"test data for tfidf\")\n",
    "\n",
    "#plt.legend(loc=\"upper left\",prop={\"size\":8})\n",
    "plt.legend(bbox_to_anchor=(0.5,-0.2), loc='center', borderaxespad=0.,ncol=2, mode=\"expand\")\n",
    "\n",
    "#plt.title(\"line chart of e\")\n",
    "plt.xlabel(\"# of trees\")\n",
    "plt.ylabel(\"accuracy %\")"
   ]
  },
  {
   "cell_type": "code",
   "execution_count": 54,
   "metadata": {},
   "outputs": [
    {
     "name": "stdout",
     "output_type": "stream",
     "text": [
      "71.81077398468703\n",
      "69.76549161393994\n",
      "72.71904011034445\n",
      "70.1496434669077\n"
     ]
    }
   ],
   "source": [
    "print(mean(train_acc_cv6))\n",
    "print(mean(test_acc_cv6))\n",
    "print(mean(train_acc_tf6))\n",
    "print(mean(test_acc_tf6))"
   ]
  },
  {
   "cell_type": "code",
   "execution_count": 29,
   "metadata": {},
   "outputs": [
    {
     "data": {
      "text/html": [
       "<div>\n",
       "<style scoped>\n",
       "    .dataframe tbody tr th:only-of-type {\n",
       "        vertical-align: middle;\n",
       "    }\n",
       "\n",
       "    .dataframe tbody tr th {\n",
       "        vertical-align: top;\n",
       "    }\n",
       "\n",
       "    .dataframe thead th {\n",
       "        text-align: right;\n",
       "    }\n",
       "</style>\n",
       "<table border=\"1\" class=\"dataframe\">\n",
       "  <thead>\n",
       "    <tr style=\"text-align: right;\">\n",
       "      <th></th>\n",
       "      <th>uniqueID</th>\n",
       "      <th>drugName</th>\n",
       "      <th>condition</th>\n",
       "      <th>review</th>\n",
       "      <th>rating</th>\n",
       "      <th>date</th>\n",
       "      <th>usefulCount</th>\n",
       "      <th>year</th>\n",
       "      <th>month</th>\n",
       "      <th>day</th>\n",
       "      <th>label</th>\n",
       "    </tr>\n",
       "  </thead>\n",
       "  <tbody>\n",
       "    <tr>\n",
       "      <th>0</th>\n",
       "      <td>206461</td>\n",
       "      <td>Valsartan</td>\n",
       "      <td>Left Ventricular Dysfunction</td>\n",
       "      <td>\"It has no side effect, I take it in combinati...</td>\n",
       "      <td>9</td>\n",
       "      <td>2012-05-20</td>\n",
       "      <td>27</td>\n",
       "      <td>2012</td>\n",
       "      <td>5</td>\n",
       "      <td>20</td>\n",
       "      <td>1.0</td>\n",
       "    </tr>\n",
       "    <tr>\n",
       "      <th>1</th>\n",
       "      <td>95260</td>\n",
       "      <td>Guanfacine</td>\n",
       "      <td>ADHD</td>\n",
       "      <td>\"My son is halfway through his fourth week of ...</td>\n",
       "      <td>8</td>\n",
       "      <td>2010-04-27</td>\n",
       "      <td>192</td>\n",
       "      <td>2010</td>\n",
       "      <td>4</td>\n",
       "      <td>27</td>\n",
       "      <td>1.0</td>\n",
       "    </tr>\n",
       "    <tr>\n",
       "      <th>2</th>\n",
       "      <td>92703</td>\n",
       "      <td>Lybrel</td>\n",
       "      <td>Birth Control</td>\n",
       "      <td>\"I used to take another oral contraceptive, wh...</td>\n",
       "      <td>5</td>\n",
       "      <td>2009-12-14</td>\n",
       "      <td>17</td>\n",
       "      <td>2009</td>\n",
       "      <td>12</td>\n",
       "      <td>14</td>\n",
       "      <td>0.0</td>\n",
       "    </tr>\n",
       "    <tr>\n",
       "      <th>3</th>\n",
       "      <td>138000</td>\n",
       "      <td>Ortho Evra</td>\n",
       "      <td>Birth Control</td>\n",
       "      <td>\"This is my first time using any form of birth...</td>\n",
       "      <td>8</td>\n",
       "      <td>2015-11-03</td>\n",
       "      <td>10</td>\n",
       "      <td>2015</td>\n",
       "      <td>11</td>\n",
       "      <td>3</td>\n",
       "      <td>1.0</td>\n",
       "    </tr>\n",
       "    <tr>\n",
       "      <th>4</th>\n",
       "      <td>35696</td>\n",
       "      <td>Buprenorphine / naloxone</td>\n",
       "      <td>Opiate Dependence</td>\n",
       "      <td>\"Suboxone has completely turned my life around...</td>\n",
       "      <td>9</td>\n",
       "      <td>2016-11-27</td>\n",
       "      <td>37</td>\n",
       "      <td>2016</td>\n",
       "      <td>11</td>\n",
       "      <td>27</td>\n",
       "      <td>1.0</td>\n",
       "    </tr>\n",
       "  </tbody>\n",
       "</table>\n",
       "</div>"
      ],
      "text/plain": [
       "   uniqueID                  drugName                     condition  \\\n",
       "0    206461                 Valsartan  Left Ventricular Dysfunction   \n",
       "1     95260                Guanfacine                          ADHD   \n",
       "2     92703                    Lybrel                 Birth Control   \n",
       "3    138000                Ortho Evra                 Birth Control   \n",
       "4     35696  Buprenorphine / naloxone             Opiate Dependence   \n",
       "\n",
       "                                              review  rating       date  \\\n",
       "0  \"It has no side effect, I take it in combinati...       9 2012-05-20   \n",
       "1  \"My son is halfway through his fourth week of ...       8 2010-04-27   \n",
       "2  \"I used to take another oral contraceptive, wh...       5 2009-12-14   \n",
       "3  \"This is my first time using any form of birth...       8 2015-11-03   \n",
       "4  \"Suboxone has completely turned my life around...       9 2016-11-27   \n",
       "\n",
       "   usefulCount  year  month  day  label  \n",
       "0           27  2012      5   20    1.0  \n",
       "1          192  2010      4   27    1.0  \n",
       "2           17  2009     12   14    0.0  \n",
       "3           10  2015     11    3    1.0  \n",
       "4           37  2016     11   27    1.0  "
      ]
     },
     "execution_count": 29,
     "metadata": {},
     "output_type": "execute_result"
    }
   ],
   "source": [
    "df.head()"
   ]
  },
  {
   "cell_type": "code",
   "execution_count": 7,
   "metadata": {},
   "outputs": [],
   "source": [
    "df.loc[df['rating']<=4,'label']=-1\n",
    "df.loc[(df['rating']>4) & (df['rating']<=7),'label']=0\n",
    "df.loc[df['rating']>7,'label']=1"
   ]
  },
  {
   "cell_type": "code",
   "execution_count": 8,
   "metadata": {},
   "outputs": [
    {
     "data": {
      "text/plain": [
       "<matplotlib.axes._subplots.AxesSubplot at 0x12ef33320>"
      ]
     },
     "execution_count": 8,
     "metadata": {},
     "output_type": "execute_result"
    },
    {
     "data": {
      "image/png": "[encoded data removed]",
      "text/plain": [
       "<Figure size 432x288 with 1 Axes>"
      ]
     },
     "metadata": {
      "needs_background": "light"
     },
     "output_type": "display_data"
    }
   ],
   "source": [
    "fr=df.groupby(['label']).size().reset_index(name='count')\n",
    "sns.barplot(x=fr['label'],y=fr['count'],color='blue',alpha=0.5)\n"
   ]
  },
  {
   "cell_type": "code",
   "execution_count": 25,
   "metadata": {},
   "outputs": [
    {
     "data": {
      "text/plain": [
       "[Text(0.5, 0, 'coefficient')]"
      ]
     },
     "execution_count": 25,
     "metadata": {},
     "output_type": "execute_result"
    },
    {
     "data": {
      "image/png": "[encoded data removed]",
      "text/plain": [
       "<Figure size 432x288 with 1 Axes>"
      ]
     },
     "metadata": {
      "needs_background": "light"
     },
     "output_type": "display_data"
    }
   ],
   "source": [
    "# lr words for neg class\n",
    "w1=['wors','not recommend','not worth','not work','worst','no improv','disappoint','wast','never','stay away']\n",
    "n1=[5.2110268016863195,5.1155589885466854,4.692056820451777,4.262056675120906,4.200395031669408,4.1371212981655185,4.01302779124969,3.7297495847384563,3.5198096345849135,3.50500849105063]\n",
    "\n",
    "s1=sns.barplot(x=n1, y=w1,palette='muted')\n",
    "s1.set(xlabel='coefficient')"
   ]
  },
  {
   "cell_type": "code",
   "execution_count": 26,
   "metadata": {},
   "outputs": [
    {
     "data": {
      "text/plain": [
       "[Text(0.5, 0, 'coefficient')]"
      ]
     },
     "execution_count": 26,
     "metadata": {},
     "output_type": "execute_result"
    },
    {
     "data": {
      "image/png": "[encoded data removed]",
      "text/plain": [
       "<Figure size 432x288 with 1 Axes>"
      ]
     },
     "metadata": {
      "needs_background": "light"
     },
     "output_type": "display_data"
    }
   ],
   "source": [
    "# lr words for neutral class\n",
    "w2=['howev','hope','plastic','not sure','not happi','yet','good bad','feel nausea','prevent pregnanc','littl better']\n",
    "n2=[3.899048257866621,3.2421424367722262,2.6442485684040054,2.6191914600927193,2.3244445077978457,2.2868979496472663,2.2732323625722577,2.2403302181277804,2.238229386727537,2.217130329392793]\n",
    "\n",
    "s2=sns.barplot(x=n2, y=w2,palette='muted')\n",
    "s2.set(xlabel='coefficient')"
   ]
  },
  {
   "cell_type": "code",
   "execution_count": 27,
   "metadata": {},
   "outputs": [
    {
     "data": {
      "text/plain": [
       "[Text(0.5, 0, 'coefficient')]"
      ]
     },
     "execution_count": 27,
     "metadata": {},
     "output_type": "execute_result"
    },
    {
     "data": {
      "image/png": "[encoded data removed]",
      "text/plain": [
       "<Figure size 432x288 with 1 Axes>"
      ]
     },
     "metadata": {
      "needs_background": "light"
     },
     "output_type": "display_data"
    }
   ],
   "source": [
    "# lr words for positive class\n",
    "w3=['love','amaz','chang life','miracl','best','high recommend','great','lifesav','life','happi']\n",
    "n3=[6.220806274431284,5.780368386285489,5.587480552902525,5.551102661316655,4.955129030039039,4.8896976408780075,4.366983369881906,3.770939394042177,3.7066083404429406,3.6996855442510705]\n",
    "\n",
    "s3=sns.barplot(x=n3, y=w3,palette='muted')\n",
    "s3.set(xlabel='coefficient')"
   ]
  },
  {
   "cell_type": "code",
   "execution_count": 28,
   "metadata": {},
   "outputs": [
    {
     "data": {
      "text/plain": [
       "[Text(0.5, 0, 'feature importance')]"
      ]
     },
     "execution_count": 28,
     "metadata": {},
     "output_type": "execute_result"
    },
    {
     "data": {
      "image/png": "[encoded data removed]",
      "text/plain": [
       "<Figure size 432x288 with 1 Axes>"
      ]
     },
     "metadata": {
      "needs_background": "light"
     },
     "output_type": "display_data"
    }
   ],
   "source": [
    "# rf most imp word features\n",
    "w4=['not','work','year','life','great','take','wors','effect','love','no']\n",
    "n4=[0.0051341338967589275,0.004693994618873936,0.004685443668120152,0.003926414712394104,0.0038813031830783272,0.0036382413017411624,0.003467443682049926,0.003378534432052155,0.0032933135959713777,0.00327336178322055]\n",
    "\n",
    "s4=sns.barplot(x=n4, y=w4,palette='muted')\n",
    "s4.set(xlabel='feature importance')"
   ]
  },
  {
   "cell_type": "code",
   "execution_count": 38,
   "metadata": {},
   "outputs": [
    {
     "data": {
      "text/plain": [
       "[Text(0.5, 0, 'feature importance')]"
      ]
     },
     "execution_count": 38,
     "metadata": {},
     "output_type": "execute_result"
    },
    {
     "data": {
      "image/png": "[encoded data removed]",
      "text/plain": [
       "<Figure size 432x288 with 1 Axes>"
      ]
     },
     "metadata": {
      "needs_background": "light"
     },
     "output_type": "display_data"
    }
   ],
   "source": [
    "# rf least imp word features\n",
    "w5=['hospit told','free thank','bleed today','use suprep','smoke cessat','gradual got','great make','anxieti general','alway sore','mood elev']\n",
    "n5=[2.4392657486838257e-07,2.372894944453935e-07,2.3397205986899408e-07,2.272048577945738e-07,2.001359164182398e-07,1.8539361132473305e-07,1.3982580876330505e-07,1.2936583025949983e-07,7.921343455014906e-08,4.6258952369816486e-08]\n",
    "\n",
    "s5=sns.barplot(x=n5, y=w5,palette='muted')\n",
    "s5.set(xlabel='feature importance')"
   ]
  },
  {
   "cell_type": "code",
   "execution_count": 41,
   "metadata": {},
   "outputs": [
    {
     "data": {
      "text/html": [
       "<div>\n",
       "<style scoped>\n",
       "    .dataframe tbody tr th:only-of-type {\n",
       "        vertical-align: middle;\n",
       "    }\n",
       "\n",
       "    .dataframe tbody tr th {\n",
       "        vertical-align: top;\n",
       "    }\n",
       "\n",
       "    .dataframe thead th {\n",
       "        text-align: right;\n",
       "    }\n",
       "</style>\n",
       "<table border=\"1\" class=\"dataframe\">\n",
       "  <thead>\n",
       "    <tr style=\"text-align: right;\">\n",
       "      <th></th>\n",
       "      <th>uniqueID</th>\n",
       "      <th>drugName</th>\n",
       "      <th>condition</th>\n",
       "      <th>review</th>\n",
       "      <th>rating</th>\n",
       "      <th>date</th>\n",
       "      <th>usefulCount</th>\n",
       "      <th>year</th>\n",
       "      <th>month</th>\n",
       "      <th>day</th>\n",
       "      <th>label</th>\n",
       "    </tr>\n",
       "  </thead>\n",
       "  <tbody>\n",
       "    <tr>\n",
       "      <th>0</th>\n",
       "      <td>206461</td>\n",
       "      <td>Valsartan</td>\n",
       "      <td>Left Ventricular Dysfunction</td>\n",
       "      <td>\"It has no side effect, I take it in combinati...</td>\n",
       "      <td>9</td>\n",
       "      <td>2012-05-20</td>\n",
       "      <td>27</td>\n",
       "      <td>2012</td>\n",
       "      <td>5</td>\n",
       "      <td>20</td>\n",
       "      <td>1.0</td>\n",
       "    </tr>\n",
       "    <tr>\n",
       "      <th>1</th>\n",
       "      <td>95260</td>\n",
       "      <td>Guanfacine</td>\n",
       "      <td>ADHD</td>\n",
       "      <td>\"My son is halfway through his fourth week of ...</td>\n",
       "      <td>8</td>\n",
       "      <td>2010-04-27</td>\n",
       "      <td>192</td>\n",
       "      <td>2010</td>\n",
       "      <td>4</td>\n",
       "      <td>27</td>\n",
       "      <td>1.0</td>\n",
       "    </tr>\n",
       "    <tr>\n",
       "      <th>2</th>\n",
       "      <td>92703</td>\n",
       "      <td>Lybrel</td>\n",
       "      <td>Birth Control</td>\n",
       "      <td>\"I used to take another oral contraceptive, wh...</td>\n",
       "      <td>5</td>\n",
       "      <td>2009-12-14</td>\n",
       "      <td>17</td>\n",
       "      <td>2009</td>\n",
       "      <td>12</td>\n",
       "      <td>14</td>\n",
       "      <td>0.0</td>\n",
       "    </tr>\n",
       "    <tr>\n",
       "      <th>3</th>\n",
       "      <td>138000</td>\n",
       "      <td>Ortho Evra</td>\n",
       "      <td>Birth Control</td>\n",
       "      <td>\"This is my first time using any form of birth...</td>\n",
       "      <td>8</td>\n",
       "      <td>2015-11-03</td>\n",
       "      <td>10</td>\n",
       "      <td>2015</td>\n",
       "      <td>11</td>\n",
       "      <td>3</td>\n",
       "      <td>1.0</td>\n",
       "    </tr>\n",
       "    <tr>\n",
       "      <th>4</th>\n",
       "      <td>35696</td>\n",
       "      <td>Buprenorphine / naloxone</td>\n",
       "      <td>Opiate Dependence</td>\n",
       "      <td>\"Suboxone has completely turned my life around...</td>\n",
       "      <td>9</td>\n",
       "      <td>2016-11-27</td>\n",
       "      <td>37</td>\n",
       "      <td>2016</td>\n",
       "      <td>11</td>\n",
       "      <td>27</td>\n",
       "      <td>1.0</td>\n",
       "    </tr>\n",
       "  </tbody>\n",
       "</table>\n",
       "</div>"
      ],
      "text/plain": [
       "   uniqueID                  drugName                     condition  \\\n",
       "0    206461                 Valsartan  Left Ventricular Dysfunction   \n",
       "1     95260                Guanfacine                          ADHD   \n",
       "2     92703                    Lybrel                 Birth Control   \n",
       "3    138000                Ortho Evra                 Birth Control   \n",
       "4     35696  Buprenorphine / naloxone             Opiate Dependence   \n",
       "\n",
       "                                              review  rating       date  \\\n",
       "0  \"It has no side effect, I take it in combinati...       9 2012-05-20   \n",
       "1  \"My son is halfway through his fourth week of ...       8 2010-04-27   \n",
       "2  \"I used to take another oral contraceptive, wh...       5 2009-12-14   \n",
       "3  \"This is my first time using any form of birth...       8 2015-11-03   \n",
       "4  \"Suboxone has completely turned my life around...       9 2016-11-27   \n",
       "\n",
       "   usefulCount  year  month  day  label  \n",
       "0           27  2012      5   20    1.0  \n",
       "1          192  2010      4   27    1.0  \n",
       "2           17  2009     12   14    0.0  \n",
       "3           10  2015     11    3    1.0  \n",
       "4           37  2016     11   27    1.0  "
      ]
     },
     "execution_count": 41,
     "metadata": {},
     "output_type": "execute_result"
    }
   ],
   "source": [
    "df.head()"
   ]
  },
  {
   "cell_type": "code",
   "execution_count": 42,
   "metadata": {},
   "outputs": [],
   "source": [
    "sampled_review_p = df[df['label'] == 1.0].sample(n = 60000, random_state = 0)\n",
    "review_0=df[df['label'] == 0.0]\n",
    "review_1=df[df['label'] == -1.0]\n",
    "final_df=pd.concat([sampled_review_p,review_0,review_1])\n"
   ]
  },
  {
   "cell_type": "code",
   "execution_count": 43,
   "metadata": {},
   "outputs": [],
   "source": [
    "X_train, X_test, y_train, y_test=train_test_split(final_df['review'], final_df['label'], test_size=0.25, random_state=0)\n"
   ]
  },
  {
   "cell_type": "code",
   "execution_count": 44,
   "metadata": {},
   "outputs": [
    {
     "data": {
      "text/plain": [
       "(108978,)"
      ]
     },
     "execution_count": 44,
     "metadata": {},
     "output_type": "execute_result"
    }
   ],
   "source": [
    "X_train.shape"
   ]
  },
  {
   "cell_type": "code",
   "execution_count": 45,
   "metadata": {},
   "outputs": [
    {
     "data": {
      "text/plain": [
       "(36326,)"
      ]
     },
     "execution_count": 45,
     "metadata": {},
     "output_type": "execute_result"
    }
   ],
   "source": [
    "X_test.shape"
   ]
  },
  {
   "cell_type": "code",
   "execution_count": 50,
   "metadata": {},
   "outputs": [
    {
     "data": {
      "text/plain": [
       "41.29273798381325"
      ]
     },
     "execution_count": 50,
     "metadata": {},
     "output_type": "execute_result"
    }
   ],
   "source": [
    "100.*(final_df['label'] == 1.0).sum()/len(final_df.index)"
   ]
  },
  {
   "cell_type": "code",
   "execution_count": 51,
   "metadata": {},
   "outputs": [
    {
     "data": {
      "text/plain": [
       "36.868909321147385"
      ]
     },
     "execution_count": 51,
     "metadata": {},
     "output_type": "execute_result"
    }
   ],
   "source": [
    "100.*(final_df['label'] == -1.0).sum()/len(final_df.index)"
   ]
  },
  {
   "cell_type": "code",
   "execution_count": 52,
   "metadata": {},
   "outputs": [
    {
     "data": {
      "text/plain": [
       "21.838352695039365"
      ]
     },
     "execution_count": 52,
     "metadata": {},
     "output_type": "execute_result"
    }
   ],
   "source": [
    "100.*(final_df['label'] == 0.0).sum()/len(final_df.index)"
   ]
  },
  {
   "cell_type": "code",
   "execution_count": 59,
   "metadata": {},
   "outputs": [
    {
     "data": {
      "text/html": [
       "<div>\n",
       "<style scoped>\n",
       "    .dataframe tbody tr th:only-of-type {\n",
       "        vertical-align: middle;\n",
       "    }\n",
       "\n",
       "    .dataframe tbody tr th {\n",
       "        vertical-align: top;\n",
       "    }\n",
       "\n",
       "    .dataframe thead th {\n",
       "        text-align: right;\n",
       "    }\n",
       "</style>\n",
       "<table border=\"1\" class=\"dataframe\">\n",
       "  <thead>\n",
       "    <tr style=\"text-align: right;\">\n",
       "      <th></th>\n",
       "      <th>uniqueID</th>\n",
       "      <th>drugName</th>\n",
       "      <th>condition</th>\n",
       "      <th>review</th>\n",
       "      <th>rating</th>\n",
       "      <th>date</th>\n",
       "      <th>usefulCount</th>\n",
       "      <th>year</th>\n",
       "      <th>month</th>\n",
       "      <th>day</th>\n",
       "      <th>label</th>\n",
       "    </tr>\n",
       "  </thead>\n",
       "  <tbody>\n",
       "    <tr>\n",
       "      <th>0</th>\n",
       "      <td>206461</td>\n",
       "      <td>Valsartan</td>\n",
       "      <td>Left Ventricular Dysfunction</td>\n",
       "      <td>\"It has no side effect, I take it in combinati...</td>\n",
       "      <td>9</td>\n",
       "      <td>2012-05-20</td>\n",
       "      <td>27</td>\n",
       "      <td>2012</td>\n",
       "      <td>5</td>\n",
       "      <td>20</td>\n",
       "      <td>1.0</td>\n",
       "    </tr>\n",
       "    <tr>\n",
       "      <th>1</th>\n",
       "      <td>95260</td>\n",
       "      <td>Guanfacine</td>\n",
       "      <td>ADHD</td>\n",
       "      <td>\"My son is halfway through his fourth week of ...</td>\n",
       "      <td>8</td>\n",
       "      <td>2010-04-27</td>\n",
       "      <td>192</td>\n",
       "      <td>2010</td>\n",
       "      <td>4</td>\n",
       "      <td>27</td>\n",
       "      <td>1.0</td>\n",
       "    </tr>\n",
       "    <tr>\n",
       "      <th>2</th>\n",
       "      <td>92703</td>\n",
       "      <td>Lybrel</td>\n",
       "      <td>Birth Control</td>\n",
       "      <td>\"I used to take another oral contraceptive, wh...</td>\n",
       "      <td>5</td>\n",
       "      <td>2009-12-14</td>\n",
       "      <td>17</td>\n",
       "      <td>2009</td>\n",
       "      <td>12</td>\n",
       "      <td>14</td>\n",
       "      <td>0.0</td>\n",
       "    </tr>\n",
       "    <tr>\n",
       "      <th>3</th>\n",
       "      <td>138000</td>\n",
       "      <td>Ortho Evra</td>\n",
       "      <td>Birth Control</td>\n",
       "      <td>\"This is my first time using any form of birth...</td>\n",
       "      <td>8</td>\n",
       "      <td>2015-11-03</td>\n",
       "      <td>10</td>\n",
       "      <td>2015</td>\n",
       "      <td>11</td>\n",
       "      <td>3</td>\n",
       "      <td>1.0</td>\n",
       "    </tr>\n",
       "    <tr>\n",
       "      <th>4</th>\n",
       "      <td>35696</td>\n",
       "      <td>Buprenorphine / naloxone</td>\n",
       "      <td>Opiate Dependence</td>\n",
       "      <td>\"Suboxone has completely turned my life around...</td>\n",
       "      <td>9</td>\n",
       "      <td>2016-11-27</td>\n",
       "      <td>37</td>\n",
       "      <td>2016</td>\n",
       "      <td>11</td>\n",
       "      <td>27</td>\n",
       "      <td>1.0</td>\n",
       "    </tr>\n",
       "  </tbody>\n",
       "</table>\n",
       "</div>"
      ],
      "text/plain": [
       "   uniqueID                  drugName                     condition  \\\n",
       "0    206461                 Valsartan  Left Ventricular Dysfunction   \n",
       "1     95260                Guanfacine                          ADHD   \n",
       "2     92703                    Lybrel                 Birth Control   \n",
       "3    138000                Ortho Evra                 Birth Control   \n",
       "4     35696  Buprenorphine / naloxone             Opiate Dependence   \n",
       "\n",
       "                                              review  rating       date  \\\n",
       "0  \"It has no side effect, I take it in combinati...       9 2012-05-20   \n",
       "1  \"My son is halfway through his fourth week of ...       8 2010-04-27   \n",
       "2  \"I used to take another oral contraceptive, wh...       5 2009-12-14   \n",
       "3  \"This is my first time using any form of birth...       8 2015-11-03   \n",
       "4  \"Suboxone has completely turned my life around...       9 2016-11-27   \n",
       "\n",
       "   usefulCount  year  month  day  label  \n",
       "0           27  2012      5   20    1.0  \n",
       "1          192  2010      4   27    1.0  \n",
       "2           17  2009     12   14    0.0  \n",
       "3           10  2015     11    3    1.0  \n",
       "4           37  2016     11   27    1.0  "
      ]
     },
     "execution_count": 59,
     "metadata": {},
     "output_type": "execute_result"
    }
   ],
   "source": [
    "df.head()"
   ]
  },
  {
   "cell_type": "code",
   "execution_count": 64,
   "metadata": {},
   "outputs": [],
   "source": [
    "#df11=df[(df['condition']=='Depression') | (df['condition']=='Anxiety')]"
   ]
  },
  {
   "cell_type": "code",
   "execution_count": 74,
   "metadata": {},
   "outputs": [],
   "source": [
    "#df11"
   ]
  },
  {
   "cell_type": "code",
   "execution_count": 75,
   "metadata": {},
   "outputs": [],
   "source": [
    "#df = df[df['Animal_A'] == df['Animal_B']].groupby(['id_A', 'id_B'])['Animal_A'].count().reset_index()\n",
    "l1=df[df['condition']=='Depression']\n",
    "l2=df[df['condition']=='Anxiety']"
   ]
  },
  {
   "cell_type": "code",
   "execution_count": 69,
   "metadata": {},
   "outputs": [],
   "source": [
    "l1=l1['drugName'].unique()"
   ]
  },
  {
   "cell_type": "code",
   "execution_count": 72,
   "metadata": {},
   "outputs": [],
   "source": [
    "l2=l2['drugName'].unique()"
   ]
  },
  {
   "cell_type": "code",
   "execution_count": 73,
   "metadata": {},
   "outputs": [
    {
     "data": {
      "text/plain": [
       "33"
      ]
     },
     "execution_count": 73,
     "metadata": {},
     "output_type": "execute_result"
    }
   ],
   "source": [
    "set1=set(l1)\n",
    "set2=set(l2)\n",
    "len(set1.intersection(set2))"
   ]
  },
  {
   "cell_type": "code",
   "execution_count": 84,
   "metadata": {},
   "outputs": [],
   "source": [
    "l1=df[df['condition']=='Pain']\n",
    "l2=df[df['condition']=='Acne']"
   ]
  },
  {
   "cell_type": "code",
   "execution_count": 85,
   "metadata": {},
   "outputs": [
    {
     "data": {
      "text/plain": [
       "0"
      ]
     },
     "execution_count": 85,
     "metadata": {},
     "output_type": "execute_result"
    }
   ],
   "source": [
    "l1=l1['drugName'].unique()\n",
    "l2=l2['drugName'].unique()\n",
    "set1=set(l1)\n",
    "set2=set(l2)\n",
    "len(set1.intersection(set2))"
   ]
  },
  {
   "cell_type": "code",
   "execution_count": null,
   "metadata": {},
   "outputs": [],
   "source": []
  }
 ],
 "metadata": {
  "kernelspec": {
   "display_name": "Python 3",
   "language": "python",
   "name": "python3"
  },
  "language_info": {
   "codemirror_mode": {
    "name": "ipython",
    "version": 3
   },
   "file_extension": ".py",
   "mimetype": "text/x-python",
   "name": "python",
   "nbconvert_exporter": "python",
   "pygments_lexer": "ipython3",
   "version": "3.7.3"
  }
 },
 "nbformat": 4,
 "nbformat_minor": 2
}
