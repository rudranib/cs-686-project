{
 "cells": [
  {
   "cell_type": "code",
   "execution_count": 3,
   "metadata": {},
   "outputs": [],
   "source": [
    "import pandas as pd\n",
    "import numpy as np\n",
    "import matplotlib.pyplot as plt\n",
    "import seaborn as sns\n",
    "from sklearn.preprocessing import StandardScaler\n",
    "from sklearn.decomposition import PCA\n",
    "from sklearn.feature_selection import SelectFromModel\n",
    "from sklearn.model_selection import train_test_split\n",
    "from sklearn.metrics import confusion_matrix\n",
    "import datetime as dt\n",
    "from scipy import stats\n",
    "from sklearn import preprocessing\n",
    "import pickle"
   ]
  },
  {
   "cell_type": "code",
   "execution_count": 4,
   "metadata": {},
   "outputs": [],
   "source": [
    "with open('h1.pkl', 'rb') as f:\n",
    "    h1 = pickle.load(f)\n",
    "with open('h2.pkl', 'rb') as f:\n",
    "    h2 = pickle.load(f)"
   ]
  },
  {
   "cell_type": "code",
   "execution_count": 4,
   "metadata": {},
   "outputs": [
    {
     "data": {
      "text/html": [
       "<div>\n",
       "<style scoped>\n",
       "    .dataframe tbody tr th:only-of-type {\n",
       "        vertical-align: middle;\n",
       "    }\n",
       "\n",
       "    .dataframe tbody tr th {\n",
       "        vertical-align: top;\n",
       "    }\n",
       "\n",
       "    .dataframe thead th {\n",
       "        text-align: right;\n",
       "    }\n",
       "</style>\n",
       "<table border=\"1\" class=\"dataframe\">\n",
       "  <thead>\n",
       "    <tr style=\"text-align: right;\">\n",
       "      <th></th>\n",
       "      <th>uniqueID</th>\n",
       "      <th>drugName</th>\n",
       "      <th>condition</th>\n",
       "      <th>review</th>\n",
       "      <th>rating</th>\n",
       "      <th>date</th>\n",
       "      <th>usefulCount</th>\n",
       "    </tr>\n",
       "  </thead>\n",
       "  <tbody>\n",
       "    <tr>\n",
       "      <th>0</th>\n",
       "      <td>206461</td>\n",
       "      <td>Valsartan</td>\n",
       "      <td>Left Ventricular Dysfunction</td>\n",
       "      <td>\"It has no side effect, I take it in combinati...</td>\n",
       "      <td>9</td>\n",
       "      <td>20-May-12</td>\n",
       "      <td>27</td>\n",
       "    </tr>\n",
       "    <tr>\n",
       "      <th>1</th>\n",
       "      <td>95260</td>\n",
       "      <td>Guanfacine</td>\n",
       "      <td>ADHD</td>\n",
       "      <td>\"My son is halfway through his fourth week of ...</td>\n",
       "      <td>8</td>\n",
       "      <td>27-Apr-10</td>\n",
       "      <td>192</td>\n",
       "    </tr>\n",
       "    <tr>\n",
       "      <th>2</th>\n",
       "      <td>92703</td>\n",
       "      <td>Lybrel</td>\n",
       "      <td>Birth Control</td>\n",
       "      <td>\"I used to take another oral contraceptive, wh...</td>\n",
       "      <td>5</td>\n",
       "      <td>14-Dec-09</td>\n",
       "      <td>17</td>\n",
       "    </tr>\n",
       "    <tr>\n",
       "      <th>3</th>\n",
       "      <td>138000</td>\n",
       "      <td>Ortho Evra</td>\n",
       "      <td>Birth Control</td>\n",
       "      <td>\"This is my first time using any form of birth...</td>\n",
       "      <td>8</td>\n",
       "      <td>3-Nov-15</td>\n",
       "      <td>10</td>\n",
       "    </tr>\n",
       "    <tr>\n",
       "      <th>4</th>\n",
       "      <td>35696</td>\n",
       "      <td>Buprenorphine / naloxone</td>\n",
       "      <td>Opiate Dependence</td>\n",
       "      <td>\"Suboxone has completely turned my life around...</td>\n",
       "      <td>9</td>\n",
       "      <td>27-Nov-16</td>\n",
       "      <td>37</td>\n",
       "    </tr>\n",
       "  </tbody>\n",
       "</table>\n",
       "</div>"
      ],
      "text/plain": [
       "   uniqueID                  drugName                     condition  \\\n",
       "0    206461                 Valsartan  Left Ventricular Dysfunction   \n",
       "1     95260                Guanfacine                          ADHD   \n",
       "2     92703                    Lybrel                 Birth Control   \n",
       "3    138000                Ortho Evra                 Birth Control   \n",
       "4     35696  Buprenorphine / naloxone             Opiate Dependence   \n",
       "\n",
       "                                              review  rating       date  \\\n",
       "0  \"It has no side effect, I take it in combinati...       9  20-May-12   \n",
       "1  \"My son is halfway through his fourth week of ...       8  27-Apr-10   \n",
       "2  \"I used to take another oral contraceptive, wh...       5  14-Dec-09   \n",
       "3  \"This is my first time using any form of birth...       8   3-Nov-15   \n",
       "4  \"Suboxone has completely turned my life around...       9  27-Nov-16   \n",
       "\n",
       "   usefulCount  \n",
       "0           27  \n",
       "1          192  \n",
       "2           17  \n",
       "3           10  \n",
       "4           37  "
      ]
     },
     "execution_count": 4,
     "metadata": {},
     "output_type": "execute_result"
    }
   ],
   "source": [
    "df1=pd.read_csv('drugsComTrain_raw.csv')\n",
    "df2=pd.read_csv('drugsComTest_raw.csv')\n",
    "\n",
    "df=pd.concat([df1,df2])\n",
    "df.head()"
   ]
  },
  {
   "cell_type": "code",
   "execution_count": 5,
   "metadata": {},
   "outputs": [],
   "source": [
    "df['date'] = pd.to_datetime(df['date'])\n",
    "df['year']=df['date'].dt.year\n",
    "df['month']=df['date'].dt.month\n",
    "df['day']=df['date'].dt.day"
   ]
  },
  {
   "cell_type": "code",
   "execution_count": 27,
   "metadata": {},
   "outputs": [],
   "source": [
    "df.loc[df['rating']<=4,'label']=-1\n",
    "df.loc[(df['rating']>4) & (df['rating']<7),'label']=0\n",
    "df.loc[df['rating']>=7,'label']=1"
   ]
  },
  {
   "cell_type": "code",
   "execution_count": 9,
   "metadata": {},
   "outputs": [],
   "source": [
    "fr=df.groupby(['label']).size().reset_index(name='count')"
   ]
  },
  {
   "cell_type": "code",
   "execution_count": 10,
   "metadata": {},
   "outputs": [
    {
     "data": {
      "text/plain": [
       "Text(0.5, 1.0, 'no of reviews')"
      ]
     },
     "execution_count": 10,
     "metadata": {},
     "output_type": "execute_result"
    },
    {
     "data": {
      "image/png": "[encoded data removed]",
      "text/plain": [
       "<Figure size 432x288 with 1 Axes>"
      ]
     },
     "metadata": {
      "needs_background": "light"
     },
     "output_type": "display_data"
    }
   ],
   "source": [
    "sns.barplot(x=fr['label'],y=fr['count'],color='blue',alpha=0.5)\n",
    "plt.title('no of reviews')"
   ]
  },
  {
   "cell_type": "code",
   "execution_count": 8,
   "metadata": {},
   "outputs": [
    {
     "data": {
      "text/html": [
       "<div>\n",
       "<style scoped>\n",
       "    .dataframe tbody tr th:only-of-type {\n",
       "        vertical-align: middle;\n",
       "    }\n",
       "\n",
       "    .dataframe tbody tr th {\n",
       "        vertical-align: top;\n",
       "    }\n",
       "\n",
       "    .dataframe thead th {\n",
       "        text-align: right;\n",
       "    }\n",
       "</style>\n",
       "<table border=\"1\" class=\"dataframe\">\n",
       "  <thead>\n",
       "    <tr style=\"text-align: right;\">\n",
       "      <th></th>\n",
       "      <th>label</th>\n",
       "      <th>count</th>\n",
       "    </tr>\n",
       "  </thead>\n",
       "  <tbody>\n",
       "    <tr>\n",
       "      <th>0</th>\n",
       "      <td>-1.0</td>\n",
       "      <td>53572</td>\n",
       "    </tr>\n",
       "    <tr>\n",
       "      <th>1</th>\n",
       "      <td>0.0</td>\n",
       "      <td>19185</td>\n",
       "    </tr>\n",
       "    <tr>\n",
       "      <th>2</th>\n",
       "      <td>1.0</td>\n",
       "      <td>142306</td>\n",
       "    </tr>\n",
       "  </tbody>\n",
       "</table>\n",
       "</div>"
      ],
      "text/plain": [
       "   label   count\n",
       "0   -1.0   53572\n",
       "1    0.0   19185\n",
       "2    1.0  142306"
      ]
     },
     "execution_count": 8,
     "metadata": {},
     "output_type": "execute_result"
    }
   ],
   "source": [
    "fr"
   ]
  },
  {
   "cell_type": "code",
   "execution_count": 9,
   "metadata": {},
   "outputs": [
    {
     "data": {
      "text/html": [
       "<div>\n",
       "<style scoped>\n",
       "    .dataframe tbody tr th:only-of-type {\n",
       "        vertical-align: middle;\n",
       "    }\n",
       "\n",
       "    .dataframe tbody tr th {\n",
       "        vertical-align: top;\n",
       "    }\n",
       "\n",
       "    .dataframe thead th {\n",
       "        text-align: right;\n",
       "    }\n",
       "</style>\n",
       "<table border=\"1\" class=\"dataframe\">\n",
       "  <thead>\n",
       "    <tr style=\"text-align: right;\">\n",
       "      <th></th>\n",
       "      <th>uniqueID</th>\n",
       "      <th>drugName</th>\n",
       "      <th>condition</th>\n",
       "      <th>review</th>\n",
       "      <th>rating</th>\n",
       "      <th>date</th>\n",
       "      <th>usefulCount</th>\n",
       "      <th>year</th>\n",
       "      <th>month</th>\n",
       "      <th>day</th>\n",
       "      <th>label</th>\n",
       "    </tr>\n",
       "  </thead>\n",
       "  <tbody>\n",
       "    <tr>\n",
       "      <th>0</th>\n",
       "      <td>206461</td>\n",
       "      <td>Valsartan</td>\n",
       "      <td>Left Ventricular Dysfunction</td>\n",
       "      <td>\"It has no side effect, I take it in combinati...</td>\n",
       "      <td>9</td>\n",
       "      <td>2012-05-20</td>\n",
       "      <td>27</td>\n",
       "      <td>2012</td>\n",
       "      <td>5</td>\n",
       "      <td>20</td>\n",
       "      <td>1.0</td>\n",
       "    </tr>\n",
       "    <tr>\n",
       "      <th>1</th>\n",
       "      <td>95260</td>\n",
       "      <td>Guanfacine</td>\n",
       "      <td>ADHD</td>\n",
       "      <td>\"My son is halfway through his fourth week of ...</td>\n",
       "      <td>8</td>\n",
       "      <td>2010-04-27</td>\n",
       "      <td>192</td>\n",
       "      <td>2010</td>\n",
       "      <td>4</td>\n",
       "      <td>27</td>\n",
       "      <td>1.0</td>\n",
       "    </tr>\n",
       "    <tr>\n",
       "      <th>2</th>\n",
       "      <td>92703</td>\n",
       "      <td>Lybrel</td>\n",
       "      <td>Birth Control</td>\n",
       "      <td>\"I used to take another oral contraceptive, wh...</td>\n",
       "      <td>5</td>\n",
       "      <td>2009-12-14</td>\n",
       "      <td>17</td>\n",
       "      <td>2009</td>\n",
       "      <td>12</td>\n",
       "      <td>14</td>\n",
       "      <td>0.0</td>\n",
       "    </tr>\n",
       "    <tr>\n",
       "      <th>3</th>\n",
       "      <td>138000</td>\n",
       "      <td>Ortho Evra</td>\n",
       "      <td>Birth Control</td>\n",
       "      <td>\"This is my first time using any form of birth...</td>\n",
       "      <td>8</td>\n",
       "      <td>2015-11-03</td>\n",
       "      <td>10</td>\n",
       "      <td>2015</td>\n",
       "      <td>11</td>\n",
       "      <td>3</td>\n",
       "      <td>1.0</td>\n",
       "    </tr>\n",
       "    <tr>\n",
       "      <th>4</th>\n",
       "      <td>35696</td>\n",
       "      <td>Buprenorphine / naloxone</td>\n",
       "      <td>Opiate Dependence</td>\n",
       "      <td>\"Suboxone has completely turned my life around...</td>\n",
       "      <td>9</td>\n",
       "      <td>2016-11-27</td>\n",
       "      <td>37</td>\n",
       "      <td>2016</td>\n",
       "      <td>11</td>\n",
       "      <td>27</td>\n",
       "      <td>1.0</td>\n",
       "    </tr>\n",
       "  </tbody>\n",
       "</table>\n",
       "</div>"
      ],
      "text/plain": [
       "   uniqueID                  drugName                     condition  \\\n",
       "0    206461                 Valsartan  Left Ventricular Dysfunction   \n",
       "1     95260                Guanfacine                          ADHD   \n",
       "2     92703                    Lybrel                 Birth Control   \n",
       "3    138000                Ortho Evra                 Birth Control   \n",
       "4     35696  Buprenorphine / naloxone             Opiate Dependence   \n",
       "\n",
       "                                              review  rating       date  \\\n",
       "0  \"It has no side effect, I take it in combinati...       9 2012-05-20   \n",
       "1  \"My son is halfway through his fourth week of ...       8 2010-04-27   \n",
       "2  \"I used to take another oral contraceptive, wh...       5 2009-12-14   \n",
       "3  \"This is my first time using any form of birth...       8 2015-11-03   \n",
       "4  \"Suboxone has completely turned my life around...       9 2016-11-27   \n",
       "\n",
       "   usefulCount  year  month  day  label  \n",
       "0           27  2012      5   20    1.0  \n",
       "1          192  2010      4   27    1.0  \n",
       "2           17  2009     12   14    0.0  \n",
       "3           10  2015     11    3    1.0  \n",
       "4           37  2016     11   27    1.0  "
      ]
     },
     "execution_count": 9,
     "metadata": {},
     "output_type": "execute_result"
    }
   ],
   "source": [
    "df.head()"
   ]
  },
  {
   "cell_type": "code",
   "execution_count": 28,
   "metadata": {},
   "outputs": [
    {
     "name": "stderr",
     "output_type": "stream",
     "text": [
      "[nltk_data] Downloading package stopwords to /root/nltk_data...\n",
      "[nltk_data]   Package stopwords is already up-to-date!\n"
     ]
    }
   ],
   "source": [
    "import nltk\n",
    "nltk.download('stopwords')\n",
    "from nltk.corpus import stopwords\n",
    "from nltk.stem.snowball import SnowballStemmer\n",
    "from nltk.corpus import stopwords"
   ]
  },
  {
   "cell_type": "code",
   "execution_count": 29,
   "metadata": {},
   "outputs": [],
   "source": [
    "from bs4 import BeautifulSoup\n",
    "import re"
   ]
  },
  {
   "cell_type": "code",
   "execution_count": 30,
   "metadata": {},
   "outputs": [],
   "source": [
    "\n",
    "# cleaning reviews\n",
    "stops = set(stopwords.words('english'))\n",
    "#stops=set(STOPWORDS)\n",
    "more_stopwords={'one','br','Po','th','sayi','fo','Unknown'}\n",
    "stops=stops.union(more_stopwords)\n",
    "not_stop=[\"aren't\",\"couldn't\",\"didn't\",\"doesn't\",\"don't\",\"hadn't\",\"hasn't\",\"haven't\",\"isn't\",\"mightn't\",\"mustn't\",\"needn't\",\"no\",\"nor\",\"not\",\"shan't\",\"shouldn't\",\"wasn't\",\"weren't\",\"wouldn't\"]\n",
    "for i in not_stop:\n",
    "    stops.remove(i)\n",
    "    \n",
    "stemmer=SnowballStemmer('english')\n",
    "\n",
    "def cl_review(text):\n",
    "    tr=BeautifulSoup(text,'html.parser').get_text()\n",
    "    letters_only=re.sub('[^a-zA-Z]',' ',tr)\n",
    "    words=letters_only.lower().split()\n",
    "    mw=[w for w in words if not w in stops]\n",
    "    word_stem=[stemmer.stem(w) for w in mw]\n",
    "    return(' '.join(word_stem))\n",
    "\n",
    "#print(cl_review(\"hello \\n\\r\\8this is going rudrani@#\"))\n",
    "\n",
    "df['review_clean']=df['review'].apply(cl_review)"
   ]
  },
  {
   "cell_type": "code",
   "execution_count": 31,
   "metadata": {},
   "outputs": [],
   "source": [
    "sampled_review_p = df[df['label'] == 1.0].sample(n = 60000, random_state = 0)\n",
    "review_0=df[df['label'] == 0.0]\n",
    "review_1=df[df['label'] == -1.0]\n"
   ]
  },
  {
   "cell_type": "code",
   "execution_count": 32,
   "metadata": {},
   "outputs": [],
   "source": [
    "final_df=pd.concat([sampled_review_p,review_0,review_1])\n",
    "final_df.to_csv('final_df.csv')"
   ]
  },
  {
   "cell_type": "code",
   "execution_count": 16,
   "metadata": {},
   "outputs": [
    {
     "data": {
      "text/plain": [
       "<matplotlib.axes._subplots.AxesSubplot at 0x7f725da6d850>"
      ]
     },
     "execution_count": 16,
     "metadata": {},
     "output_type": "execute_result"
    },
    {
     "data": {
      "image/png": "[encoded data removed]",
      "text/plain": [
       "<Figure size 432x288 with 1 Axes>"
      ]
     },
     "metadata": {
      "needs_background": "light"
     },
     "output_type": "display_data"
    }
   ],
   "source": [
    "fr1=final_df.groupby(['label']).size().reset_index(name='count')\n",
    "sns.barplot(x=fr1['label'],y=fr1['count'],palette='muted')\n",
    "#plt.title('no of reviews')"
   ]
  },
  {
   "cell_type": "code",
   "execution_count": 8,
   "metadata": {},
   "outputs": [],
   "source": [
    "from sklearn.linear_model import LogisticRegression\n",
    "from sklearn.ensemble import RandomForestClassifier,AdaBoostClassifier, BaggingClassifier, GradientBoostingClassifier\n",
    "from sklearn.svm import LinearSVC\n",
    "from sklearn.neighbors import KNeighborsClassifier\n",
    "from sklearn.model_selection import cross_val_score\n",
    "from sklearn.preprocessing import StandardScaler\n",
    "from sklearn.naive_bayes import MultinomialNB,GaussianNB\n",
    "from sklearn.tree import DecisionTreeClassifier\n",
    "from sklearn.feature_extraction.text import CountVectorizer\n",
    "from sklearn.feature_extraction.text import TfidfVectorizer\n",
    "from sklearn.metrics import classification_report, confusion_matrix, accuracy_score\n",
    "from sklearn.model_selection import train_test_split"
   ]
  },
  {
   "cell_type": "code",
   "execution_count": 55,
   "metadata": {},
   "outputs": [],
   "source": [
    "def logistic_regression(x_train,y_train,x_test,y_test):\n",
    "    lr=LogisticRegression(random_state=0,solver='lbfgs',max_iter=1000,multi_class='auto',class_weight='balanced')\n",
    "    lr.fit(x_train,y_train)\n",
    "    \n",
    "    y1_pred=lr.predict(x_train)\n",
    "    y2_pred=lr.predict(x_test)\n",
    "    \n",
    "    train_accuracy=accuracy_score(y_train,y1_pred)*100\n",
    "    test_accuracy=accuracy_score(y_test,y2_pred)*100\n",
    "    \n",
    "    return train_accuracy,test_accuracy\n",
    "\n",
    "def linear_svc(x_train,y_train,x_test,y_test):\n",
    "    ls=LinearSVC()\n",
    "    ls.fit(x_train,y_train)\n",
    "    \n",
    "    y1_pred=ls.predict(x_train)\n",
    "    y2_pred=ls.predict(x_test)\n",
    "    \n",
    "    train_accuracy=accuracy_score(y_train,y1_pred)*100\n",
    "    test_accuracy=accuracy_score(y_test,y2_pred)*100\n",
    "    \n",
    "    return train_accuracy,test_accuracy\n",
    "\n",
    "def random_forest(x_train,y_train,x_test,y_test,n_t=100):\n",
    "    rf=RandomForestClassifier(n_estimators=n_t,class_weight='balanced')\n",
    "    rf.fit(x_train,y_train)\n",
    "    \n",
    "    y1_pred=rf.predict(x_train)\n",
    "    y2_pred=rf.predict(x_test)\n",
    "    \n",
    "    train_accuracy=accuracy_score(y_train,y1_pred)*100\n",
    "    test_accuracy=accuracy_score(y_test,y2_pred)*100\n",
    "    \n",
    "    return train_accuracy,test_accuracy\n",
    "\n",
    "def multi_nb(x_train,y_train,x_test,y_test):\n",
    "    lr=MultinomialNB()\n",
    "    lr.fit(x_train,y_train)\n",
    "    \n",
    "    y1_pred=lr.predict(x_train)\n",
    "    y2_pred=lr.predict(x_test)\n",
    "    \n",
    "    train_accuracy=accuracy_score(y_train,y1_pred)*100\n",
    "    test_accuracy=accuracy_score(y_test,y2_pred)*100\n",
    "    \n",
    "    return train_accuracy,test_accuracy\n",
    "\n",
    "def grad_bo(x_train,y_train,x_test,y_test,n_t=100):\n",
    "    lr=GradientBoostingClassifier(n_estimators=n_t)\n",
    "    lr.fit(x_train,y_train)\n",
    "    \n",
    "    y1_pred=lr.predict(x_train)\n",
    "    y2_pred=lr.predict(x_test)\n",
    "    \n",
    "    train_accuracy=accuracy_score(y_train,y1_pred)*100\n",
    "    test_accuracy=accuracy_score(y_test,y2_pred)*100\n",
    "    \n",
    "    return train_accuracy,test_accuracy\n",
    "\n"
   ]
  },
  {
   "cell_type": "code",
   "execution_count": 39,
   "metadata": {},
   "outputs": [],
   "source": [
    "h1=[]\n",
    "h2=[]\n",
    "\n",
    "for i in range(10000,55000,5000): \n",
    "\n",
    "    vect=CountVectorizer(analyzer='word',tokenizer=None,preprocessor=None, stop_words=None,min_df=2, ngram_range=(1,2),max_features=i)\n",
    "    tf=TfidfVectorizer(analyzer='word',tokenizer=None,preprocessor=None, stop_words=None,min_df=2, ngram_range=(1,2),max_features=i)\n",
    "#tf=TfidfVectorizer(ngram_range=(1,2))\n",
    "\n",
    "#pipeline=Pipeline([('vect',vect)])\n",
    "\n",
    "#df_features=pipeline.fit_transform(df['review_clean'])\n",
    "    df_features1=vect.fit_transform(final_df['review_clean'])\n",
    "    df_features2=tf.fit_transform(final_df['review_clean'])\n",
    "\n",
    "    h1.append(df_features1)\n",
    "    h2.append(df_features2)\n",
    "    #X_train, X_test, y_train, y_test=train_test_split(df_features1, df['label'], test_size=0.25, random_state=0)\n"
   ]
  },
  {
   "cell_type": "code",
   "execution_count": 40,
   "metadata": {},
   "outputs": [],
   "source": [
    "import pickle\n",
    "with open('h1.pkl', 'wb') as fp:\n",
    "    pickle.dump(h1, fp)\n",
    "with open('h2.pkl', 'wb') as fp:\n",
    "    pickle.dump(h2, fp)"
   ]
  },
  {
   "cell_type": "code",
   "execution_count": 41,
   "metadata": {},
   "outputs": [
    {
     "name": "stdout",
     "output_type": "stream",
     "text": [
      "loop= 0\n",
      "loop= 1\n",
      "loop= 2\n",
      "loop= 3\n",
      "loop= 4\n",
      "loop= 5\n",
      "loop= 6\n",
      "loop= 7\n",
      "loop= 8\n"
     ]
    }
   ],
   "source": [
    "#multinomial nb\n",
    "\n",
    "num_features=10000\n",
    "\n",
    "train_acc_cv=[]\n",
    "test_acc_cv=[]\n",
    "train_acc_tf=[]\n",
    "test_acc_tf=[]\n",
    "\n",
    "\n",
    "for i in range(9):\n",
    "    \n",
    "    print(\"loop=\",i)\n",
    "#     [train_x1,test_x1]=ngram_features(min_ngram, max_ngram, X_train, X_test, i)\n",
    "#     [train_x2,test_x2]=tf_features(min_ngram, max_ngram, X_train, X_test, i)\n",
    "#     print(\"hello\")\n",
    "#     X_train, X_test, y_train, y_test=train_test_split(h1[i], df['label'], test_size=0.25, random_state=0)\n",
    "    X_train1, X_test1, y_train1, y_test1=train_test_split(h1[i], final_df['label'], test_size=0.25, random_state=0)\n",
    "\n",
    "    X_train2, X_test2, y_train2, y_test2=train_test_split(h2[i], final_df['label'], test_size=0.25, random_state=0)\n",
    "\n",
    "    [a1,b1]=multi_nb(X_train1,y_train1,X_test1,y_test1)\n",
    "    [a2,b2]=multi_nb(X_train2,y_train2,X_test2,y_test2)\n",
    "    \n",
    "    train_acc_cv.append(a1)\n",
    "    test_acc_cv.append(b1)\n",
    "    train_acc_tf.append(a2)\n",
    "    test_acc_tf.append(b2)"
   ]
  },
  {
   "cell_type": "code",
   "execution_count": 42,
   "metadata": {},
   "outputs": [
    {
     "data": {
      "text/plain": [
       "Text(0, 0.5, 'accuracy %')"
      ]
     },
     "execution_count": 42,
     "metadata": {},
     "output_type": "execute_result"
    },
    {
     "data": {
      "image/png": "[encoded data removed]",
      "text/plain": [
       "<Figure size 576x360 with 1 Axes>"
      ]
     },
     "metadata": {
      "needs_background": "light"
     },
     "output_type": "display_data"
    }
   ],
   "source": [
    "plt.figure(figsize=(8,5))\n",
    "n=range(10000,55000,5000)\n",
    "# plt.plot(n,train_acc_cv1,\"-b\",label=\"training data for count vectors\")\n",
    "# plt.plot(n,test_acc_cv1,\"-r\",label=\"test data for count vectors\")\n",
    "# plt.plot(n,train_acc_tf1, \"-g\",label=\"training data for tdif\")\n",
    "# plt.plot(n,test_acc_tf1, \"-c\",label=\"test data for tdif\")\n",
    "\n",
    "sns.lineplot(n,train_acc_cv,palette='dark',label=\"training data for bag-of-words\")\n",
    "sns.lineplot(n,test_acc_cv,palette='dark',label=\"test data for bag-of-words\")\n",
    "sns.lineplot(n,train_acc_tf, palette='dark',label=\"training data for tdidf\")\n",
    "sns.lineplot(n,test_acc_tf, palette='dark',label=\"test data for tdidf\")\n",
    "\n",
    "\n",
    "#box = plt.get_position()\n",
    "#plt.set_position([box.x0, box.y0 + box.height * 0.1,box.width, box.height * 0.9])\n",
    "\n",
    "#plt.legend(loc=\"upper left\",prop={\"size\":8})\n",
    "plt.legend(bbox_to_anchor=(0.5,-0.2), loc='center', borderaxespad=0.,ncol=2, mode=\"expand\")\n",
    "#plt.title(\"line chart of e\")\n",
    "plt.xlabel(\"# of features\")\n",
    "plt.ylabel(\"accuracy %\")"
   ]
  },
  {
   "cell_type": "code",
   "execution_count": 51,
   "metadata": {},
   "outputs": [
    {
     "name": "stdout",
     "output_type": "stream",
     "text": [
      "[69.3954824389607, 70.66297066297066, 71.92644149165889, 72.94585555455122, 73.93714785019134, 74.7305834262356, 75.63650607128868, 76.40081553125032, 77.03958138740748]\n",
      "[67.12262729737873, 68.02651401024406, 68.77673998192226, 69.13528171135884, 69.52094004218138, 69.92467610726122, 70.21391985537812, 70.66285025610124, 70.88279602289846]\n",
      "[71.55382807556721, 72.47180290658551, 73.15777315777315, 73.5826127130475, 74.05766970984362, 74.36901784727871, 74.57591370634849, 74.7305834262356, 74.93044884349233]\n",
      "[70.52726724917143, 71.03043085266647, 71.39499849352214, 71.5818017475143, 71.8047604700211, 71.88912322988853, 72.07592648388069, 72.0879783067189, 72.20247062368183]\n"
     ]
    }
   ],
   "source": [
    "print(train_acc_cv)\n",
    "print(test_acc_cv)\n",
    "print(train_acc_tf)\n",
    "print(test_acc_tf)"
   ]
  },
  {
   "cell_type": "code",
   "execution_count": 53,
   "metadata": {},
   "outputs": [
    {
     "name": "stdout",
     "output_type": "stream",
     "text": [
      "73.63059826827943\n",
      "69.36292725385826\n",
      "73.71440559846357\n",
      "71.62163971745171\n"
     ]
    }
   ],
   "source": [
    "from statistics import mean\n",
    "\n",
    "print(mean(train_acc_cv))\n",
    "print(mean(test_acc_cv))\n",
    "print(mean(train_acc_tf))\n",
    "print(mean(test_acc_tf))"
   ]
  },
  {
   "cell_type": "code",
   "execution_count": 48,
   "metadata": {},
   "outputs": [
    {
     "name": "stdout",
     "output_type": "stream",
     "text": [
      "no of features= 0\n",
      "no of features= 1\n",
      "no of features= 2\n",
      "no of features= 3\n",
      "no of features= 4\n",
      "no of features= 5\n",
      "no of features= 6\n",
      "no of features= 7\n",
      "no of features= 8\n"
     ]
    }
   ],
   "source": [
    "#for logistic regression\n",
    "\n",
    "min_ngram=1\n",
    "max_ngram=2\n",
    "\n",
    "num_features=10000\n",
    "\n",
    "train_acc_cv1=[]\n",
    "test_acc_cv1=[]\n",
    "train_acc_tf1=[]\n",
    "test_acc_tf1=[]\n",
    "\n",
    "\n",
    "for i in range(9):\n",
    "    \n",
    "    print(\"no of features=\",i)\n",
    "    X_train1, X_test1, y_train1, y_test1=train_test_split(h1[i], final_df['label'], test_size=0.25, random_state=0)\n",
    "\n",
    "    X_train2, X_test2, y_train2, y_test2=train_test_split(h2[i], final_df['label'], test_size=0.25, random_state=0)\n",
    "\n",
    "    \n",
    "    [a1,b1]=logistic_regression(X_train1,y_train1,X_test1,y_test1)\n",
    "    [a2,b2]=logistic_regression(X_train2,y_train2,X_test2,y_test2)\n",
    "    \n",
    "    train_acc_cv1.append(a1)\n",
    "    test_acc_cv1.append(b1)\n",
    "    train_acc_tf1.append(a2)\n",
    "    test_acc_tf1.append(b2)"
   ]
  },
  {
   "cell_type": "code",
   "execution_count": 49,
   "metadata": {},
   "outputs": [
    {
     "data": {
      "text/plain": [
       "Text(0, 0.5, 'accuracy %')"
      ]
     },
     "execution_count": 49,
     "metadata": {},
     "output_type": "execute_result"
    },
    {
     "data": {
      "image/png": "[encoded data removed]",
      "text/plain": [
       "<Figure size 576x360 with 1 Axes>"
      ]
     },
     "metadata": {
      "needs_background": "light"
     },
     "output_type": "display_data"
    }
   ],
   "source": [
    "plt.figure(figsize=(8,5))\n",
    "n=range(10000,55000,5000)\n",
    "# plt.plot(n,train_acc_cv1,\"-b\",label=\"training data for count vectors\")\n",
    "# plt.plot(n,test_acc_cv1,\"-r\",label=\"test data for count vectors\")\n",
    "# plt.plot(n,train_acc_tf1, \"-g\",label=\"training data for tdif\")\n",
    "# plt.plot(n,test_acc_tf1, \"-c\",label=\"test data for tdif\")\n",
    "\n",
    "sns.lineplot(n,train_acc_cv1,palette='dark',label=\"training data for bag-of-words\")\n",
    "sns.lineplot(n,test_acc_cv1,palette='dark',label=\"test data for bag-of-words\")\n",
    "sns.lineplot(n,train_acc_tf1, palette='dark',label=\"training data for tdidf\")\n",
    "sns.lineplot(n,test_acc_tf1, palette='dark',label=\"test data for tdidf\")\n",
    "\n",
    "\n",
    "#box = plt.get_position()\n",
    "#plt.set_position([box.x0, box.y0 + box.height * 0.1,box.width, box.height * 0.9])\n",
    "\n",
    "#plt.legend(loc=\"upper left\",prop={\"size\":8})\n",
    "plt.legend(bbox_to_anchor=(0.5,-0.2), loc='center', borderaxespad=0.,ncol=2, mode=\"expand\")\n",
    "#plt.title(\"line chart of e\")\n",
    "plt.xlabel(\"# of features\")\n",
    "plt.ylabel(\"accuracy %\")"
   ]
  },
  {
   "cell_type": "code",
   "execution_count": 54,
   "metadata": {},
   "outputs": [
    {
     "name": "stdout",
     "output_type": "stream",
     "text": [
      "[80.2113149939237, 85.99837295489469, 90.6123514819167, 93.58221097351532, 95.45632589110849, 96.68665320839234, 97.51524099350186, 98.06562415258068, 98.43522452218104]\n",
      "[70.43386562217535, 72.94064477252185, 76.10123531184092, 78.10786381440192, 79.80415787887918, 80.63272069900572, 81.3106357336547, 81.87707140705032, 82.30189816209702]\n",
      "[76.95119869032912, 79.42691855735335, 81.18854640593771, 82.53035644339992, 83.42322255365734, 84.16242329285808, 84.82830656743701, 85.37467233119406, 85.82562495605974]\n",
      "[70.68996685748719, 71.86200662850256, 72.89846339258813, 73.60650798433262, 74.28442301898161, 74.80566435673396, 75.0557396806267, 75.45043687857789, 75.73365471527569]\n"
     ]
    }
   ],
   "source": [
    "print(train_acc_cv1)\n",
    "print(test_acc_cv1)\n",
    "print(train_acc_tf1)\n",
    "print(test_acc_tf1)"
   ]
  },
  {
   "cell_type": "code",
   "execution_count": 55,
   "metadata": {},
   "outputs": [
    {
     "name": "stdout",
     "output_type": "stream",
     "text": [
      "92.95147990800164\n",
      "78.16778815573633\n",
      "82.63458553313626\n",
      "73.82076261256738\n"
     ]
    }
   ],
   "source": [
    "print(mean(train_acc_cv1))\n",
    "print(mean(test_acc_cv1))\n",
    "print(mean(train_acc_tf1))\n",
    "print(mean(test_acc_tf1))"
   ]
  },
  {
   "cell_type": "code",
   "execution_count": 56,
   "metadata": {},
   "outputs": [
    {
     "name": "stdout",
     "output_type": "stream",
     "text": [
      "no of features= 0\n",
      "no of features= 1\n",
      "no of features= 2\n",
      "no of features= 3\n",
      "no of features= 4\n",
      "no of features= 5\n",
      "no of features= 6\n",
      "no of features= 7\n",
      "no of features= 8\n"
     ]
    }
   ],
   "source": [
    "#for random forest\n",
    "\n",
    "train_acc_cv2=[]\n",
    "test_acc_cv2=[]\n",
    "train_acc_tf2=[]\n",
    "test_acc_tf2=[]\n",
    "\n",
    "for i in range(9):\n",
    "    \n",
    "    print(\"no of features=\",i)\n",
    "    X_train1, X_test1, y_train1, y_test1=train_test_split(h1[i], final_df['label'], test_size=0.25, random_state=0)\n",
    "\n",
    "    X_train2, X_test2, y_train2, y_test2=train_test_split(h2[i], final_df['label'], test_size=0.25, random_state=0)\n",
    "\n",
    "    \n",
    "    [a1,b1]=random_forest(X_train1,y_train1,X_test1,y_test1,10)\n",
    "    [a2,b2]=random_forest(X_train2,y_train2,X_test2,y_test2,10)\n",
    "    \n",
    "    train_acc_cv2.append(a1)\n",
    "    test_acc_cv2.append(b1)\n",
    "    train_acc_tf2.append(a2)\n",
    "    test_acc_tf2.append(b2)\n",
    "    "
   ]
  },
  {
   "cell_type": "code",
   "execution_count": 57,
   "metadata": {},
   "outputs": [
    {
     "data": {
      "text/plain": [
       "Text(0, 0.5, 'accuracy %')"
      ]
     },
     "execution_count": 57,
     "metadata": {},
     "output_type": "execute_result"
    },
    {
     "data": {
      "image/png": "[encoded data removed]",
      "text/plain": [
       "<Figure size 576x360 with 1 Axes>"
      ]
     },
     "metadata": {
      "needs_background": "light"
     },
     "output_type": "display_data"
    }
   ],
   "source": [
    "plt.figure(figsize=(8,5))\n",
    "n=range(10000,55000,5000)\n",
    "# plt.plot(n,train_acc_cv2,\"-b\",label=\"training data for count vectors\")\n",
    "# plt.plot(n,test_acc_cv2,\"-r\",label=\"test data for count vectors\")\n",
    "# plt.plot(n,train_acc_tf2, \"-g\",label=\"training data for tdif\")\n",
    "# plt.plot(n,test_acc_tf2, \"-c\",label=\"test data for tdif\")\n",
    "\n",
    "sns.lineplot(n,train_acc_cv2,palette='dark',label=\"training data for bag-of-words\")\n",
    "sns.lineplot(n,test_acc_cv2,palette='dark',label=\"test data for bag-of-words\")\n",
    "sns.lineplot(n,train_acc_tf2, palette='dark',label=\"training data for tdidf\")\n",
    "sns.lineplot(n,test_acc_tf2, palette='dark',label=\"test data for tdidf\")\n",
    "#plt.legend(loc=\"upper left\",prop={\"size\":8})\n",
    "#plt.title(\"line chart of e\")\n",
    "plt.legend(bbox_to_anchor=(0.5,-0.2), loc='center', borderaxespad=0.,ncol=2, mode=\"expand\")\n",
    "\n",
    "plt.xlabel(\"# of features\")\n",
    "plt.ylabel(\"accuracy %\")"
   ]
  },
  {
   "cell_type": "code",
   "execution_count": 58,
   "metadata": {},
   "outputs": [
    {
     "name": "stdout",
     "output_type": "stream",
     "text": [
      "[99.36926893448631, 99.35119065553847, 99.37328632980807, 99.35420370202979, 99.3742906786385, 99.3883515622646, 99.3572167485211, 99.3602297950124, 99.3572167485211]\n",
      "[80.87677011147936, 81.18107863814402, 80.94908104850859, 81.53058150045194, 81.08767701114795, 81.5396203675806, 80.90388671286533, 80.92497740283218, 81.37089484784573]\n",
      "[99.40944288770376, 99.36223849267327, 99.41245593419507, 99.39136460875592, 99.3602297950124, 99.37328632980807, 99.36926893448631, 99.35219500436891, 99.35219500436891]\n",
      "[81.08165109972883, 81.05754745405243, 80.92799035854173, 80.93100331425129, 81.31364868936427, 81.16300090388671, 81.00632720699006, 81.17505272672491, 81.36486893642663]\n"
     ]
    }
   ],
   "source": [
    "print(train_acc_cv2)\n",
    "print(test_acc_cv2)\n",
    "print(train_acc_tf2)\n",
    "print(test_acc_tf2)"
   ]
  },
  {
   "cell_type": "code",
   "execution_count": 59,
   "metadata": {},
   "outputs": [
    {
     "name": "stdout",
     "output_type": "stream",
     "text": [
      "99.3650283505356\n",
      "81.15161862676175\n",
      "99.3758529990414\n",
      "81.11345452110743\n"
     ]
    }
   ],
   "source": [
    "print(mean(train_acc_cv2))\n",
    "print(mean(test_acc_cv2))\n",
    "print(mean(train_acc_tf2))\n",
    "print(mean(test_acc_tf2))"
   ]
  },
  {
   "cell_type": "code",
   "execution_count": 60,
   "metadata": {},
   "outputs": [
    {
     "name": "stdout",
     "output_type": "stream",
     "text": [
      "no of features= 0\n",
      "no of features= 1\n",
      "no of features= 2\n",
      "no of features= 3\n",
      "no of features= 4\n",
      "no of features= 5\n",
      "no of features= 6\n",
      "no of features= 7\n",
      "no of features= 8\n"
     ]
    }
   ],
   "source": [
    "train_acc_cv3=[]\n",
    "test_acc_cv3=[]\n",
    "train_acc_tf3=[]\n",
    "test_acc_tf3=[]\n",
    "\n",
    "for i in range(9):\n",
    "    \n",
    "    print(\"no of features=\",i)\n",
    "    X_train1, X_test1, y_train1, y_test1=train_test_split(h1[i], final_df['label'], test_size=0.25, random_state=0)\n",
    "\n",
    "    X_train2, X_test2, y_train2, y_test2=train_test_split(h2[i], final_df['label'], test_size=0.25, random_state=0)\n",
    "\n",
    "    \n",
    "    [a1,b1]=random_forest(X_train1,y_train1,X_test1,y_test1,50)\n",
    "    [a2,b2]=random_forest(X_train2,y_train2,X_test2,y_test2,50)\n",
    "    \n",
    "    train_acc_cv3.append(a1)\n",
    "    test_acc_cv3.append(b1)\n",
    "    train_acc_tf3.append(a2)\n",
    "    test_acc_tf3.append(b2)"
   ]
  },
  {
   "cell_type": "code",
   "execution_count": 61,
   "metadata": {},
   "outputs": [
    {
     "data": {
      "text/plain": [
       "Text(0, 0.5, 'accuracy %')"
      ]
     },
     "execution_count": 61,
     "metadata": {},
     "output_type": "execute_result"
    },
    {
     "data": {
      "image/png": "[encoded data removed]",
      "text/plain": [
       "<Figure size 576x360 with 1 Axes>"
      ]
     },
     "metadata": {
      "needs_background": "light"
     },
     "output_type": "display_data"
    }
   ],
   "source": [
    "plt.figure(figsize=(8,5))\n",
    "n=range(10000,55000,5000)\n",
    "# plt.plot(n,train_acc_cv3,\"-b\",label=\"training data for count vectors\")\n",
    "# plt.plot(n,test_acc_cv3,\"-r\",label=\"test data for count vectors\")\n",
    "# plt.plot(n,train_acc_tf3, \"-g\",label=\"training data for tdif\")\n",
    "# plt.plot(n,test_acc_tf3, \"-c\",label=\"test data for tdif\")\n",
    "\n",
    "sns.lineplot(n,train_acc_cv3,palette='dark',label=\"training data for bag-of-words\")\n",
    "sns.lineplot(n,test_acc_cv3,palette='dark',label=\"test data for bag-of-words\")\n",
    "sns.lineplot(n,train_acc_tf3, palette='dark',label=\"training data for tdidf\")\n",
    "sns.lineplot(n,test_acc_tf3, palette='dark',label=\"test data for tdidf\")\n",
    "#plt.legend(loc=\"upper left\",prop={\"size\":8})\n",
    "#plt.title(\"line chart of e\")\n",
    "plt.legend(bbox_to_anchor=(0.5,-0.2), loc='center', borderaxespad=0.,ncol=2, mode=\"expand\")\n",
    "\n",
    "plt.xlabel(\"# of features\")\n",
    "plt.ylabel(\"accuracy %\")"
   ]
  },
  {
   "cell_type": "code",
   "execution_count": 62,
   "metadata": {},
   "outputs": [
    {
     "name": "stdout",
     "output_type": "stream",
     "text": [
      "[99.92366948888687, 99.92065644239557, 99.92366948888687, 99.92366948888687, 99.92366948888687, 99.92567818654776, 99.92567818654776, 99.921660791226, 99.92668253537819]\n",
      "[84.70924977402832, 84.98644169930702, 85.05272672491715, 85.10093401626996, 85.01054534498343, 84.99548056643567, 85.0376619463694, 85.18830973184694, 85.01355830069298]\n",
      "[99.921660791226, 99.921660791226, 99.92266514005644, 99.92467383771732, 99.92467383771732, 99.92567818654776, 99.92567818654776, 99.92467383771732, 99.92668253537819]\n",
      "[84.67610726122325, 85.0557396806267, 84.73335341970473, 85.16721904188009, 84.81771617957216, 84.98041578788792, 85.0798433263031, 85.09189514914131, 85.18228382042784]\n"
     ]
    }
   ],
   "source": [
    "print(train_acc_cv3)\n",
    "print(test_acc_cv3)\n",
    "print(train_acc_tf3)\n",
    "print(test_acc_tf3)"
   ]
  },
  {
   "cell_type": "code",
   "execution_count": 63,
   "metadata": {},
   "outputs": [
    {
     "name": "stdout",
     "output_type": "stream",
     "text": [
      "99.92389267751587\n",
      "85.01054534498343\n",
      "99.92422746045935\n",
      "84.9760637407519\n"
     ]
    }
   ],
   "source": [
    "print(mean(train_acc_cv3))\n",
    "print(mean(test_acc_cv3))\n",
    "print(mean(train_acc_tf3))\n",
    "print(mean(test_acc_tf3))"
   ]
  },
  {
   "cell_type": "code",
   "execution_count": 19,
   "metadata": {},
   "outputs": [
    {
     "name": "stdout",
     "output_type": "stream",
     "text": [
      "no of features= 0\n",
      "no of features= 1\n",
      "no of features= 2\n",
      "no of features= 3\n",
      "no of features= 4\n",
      "no of features= 5\n",
      "no of features= 6\n",
      "no of features= 7\n",
      "no of features= 8\n"
     ]
    }
   ],
   "source": [
    "train_acc_cv4=[]\n",
    "test_acc_cv4=[]\n",
    "train_acc_tf4=[]\n",
    "test_acc_tf4=[]\n",
    "\n",
    "for i in range(9):\n",
    "    \n",
    "    print(\"no of features=\",i)\n",
    "    X_train1, X_test1, y_train1, y_test1=train_test_split(h1[i], final_df['label'], test_size=0.25, random_state=0)\n",
    "\n",
    "    X_train2, X_test2, y_train2, y_test2=train_test_split(h2[i], final_df['label'], test_size=0.25, random_state=0)\n",
    "\n",
    "    \n",
    "    [a1,b1]=random_forest(X_train1,y_train1,X_test1,y_test1,100)\n",
    "    [a2,b2]=random_forest(X_train2,y_train2,X_test2,y_test2,100)\n",
    "    \n",
    "    train_acc_cv4.append(a1)\n",
    "    test_acc_cv4.append(b1)\n",
    "    train_acc_tf4.append(a2)\n",
    "    test_acc_tf4.append(b2)"
   ]
  },
  {
   "cell_type": "code",
   "execution_count": 20,
   "metadata": {},
   "outputs": [
    {
     "data": {
      "text/plain": [
       "Text(0, 0.5, 'accuracy %')"
      ]
     },
     "execution_count": 20,
     "metadata": {},
     "output_type": "execute_result"
    },
    {
     "data": {
      "image/png": "[encoded data removed]",
      "text/plain": [
       "<Figure size 576x360 with 1 Axes>"
      ]
     },
     "metadata": {
      "needs_background": "light"
     },
     "output_type": "display_data"
    }
   ],
   "source": [
    "plt.figure(figsize=(8,5))\n",
    "n=range(10000,55000,5000)\n",
    "# plt.plot(n,train_acc_cv4,\"-b\",label=\"training data for count vectors\")\n",
    "# plt.plot(n,test_acc_cv4,\"-r\",label=\"test data for count vectors\")\n",
    "# plt.plot(n,train_acc_tf4, \"-g\",label=\"training data for tdif\")\n",
    "# plt.plot(n,test_acc_tf4, \"-c\",label=\"test data for tdif\")\n",
    "\n",
    "sns.lineplot(n,train_acc_cv4,palette='dark',label=\"training data for bag-of-words\")\n",
    "sns.lineplot(n,test_acc_cv4,palette='dark',label=\"test data for bag-of-words\")\n",
    "sns.lineplot(n,train_acc_tf4, palette='dark',label=\"training data for tdidf\")\n",
    "sns.lineplot(n,test_acc_tf4, palette='dark',label=\"test data for tdidf\")\n",
    "\n",
    "#plt.legend(loc=\"upper left\",prop={\"size\":8})\n",
    "#plt.title(\"line chart of e\")\n",
    "plt.legend(bbox_to_anchor=(0.5,-0.2), loc='center', borderaxespad=0.,ncol=2, mode=\"expand\")\n",
    "\n",
    "plt.xlabel(\"# of features\")\n",
    "plt.ylabel(\"accuracy %\")"
   ]
  },
  {
   "cell_type": "code",
   "execution_count": 21,
   "metadata": {},
   "outputs": [
    {
     "name": "stdout",
     "output_type": "stream",
     "text": [
      "[99.921660791226, 99.92366948888687, 99.92567818654776, 99.92567818654776, 99.92567818654776, 99.92668253537819, 99.92668253537819, 99.92467383771732, 99.92869123303906]\n",
      "[85.4986441699307, 85.41126845435372, 85.52274781560712, 85.45646278999699, 85.4986441699307, 85.5347996384453, 85.70955106959927, 85.52274781560712, 85.50768303705935]\n",
      "[99.92467383771732, 99.92366948888687, 99.92567818654776, 99.92467383771732, 99.92467383771732, 99.92567818654776, 99.92668253537819, 99.92668253537819, 99.92869123303906]\n",
      "[85.3389575173245, 85.39017776438686, 85.22446520036155, 85.40825549864417, 85.53781259415486, 85.66736968966556, 85.65531786682736, 85.68846037963242, 85.62518830973185]\n"
     ]
    }
   ],
   "source": [
    "print(train_acc_cv4)\n",
    "print(test_acc_cv4)\n",
    "print(train_acc_tf4)\n",
    "print(test_acc_tf4)"
   ]
  },
  {
   "cell_type": "code",
   "execution_count": 23,
   "metadata": {},
   "outputs": [
    {
     "name": "stdout",
     "output_type": "stream",
     "text": [
      "99.92545499791876\n",
      "85.51806099561448\n",
      "99.92567818654776\n",
      "85.50400053563656\n"
     ]
    }
   ],
   "source": [
    "from statistics import mean\n",
    "\n",
    "print(mean(train_acc_cv4))\n",
    "print(mean(test_acc_cv4))\n",
    "print(mean(train_acc_tf4))\n",
    "print(mean(test_acc_tf4))"
   ]
  },
  {
   "cell_type": "code",
   "execution_count": 24,
   "metadata": {},
   "outputs": [
    {
     "ename": "NameError",
     "evalue": "name 'test_acc_cv2' is not defined",
     "output_type": "error",
     "traceback": [
      "\u001b[0;31m---------------------------------------------------------------------------\u001b[0m",
      "\u001b[0;31mNameError\u001b[0m                                 Traceback (most recent call last)",
      "\u001b[0;32m<ipython-input-24-ee8bbbe7a0f1>\u001b[0m in \u001b[0;36m<module>\u001b[0;34m\u001b[0m\n\u001b[1;32m      6\u001b[0m \u001b[0;31m# plt.plot(n,test_acc_tf1, \"-c\",label=\"test data for tdif\")\u001b[0m\u001b[0;34m\u001b[0m\u001b[0;34m\u001b[0m\u001b[0;34m\u001b[0m\u001b[0m\n\u001b[1;32m      7\u001b[0m \u001b[0;34m\u001b[0m\u001b[0m\n\u001b[0;32m----> 8\u001b[0;31m \u001b[0msns\u001b[0m\u001b[0;34m.\u001b[0m\u001b[0mlineplot\u001b[0m\u001b[0;34m(\u001b[0m\u001b[0mn\u001b[0m\u001b[0;34m,\u001b[0m\u001b[0mtest_acc_cv2\u001b[0m\u001b[0;34m,\u001b[0m\u001b[0mpalette\u001b[0m\u001b[0;34m=\u001b[0m\u001b[0;34m'dark'\u001b[0m\u001b[0;34m,\u001b[0m\u001b[0mlabel\u001b[0m\u001b[0;34m=\u001b[0m\u001b[0;34m\"test data-bag-of-words, #of trees=10\"\u001b[0m\u001b[0;34m)\u001b[0m\u001b[0;34m\u001b[0m\u001b[0;34m\u001b[0m\u001b[0m\n\u001b[0m\u001b[1;32m      9\u001b[0m \u001b[0msns\u001b[0m\u001b[0;34m.\u001b[0m\u001b[0mlineplot\u001b[0m\u001b[0;34m(\u001b[0m\u001b[0mn\u001b[0m\u001b[0;34m,\u001b[0m\u001b[0mtest_acc_tf2\u001b[0m\u001b[0;34m,\u001b[0m\u001b[0mpalette\u001b[0m\u001b[0;34m=\u001b[0m\u001b[0;34m'dark'\u001b[0m\u001b[0;34m,\u001b[0m\u001b[0mlabel\u001b[0m\u001b[0;34m=\u001b[0m\u001b[0;34m\"test data-tdidf, # of trees=10\"\u001b[0m\u001b[0;34m)\u001b[0m\u001b[0;34m\u001b[0m\u001b[0;34m\u001b[0m\u001b[0m\n\u001b[1;32m     10\u001b[0m \u001b[0msns\u001b[0m\u001b[0;34m.\u001b[0m\u001b[0mlineplot\u001b[0m\u001b[0;34m(\u001b[0m\u001b[0mn\u001b[0m\u001b[0;34m,\u001b[0m\u001b[0mtest_acc_cv3\u001b[0m\u001b[0;34m,\u001b[0m \u001b[0mpalette\u001b[0m\u001b[0;34m=\u001b[0m\u001b[0;34m'dark'\u001b[0m\u001b[0;34m,\u001b[0m\u001b[0mlabel\u001b[0m\u001b[0;34m=\u001b[0m\u001b[0;34m\"test data-bag-of-words, # of trees=50\"\u001b[0m\u001b[0;34m)\u001b[0m\u001b[0;34m\u001b[0m\u001b[0;34m\u001b[0m\u001b[0m\n",
      "\u001b[0;31mNameError\u001b[0m: name 'test_acc_cv2' is not defined"
     ]
    },
    {
     "data": {
      "text/plain": [
       "<Figure size 576x360 with 0 Axes>"
      ]
     },
     "metadata": {},
     "output_type": "display_data"
    }
   ],
   "source": [
    "plt.figure(figsize=(8,5))\n",
    "n=range(10000,55000,5000)\n",
    "# plt.plot(n,train_acc_cv1,\"-b\",label=\"training data for count vectors\")\n",
    "# plt.plot(n,test_acc_cv1,\"-r\",label=\"test data for count vectors\")\n",
    "# plt.plot(n,train_acc_tf1, \"-g\",label=\"training data for tdif\")\n",
    "# plt.plot(n,test_acc_tf1, \"-c\",label=\"test data for tdif\")\n",
    "\n",
    "sns.lineplot(n,test_acc_cv2,palette='dark',label=\"test data-bag-of-words, #of trees=10\")\n",
    "sns.lineplot(n,test_acc_tf2,palette='dark',label=\"test data-tdidf, # of trees=10\")\n",
    "sns.lineplot(n,test_acc_cv3, palette='dark',label=\"test data-bag-of-words, # of trees=50\")\n",
    "sns.lineplot(n,test_acc_tf3, palette='dark',label=\"test data-tdidf, # of trees=50\")\n",
    "sns.lineplot(n,test_acc_cv4, palette='dark',label=\"test data-bag-of-words, # of trees=100\")\n",
    "sns.lineplot(n,test_acc_tf4, palette='dark',label=\"test data-tdidf, # of trees=100\")\n",
    "\n",
    "\n",
    "#box = plt.get_position()\n",
    "#plt.set_position([box.x0, box.y0 + box.height * 0.1,box.width, box.height * 0.9])\n",
    "\n",
    "#plt.legend(loc=\"upper left\",prop={\"size\":8})\n",
    "plt.legend(bbox_to_anchor=(0.5,-0.25), loc='center', borderaxespad=0.,ncol=2, mode=\"expand\")\n",
    "#plt.title(\"line chart of e\")\n",
    "plt.xlabel(\"# of features\")\n",
    "plt.ylabel(\"accuracy %\")"
   ]
  },
  {
   "cell_type": "code",
   "execution_count": 56,
   "metadata": {},
   "outputs": [
    {
     "name": "stdout",
     "output_type": "stream",
     "text": [
      "no of features= 100\n",
      "no of features= 150\n",
      "no of features= 200\n",
      "no of features= 500\n",
      "no of features= 750\n",
      "no of features= 1000\n"
     ]
    },
    {
     "ename": "KeyboardInterrupt",
     "evalue": "",
     "output_type": "error",
     "traceback": [
      "\u001b[0;31m---------------------------------------------------------------------------\u001b[0m",
      "\u001b[0;31mKeyboardInterrupt\u001b[0m                         Traceback (most recent call last)",
      "\u001b[0;32m<ipython-input-56-e16a75f251cf>\u001b[0m in \u001b[0;36m<module>\u001b[0;34m\u001b[0m\n\u001b[1;32m     17\u001b[0m \u001b[0;34m\u001b[0m\u001b[0m\n\u001b[1;32m     18\u001b[0m     \u001b[0;34m[\u001b[0m\u001b[0ma1\u001b[0m\u001b[0;34m,\u001b[0m\u001b[0mb1\u001b[0m\u001b[0;34m]\u001b[0m\u001b[0;34m=\u001b[0m\u001b[0mgrad_bo\u001b[0m\u001b[0;34m(\u001b[0m\u001b[0mX_train1\u001b[0m\u001b[0;34m,\u001b[0m\u001b[0my_train1\u001b[0m\u001b[0;34m,\u001b[0m\u001b[0mX_test1\u001b[0m\u001b[0;34m,\u001b[0m\u001b[0my_test1\u001b[0m\u001b[0;34m,\u001b[0m\u001b[0mi\u001b[0m\u001b[0;34m)\u001b[0m\u001b[0;34m\u001b[0m\u001b[0;34m\u001b[0m\u001b[0m\n\u001b[0;32m---> 19\u001b[0;31m     \u001b[0;34m[\u001b[0m\u001b[0ma2\u001b[0m\u001b[0;34m,\u001b[0m\u001b[0mb2\u001b[0m\u001b[0;34m]\u001b[0m\u001b[0;34m=\u001b[0m\u001b[0mgrad_bo\u001b[0m\u001b[0;34m(\u001b[0m\u001b[0mX_train2\u001b[0m\u001b[0;34m,\u001b[0m\u001b[0my_train2\u001b[0m\u001b[0;34m,\u001b[0m\u001b[0mX_test2\u001b[0m\u001b[0;34m,\u001b[0m\u001b[0my_test2\u001b[0m\u001b[0;34m,\u001b[0m\u001b[0mi\u001b[0m\u001b[0;34m)\u001b[0m\u001b[0;34m\u001b[0m\u001b[0;34m\u001b[0m\u001b[0m\n\u001b[0m\u001b[1;32m     20\u001b[0m \u001b[0;34m\u001b[0m\u001b[0m\n\u001b[1;32m     21\u001b[0m     \u001b[0mtrain_acc_cv5\u001b[0m\u001b[0;34m.\u001b[0m\u001b[0mappend\u001b[0m\u001b[0;34m(\u001b[0m\u001b[0ma1\u001b[0m\u001b[0;34m)\u001b[0m\u001b[0;34m\u001b[0m\u001b[0;34m\u001b[0m\u001b[0m\n",
      "\u001b[0;32m<ipython-input-55-4dd86bf0f91c>\u001b[0m in \u001b[0;36mgrad_bo\u001b[0;34m(x_train, y_train, x_test, y_test, n_t)\u001b[0m\n\u001b[1;32m     49\u001b[0m \u001b[0;32mdef\u001b[0m \u001b[0mgrad_bo\u001b[0m\u001b[0;34m(\u001b[0m\u001b[0mx_train\u001b[0m\u001b[0;34m,\u001b[0m\u001b[0my_train\u001b[0m\u001b[0;34m,\u001b[0m\u001b[0mx_test\u001b[0m\u001b[0;34m,\u001b[0m\u001b[0my_test\u001b[0m\u001b[0;34m,\u001b[0m\u001b[0mn_t\u001b[0m\u001b[0;34m=\u001b[0m\u001b[0;36m100\u001b[0m\u001b[0;34m)\u001b[0m\u001b[0;34m:\u001b[0m\u001b[0;34m\u001b[0m\u001b[0;34m\u001b[0m\u001b[0m\n\u001b[1;32m     50\u001b[0m     \u001b[0mlr\u001b[0m\u001b[0;34m=\u001b[0m\u001b[0mGradientBoostingClassifier\u001b[0m\u001b[0;34m(\u001b[0m\u001b[0mn_estimators\u001b[0m\u001b[0;34m=\u001b[0m\u001b[0mn_t\u001b[0m\u001b[0;34m)\u001b[0m\u001b[0;34m\u001b[0m\u001b[0;34m\u001b[0m\u001b[0m\n\u001b[0;32m---> 51\u001b[0;31m     \u001b[0mlr\u001b[0m\u001b[0;34m.\u001b[0m\u001b[0mfit\u001b[0m\u001b[0;34m(\u001b[0m\u001b[0mx_train\u001b[0m\u001b[0;34m,\u001b[0m\u001b[0my_train\u001b[0m\u001b[0;34m)\u001b[0m\u001b[0;34m\u001b[0m\u001b[0;34m\u001b[0m\u001b[0m\n\u001b[0m\u001b[1;32m     52\u001b[0m \u001b[0;34m\u001b[0m\u001b[0m\n\u001b[1;32m     53\u001b[0m     \u001b[0my1_pred\u001b[0m\u001b[0;34m=\u001b[0m\u001b[0mlr\u001b[0m\u001b[0;34m.\u001b[0m\u001b[0mpredict\u001b[0m\u001b[0;34m(\u001b[0m\u001b[0mx_train\u001b[0m\u001b[0;34m)\u001b[0m\u001b[0;34m\u001b[0m\u001b[0;34m\u001b[0m\u001b[0m\n",
      "\u001b[0;32m/opt/conda/envs/fastai/lib/python3.7/site-packages/sklearn/ensemble/_gb.py\u001b[0m in \u001b[0;36mfit\u001b[0;34m(self, X, y, sample_weight, monitor)\u001b[0m\n\u001b[1;32m   1535\u001b[0m         n_stages = self._fit_stages(\n\u001b[1;32m   1536\u001b[0m             \u001b[0mX\u001b[0m\u001b[0;34m,\u001b[0m \u001b[0my\u001b[0m\u001b[0;34m,\u001b[0m \u001b[0mraw_predictions\u001b[0m\u001b[0;34m,\u001b[0m \u001b[0msample_weight\u001b[0m\u001b[0;34m,\u001b[0m \u001b[0mself\u001b[0m\u001b[0;34m.\u001b[0m\u001b[0m_rng\u001b[0m\u001b[0;34m,\u001b[0m \u001b[0mX_val\u001b[0m\u001b[0;34m,\u001b[0m \u001b[0my_val\u001b[0m\u001b[0;34m,\u001b[0m\u001b[0;34m\u001b[0m\u001b[0;34m\u001b[0m\u001b[0m\n\u001b[0;32m-> 1537\u001b[0;31m             sample_weight_val, begin_at_stage, monitor, X_idx_sorted)\n\u001b[0m\u001b[1;32m   1538\u001b[0m \u001b[0;34m\u001b[0m\u001b[0m\n\u001b[1;32m   1539\u001b[0m         \u001b[0;31m# change shape of arrays after fit (early-stopping or additional ests)\u001b[0m\u001b[0;34m\u001b[0m\u001b[0;34m\u001b[0m\u001b[0;34m\u001b[0m\u001b[0m\n",
      "\u001b[0;32m/opt/conda/envs/fastai/lib/python3.7/site-packages/sklearn/ensemble/_gb.py\u001b[0m in \u001b[0;36m_fit_stages\u001b[0;34m(self, X, y, raw_predictions, sample_weight, random_state, X_val, y_val, sample_weight_val, begin_at_stage, monitor, X_idx_sorted)\u001b[0m\n\u001b[1;32m   1592\u001b[0m             raw_predictions = self._fit_stage(\n\u001b[1;32m   1593\u001b[0m                 \u001b[0mi\u001b[0m\u001b[0;34m,\u001b[0m \u001b[0mX\u001b[0m\u001b[0;34m,\u001b[0m \u001b[0my\u001b[0m\u001b[0;34m,\u001b[0m \u001b[0mraw_predictions\u001b[0m\u001b[0;34m,\u001b[0m \u001b[0msample_weight\u001b[0m\u001b[0;34m,\u001b[0m \u001b[0msample_mask\u001b[0m\u001b[0;34m,\u001b[0m\u001b[0;34m\u001b[0m\u001b[0;34m\u001b[0m\u001b[0m\n\u001b[0;32m-> 1594\u001b[0;31m                 random_state, X_idx_sorted, X_csc, X_csr)\n\u001b[0m\u001b[1;32m   1595\u001b[0m \u001b[0;34m\u001b[0m\u001b[0m\n\u001b[1;32m   1596\u001b[0m             \u001b[0;31m# track deviance (= loss)\u001b[0m\u001b[0;34m\u001b[0m\u001b[0;34m\u001b[0m\u001b[0;34m\u001b[0m\u001b[0m\n",
      "\u001b[0;32m/opt/conda/envs/fastai/lib/python3.7/site-packages/sklearn/ensemble/_gb.py\u001b[0m in \u001b[0;36m_fit_stage\u001b[0;34m(self, i, X, y, raw_predictions, sample_weight, sample_mask, random_state, X_idx_sorted, X_csc, X_csr)\u001b[0m\n\u001b[1;32m   1243\u001b[0m             \u001b[0mX\u001b[0m \u001b[0;34m=\u001b[0m \u001b[0mX_csr\u001b[0m \u001b[0;32mif\u001b[0m \u001b[0mX_csr\u001b[0m \u001b[0;32mis\u001b[0m \u001b[0;32mnot\u001b[0m \u001b[0;32mNone\u001b[0m \u001b[0;32melse\u001b[0m \u001b[0mX\u001b[0m\u001b[0;34m\u001b[0m\u001b[0;34m\u001b[0m\u001b[0m\n\u001b[1;32m   1244\u001b[0m             tree.fit(X, residual, sample_weight=sample_weight,\n\u001b[0;32m-> 1245\u001b[0;31m                      check_input=False, X_idx_sorted=X_idx_sorted)\n\u001b[0m\u001b[1;32m   1246\u001b[0m \u001b[0;34m\u001b[0m\u001b[0m\n\u001b[1;32m   1247\u001b[0m             \u001b[0;31m# update tree leaves\u001b[0m\u001b[0;34m\u001b[0m\u001b[0;34m\u001b[0m\u001b[0;34m\u001b[0m\u001b[0m\n",
      "\u001b[0;32m/opt/conda/envs/fastai/lib/python3.7/site-packages/sklearn/tree/_classes.py\u001b[0m in \u001b[0;36mfit\u001b[0;34m(self, X, y, sample_weight, check_input, X_idx_sorted)\u001b[0m\n\u001b[1;32m   1223\u001b[0m             \u001b[0msample_weight\u001b[0m\u001b[0;34m=\u001b[0m\u001b[0msample_weight\u001b[0m\u001b[0;34m,\u001b[0m\u001b[0;34m\u001b[0m\u001b[0;34m\u001b[0m\u001b[0m\n\u001b[1;32m   1224\u001b[0m             \u001b[0mcheck_input\u001b[0m\u001b[0;34m=\u001b[0m\u001b[0mcheck_input\u001b[0m\u001b[0;34m,\u001b[0m\u001b[0;34m\u001b[0m\u001b[0;34m\u001b[0m\u001b[0m\n\u001b[0;32m-> 1225\u001b[0;31m             X_idx_sorted=X_idx_sorted)\n\u001b[0m\u001b[1;32m   1226\u001b[0m         \u001b[0;32mreturn\u001b[0m \u001b[0mself\u001b[0m\u001b[0;34m\u001b[0m\u001b[0;34m\u001b[0m\u001b[0m\n\u001b[1;32m   1227\u001b[0m \u001b[0;34m\u001b[0m\u001b[0m\n",
      "\u001b[0;32m/opt/conda/envs/fastai/lib/python3.7/site-packages/sklearn/tree/_classes.py\u001b[0m in \u001b[0;36mfit\u001b[0;34m(self, X, y, sample_weight, check_input, X_idx_sorted)\u001b[0m\n\u001b[1;32m    365\u001b[0m                                            min_impurity_split)\n\u001b[1;32m    366\u001b[0m \u001b[0;34m\u001b[0m\u001b[0m\n\u001b[0;32m--> 367\u001b[0;31m         \u001b[0mbuilder\u001b[0m\u001b[0;34m.\u001b[0m\u001b[0mbuild\u001b[0m\u001b[0;34m(\u001b[0m\u001b[0mself\u001b[0m\u001b[0;34m.\u001b[0m\u001b[0mtree_\u001b[0m\u001b[0;34m,\u001b[0m \u001b[0mX\u001b[0m\u001b[0;34m,\u001b[0m \u001b[0my\u001b[0m\u001b[0;34m,\u001b[0m \u001b[0msample_weight\u001b[0m\u001b[0;34m,\u001b[0m \u001b[0mX_idx_sorted\u001b[0m\u001b[0;34m)\u001b[0m\u001b[0;34m\u001b[0m\u001b[0;34m\u001b[0m\u001b[0m\n\u001b[0m\u001b[1;32m    368\u001b[0m \u001b[0;34m\u001b[0m\u001b[0m\n\u001b[1;32m    369\u001b[0m         \u001b[0;32mif\u001b[0m \u001b[0mself\u001b[0m\u001b[0;34m.\u001b[0m\u001b[0mn_outputs_\u001b[0m \u001b[0;34m==\u001b[0m \u001b[0;36m1\u001b[0m \u001b[0;32mand\u001b[0m \u001b[0mis_classifier\u001b[0m\u001b[0;34m(\u001b[0m\u001b[0mself\u001b[0m\u001b[0;34m)\u001b[0m\u001b[0;34m:\u001b[0m\u001b[0;34m\u001b[0m\u001b[0;34m\u001b[0m\u001b[0m\n",
      "\u001b[0;31mKeyboardInterrupt\u001b[0m: "
     ]
    }
   ],
   "source": [
    "#gb\n",
    "\n",
    "train_acc_cv5=[]\n",
    "test_acc_cv5=[]\n",
    "train_acc_tf5=[]\n",
    "test_acc_tf5=[]\n",
    "\n",
    "r=[100,150,200,500,750,1000,1500,2000]\n",
    "\n",
    "for i in r:\n",
    "    \n",
    "    print(\"no of features=\",i)\n",
    "    X_train1, X_test1, y_train1, y_test1=train_test_split(h1[0], final_df['label'], test_size=0.25, random_state=0)\n",
    "\n",
    "    X_train2, X_test2, y_train2, y_test2=train_test_split(h2[0], final_df['label'], test_size=0.25, random_state=0)\n",
    "\n",
    "    \n",
    "    [a1,b1]=grad_bo(X_train1,y_train1,X_test1,y_test1,i)\n",
    "    [a2,b2]=grad_bo(X_train2,y_train2,X_test2,y_test2,i)\n",
    "    \n",
    "    train_acc_cv5.append(a1)\n",
    "    test_acc_cv5.append(b1)\n",
    "    train_acc_tf5.append(a2)\n",
    "    test_acc_tf5.append(b2)"
   ]
  },
  {
   "cell_type": "code",
   "execution_count": 57,
   "metadata": {},
   "outputs": [
    {
     "data": {
      "text/plain": [
       "Text(0, 0.5, 'accuracy %')"
      ]
     },
     "execution_count": 57,
     "metadata": {},
     "output_type": "execute_result"
    },
    {
     "data": {
      "image/png": "[encoded data removed]",
      "text/plain": [
       "<Figure size 576x360 with 1 Axes>"
      ]
     },
     "metadata": {
      "needs_background": "light"
     },
     "output_type": "display_data"
    }
   ],
   "source": [
    "plt.figure(figsize=(8,5))\n",
    "r=[100,150,200,500,750]\n",
    "sns.lineplot(r,train_acc_cv5,palette='dark',label=\"training data for bag-of-words\")\n",
    "sns.lineplot(r,test_acc_cv5,palette='dark',label=\"test data for bag-of-words\")\n",
    "sns.lineplot(r,train_acc_tf5, palette='dark',label=\"training data for tfidf\")\n",
    "sns.lineplot(r,test_acc_tf5, palette='dark',label=\"test data for tfidf\")\n",
    "\n",
    "#plt.legend(loc=\"upper left\",prop={\"size\":8})\n",
    "plt.legend(bbox_to_anchor=(0.5,-0.2), loc='center', borderaxespad=0.,ncol=2, mode=\"expand\")\n",
    "\n",
    "#plt.title(\"line chart of e\")\n",
    "plt.xlabel(\"# of trees\")\n",
    "plt.ylabel(\"accuracy %\")"
   ]
  },
  {
   "cell_type": "code",
   "execution_count": 58,
   "metadata": {},
   "outputs": [
    {
     "name": "stdout",
     "output_type": "stream",
     "text": [
      "[67.28735424387598, 68.80392097783403, 69.78316108750892, 73.37370815631685, 75.09014030753161]\n",
      "[66.36938836999096, 67.70412774932208, 68.53871648086773, 71.15094908104851, 72.08496535100934]\n",
      "[67.57058061405887, 69.23177357959966, 70.38275733927908, 74.41923528880051, 76.51731999558086]\n",
      "[66.74600783368484, 67.99939740885809, 68.90027116601387, 71.46128351913227, 72.55197348598975]\n"
     ]
    }
   ],
   "source": [
    "print(train_acc_cv5)\n",
    "print(test_acc_cv5)\n",
    "print(train_acc_tf5)\n",
    "print(test_acc_tf5)"
   ]
  },
  {
   "cell_type": "code",
   "execution_count": 60,
   "metadata": {},
   "outputs": [
    {
     "name": "stdout",
     "output_type": "stream",
     "text": [
      "70.86765695461348\n",
      "69.16962940644773\n",
      "71.62433336346379\n",
      "69.53178668273576\n"
     ]
    }
   ],
   "source": [
    "from statistics import mean\n",
    "print(mean(train_acc_cv5))\n",
    "print(mean(test_acc_cv5))\n",
    "print(mean(train_acc_tf5))\n",
    "print(mean(test_acc_tf5))"
   ]
  },
  {
   "cell_type": "code",
   "execution_count": 29,
   "metadata": {},
   "outputs": [
    {
     "data": {
      "text/plain": [
       "LogisticRegression(C=1.0, class_weight='balanced', dual=False,\n",
       "                   fit_intercept=True, intercept_scaling=1, l1_ratio=None,\n",
       "                   max_iter=1000, multi_class='auto', n_jobs=None, penalty='l2',\n",
       "                   random_state=0, solver='lbfgs', tol=0.0001, verbose=0,\n",
       "                   warm_start=False)"
      ]
     },
     "execution_count": 29,
     "metadata": {},
     "output_type": "execute_result"
    }
   ],
   "source": [
    "X_train1, X_test1, y_train1, y_test1=train_test_split(h1[4], final_df['label'], test_size=0.25, random_state=0)\n",
    "X_train2, X_test2, y_train2, y_test2=train_test_split(h2[4], final_df['label'], test_size=0.25, random_state=0)\n",
    "\n",
    "lr1=LogisticRegression(random_state=0,solver='lbfgs',max_iter=1000,multi_class='auto',class_weight='balanced')\n",
    "lr1.fit(X_train1,y_train1)\n",
    "#lr2=LogisticRegression(random_state=0,solver='lbfgs',max_iter=1000,multi_class='auto',class_weight='balanced')\n",
    "#lr2.fit(x_train2,y_train2)"
   ]
  },
  {
   "cell_type": "code",
   "execution_count": 30,
   "metadata": {},
   "outputs": [
    {
     "data": {
      "text/plain": [
       "array([ 0.29175174,  0.42571184, -0.36055069, ..., -0.8999434 ,\n",
       "        0.19323613, -0.17448991])"
      ]
     },
     "execution_count": 30,
     "metadata": {},
     "output_type": "execute_result"
    }
   ],
   "source": [
    "lr1.coef_[0]"
   ]
  },
  {
   "cell_type": "code",
   "execution_count": 35,
   "metadata": {},
   "outputs": [],
   "source": [
    "coefs=lr1.coef_[0]\n",
    "top_3=np.argpartition(coefs, -3)[-3:]\n",
    "top_31=top_3[np.argsort(coefs[top_3])]"
   ]
  },
  {
   "cell_type": "code",
   "execution_count": 47,
   "metadata": {},
   "outputs": [],
   "source": [
    "vect=CountVectorizer(analyzer='word',tokenizer=None,preprocessor=None, stop_words=None,min_df=2, ngram_range=(1,2),max_features=30000)\n",
    "df_features1=vect.fit_transform(final_df['review_clean'])"
   ]
  },
  {
   "cell_type": "code",
   "execution_count": 50,
   "metadata": {},
   "outputs": [
    {
     "data": {
      "text/plain": [
       "['aa',\n",
       " 'ab',\n",
       " 'abat',\n",
       " 'abdomen',\n",
       " 'abdomen pain',\n",
       " 'abdomin',\n",
       " 'abdomin area',\n",
       " 'abdomin cramp',\n",
       " 'abdomin discomfort',\n",
       " 'abdomin pain',\n",
       " 'abil',\n",
       " 'abil focus',\n",
       " 'abil function',\n",
       " 'abilifi',\n",
       " 'abilifi mg',\n",
       " 'abilifi month',\n",
       " 'abilifi work',\n",
       " 'abilifi year',\n",
       " 'abl',\n",
       " 'abl breath',\n",
       " 'abl complet',\n",
       " 'abl concentr',\n",
       " 'abl continu',\n",
       " 'abl control',\n",
       " 'abl cope',\n",
       " 'abl deal',\n",
       " 'abl drink',\n",
       " 'abl drive',\n",
       " 'abl eat',\n",
       " 'abl enjoy',\n",
       " 'abl fall',\n",
       " 'abl feel',\n",
       " 'abl find',\n",
       " 'abl focus',\n",
       " 'abl function',\n",
       " 'abl get',\n",
       " 'abl go',\n",
       " 'abl handl',\n",
       " 'abl help',\n",
       " 'abl hold',\n",
       " 'abl keep',\n",
       " 'abl leav',\n",
       " 'abl live',\n",
       " 'abl lose',\n",
       " 'abl maintain',\n",
       " 'abl make',\n",
       " 'abl manag',\n",
       " 'abl move',\n",
       " 'abl quit',\n",
       " 'abl say',\n",
       " 'abl see',\n",
       " 'abl sex',\n",
       " 'abl sit',\n",
       " 'abl sleep',\n",
       " 'abl stand',\n",
       " 'abl stay',\n",
       " 'abl stop',\n",
       " 'abl take',\n",
       " 'abl talk',\n",
       " 'abl thing',\n",
       " 'abl think',\n",
       " 'abl toler',\n",
       " 'abl use',\n",
       " 'abl walk',\n",
       " 'abl wear',\n",
       " 'abl work',\n",
       " 'ablat',\n",
       " 'abnorm',\n",
       " 'abnorm bleed',\n",
       " 'abnorm period',\n",
       " 'abort',\n",
       " 'abreva',\n",
       " 'abroad',\n",
       " 'abrupt',\n",
       " 'abscess',\n",
       " 'absenc',\n",
       " 'absent',\n",
       " 'absolut',\n",
       " 'absolut amaz',\n",
       " 'absolut aw',\n",
       " 'absolut best',\n",
       " 'absolut fine',\n",
       " 'absolut hate',\n",
       " 'absolut hell',\n",
       " 'absolut horribl',\n",
       " 'absolut love',\n",
       " 'absolut miracl',\n",
       " 'absolut miser',\n",
       " 'absolut nightmar',\n",
       " 'absolut no',\n",
       " 'absolut not',\n",
       " 'absolut noth',\n",
       " 'absolut terribl',\n",
       " 'absolut wonder',\n",
       " 'absolut worst',\n",
       " 'absolut zero',\n",
       " 'absorb',\n",
       " 'absorpt',\n",
       " 'abstin',\n",
       " 'absurd',\n",
       " 'abt',\n",
       " 'abus',\n",
       " 'ac',\n",
       " 'academ',\n",
       " 'acanya',\n",
       " 'accept',\n",
       " 'access',\n",
       " 'accid',\n",
       " 'accid year',\n",
       " 'accident',\n",
       " 'acclim',\n",
       " 'accompani',\n",
       " 'accomplish',\n",
       " 'accord',\n",
       " 'accord doctor',\n",
       " 'account',\n",
       " 'accumul',\n",
       " 'accur',\n",
       " 'accus',\n",
       " 'accustom',\n",
       " 'accutan',\n",
       " 'accutan month',\n",
       " 'accutan work',\n",
       " 'accutan year',\n",
       " 'ace',\n",
       " 'ace inhibitor',\n",
       " 'acetaminophen',\n",
       " 'ach',\n",
       " 'ach bad',\n",
       " 'ach cramp',\n",
       " 'ach fatigu',\n",
       " 'ach feel',\n",
       " 'ach headach',\n",
       " 'ach joint',\n",
       " 'ach like',\n",
       " 'ach muscl',\n",
       " 'ach nausea',\n",
       " 'ach no',\n",
       " 'ach pain',\n",
       " 'achey',\n",
       " 'achi',\n",
       " 'achiev',\n",
       " 'achiev orgasm',\n",
       " 'achill',\n",
       " 'achill tendon',\n",
       " 'acid',\n",
       " 'acid reflux',\n",
       " 'acidophilus',\n",
       " 'aciphex',\n",
       " 'acknowledg',\n",
       " 'acn',\n",
       " 'acn acn',\n",
       " 'acn actual',\n",
       " 'acn almost',\n",
       " 'acn along',\n",
       " 'acn also',\n",
       " 'acn although',\n",
       " 'acn alway',\n",
       " 'acn anyth',\n",
       " 'acn around',\n",
       " 'acn back',\n",
       " 'acn bad',\n",
       " 'acn better',\n",
       " 'acn birth',\n",
       " 'acn break',\n",
       " 'acn breakout',\n",
       " 'acn breast',\n",
       " 'acn came',\n",
       " 'acn caus',\n",
       " 'acn cheek',\n",
       " 'acn chest',\n",
       " 'acn chin',\n",
       " 'acn clear',\n",
       " 'acn come',\n",
       " 'acn complet',\n",
       " 'acn control',\n",
       " 'acn cramp',\n",
       " 'acn cream',\n",
       " 'acn day',\n",
       " 'acn depress',\n",
       " 'acn disappear',\n",
       " 'acn doctor',\n",
       " 'acn even',\n",
       " 'acn ever',\n",
       " 'acn everywher',\n",
       " 'acn face',\n",
       " 'acn feel',\n",
       " 'acn first',\n",
       " 'acn flare',\n",
       " 'acn forehead',\n",
       " 'acn free',\n",
       " 'acn gain',\n",
       " 'acn get',\n",
       " 'acn go',\n",
       " 'acn gone',\n",
       " 'acn got',\n",
       " 'acn gotten',\n",
       " 'acn hair',\n",
       " 'acn headach',\n",
       " 'acn help',\n",
       " 'acn hormon',\n",
       " 'acn horribl',\n",
       " 'acn howev',\n",
       " 'acn improv',\n",
       " 'acn increas',\n",
       " 'acn issu',\n",
       " 'acn last',\n",
       " 'acn life',\n",
       " 'acn like',\n",
       " 'acn littl',\n",
       " 'acn long',\n",
       " 'acn lot',\n",
       " 'acn made',\n",
       " 'acn medic',\n",
       " 'acn mild',\n",
       " 'acn moder',\n",
       " 'acn month',\n",
       " 'acn mood',\n",
       " 'acn much',\n",
       " 'acn never',\n",
       " 'acn no',\n",
       " 'acn not',\n",
       " 'acn noth',\n",
       " 'acn oili',\n",
       " 'acn pain',\n",
       " 'acn past',\n",
       " 'acn period',\n",
       " 'acn pill',\n",
       " 'acn pretti',\n",
       " 'acn problem',\n",
       " 'acn prone',\n",
       " 'acn realli',\n",
       " 'acn regul',\n",
       " 'acn return',\n",
       " 'acn scar',\n",
       " 'acn seem',\n",
       " 'acn sever',\n",
       " 'acn side',\n",
       " 'acn sinc',\n",
       " 'acn skin',\n",
       " 'acn spot',\n",
       " 'acn start',\n",
       " 'acn still',\n",
       " 'acn stop',\n",
       " 'acn take',\n",
       " 'acn teenag',\n",
       " 'acn terribl',\n",
       " 'acn think',\n",
       " 'acn though',\n",
       " 'acn time',\n",
       " 'acn took',\n",
       " 'acn treatment',\n",
       " 'acn tri',\n",
       " 'acn use',\n",
       " 'acn usual',\n",
       " 'acn week',\n",
       " 'acn weight',\n",
       " 'acn well',\n",
       " 'acn went',\n",
       " 'acn within',\n",
       " 'acn work',\n",
       " 'acn wors',\n",
       " 'acn worst',\n",
       " 'acn would',\n",
       " 'acn year',\n",
       " 'acquir',\n",
       " 'across',\n",
       " 'act',\n",
       " 'act like',\n",
       " 'actavi',\n",
       " 'actemra',\n",
       " 'action',\n",
       " 'actiq',\n",
       " 'activ',\n",
       " 'activ day',\n",
       " 'activ ingredi',\n",
       " 'activ level',\n",
       " 'activ life',\n",
       " 'activ lifestyl',\n",
       " 'activ no',\n",
       " 'activ not',\n",
       " 'activ person',\n",
       " 'activ pill',\n",
       " 'activ year',\n",
       " 'acto',\n",
       " 'actual',\n",
       " 'actual abl',\n",
       " 'actual caus',\n",
       " 'actual clear',\n",
       " 'actual enjoy',\n",
       " 'actual feel',\n",
       " 'actual felt',\n",
       " 'actual function',\n",
       " 'actual gain',\n",
       " 'actual get',\n",
       " 'actual go',\n",
       " 'actual got',\n",
       " 'actual gotten',\n",
       " 'actual help',\n",
       " 'actual increas',\n",
       " 'actual insert',\n",
       " 'actual like',\n",
       " 'actual look',\n",
       " 'actual lost',\n",
       " 'actual made',\n",
       " 'actual make',\n",
       " 'actual not',\n",
       " 'actual period',\n",
       " 'actual seem',\n",
       " 'actual sleep',\n",
       " 'actual start',\n",
       " 'actual stop',\n",
       " 'actual take',\n",
       " 'actual think',\n",
       " 'actual thought',\n",
       " 'actual use',\n",
       " 'actual want',\n",
       " 'actual went',\n",
       " 'actual work',\n",
       " 'acupunctur',\n",
       " 'acut',\n",
       " 'acyclovir',\n",
       " 'aczon',\n",
       " 'ad',\n",
       " 'ad benefit',\n",
       " 'ad bonus',\n",
       " 'ad mg',\n",
       " 'adapalen',\n",
       " 'adapt',\n",
       " 'add',\n",
       " 'add adhd',\n",
       " 'adder',\n",
       " 'adderal',\n",
       " 'adderal help',\n",
       " 'adderal mg',\n",
       " 'adderal xr',\n",
       " 'adderal year',\n",
       " 'addict',\n",
       " 'addict drug',\n",
       " 'addict medic',\n",
       " 'addict opiat',\n",
       " 'addict pain',\n",
       " 'addict person',\n",
       " 'addict take',\n",
       " 'addict year',\n",
       " 'addit',\n",
       " 'addit mg',\n",
       " 'address',\n",
       " 'adequ',\n",
       " 'adhd',\n",
       " 'adhd med',\n",
       " 'adhd medic',\n",
       " 'adhd medicin',\n",
       " 'adhd symptom',\n",
       " 'adhd year',\n",
       " 'adher',\n",
       " 'adhes',\n",
       " 'adipex',\n",
       " 'adjunct',\n",
       " 'adjust',\n",
       " 'adjust dosag',\n",
       " 'adjust dose',\n",
       " 'adjust hormon',\n",
       " 'adjust medic',\n",
       " 'adjust medicin',\n",
       " 'adjust new',\n",
       " 'adjust period',\n",
       " 'adjust pill',\n",
       " 'administ',\n",
       " 'administr',\n",
       " 'admit',\n",
       " 'admit hospit',\n",
       " 'adolesc',\n",
       " 'adren',\n",
       " 'adrenalin',\n",
       " 'adult',\n",
       " 'adult acn',\n",
       " 'adult add',\n",
       " 'adult adhd',\n",
       " 'adult life',\n",
       " 'advair',\n",
       " 'advanc',\n",
       " 'advantag',\n",
       " 'advers',\n",
       " 'advers effect',\n",
       " 'advers reaction',\n",
       " 'advers side',\n",
       " 'advertis',\n",
       " 'advic',\n",
       " 'advic anyon',\n",
       " 'advic give',\n",
       " 'advic not',\n",
       " 'advic take',\n",
       " 'advic tri',\n",
       " 'advic would',\n",
       " 'advil',\n",
       " 'advis',\n",
       " 'advis anyon',\n",
       " 'advis doctor',\n",
       " 'advis not',\n",
       " 'advis stop',\n",
       " 'advis take',\n",
       " 'advis tri',\n",
       " 'advoc',\n",
       " 'aerob',\n",
       " 'af',\n",
       " 'affect',\n",
       " 'affect abil',\n",
       " 'affect also',\n",
       " 'affect area',\n",
       " 'affect everi',\n",
       " 'affect everyon',\n",
       " 'affect life',\n",
       " 'affect like',\n",
       " 'affect medic',\n",
       " 'affect mood',\n",
       " 'affect much',\n",
       " 'affect no',\n",
       " 'affect not',\n",
       " 'affect peopl',\n",
       " 'affect qualiti',\n",
       " 'affect relationship',\n",
       " 'affect sex',\n",
       " 'affect sleep',\n",
       " 'affect way',\n",
       " 'affect weight',\n",
       " 'affect work',\n",
       " 'afford',\n",
       " 'afib',\n",
       " 'afraid',\n",
       " 'afraid get',\n",
       " 'afraid go',\n",
       " 'afraid side',\n",
       " 'afraid take',\n",
       " 'afraid tri',\n",
       " 'afraid would',\n",
       " 'afrezza',\n",
       " 'afrin',\n",
       " 'aftera',\n",
       " 'afternoon',\n",
       " 'afternoon even',\n",
       " 'aftertast',\n",
       " 'afterward',\n",
       " 'age',\n",
       " 'age first',\n",
       " 'age got',\n",
       " 'age never',\n",
       " 'age not',\n",
       " 'age start',\n",
       " 'age take',\n",
       " 'age tri',\n",
       " 'age year',\n",
       " 'agent',\n",
       " 'aggrav',\n",
       " 'aggress',\n",
       " 'agit',\n",
       " 'ago',\n",
       " 'ago absolut',\n",
       " 'ago acn',\n",
       " 'ago age',\n",
       " 'ago along',\n",
       " 'ago alreadi',\n",
       " 'ago also',\n",
       " 'ago alway',\n",
       " 'ago anxieti',\n",
       " 'ago back',\n",
       " 'ago bad',\n",
       " 'ago began',\n",
       " 'ago bleed',\n",
       " 'ago blood',\n",
       " 'ago chang',\n",
       " 'ago could',\n",
       " 'ago day',\n",
       " 'ago decid',\n",
       " 'ago depress',\n",
       " 'ago develop',\n",
       " 'ago diagnos',\n",
       " 'ago doctor',\n",
       " 'ago dr',\n",
       " 'ago due',\n",
       " 'ago everyth',\n",
       " 'ago experienc',\n",
       " 'ago extrem',\n",
       " 'ago far',\n",
       " 'ago feel',\n",
       " 'ago felt',\n",
       " 'ago final',\n",
       " 'ago first',\n",
       " 'ago found',\n",
       " 'ago gain',\n",
       " 'ago get',\n",
       " 'ago given',\n",
       " 'ago go',\n",
       " 'ago good',\n",
       " 'ago got',\n",
       " 'ago help',\n",
       " 'ago honest',\n",
       " 'ago hope',\n",
       " 'ago horribl',\n",
       " 'ago insert',\n",
       " 'ago insur',\n",
       " 'ago know',\n",
       " 'ago last',\n",
       " 'ago lbs',\n",
       " 'ago life',\n",
       " 'ago like',\n",
       " 'ago lost',\n",
       " 'ago love',\n",
       " 'ago made',\n",
       " 'ago mg',\n",
       " 'ago mild',\n",
       " 'ago month',\n",
       " 'ago never',\n",
       " 'ago no',\n",
       " 'ago not',\n",
       " 'ago notic',\n",
       " 'ago pain',\n",
       " 'ago period',\n",
       " 'ago pill',\n",
       " 'ago prescrib',\n",
       " 'ago put',\n",
       " 'ago quit',\n",
       " 'ago read',\n",
       " 'ago realli',\n",
       " 'ago recent',\n",
       " 'ago rememb',\n",
       " 'ago say',\n",
       " 'ago second',\n",
       " 'ago seem',\n",
       " 'ago sever',\n",
       " 'ago side',\n",
       " 'ago sinc',\n",
       " 'ago skin',\n",
       " 'ago start',\n",
       " 'ago still',\n",
       " 'ago stop',\n",
       " 'ago suffer',\n",
       " 'ago switch',\n",
       " 'ago symptom',\n",
       " 'ago take',\n",
       " 'ago taken',\n",
       " 'ago think',\n",
       " 'ago thought',\n",
       " 'ago time',\n",
       " 'ago today',\n",
       " 'ago told',\n",
       " 'ago took',\n",
       " 'ago treat',\n",
       " 'ago tri',\n",
       " 'ago two',\n",
       " 'ago use',\n",
       " 'ago want',\n",
       " 'ago week',\n",
       " 'ago went',\n",
       " 'ago within',\n",
       " 'ago woke',\n",
       " 'ago work',\n",
       " 'ago worst',\n",
       " 'ago would',\n",
       " 'ago year',\n",
       " 'agon',\n",
       " 'agon pain',\n",
       " 'agoni',\n",
       " 'agoraphob',\n",
       " 'agoraphobia',\n",
       " 'agre',\n",
       " 'agre take',\n",
       " 'agre tri',\n",
       " 'ahead',\n",
       " 'ahead time',\n",
       " 'aid',\n",
       " 'ailment',\n",
       " 'aim',\n",
       " 'air',\n",
       " 'airway',\n",
       " 'aka',\n",
       " 'akathesia',\n",
       " 'akathisia',\n",
       " 'ala',\n",
       " 'alarm',\n",
       " 'albeit',\n",
       " 'albuterol',\n",
       " 'albuterol inhal',\n",
       " 'alcohol',\n",
       " 'alcohol withdraw',\n",
       " 'alcohol year',\n",
       " 'aldara',\n",
       " 'ale',\n",
       " 'alert',\n",
       " 'aless',\n",
       " 'aless month',\n",
       " 'alev',\n",
       " 'aliv',\n",
       " 'allegra',\n",
       " 'allerg',\n",
       " 'allerg medic',\n",
       " 'allerg penicillin',\n",
       " 'allerg reaction',\n",
       " 'allerg rhiniti',\n",
       " 'allerg sulfa',\n",
       " 'allergen',\n",
       " 'allergi',\n",
       " 'allergi med',\n",
       " 'allergi medic',\n",
       " 'allergi medicin',\n",
       " 'allergi season',\n",
       " 'allergi symptom',\n",
       " 'allergist',\n",
       " 'allevi',\n",
       " 'allevi pain',\n",
       " 'allevi symptom',\n",
       " 'alli',\n",
       " 'allopurinol',\n",
       " 'allot',\n",
       " 'allow',\n",
       " 'allow function',\n",
       " 'allow get',\n",
       " 'allow live',\n",
       " 'allow sleep',\n",
       " 'allow take',\n",
       " 'almost',\n",
       " 'almost alway',\n",
       " 'almost back',\n",
       " 'almost bad',\n",
       " 'almost clear',\n",
       " 'almost complet',\n",
       " 'almost constant',\n",
       " 'almost cost',\n",
       " 'almost cri',\n",
       " 'almost daili',\n",
       " 'almost day',\n",
       " 'almost die',\n",
       " 'almost disappear',\n",
       " 'almost done',\n",
       " 'almost end',\n",
       " 'almost entir',\n",
       " 'almost everi',\n",
       " 'almost everyday',\n",
       " 'almost everyth',\n",
       " 'almost exact',\n",
       " 'almost faint',\n",
       " 'almost feel',\n",
       " 'almost felt',\n",
       " 'almost finish',\n",
       " 'almost four',\n",
       " 'almost full',\n",
       " 'almost gave',\n",
       " 'almost gone',\n",
       " 'almost got',\n",
       " 'almost hour',\n",
       " 'almost immedi',\n",
       " 'almost imposs',\n",
       " 'almost instant',\n",
       " 'almost kill',\n",
       " 'almost lbs',\n",
       " 'almost like',\n",
       " 'almost lost',\n",
       " 'almost made',\n",
       " 'almost month',\n",
       " 'almost never',\n",
       " 'almost no',\n",
       " 'almost non',\n",
       " 'almost nonexist',\n",
       " 'almost normal',\n",
       " 'almost not',\n",
       " 'almost noth',\n",
       " 'almost pain',\n",
       " 'almost pass',\n",
       " 'almost perfect',\n",
       " 'almost point',\n",
       " 'almost pound',\n",
       " 'almost ruin',\n",
       " 'almost side',\n",
       " 'almost stop',\n",
       " 'almost three',\n",
       " 'almost threw',\n",
       " 'almost time',\n",
       " 'almost total',\n",
       " 'almost two',\n",
       " 'almost unbear',\n",
       " 'almost vomit',\n",
       " 'almost week',\n",
       " 'almost went',\n",
       " 'almost whole',\n",
       " 'almost year',\n",
       " 'almost yrs',\n",
       " 'almost zero',\n",
       " 'alo',\n",
       " 'alon',\n",
       " 'alon not',\n",
       " 'along',\n",
       " 'along depress',\n",
       " 'along jaw',\n",
       " 'along jawlin',\n",
       " 'along medic',\n",
       " 'along mg',\n",
       " 'along pain',\n",
       " 'along side',\n",
       " 'along take',\n",
       " 'alongsid',\n",
       " 'alopecia',\n",
       " 'alot',\n",
       " 'alot better',\n",
       " 'alot weight',\n",
       " 'alprazolam',\n",
       " 'alreadi',\n",
       " 'alreadi anxieti',\n",
       " 'alreadi bad',\n",
       " 'alreadi clear',\n",
       " 'alreadi depress',\n",
       " 'alreadi experienc',\n",
       " 'alreadi feel',\n",
       " 'alreadi felt',\n",
       " 'alreadi gain',\n",
       " 'alreadi know',\n",
       " 'alreadi lost',\n",
       " 'alreadi not',\n",
       " 'alreadi notic',\n",
       " 'alreadi see',\n",
       " 'alreadi seen',\n",
       " 'alreadi start',\n",
       " 'alreadi suffer',\n",
       " 'alreadi take',\n",
       " 'alreadi tell',\n",
       " 'alreadi tri',\n",
       " 'alright',\n",
       " 'also',\n",
       " 'also abl',\n",
       " 'also acn',\n",
       " 'also ad',\n",
       " 'also affect',\n",
       " 'also almost',\n",
       " 'also anxieti',\n",
       " 'also back',\n",
       " 'also bad',\n",
       " 'also becam',\n",
       " 'also becom',\n",
       " 'also began',\n",
       " 'also bleed',\n",
       " 'also bloat',\n",
       " 'also break',\n",
       " 'also breast',\n",
       " 'also broke',\n",
       " 'also caus',\n",
       " 'also chang',\n",
       " 'also clear',\n",
       " 'also come',\n",
       " 'also complet',\n",
       " 'also constant',\n",
       " 'also constip',\n",
       " 'also could',\n",
       " 'also cramp',\n",
       " 'also day',\n",
       " 'also decreas',\n",
       " 'also depress',\n",
       " 'also develop',\n",
       " 'also diagnos',\n",
       " 'also dizzi',\n",
       " 'also dri',\n",
       " 'also drink',\n",
       " 'also eat',\n",
       " 'also effect',\n",
       " 'also expens',\n",
       " 'also experi',\n",
       " 'also experienc',\n",
       " 'also extrem',\n",
       " 'also feel',\n",
       " 'also felt',\n",
       " 'also find',\n",
       " 'also first',\n",
       " 'also found',\n",
       " 'also gain',\n",
       " 'also gave',\n",
       " 'also get',\n",
       " 'also give',\n",
       " 'also given',\n",
       " 'also go',\n",
       " 'also gone',\n",
       " 'also good',\n",
       " 'also got',\n",
       " 'also gotten',\n",
       " 'also great',\n",
       " 'also hair',\n",
       " 'also hard',\n",
       " 'also headach',\n",
       " 'also help',\n",
       " 'also high',\n",
       " 'also horribl',\n",
       " 'also improv',\n",
       " 'also increas',\n",
       " 'also issu',\n",
       " 'also keep',\n",
       " 'also know',\n",
       " 'also last',\n",
       " 'also left',\n",
       " 'also less',\n",
       " 'also light',\n",
       " 'also like',\n",
       " 'also littl',\n",
       " 'also lost',\n",
       " 'also lot',\n",
       " 'also love',\n",
       " 'also low',\n",
       " 'also lower',\n",
       " 'also made',\n",
       " 'also major',\n",
       " 'also make',\n",
       " 'also mani',\n",
       " 'also medic',\n",
       " 'also medicin',\n",
       " 'also mention',\n",
       " 'also mg',\n",
       " 'also mild',\n",
       " 'also month',\n",
       " 'also mood',\n",
       " 'also moodi',\n",
       " 'also much',\n",
       " 'also nausea',\n",
       " 'also nauseous',\n",
       " 'also need',\n",
       " 'also never',\n",
       " 'also no',\n",
       " 'also not',\n",
       " 'also notic',\n",
       " 'also pain',\n",
       " 'also period',\n",
       " 'also pill',\n",
       " 'also prescrib',\n",
       " 'also pretti',\n",
       " 'also problem',\n",
       " 'also put',\n",
       " 'also quit',\n",
       " 'also random',\n",
       " 'also read',\n",
       " 'also realli',\n",
       " 'also recent',\n",
       " 'also recommend',\n",
       " 'also reduc',\n",
       " 'also said',\n",
       " 'also say',\n",
       " 'also seem',\n",
       " 'also sever',\n",
       " 'also sex',\n",
       " 'also side',\n",
       " 'also sinc',\n",
       " 'also skin',\n",
       " 'also sleep',\n",
       " 'also slight',\n",
       " 'also sometim',\n",
       " 'also spot',\n",
       " 'also start',\n",
       " 'also still',\n",
       " 'also stomach',\n",
       " 'also stop',\n",
       " 'also suffer',\n",
       " 'also take',\n",
       " 'also taken',\n",
       " 'also terribl',\n",
       " 'also think',\n",
       " 'also time',\n",
       " 'also tire',\n",
       " 'also told',\n",
       " 'also took',\n",
       " 'also tri',\n",
       " 'also troubl',\n",
       " 'also use',\n",
       " 'also wake',\n",
       " 'also want',\n",
       " 'also week',\n",
       " 'also weight',\n",
       " 'also went',\n",
       " 'also work',\n",
       " 'also would',\n",
       " 'also zero',\n",
       " 'alt',\n",
       " 'alter',\n",
       " 'altern',\n",
       " 'although',\n",
       " 'although feel',\n",
       " 'although get',\n",
       " 'although help',\n",
       " 'although make',\n",
       " 'although medic',\n",
       " 'although never',\n",
       " 'although no',\n",
       " 'although not',\n",
       " 'although period',\n",
       " 'although realli',\n",
       " 'although seem',\n",
       " 'although side',\n",
       " 'although still',\n",
       " 'although take',\n",
       " 'although work',\n",
       " 'altogeth',\n",
       " 'alway',\n",
       " 'alway abl',\n",
       " 'alway acn',\n",
       " 'alway activ',\n",
       " 'alway angri',\n",
       " 'alway anxieti',\n",
       " 'alway anxious',\n",
       " 'alway bad',\n",
       " 'alway bleed',\n",
       " 'alway bloat',\n",
       " 'alway clear',\n",
       " 'alway come',\n",
       " 'alway day',\n",
       " 'alway depress',\n",
       " 'alway extrem',\n",
       " 'alway feel',\n",
       " 'alway felt',\n",
       " 'alway get',\n",
       " 'alway go',\n",
       " 'alway good',\n",
       " 'alway got',\n",
       " 'alway great',\n",
       " 'alway happi',\n",
       " 'alway heavi',\n",
       " 'alway help',\n",
       " 'alway high',\n",
       " 'alway hungri',\n",
       " 'alway hurt',\n",
       " 'alway irregular',\n",
       " 'alway issu',\n",
       " 'alway keep',\n",
       " 'alway light',\n",
       " 'alway made',\n",
       " 'alway make',\n",
       " 'alway moodi',\n",
       " 'alway nauseous',\n",
       " 'alway need',\n",
       " 'alway normal',\n",
       " 'alway pain',\n",
       " 'alway period',\n",
       " 'alway pretti',\n",
       " 'alway problem',\n",
       " 'alway realli',\n",
       " 'alway regular',\n",
       " 'alway seem',\n",
       " 'alway sore',\n",
       " 'alway spot',\n",
       " 'alway start',\n",
       " 'alway struggl',\n",
       " 'alway suffer',\n",
       " 'alway take',\n",
       " 'alway taken',\n",
       " 'alway think',\n",
       " 'alway thirsti',\n",
       " 'alway thought',\n",
       " 'alway time',\n",
       " 'alway tire',\n",
       " 'alway told',\n",
       " 'alway tri',\n",
       " 'alway troubl',\n",
       " 'alway use',\n",
       " 'alway want',\n",
       " 'alway wear',\n",
       " 'alway work',\n",
       " 'alway worri',\n",
       " 'alzheim',\n",
       " 'amaz',\n",
       " 'amaz drug',\n",
       " 'amaz effect',\n",
       " 'amaz feel',\n",
       " 'amaz first',\n",
       " 'amaz medic',\n",
       " 'amaz medicin',\n",
       " 'amaz month',\n",
       " 'amaz much',\n",
       " 'amaz never',\n",
       " 'amaz no',\n",
       " 'amaz not',\n",
       " 'amaz product',\n",
       " 'amaz result',\n",
       " 'amaz side',\n",
       " 'amaz skin',\n",
       " 'amaz take',\n",
       " 'amaz thing',\n",
       " 'amaz use',\n",
       " 'amaz well',\n",
       " 'amaz work',\n",
       " 'amaz would',\n",
       " 'amaz year',\n",
       " 'ambien',\n",
       " 'ambien cr',\n",
       " 'ambien lunesta',\n",
       " 'ambien mg',\n",
       " 'ambien not',\n",
       " 'ambien sleep',\n",
       " 'ambien work',\n",
       " 'ambien year',\n",
       " 'ambul',\n",
       " 'amd',\n",
       " 'american',\n",
       " 'amitiza',\n",
       " 'amitriptylin',\n",
       " 'amitriptylin mg',\n",
       " 'amlodipin',\n",
       " 'amnesia',\n",
       " 'among',\n",
       " ...]"
      ]
     },
     "execution_count": 50,
     "metadata": {},
     "output_type": "execute_result"
    }
   ],
   "source": [
    "vect.get_feature_names()"
   ]
  },
  {
   "cell_type": "code",
   "execution_count": 52,
   "metadata": {},
   "outputs": [
    {
     "ename": "TypeError",
     "evalue": "'method' object is not subscriptable",
     "output_type": "error",
     "traceback": [
      "\u001b[0;31m---------------------------------------------------------------------------\u001b[0m",
      "\u001b[0;31mTypeError\u001b[0m                                 Traceback (most recent call last)",
      "\u001b[0;32m<ipython-input-52-47bcd471d231>\u001b[0m in \u001b[0;36m<module>\u001b[0;34m\u001b[0m\n\u001b[0;32m----> 1\u001b[0;31m \u001b[0mvect\u001b[0m\u001b[0;34m.\u001b[0m\u001b[0mget_feature_names\u001b[0m\u001b[0;34m[\u001b[0m\u001b[0mtop_31\u001b[0m\u001b[0;34m]\u001b[0m\u001b[0;34m\u001b[0m\u001b[0;34m\u001b[0m\u001b[0m\n\u001b[0m",
      "\u001b[0;31mTypeError\u001b[0m: 'method' object is not subscriptable"
     ]
    }
   ],
   "source": [
    "vect.get_feature_names[top_31]"
   ]
  },
  {
   "cell_type": "code",
   "execution_count": 62,
   "metadata": {},
   "outputs": [
    {
     "name": "stdout",
     "output_type": "stream",
     "text": [
      "[(1.9850892926745691, 'help thank'), (1.8990307014582792, 'much drug'), (1.848898444063551, 'day sick'), (1.7356433657645887, 'caus serious'), (1.7040491080304216, 'cramp everyday'), (1.701468972274204, 'emot state'), (1.6825657596862325, 'dose within'), (1.6786398773009845, 'eighteen'), (1.652030195516038, 'tri reduc'), (1.6435814794512165, 'middl pack')]\n",
      "[(-1.5743808878674448, 'worthless'), (-1.5964311724574638, 'bad review'), (-1.6348502210483558, 'anxious feel'), (-1.63773316103638, 'point get'), (-1.654328097010876, 'stop want'), (-1.6591172643656662, 'bloat weight'), (-1.7078330390211274, 'month littl'), (-1.7530366939230906, 'sinc month'), (-1.7698540450388256, 'blockag'), (-1.854849724835316, 'think like')]\n"
     ]
    }
   ],
   "source": [
    "CoefNames = list(zip(lr1.coef_[0], vect.get_feature_names()))\n",
    "CoefNames.sort(reverse=True)\n",
    "print(CoefNames[:10])\n",
    "print(CoefNames[-10:])"
   ]
  },
  {
   "cell_type": "code",
   "execution_count": 64,
   "metadata": {},
   "outputs": [
    {
     "data": {
      "text/plain": [
       "array([[ 0.29175174,  0.42571184, -0.36055069, ..., -0.8999434 ,\n",
       "         0.19323613, -0.17448991],\n",
       "       [-0.21716062,  0.16364198, -0.24852912, ...,  0.23087207,\n",
       "         0.03243212,  0.38883143],\n",
       "       [-0.07459112, -0.58935383,  0.60907981, ...,  0.66907132,\n",
       "        -0.22566825, -0.21434152]])"
      ]
     },
     "execution_count": 64,
     "metadata": {},
     "output_type": "execute_result"
    }
   ],
   "source": [
    "lr1.coef_"
   ]
  },
  {
   "cell_type": "code",
   "execution_count": 65,
   "metadata": {},
   "outputs": [
    {
     "ename": "AttributeError",
     "evalue": "'LogisticRegression' object has no attribute 'feature_importances_'",
     "output_type": "error",
     "traceback": [
      "\u001b[0;31m---------------------------------------------------------------------------\u001b[0m",
      "\u001b[0;31mAttributeError\u001b[0m                            Traceback (most recent call last)",
      "\u001b[0;32m<ipython-input-65-c5130f4b118b>\u001b[0m in \u001b[0;36m<module>\u001b[0;34m\u001b[0m\n\u001b[0;32m----> 1\u001b[0;31m \u001b[0mlr1\u001b[0m\u001b[0;34m.\u001b[0m\u001b[0mfeature_importances_\u001b[0m\u001b[0;34m\u001b[0m\u001b[0;34m\u001b[0m\u001b[0m\n\u001b[0m",
      "\u001b[0;31mAttributeError\u001b[0m: 'LogisticRegression' object has no attribute 'feature_importances_'"
     ]
    }
   ],
   "source": [
    "lr1.feature_importances_"
   ]
  },
  {
   "cell_type": "code",
   "execution_count": 66,
   "metadata": {},
   "outputs": [],
   "source": [
    "tf=TfidfVectorizer(analyzer='word',tokenizer=None,preprocessor=None, stop_words=None,min_df=2, ngram_range=(1,2),max_features=30000)\n",
    "df_features2=tf.fit_transform(final_df['review_clean'])"
   ]
  },
  {
   "cell_type": "code",
   "execution_count": 68,
   "metadata": {},
   "outputs": [
    {
     "data": {
      "text/plain": [
       "LogisticRegression(C=1.0, class_weight='balanced', dual=False,\n",
       "                   fit_intercept=True, intercept_scaling=1, l1_ratio=None,\n",
       "                   max_iter=1000, multi_class='auto', n_jobs=None, penalty='l2',\n",
       "                   random_state=0, solver='lbfgs', tol=0.0001, verbose=0,\n",
       "                   warm_start=False)"
      ]
     },
     "execution_count": 68,
     "metadata": {},
     "output_type": "execute_result"
    }
   ],
   "source": [
    "lr2=LogisticRegression(random_state=0,solver='lbfgs',max_iter=1000,multi_class='auto',class_weight='balanced')\n",
    "lr2.fit(X_train2,y_train2)"
   ]
  },
  {
   "cell_type": "code",
   "execution_count": 69,
   "metadata": {},
   "outputs": [
    {
     "name": "stdout",
     "output_type": "stream",
     "text": [
      "[(2.556174336250888, 'decid'), (1.5509705836518786, 'constant'), (1.37531524405665, 'crave'), (1.2790181005726338, 'drop'), (1.1935075913527535, 'panic attack'), (1.1398319224660116, 'twice'), (1.1035186133533452, 'review'), (1.0813837652958667, 'go back'), (1.0678020808004631, 'thing'), (0.9819409701859775, 'could')]\n",
      "[(-0.9463320096011908, 'posit'), (-0.9492481815876578, 'product'), (-0.9662220332950753, 'swing'), (-1.0051614172581658, 'dosag'), (-1.1145713808994484, 'pill'), (-1.1324096540817097, 'dizzi'), (-1.1943061160889716, 'no'), (-1.2110435269987068, 'gain'), (-1.4250207216961783, 'anxieti'), (-2.0209468455507973, 'realiz')]\n"
     ]
    }
   ],
   "source": [
    "CoefNames = list(zip(lr2.coef_[0], tf.get_feature_names()))\n",
    "CoefNames.sort(reverse=True)\n",
    "print(CoefNames[:10])\n",
    "print(CoefNames[-10:])"
   ]
  },
  {
   "cell_type": "code",
   "execution_count": 22,
   "metadata": {},
   "outputs": [],
   "source": [
    "#final_df=pd.read_csv('final_df.csv')"
   ]
  },
  {
   "cell_type": "code",
   "execution_count": 24,
   "metadata": {},
   "outputs": [
    {
     "data": {
      "text/html": [
       "<div>\n",
       "<style scoped>\n",
       "    .dataframe tbody tr th:only-of-type {\n",
       "        vertical-align: middle;\n",
       "    }\n",
       "\n",
       "    .dataframe tbody tr th {\n",
       "        vertical-align: top;\n",
       "    }\n",
       "\n",
       "    .dataframe thead th {\n",
       "        text-align: right;\n",
       "    }\n",
       "</style>\n",
       "<table border=\"1\" class=\"dataframe\">\n",
       "  <thead>\n",
       "    <tr style=\"text-align: right;\">\n",
       "      <th></th>\n",
       "      <th>Unnamed: 0</th>\n",
       "      <th>uniqueID</th>\n",
       "      <th>drugName</th>\n",
       "      <th>condition</th>\n",
       "      <th>review</th>\n",
       "      <th>rating</th>\n",
       "      <th>date</th>\n",
       "      <th>usefulCount</th>\n",
       "      <th>year</th>\n",
       "      <th>month</th>\n",
       "      <th>day</th>\n",
       "      <th>label</th>\n",
       "      <th>review_clean</th>\n",
       "    </tr>\n",
       "  </thead>\n",
       "  <tbody>\n",
       "    <tr>\n",
       "      <th>0</th>\n",
       "      <td>134647</td>\n",
       "      <td>50190</td>\n",
       "      <td>Gabapentin</td>\n",
       "      <td>Anxiety</td>\n",
       "      <td>\"After a hard divorce at a young age I became ...</td>\n",
       "      <td>9</td>\n",
       "      <td>2015-01-16</td>\n",
       "      <td>285</td>\n",
       "      <td>2015</td>\n",
       "      <td>1</td>\n",
       "      <td>16</td>\n",
       "      <td>1.0</td>\n",
       "      <td>hard divorc young age becam addict med search ...</td>\n",
       "    </tr>\n",
       "    <tr>\n",
       "      <th>1</th>\n",
       "      <td>160183</td>\n",
       "      <td>161501</td>\n",
       "      <td>Diphenhydramine</td>\n",
       "      <td>Nausea/Vomiting</td>\n",
       "      <td>\"I got a severe back injury about 2 years ago....</td>\n",
       "      <td>10</td>\n",
       "      <td>2015-12-20</td>\n",
       "      <td>43</td>\n",
       "      <td>2015</td>\n",
       "      <td>12</td>\n",
       "      <td>20</td>\n",
       "      <td>1.0</td>\n",
       "      <td>got sever back injuri year ago function pain b...</td>\n",
       "    </tr>\n",
       "    <tr>\n",
       "      <th>2</th>\n",
       "      <td>47174</td>\n",
       "      <td>179004</td>\n",
       "      <td>Victoza</td>\n",
       "      <td>Diabetes, Type 2</td>\n",
       "      <td>\"I have been on Victoza for quite some time ta...</td>\n",
       "      <td>10</td>\n",
       "      <td>2011-09-18</td>\n",
       "      <td>11</td>\n",
       "      <td>2011</td>\n",
       "      <td>9</td>\n",
       "      <td>18</td>\n",
       "      <td>1.0</td>\n",
       "      <td>victoza quit time take not bother lost lbs sin...</td>\n",
       "    </tr>\n",
       "    <tr>\n",
       "      <th>3</th>\n",
       "      <td>132349</td>\n",
       "      <td>164479</td>\n",
       "      <td>Diclofenac</td>\n",
       "      <td>Back Pain</td>\n",
       "      <td>\"Used 75mg Voltaren twice a day as a maintenan...</td>\n",
       "      <td>10</td>\n",
       "      <td>2014-03-01</td>\n",
       "      <td>31</td>\n",
       "      <td>2014</td>\n",
       "      <td>3</td>\n",
       "      <td>1</td>\n",
       "      <td>1.0</td>\n",
       "      <td>use mg voltaren twice day mainten pain problem...</td>\n",
       "    </tr>\n",
       "    <tr>\n",
       "      <th>4</th>\n",
       "      <td>17604</td>\n",
       "      <td>158983</td>\n",
       "      <td>TriNessa</td>\n",
       "      <td>Birth Control</td>\n",
       "      <td>\"I haven&amp;#039;t had any of the horrible side e...</td>\n",
       "      <td>10</td>\n",
       "      <td>2016-07-07</td>\n",
       "      <td>11</td>\n",
       "      <td>2016</td>\n",
       "      <td>7</td>\n",
       "      <td>7</td>\n",
       "      <td>1.0</td>\n",
       "      <td>horribl side effect alot peopl wrote almost fi...</td>\n",
       "    </tr>\n",
       "  </tbody>\n",
       "</table>\n",
       "</div>"
      ],
      "text/plain": [
       "   Unnamed: 0  uniqueID         drugName         condition  \\\n",
       "0      134647     50190       Gabapentin           Anxiety   \n",
       "1      160183    161501  Diphenhydramine   Nausea/Vomiting   \n",
       "2       47174    179004          Victoza  Diabetes, Type 2   \n",
       "3      132349    164479       Diclofenac         Back Pain   \n",
       "4       17604    158983         TriNessa     Birth Control   \n",
       "\n",
       "                                              review  rating        date  \\\n",
       "0  \"After a hard divorce at a young age I became ...       9  2015-01-16   \n",
       "1  \"I got a severe back injury about 2 years ago....      10  2015-12-20   \n",
       "2  \"I have been on Victoza for quite some time ta...      10  2011-09-18   \n",
       "3  \"Used 75mg Voltaren twice a day as a maintenan...      10  2014-03-01   \n",
       "4  \"I haven&#039;t had any of the horrible side e...      10  2016-07-07   \n",
       "\n",
       "   usefulCount  year  month  day  label  \\\n",
       "0          285  2015      1   16    1.0   \n",
       "1           43  2015     12   20    1.0   \n",
       "2           11  2011      9   18    1.0   \n",
       "3           31  2014      3    1    1.0   \n",
       "4           11  2016      7    7    1.0   \n",
       "\n",
       "                                        review_clean  \n",
       "0  hard divorc young age becam addict med search ...  \n",
       "1  got sever back injuri year ago function pain b...  \n",
       "2  victoza quit time take not bother lost lbs sin...  \n",
       "3  use mg voltaren twice day mainten pain problem...  \n",
       "4  horribl side effect alot peopl wrote almost fi...  "
      ]
     },
     "execution_count": 24,
     "metadata": {},
     "output_type": "execute_result"
    }
   ],
   "source": [
    "#final_df.head()"
   ]
  },
  {
   "cell_type": "code",
   "execution_count": 6,
   "metadata": {},
   "outputs": [],
   "source": [
    "X_train1, X_test1, y_train1, y_test1=train_test_split(h1[4], final_df['label'], test_size=0.25, random_state=0)\n",
    "X_train2, X_test2, y_train2, y_test2=train_test_split(h2[4], final_df['label'], test_size=0.25, random_state=0)"
   ]
  },
  {
   "cell_type": "code",
   "execution_count": 9,
   "metadata": {},
   "outputs": [
    {
     "data": {
      "text/plain": [
       "RandomForestClassifier(bootstrap=True, ccp_alpha=0.0, class_weight='balanced',\n",
       "                       criterion='gini', max_depth=None, max_features='auto',\n",
       "                       max_leaf_nodes=None, max_samples=None,\n",
       "                       min_impurity_decrease=0.0, min_impurity_split=None,\n",
       "                       min_samples_leaf=1, min_samples_split=2,\n",
       "                       min_weight_fraction_leaf=0.0, n_estimators=100,\n",
       "                       n_jobs=None, oob_score=False, random_state=None,\n",
       "                       verbose=0, warm_start=False)"
      ]
     },
     "execution_count": 9,
     "metadata": {},
     "output_type": "execute_result"
    }
   ],
   "source": [
    "rf=RandomForestClassifier(n_estimators=100,class_weight='balanced')\n",
    "rf.fit(X_train1,y_train1)"
   ]
  },
  {
   "cell_type": "code",
   "execution_count": 33,
   "metadata": {},
   "outputs": [],
   "source": [
    "vect=CountVectorizer(analyzer='word',tokenizer=None,preprocessor=None, stop_words=None,min_df=2, ngram_range=(1,2),max_features=30000)\n",
    "tf=TfidfVectorizer(analyzer='word',tokenizer=None,preprocessor=None, stop_words=None,min_df=2, ngram_range=(1,2),max_features=30000)\n",
    "df_features1=vect.fit_transform(final_df['review_clean'])\n",
    "df_features2=tf.fit_transform(final_df['review_clean'])"
   ]
  },
  {
   "cell_type": "code",
   "execution_count": 12,
   "metadata": {},
   "outputs": [
    {
     "data": {
      "text/plain": [
       "array([1.42795768e-05, 3.14317693e-06, 1.35630320e-05, ...,\n",
       "       1.43500323e-05, 4.12256797e-05, 4.89567670e-05])"
      ]
     },
     "execution_count": 12,
     "metadata": {},
     "output_type": "execute_result"
    }
   ],
   "source": [
    "rf.feature_importances_"
   ]
  },
  {
   "cell_type": "code",
   "execution_count": 13,
   "metadata": {},
   "outputs": [
    {
     "name": "stdout",
     "output_type": "stream",
     "text": [
      "Most important features: [29631, 28980, 17787, 10824, 13771, 14647, 29251, 2472, 25002, 5026, 17485, 29332, 7066, 24236, 960, 16164, 17138, 11901, 11480, 15649, 18730, 17640, 23697, 16057, 22703, 28104, 9878, 12117, 14796, 9202, 26574, 10536, 27375, 22707, 8675, 26138, 2762, 18043, 11803, 13946, 19624, 19331, 21223, 3494, 24033, 8555, 9686, 15269, 10304, 28407, 5635, 2511, 26847, 15448, 28534, 25709, 28944, 2042, 29402, 21040, 6749, 6236, 726, 1879, 18147, 10634, 11717, 3661, 25633, 18151, 22377, 16672, 22754, 18159, 14253, 23061, 22219, 11259, 8907, 24808, 1143, 18219, 11104, 8351, 7876, 14928, 14578, 7756, 17353, 12002, 26413, 13353, 4641, 28867, 16862, 6167, 24323, 27135, 4212, 4338, 24189, 20478, 28651, 25744, 25842, 10499, 6434, 3879, 2683, 7934, 3622, 150, 456, 20249, 8254, 22151, 13494, 20728, 27874, 18, 620, 25985, 24878, 17015, 5948, 27981, 21470, 22468, 21936, 16488, 11691, 17707, 12502, 29211, 4819, 4525, 6983, 8179, 18096, 1751, 29069, 9806, 24485, 24622, 25951, 1791, 2684, 21955, 3274, 23575, 2940, 13644, 13208, 10195, 21934, 29518, 2691, 9567, 2893, 25441, 16515, 5896, 14373, 24747, 28845, 14542, 12671, 15033, 3346, 9074, 18643, 12563, 28442, 6876, 29230, 20973, 22949, 1333, 13082, 4034, 15885, 20094, 20195, 4098, 9512, 22477, 894, 15214, 16544, 27758, 25234, 23363, 23394, 21399, 1067, 26062, 26506, 23909, 22120, 6641, 8790, 12944, 13429, 20384, 17320, 6666, 18445, 4292, 7536, 26465, 21690, 21858, 12898, 28025, 29896, 13905, 29376, 12438, 21567, 2278, 11018, 20982, 13609, 4953, 5556, 13782, 1522, 29497, 25527, 1409, 16151, 11400, 21619, 2866, 22582, 8099, 4603, 14417, 6623, 5839, 23965, 15126, 20838, 11146, 8452, 22664, 4786, 23209, 9119, 21941, 6549, 20351, 14511, 11207, 17934, 1653, 16618, 29637, 16025, 19251, 9745, 11426, 20823, 285, 12875, 27122, 8025, 8756, 14696, 23287, 16681, 24382, 7455, 14448, 18432, 9150, 24708, 14495, 9437, 3379, 10999, 14723, 12238, 12750, 17262, 20569, 16941, 26817, 17242, 16796, 8632, 8422, 21193, 6410, 5862, 877, 17472, 27592, 19152, 19541, 4509, 7486, 29785, 13710, 7625, 23444, 5488, 15945, 25292, 14326, 1309, 7590, 18101, 6092, 21308, 13023, 4261, 29216, 10246, 22561, 11076, 77, 12358, 2903, 8963, 14563, 27796, 3180, 20000, 19078, 11977, 6072, 406, 21159, 27991, 8571, 20916, 8134, 23371, 15161, 3151, 9620, 17083, 28072, 14911, 3760, 9304, 11055, 2331, 11239, 18707, 6373, 27825, 26735, 1496, 28922, 6965, 20047, 27267, 8161, 18373, 25571, 1291, 8006, 10960, 9266, 13562, 19174, 7681, 16171, 27727, 17631, 21447, 21387, 12642, 27173, 25681, 5525, 29877, 12786, 1859, 15685, 5458, 8533, 705, 10316, 23472, 2394, 28832, 19892, 18580, 2373, 3113, 2312, 28809, 20181, 9765, 18440, 3459, 21360, 2638, 29878, 13858, 24734, 16521, 6118, 13595, 26544, 24605, 21429, 10776, 12970, 9723, 8169, 23259, 4564, 22051, 9312, 27847, 17816, 15873, 127, 3361, 20926, 17921, 690, 4771, 19931, 7990, 9216, 1041, 22337, 24677, 14570, 10315, 24436, 13122, 23183, 1593, 24552, 4173, 8617, 24527, 27360, 19303, 7942, 7735, 13417, 25229, 4188, 13037, 11881, 27106, 3994, 24978, 28768, 19113, 20412, 25228, 8103, 1576, 2421, 16068, 594, 10491, 19878, 19080, 21083, 19964, 6219, 27226, 26806, 9862, 3817, 6727, 11995, 9652, 7424, 20462, 13686, 4892, 24218, 5936, 25494, 4095, 20337, 6631, 21841, 21018, 16008, 17588, 8510, 3414, 9424, 15025, 11143, 17303, 19139, 24868, 28085, 23430, 9178, 16976, 29929, 10272, 5934, 9545, 1059, 12195, 18315, 23772, 4497, 4023, 29889, 21280, 12806, 12408, 6949, 16961, 17638, 1965, 21029, 6742, 26557, 27061, 12227, 4915, 19972, 27341, 20936, 14960, 19316, 25928, 26106, 27076, 6609, 13359, 20068, 24540, 22906, 21048, 273, 28656, 1278, 27642, 12630, 27124, 7650, 15585, 21609, 13742, 22312, 10077, 9197, 13162, 13584, 22280, 28522, 14232, 16650, 2253, 11473, 17539, 11770, 9905, 8544, 24461, 6316, 15987, 5385, 8895, 24352, 12263, 8693, 5034, 1000, 17103, 28398, 26082, 4800, 1125, 7715, 22723, 16097, 24575, 28464, 29585, 18408, 1782, 20951, 17002, 17575, 3736, 29968, 21819, 27139, 17668, 5628, 7869, 9852, 21547, 22866, 9587, 16817, 20062, 26183, 13412, 3350, 4624, 9402, 28112, 27154, 21559, 21811, 12978, 22506, 17324, 8808, 20417, 12396, 3092, 23245, 4163, 29574, 22928, 17915, 6974, 27180, 14509, 337, 6540, 10485, 4199, 17349, 26899, 3069, 29882, 5, 4904, 4615, 13758, 1488, 16093, 19209, 29346, 17625, 15200, 7674, 23423, 23509, 23238, 27323, 13169, 17680, 2199, 24970, 20439, 13145, 22936, 25624, 614, 24020, 23656, 12777, 20415, 24420, 22080, 23829, 1869, 21679, 5577, 27622, 3057, 20658, 8155, 21153, 1311, 27211, 11625, 21002, 8535, 3480, 10094, 10719, 4604, 6028, 2239, 2451, 9328, 4934, 22917, 6326, 2676, 14750, 27982, 27175, 16017, 11783, 7846, 24410, 19304, 4178, 9350, 17781, 19197, 13385, 11420, 11754, 14361, 3949, 13188, 9047, 16131, 12491, 443, 23050, 21524, 5107, 27965, 27232, 13309, 18530, 11378, 5366, 8528, 4886, 29329, 9488, 13414, 6944, 9382, 15615, 11725, 13895, 9347, 4085, 26070, 9618, 24243, 8554, 23683, 2746, 11746, 3102, 9786, 91, 455, 14899, 12185, 22240, 4039, 29948, 16432, 20022, 15977, 359, 23355, 17099, 13041, 21737, 19855, 17996, 22270, 26662, 21943, 18328, 601, 1565, 13387, 1386, 13153, 3383, 3140, 21381, 9601, 3324, 18343, 23197, 9173, 17522, 6978, 18214, 1133, 12345, 14830, 3214, 22272, 24234, 1115, 24479, 12867, 24476, 7404, 4159, 16659, 28336, 20428, 22290, 6106, 26063, 3958, 15569, 20891, 23763, 20875, 25611, 24474, 17688, 22516, 25105, 23279, 22310, 23639, 9296, 329, 10071, 6960, 16603, 13140, 24046, 13935, 16155, 26714, 6068, 684, 23956, 18509, 18417, 16113, 24341, 8118, 11008, 5020, 28657, 7958, 5280, 17629, 11576, 15110, 11370, 1446, 658, 28851, 2733, 27589, 10820, 2231, 22893, 14223, 17872, 8875, 26399, 8078, 9479, 10580, 9032, 12051, 21356, 11998, 12743, 9379, 20557, 22644, 28643, 18836, 4607, 597, 26940, 11052, 9013, 11877, 14479, 2146, 23929, 5644, 15620, 18600, 9061, 3712, 17614, 3779, 27632, 18127, 23970, 7980, 6088, 4073, 21188, 6081, 23133, 3788, 22704, 10098, 15862, 19603, 349, 1164, 3039, 15195, 24231, 5154, 17617, 26840, 7918, 23324, 4611, 15604, 7527, 16939, 1958, 19201, 20633, 4156, 5004, 983, 24072, 13064, 19444, 26097, 24958, 16059, 1455, 25089, 15821, 14785, 12325, 785, 13987, 9309, 6350, 7618, 3003, 13204, 29985, 21009, 19581, 13786, 26453, 10169, 12340, 5295, 4943, 25741, 4211, 10618, 13197, 27316, 17513, 20909, 22416, 8659, 3771, 29626, 14726, 10481, 323, 18536, 11391, 29458, 14999, 29003, 26353, 7271, 20036, 855, 3034, 24333, 11396, 6530, 5620, 11069, 26078, 22652, 11601, 8346, 5276, 18041, 21511, 18394, 5857, 14407, 3406, 12312, 20603, 18497, 1051, 3584, 4996, 10156, 17250, 26502, 24122, 15442, 6031, 1400, 1745, 15999, 27240, 26076, 12092, 22148, 17687, 15062, 9565, 10771, 26755, 14258, 3870, 15747, 13000, 14217, 17544, 4330, 1736, 583, 21913, 16364, 24349, 29493, 14513, 688, 9221, 26226, 27298, 5368, 2183, 7449, 16787, 23490, 13183, 11491, 17566, 26781, 16264, 24198, 19171, 9850, 2366, 1033, 14577, 13322, 19751, 19422, 1628, 19514, 5794, 22124, 6479, 20564, 3786, 6061, 18028, 3237, 4012, 9060, 3603, 29711, 442, 7433, 24078, 20158, 12560, 22931, 16857, 8847, 2906, 23856, 17600, 2471, 18963, 21226, 17879, 20698, 13704, 8816, 16780, 24366, 22065, 13340, 8663, 5425, 8123, 13485, 15840, 1718, 5809, 20670, 18930, 12165, 21151, 17927, 16611, 28081, 11737, 10492, 29606, 11367, 25246, 20298, 22306, 16313, 22351, 16145, 22248, 332, 26990, 22925, 15082, 1482, 25421, 16852, 25538, 429, 29002, 701, 26075, 2654, 29838, 20904, 28350, 6869, 19992, 28847, 14213, 26646, 1634, 16443, 5221, 24704, 23494, 17445, 85, 876, 21746, 4081, 24556, 396, 17965, 12428, 17924, 29559, 19314, 9, 26445, 11590, 19666, 28243, 28942, 20348, 145, 22741, 15019, 3148, 11597, 16361, 15497, 11834, 14406, 15377, 21779, 21385, 24690, 20655, 345, 8903, 14028, 27297, 11828, 12618, 13373, 16377, 29154, 20813, 29056, 13, 25601, 27366, 4182, 1394, 5821, 2502, 18386, 1732, 8523, 13293, 13055, 5251, 26564, 14338, 29128, 17593, 12772, 21928, 6319, 29095, 15341, 15632, 4094, 21514, 19539, 24430, 29725, 14704, 3083, 3805, 4077, 19070, 21793, 7948, 17344, 29912, 28761, 27372, 28758, 19373, 22131, 9316, 3792, 16283, 16809, 4423, 18555, 24814, 17918, 11879, 22074, 15092, 27788, 18334, 13328, 23944, 14906, 11451, 26716, 19885, 14345, 17788, 19847, 28791, 15639, 26118, 19484, 15628, 28855, 9465, 29568, 9903, 22331, 27984, 1573, 11415, 12513, 20450, 27283, 14205, 23717, 20399, 4879, 5402, 17898, 15073, 10489, 4946, 27343, 3745, 27523, 22367, 29927, 9681, 2273, 10940, 3059, 9337, 7961, 7483, 13682, 27332, 14207, 29829, 24618, 1861, 3207, 3554, 11759, 18562, 22564, 27974, 15684, 454, 13021, 17218, 1789, 9782, 427, 28279, 27745, 24029, 2656, 26569, 22927, 16932, 13558, 565, 3261, 24457, 11427, 18548, 20968, 12541, 2096, 5483, 29855, 4464, 89, 9505, 8717, 16144, 7699, 29780, 25265, 27177, 9325, 7223, 20725, 18133, 20240, 15596, 14995, 11694, 2066, 27735, 11521, 9462, 7060, 1150, 26503, 11546, 12432, 4189, 19160, 3044, 20883, 26057, 19387, 25403, 12991, 26381, 2628, 25518, 4593, 10875, 15769, 7091, 22909, 439, 21546, 4324, 25497, 28750, 107, 2929, 6274, 25389, 7731, 26910, 6398, 21393, 25730, 17330, 28282, 5411, 11572, 9413, 29436, 5155, 22401, 16832, 23826, 27983, 21443, 8629, 16836, 3910, 16806, 28978, 2446, 25507, 4928, 18429, 267, 25565, 27250, 18514, 22047, 11321, 26135, 10993, 22555, 388, 22486, 19504, 20040, 12113, 17090, 15856, 24733, 3845, 12476, 3620, 5173, 10787, 27374, 26074, 22467, 13491, 3052, 9471, 28865, 10801, 26395, 20889, 19451, 5574, 23529, 6823, 18724, 29336, 20864, 14463, 4590, 14771, 7268, 28940, 22444, 10462, 4317, 6075, 804, 18158, 28673, 21689, 11969, 25027, 22461, 20679, 6341, 8918, 11456, 10851, 17133, 14731, 18389, 5008, 19595, 26297, 3933, 10363, 8009, 13009, 9069, 16412, 22871, 2858, 26601, 5475, 18495, 6545, 12821, 13899, 29067, 21798, 12989, 26614, 28192, 15691, 23653, 6055, 1624, 16607, 27350, 26571, 23670, 28640, 13924, 25553, 11185, 16272, 9214, 15089, 7160, 23193, 12667, 8587, 28291, 22529, 8791, 25608, 4947, 10193, 5567, 19370, 1405, 12782, 3432, 27030, 3443, 6594, 23105, 7984, 18624, 18367, 29469, 22302, 17224, 12946, 6590, 19532, 29227, 11952, 17628, 25836, 10438, 12506, 22040, 17531, 15635, 20814, 22719, 27069, 2442, 20963, 3149, 357, 764, 28340, 3441, 3841, 29514, 6861, 26842, 18519, 3611, 13943, 17494, 18554, 10975, 1165, 16434, 21560, 1471, 29869, 22322, 10339, 8668, 5261, 5826, 27701, 17891, 10980, 4858, 823, 25052, 23271, 10804, 25929, 16744, 20387, 1904, 29020, 16777, 12613, 16107, 771, 9648, 10543, 3830, 6328, 3223, 18302, 21520, 2605, 4008, 18699, 17124, 3229, 19427, 12085, 3373, 19587, 7973, 25227, 12317, 14257, 15749, 570, 22454, 14583, 13552, 22579, 23673, 5180, 16341, 14727, 8129, 23854, 12216, 7204, 27034, 28803, 14638, 2230, 27075, 26664, 27716, 20900, 9899, 26535, 28839, 4071, 9393, 21850, 2895, 17986, 29745, 21461, 5162, 22532, 2931, 29131, 15069, 17173, 5512, 8159, 3809, 28338, 24016, 20641, 15101, 766, 28216, 26369, 10723, 23677, 3226, 10534, 1641, 7198, 18355, 10089, 14101, 7274, 20638, 27752, 2930, 21085, 5437, 19134, 2490, 27368, 16140, 18696, 9388, 21149, 8811, 20295, 8526, 5542, 26407, 27742, 29537, 15629, 19234, 6420, 17517, 15370, 20246, 13477, 2865, 10, 22656, 20881, 2039, 8754, 19454, 16279, 29057, 6109, 22945, 27054, 20174, 18685, 29553, 27311, 24162, 9597, 21694, 1454, 2225, 26130, 9550, 10950, 24973, 26649, 22522, 28284, 27746, 9739, 9651, 9373, 16846, 2391, 9556, 19926, 5631, 1230, 15024, 29919, 29714, 18170, 18786, 8375, 18087, 11920, 8627, 24568, 5370, 11685, 26099, 15070, 25038, 29520, 17069, 12873, 19132, 3250, 1700, 2411, 35, 12512, 28563, 15805, 17438, 1581, 17702, 6636, 8329, 12523, 27590, 16893, 18886, 24227, 18907, 20118, 5592, 6098, 15515, 19615, 21094, 18231, 18995, 18402, 28265, 27105, 18049, 23348, 24601, 3176, 2728, 26694, 14367, 15811, 27705, 29170, 743, 19761, 4002, 10685, 6054, 5289, 16435, 24409, 3328, 19612, 12152, 120, 12621, 26882, 27901, 6607, 19357, 8315, 383, 19238, 24567, 18284, 29146, 11645, 15445, 12392, 14294, 18694, 3476, 22968, 5038, 8834, 5931, 15827, 2848, 19169, 18372, 28162, 15005, 24013, 3015, 22405, 15189, 26644, 18075, 28379, 28268, 27945, 14761, 14637, 28755, 20820, 17633, 17804, 7169, 12625, 27496, 12792, 18457, 3285, 9546, 2526, 7261, 6661, 3960, 26374, 26466, 24602, 10289, 25436, 17080, 15587, 2034, 3231, 7529, 11900, 12240, 10794, 21273, 9268, 27687, 23586, 6102, 29782, 9984, 4167, 27147, 17331, 12820, 395, 22141, 26772, 13769, 22575, 773, 27199, 4529, 26773, 18398, 9900, 21330, 2776, 6956, 29132, 22690, 13138, 22142, 4010, 4463, 6938, 15831, 17700, 8586, 67, 53, 16599, 14915, 18331, 27951, 23038, 29187, 20177, 18575, 26295, 21334, 3138, 27684, 5275, 18362, 14322, 18427, 13463, 13060, 29483, 22746, 20602, 29928, 26999, 11742, 6921, 19103, 27099, 12999, 5803, 8339, 10982, 20722, 12844, 25922, 3295, 20628, 12064, 2808, 9415, 18635, 24417, 7157, 27329, 24378, 21777, 18061, 20163, 7201, 15528, 4117, 7438, 13615, 16270, 681, 21339, 11719, 17171, 23173, 21940, 17890, 12309, 26697, 27042, 24963, 24121, 16433, 29195, 24434, 17183, 11911, 7246, 14891, 26390, 650, 1118, 4856, 6103, 18182, 13928, 2941, 16467, 4612, 4179, 2907, 4320, 13043, 14459, 22165, 22125, 27489, 18729, 10988, 5519, 25136, 26498, 16013, 608, 26370, 7179, 29934, 23548, 28206, 29461, 14398, 25676, 16667, 9274, 19488, 20705, 11411, 8945, 26769, 950, 21600, 26898, 21359, 25715, 21838, 15771, 17102, 14164, 23515, 21326, 7444, 9677, 11074, 487, 16841, 7863, 18007, 25925, 375, 12353, 14250, 27694, 15148, 22176, 8400, 16366, 23523, 23844, 3, 23062, 23739, 23512, 13915, 14869, 5487, 23637, 12818, 5406, 2964, 9490, 17923, 22234, 21812, 16878, 14165, 16197, 12505, 27903, 14492, 2631, 7959, 28477, 3312, 28459, 19104, 27123, 16148, 5726, 2413, 10117, 9477, 1704, 17969, 15306, 865, 28253, 17486, 19327, 2944, 26344, 13177, 11057, 5535, 24183, 8313, 19954, 5349, 11813, 8071, 5416, 15434, 2576, 9336, 636, 6535, 18905, 12623, 25888, 7479, 27450, 27294, 14770, 21004, 10790, 29777, 11860, 18499, 18069, 8415, 9174, 20035, 3923, 26720, 16253, 5495, 11700, 27193, 23767, 1479, 11191, 20044, 23968, 25022, 25152, 6322, 16481, 18019, 10139, 23937, 18236, 5282, 26013, 8984, 27650, 22385, 23312, 26645, 26585, 22406, 21417, 18524, 20391, 24571, 26384, 13410, 23485, 7582, 15119, 13262, 10240, 21801, 3567, 23325, 6586, 18479, 26411, 7840, 14362, 22894, 17573, 26215, 19869, 6563, 10319, 22215, 9613, 9340, 12660, 25259, 17913, 370, 28789, 7175, 20686, 7665, 25876, 23939, 15750, 9586, 20652, 25248, 26757, 1575, 27094, 22749, 20624, 18683, 27087, 24859, 27580, 23969, 13161, 14827, 4284, 5834, 9730, 5319, 22172, 5833, 16099, 7586, 5616, 24126, 9367, 17081, 17956, 20803, 25065, 14756, 10477, 14381, 19852, 9276, 18722, 17653, 4768, 15756, 105, 19094, 2117, 28594, 28856, 5234, 3311, 7400, 5939, 5508, 12558, 21373, 8696, 25269, 22092, 24521, 28947, 22043, 18401, 3983, 23554, 27711, 27621, 12784, 16347, 3101, 27286, 14212, 17696, 9485, 19832, 18906, 11936, 3812, 28193, 28212, 20477, 21076, 22432, 6929, 25726, 5350, 10735, 14619, 18901, 5587, 13975, 9383, 27417, 2678, 16421, 15709, 29944, 10444, 28793, 28362, 28783, 23071, 27488, 320, 17849, 22370, 5177, 23159, 3041, 25283, 2045, 7351, 16329, 8506, 12295, 15593, 28848, 18566, 19838, 24346, 5472, 24190, 9670, 29603, 16157, 17980, 10362, 3201, 7485, 28975, 6600, 18741, 1110, 24182, 26116, 1739, 4613, 23895, 533, 19361, 12184, 22389, 18621, 25594, 24292, 10882, 9876, 146, 6252, 16258, 29117, 19996, 19060, 27134, 2162, 15700, 22177, 5818, 1108, 16974, 7142, 3864, 7247, 2741, 1088, 20690, 25806, 26762, 7303, 23710, 12388, 21207, 17341, 21432, 29487, 27050, 18920, 14795, 13705, 26285, 822, 25616, 3880, 26147, 19218, 7012, 28811, 806, 12223, 893, 17667, 6625, 16327, 25941, 1011, 24299, 17082, 5442, 17169, 4881, 2925, 3946, 23629, 2163, 15970, 21537, 16399, 3836, 10501, 17581, 19600, 21518, 1465, 24763, 318, 19741, 17877, 16963, 20773, 20150, 23228, 19692, 28704, 11199, 17503, 11402, 17656, 15078, 17558, 23524, 13408, 9360, 18501, 26533, 25933, 19491, 9887, 678, 29272, 1346, 14352, 19324, 17750, 15361, 10583, 15955, 24810, 13484, 26294, 14648, 23134, 4147, 19245, 18502, 3751, 29050, 3372, 5849, 22431, 16257, 11482, 25142, 14956, 21352, 29930, 19997, 21953, 8774, 9094, 6359, 28328, 27280, 2271, 9242, 8302, 25112, 7341, 11401, 9853, 22435, 29364, 22102, 8739, 20568, 10256, 18928, 19045, 2735, 3998, 26708, 28327, 10684, 20841, 5527, 22115, 5456, 8721, 17836, 23545, 10743, 13167, 20878, 7532, 19006, 5296, 28198, 23463, 23078, 3894, 3814, 21535, 28979, 25665, 1618, 25561, 6340, 19807, 20736, 14626, 9302, 6538, 5397, 16462, 19526, 14348, 16609, 5888, 27101, 25526, 29918, 22107, 29836, 27588, 27196, 18941, 22923, 14961, 11727, 18341, 10632, 17129, 10037, 5429, 16290, 17682, 19920, 13069, 29465, 14208, 2831, 23303, 29224, 11166, 5590, 18591, 20697, 19681, 24401, 18708, 25203, 16281, 16493, 29120, 4811, 101, 20091, 13635, 4210, 3774, 24532, 25123, 27426, 4605, 15206, 25768, 6867, 15864, 25598, 4417, 25563, 3319, 14888, 4897, 18148, 8689, 23514, 9357, 10241, 8553, 6386, 27296, 7658, 21602, 1991, 7025, 24288, 15850, 16378, 24301, 2629, 25947, 3851, 5136, 2921, 18352, 26803, 8944, 15837, 8891, 18015, 12826, 6158, 19816, 18638, 11673, 28389, 28394, 22800, 11027, 14100, 4578, 2439, 14390, 10093, 25882, 2084, 7263, 12201, 4722, 12017, 10640, 12556, 23301, 18311, 11422, 29063, 29955, 23344, 1176, 4664, 8520, 15159, 16839, 13288, 9483, 14078, 11968, 7280, 1461, 15641, 22111, 11465, 24450, 25736, 24621, 7403, 10985, 18674, 27937, 1969, 10106, 27895, 9277, 29151, 4022, 25939, 16420, 17623, 5341, 14794, 16465, 7868, 5192, 3569, 21752, 29393, 19411, 9936, 29531, 4848, 3209, 13111, 26472, 18089, 26511, 20788, 2437, 19081, 3755, 25470, 3710, 10318, 5434, 21835, 26456, 17063, 19168, 26412, 10178, 2821, 14221, 13361, 8817, 15572, 17178, 25133, 23728, 22200, 28660, 15522, 23516, 12282, 14439, 9146, 8794, 9675, 27231, 24255, 26992, 22371, 6192, 29564, 28819, 27658, 28371, 19958, 4472, 24363, 18826, 2723, 18005, 4883, 28374, 4770, 29755, 13086, 16476, 7161, 19969, 16066, 13345, 14200, 15412, 28828, 18571, 8040, 18845, 21548, 25186, 4412, 18578, 29209, 23636, 29830, 20410, 2156, 23718, 6652, 29489, 21446, 9548, 29214, 4280, 17096, 22507, 28678, 14227, 20953, 25913, 25807, 14857, 3638, 1392, 7140, 3067, 28790, 27868, 21738, 14444, 8694, 21670, 28383, 5200, 27398, 5139, 12840, 13626, 19701, 26943, 12401, 1550, 4468, 1709, 18634, 22514, 22571, 24707, 7074, 18868, 15470, 4652, 26334, 9376, 25740, 9209, 17452, 10791, 23758, 7126, 22530, 1567, 592, 850, 21671, 19129, 172, 26626, 29126, 26306, 18108, 18463, 5019, 15075, 11414, 6566, 12235, 3578, 8657, 25169, 21832, 3062, 19086, 19284, 16782, 28395, 19397, 29081, 29623, 4717, 27308, 20066, 2889, 18270, 16723, 23136, 26688, 29831, 14288, 3339, 11049, 15057, 16234, 3095, 15721, 14776, 3446, 25942, 16830, 26229, 20707, 9306, 13608, 3032, 3065, 29772, 25088, 12718, 11511, 9503, 4337, 15066, 28919, 3533, 14198, 24177, 21894, 16439, 21687, 21344, 27560, 2602, 13522, 22457, 24404, 25101, 11927, 14026, 5449, 9978, 28292, 18791, 8274, 10346, 8521, 13896, 13121, 27518, 4489, 29026, 10713, 10642, 28818, 22403, 11499, 21901, 27307, 29807, 29361, 28744, 24171, 25612, 7987, 12713, 6354, 23505, 23716, 21754, 26889, 23399, 25735, 11831, 17446, 4017, 22005, 2577, 26797, 779, 19525, 28864, 10929, 23300, 29401, 3305, 18753, 9879, 5249, 25467, 15193, 26792, 9735, 17481, 4102, 27161, 29528, 4191, 5219, 25028, 13325, 17645, 9002, 26366, 13933, 2913, 10730, 12804, 17871, 9622, 2276, 28209, 4185, 15362, 18064, 13380, 8809, 5510, 17916, 28319, 26984, 29793, 17698, 21380, 26605, 11196, 14949, 6914, 12110, 725, 9877, 14143, 11478, 12394, 18609, 17841, 16429, 7010, 14910, 711, 14950, 16797, 10557, 1546, 8194, 9560, 5493, 24407, 6624, 19087, 21107, 26393, 8904, 7399, 17101, 1950, 10728, 15401, 24446, 22359, 14767, 15466, 3037, 1625, 5721, 3726, 1538, 6605, 22796, 21930, 16820, 19712, 17194, 2835, 23694, 21802, 21831, 27828, 13680, 13693, 8631, 23368, 26391, 15514, 22252, 23307, 4840, 16807, 17953, 21114, 23696, 22417, 3932, 9329, 27356, 12487, 20986, 18801, 7163, 220, 28299, 6945, 4215, 3191, 11132, 6259, 15295, 12863, 12653, 15549, 17911, 19278, 10604, 27260, 9387, 16413, 6973, 20715, 18840, 11012, 11589, 10979, 4373, 24471, 25782, 28400, 27153, 16225, 8008, 17089, 4480, 29722, 588, 11975, 20810, 17603, 9554, 28215, 15806, 25649, 7701, 10112, 13630, 18843, 27723, 14831, 25777, 1225, 10111, 10026, 18898, 19743, 20154, 19402, 8304, 3671, 27725, 27084, 26111, 15264, 22886, 13480, 10224, 28617, 10561, 29620, 17033, 25537, 18529, 26801, 10547, 24856, 25388, 8718, 4032, 21743, 25619, 29688, 26779, 27208, 13594, 18877, 22022, 16260, 10297, 16455, 20961, 1008, 9090, 13054, 7888, 28191, 5148, 5195, 7417, 18636, 26704, 17499, 6342, 25379, 29716, 11974, 11682, 24488, 19760, 22839, 14870, 29964, 28620, 2934, 10953, 1830, 28465, 29729, 21543, 6275, 291, 8881, 25969, 17738, 5190, 3575, 12554, 13304, 7922, 1949, 10448, 5037, 26134, 26419, 3734, 513, 29137, 29229, 24219, 26604, 28616, 25266, 13590, 14992, 17782, 29200, 5749, 29858, 534, 17223, 11634, 14318, 24289, 11205, 573, 28101, 22558, 15726, 28747, 11002, 5593, 25270, 18297, 28574, 10449, 19335, 4233, 7165, 15093, 2069, 27739, 18102, 6665, 23201, 9241, 24302, 1288, 4228, 13462, 9837, 18399, 17419, 18682, 11075, 16072, 8667, 28251, 28774, 23351, 24817, 23141, 22433, 17846, 19917, 21466, 19851, 4287, 14485, 26346, 27170, 22576, 14818, 13531, 14179, 26567, 15705, 16698, 7048, 18883, 7224, 19825, 5481, 19403, 25416, 8172, 18752, 3456, 5407, 7337, 5340, 18498, 9941, 1505, 6001, 15810, 7921, 18305, 5989, 12066, 8369, 21278, 13652, 11709, 5473, 5272, 25716, 3087, 7385, 23774, 19462, 28410, 20862, 22534, 29999, 25703, 18141, 20433, 27803, 25469, 6311, 7931, 23954, 6919, 3803, 14884, 14297, 10688, 17140, 10740, 17644, 29567, 3733, 29844, 23293, 20970, 25113, 11636, 25620, 17311, 10874, 18342, 141, 14099, 5243, 27126, 562, 25548, 9332, 22045, 12287, 24670, 9685, 27891, 8010, 27013, 9050, 19771, 8684, 22330, 11293, 1466, 9975, 25399, 24376, 14096, 18992, 18980, 18506, 4326, 27637, 13098, 2671, 2409, 10954, 10705, 23821, 21057, 3597, 26151, 18301, 18891, 11629, 7589, 21923, 2038, 1092, 12357, 26259, 14113, 19579, 5233, 4548, 23880, 27660, 3343, 3253, 219, 20693, 2466, 26114, 29549, 25158, 16297, 1440, 23222, 19226, 7339, 11533, 5696, 24069, 12437, 12749, 27837, 11015, 28476, 4721, 2775, 8769, 29459, 29477, 11534, 2251, 7550, 8972, 27461, 5267, 18997, 6587, 9037, 11848, 19242, 28993, 11958, 15599, 5371, 14765, 8990, 27024, 16997, 16888, 26945, 27120, 8813, 7116, 3534, 17285, 25653, 22380, 21439, 9996, 25430, 4422, 10443, 9948, 20189, 15626, 27096, 5271, 21185, 20130, 14486, 4153, 22217, 16416, 28188, 4478, 3179, 14356, 5152, 9182, 29630, 23140, 4544, 22903, 11679, 13908, 8324, 14405, 9825, 8077, 21753, 4958, 12137, 16790, 7408, 13278, 3550, 19406, 14747, 10072, 17529, 21675, 24336, 21809, 25874, 16121, 17300, 10949, 8969, 21464, 2912, 11567, 10840, 8237, 29822, 2641, 19990, 25775, 16168, 10196, 13300, 20160, 13490, 11880, 15792, 27814, 26958, 7957, 8035, 22718, 13639, 18751, 23564, 11729, 15797, 27276, 6049, 20620, 29310, 6336, 8525, 28552, 28287, 7323, 26305, 14311, 3975, 27720, 12612, 13238, 28990, 21763, 29045, 11726, 15321, 140, 26774, 660, 15647, 25790, 15404, 21347, 29047, 10025, 18491, 14203, 27598, 16450, 26595, 13709, 9303, 3948, 2575, 15344, 6227, 5344, 17268, 24925, 13549, 5443, 221, 22528, 18452, 23489, 27675, 13568, 6046, 16441, 7459, 28125, 27198, 20877, 7217, 7088, 5220, 8343, 25360, 8842, 8611, 22537, 19680, 27206, 8192, 11419, 9553, 5119, 14226, 25627, 4133, 2249, 4336, 10471, 14742, 20956, 5435, 2139, 17011, 15804, 4078, 5100, 3267, 27584, 5613, 26423, 6864, 5250, 23668, 15598, 17035, 7190, 14719, 10811, 6962, 1006, 21745, 18032, 16190, 23611, 10739, 8468, 12588, 13665, 6041, 29724, 15039, 3351, 24433, 23827, 514, 3453, 12954, 7437, 2862, 10190, 22649, 29961, 9678, 7265, 12980, 20192, 24080, 5583, 18255, 8154, 21774, 3487, 16571, 3424, 24676, 4150, 29453, 26855, 8559, 8871, 12006, 19449, 4574, 29075, 2120, 13488, 15967, 15951, 3555, 28808, 25433, 26360, 16051, 16044, 6370, 23614, 3334, 24697, 18053, 24663, 3239, 22868, 22139, 12831, 19631, 22793, 29880, 2181, 21025, 1786, 2919, 17590, 1429, 23605, 24869, 2049, 20447, 21264, 26204, 16664, 26398, 5494, 10364, 28904, 28987, 28639, 16256, 17000, 18852, 24375, 20943, 23391, 14017, 4158, 14104, 138, 8880, 9779, 26328, 12617, 20052, 17012, 1140, 6099, 25927, 7781, 17302, 21695, 23638, 12213, 10401, 14620, 24497, 29080, 27357, 21727, 9873, 1083, 16294, 25081, 13358, 5422, 17514, 7603, 7138, 26543, 22216, 10591, 26766, 12830, 15903, 13318, 19021, 9591, 9039, 18161, 13671, 24172, 25341, 10472, 71, 20669, 25351, 18000, 18974, 18861, 16296, 8824, 8070, 10900, 12498, 10639, 3117, 20542, 29052, 25378, 625, 7101, 5677, 8299, 21182, 13643, 18913, 12339, 1360, 8530, 28098, 16175, 7362, 12856, 24641, 579, 16695, 3646, 15209, 5640, 16125, 15123, 11809, 10666, 16461, 4305, 21328, 21509, 18060, 11830, 27963, 29513, 24411, 4282, 15278, 23474, 22106, 23005, 16339, 18084, 1478, 19487, 27943, 7285, 7702, 13194, 12386, 5229, 28200, 14924, 11541, 20408, 568, 6066, 19337, 23051, 15665, 303, 2674, 28226, 18880, 5970, 4719, 7982, 24716, 20535, 20589, 1199, 8371, 19200, 3036, 17238, 23825, 23336, 18309, 15478, 13006, 12349, 20675, 16512, 9041, 23332, 2695, 14679, 14894, 2640, 8209, 4004, 24120, 12805, 13085, 28842, 26673, 14872, 13381, 8868, 19629, 20631, 20429, 24073, 8095, 16727, 957, 17036, 17254, 22112, 20685, 1801, 14500, 18815, 25254, 6313, 18392, 24549, 4610, 4655, 21345, 25306, 3287, 17780, 22134, 3498, 14903, 22179, 10331, 10883, 14763, 13109, 3592, 21807, 10110, 3492, 3327, 3962, 3516, 24316, 271, 23814, 14627, 15137, 7328, 14673, 15584, 6532, 14705, 195, 5097, 29998, 15839, 21279, 4629, 14708, 17454, 15576, 6913, 19307, 10199, 22932, 9796, 14533, 16084, 17185, 26299, 19459, 14988, 26262, 9115, 4192, 18184, 13555, 25087, 14730, 13945, 21788, 8131, 23961, 10418, 11287, 23832, 18610, 27045, 28366, 10946, 3570, 5281, 11687, 25085, 29339, 25840, 6642, 19430, 28482, 24510, 29809, 5990, 18544, 18805, 17251, 11575, 9726, 24522, 15447, 25536, 7655, 9348, 7057, 3968, 16276, 5786, 27516, 10434, 9081, 17957, 21255, 12335, 9155, 23047, 9291, 3150, 9092, 26233, 1073, 15643, 238, 2932, 11674, 111, 15974, 10704, 14775, 17369, 1518, 17821, 23064, 17123, 28341, 28537, 5470, 10368, 10785, 15759, 5056, 15734, 17606, 15141, 1717, 18964, 21070, 12167, 17562, 322, 1626, 19618, 16485, 113, 15608, 28769, 8974, 12499, 29706, 27318, 1961, 19591, 20086, 1204, 25439, 10067, 2499, 28523, 3583, 11240, 24823, 9944, 2467, 13517, 4929, 1615, 7369, 17941, 21274, 16223, 22419, 20051, 4322, 21540, 19309, 11019, 2982, 11586, 18574, 7240, 22546, 6892, 27676, 944, 16098, 26730, 18885, 24968, 24209, 6141, 25020, 2018, 20593, 23260, 2238, 24002, 14645, 15741, 10816, 12860, 27202, 1648, 14572, 10490, 2817, 13676, 4419, 29134, 23749, 25397, 11792, 19598, 12816, 26648, 19509, 29202, 12307, 767, 765, 637, 26906, 4784, 23457, 7663, 16080, 3985, 23356, 19802, 13074, 28776, 29848, 10191, 25573, 27369, 25017, 20141, 7789, 3972, 15851, 12552, 13542, 11061, 5867, 27889, 8394, 15426, 6972, 15883, 16386, 185, 25780, 6283, 28593, 1026, 6567, 24211, 7722, 24617, 10332, 22914, 17592, 25569, 14210, 14185, 25114, 22526, 23115, 5399, 380, 5248, 26205, 16086, 27902, 7651, 27219, 11882, 29220, 23421, 8785, 20876, 19042, 20107, 25693, 8730, 25121, 8673, 27355, 21209, 9044, 17833, 28029, 29245, 5364, 24158, 25492, 18773, 7440, 21465, 7320, 17832, 29588, 27848, 26125, 11806, 21092, 18431, 10877, 18889, 19829, 13984, 4792, 21757, 17042, 19654, 5836, 26455, 4857, 24603, 20296, 4998, 335, 8884, 25024, 15822, 19871, 7354, 10147, 4966, 8260, 6329, 22816, 11604, 6819, 57, 19867, 12031, 6156, 29343, 7458, 11506, 16365, 16815, 5523, 23402, 854, 11536, 15014, 10034, 10860, 29821, 3023, 28018, 23237, 19517, 23622, 27628, 20718, 14550, 12797, 18196, 22574, 22399, 5101, 679, 18110, 19763, 28329, 3856, 23456, 74, 13724, 29873, 11513, 23349, 7112, 26221, 28675, 5171, 23393, 19473, 3510, 18512, 28985, 4466, 12436, 23559, 20172, 17612, 8815, 7237, 6748, 17779, 6155, 12406, 22347, 18969, 11666, 12288, 29359, 10143, 7543, 8849, 2458, 10779, 1527, 9799, 2596, 17319, 14983, 13848, 24688, 15579, 670, 8745, 7034, 9687, 12866, 4851, 10897, 11515, 2476, 10812, 16453, 18703, 29923, 22099, 9025, 19213, 15406, 17062, 7540, 14022, 3609, 19058, 6577, 539, 9689, 28670, 12790, 12868, 2086, 22012, 17243, 19429, 13211, 2634, 9075, 17383, 22661, 12279, 3122, 25607, 21566, 13126, 15310, 27835, 1084, 26948, 22568, 8331, 29696, 28589, 5237, 28009, 8964, 21434, 589, 3233, 7971, 26176, 29794, 26182, 19445, 29076, 7416, 5668, 13297, 6349, 24789, 21672, 21769, 4764, 11280, 6352, 20358, 27572, 18273, 5241, 28184, 21613, 10073, 27506, 5106, 14507, 20597, 17379, 18936, 16321, 28933, 13596, 26113, 9501, 26302, 27264, 21336, 21784, 13941, 27721, 23657, 2891, 7672, 23581, 655, 5609, 22916, 29708, 2187, 7890, 27936, 9684, 22552, 17498, 23090, 3545, 13338, 5630, 16925, 661, 12488, 17679, 14667, 6772, 4379, 13392, 26292, 9695, 22464, 16601, 10987, 17253, 2955, 27129, 6447, 16472, 25468, 284, 12849, 4553, 15952, 23169, 24128, 29066, 10082, 25124, 25194, 2291, 17847, 2035, 29570, 18996, 15055, 29316, 556, 14560, 23097, 23949, 4433, 8421, 18854, 26989, 18833, 14852, 11188, 8292, 22778, 2719, 10458, 17865, 17819, 4354, 16877, 27446, 29068, 27290, 22245, 17585, 16458, 29369, 27495, 21019, 5793, 7207, 591, 4247, 772, 15559, 29138, 13909, 23381, 11290, 28799, 25701, 5396, 21750, 18611, 16357, 14072, 995, 14699, 4599, 9793, 19154, 23244, 16785, 7900, 96, 12894, 29049, 9426, 25111, 26190, 16662, 5182, 12555, 26117, 2793, 6809, 2633, 20523, 19490, 10842, 7, 25068, 8449, 4737, 5838, 19167, 19196, 14643, 21112, 6873, 22033, 7146, 14920, 1622, 6224, 16580, 10612, 2724, 11326, 23920, 10314, 16912, 1774, 4205, 16956, 256, 909, 17308, 12087, 12094, 3540, 3307, 2000, 13738, 25200, 29426, 19923, 4699, 18058, 24217, 23464, 13506, 22998, 770, 15884, 12147, 2481, 28760, 12253, 28335, 15757, 18918, 18812, 8364, 4866, 29396, 11490, 21885, 16102, 34, 15232, 24298, 15095, 2580, 17828, 241, 17998, 13306, 6511, 21538, 19734, 8685, 25505, 10863, 5756, 5127, 24248, 4690, 27320, 18036, 21830, 16847, 21197, 18784, 17309, 14641, 27407, 10847, 26684, 15430, 19759, 1474, 21312, 15799, 10697, 26112, 16400, 23771, 3270, 15543, 2979, 13651, 10048, 29767, 3009, 12473, 29024, 19718, 9794, 25817, 19728, 22768, 22253, 6797, 27574, 5230, 9300, 3171, 3595, 28614, 28134, 10832, 14666, 24673, 14097, 7792, 9866, 19959, 28116, 14994, 14194, 10244, 3785, 26333, 10895, 22663, 9967, 16251, 25289, 9229, 20994, 12882, 7751, 13959, 20156, 9055, 23256, 29096, 8333, 16588, 21256, 17233, 29181, 6150, 368, 23177, 23585, 4638, 9278, 11277, 15492, 15013, 19059, 14037, 28070, 16217, 5165, 29954, 27932, 6812, 6000, 6368, 15740, 27714, 11865, 27672, 7556, 1707, 21128, 20674, 16176, 667, 6017, 16964, 28357, 2370, 14435, 17974, 4242, 14752, 6871, 10722, 17989, 3515, 4818, 22420, 16484, 25983, 16423, 11765, 22929, 27434, 8381, 14604, 28310, 8940, 11177, 169, 29217, 16725, 20657, 23161, 18338, 15407, 11403, 2832, 26944, 3988, 28798, 4905, 3804, 20238, 19244, 21468, 6507, 6351, 16911, 16132, 27169, 6799, 2141, 8654, 5313, 23096, 21115, 11768, 26554, 3977, 12069, 3982, 22838, 799, 4814, 23665, 22143, 14209, 17726, 19084, 24110, 22808, 10552, 21276, 17602, 8372, 14304, 25402, 1916, 192, 23521, 4911, 10187, 8929, 16582, 10886, 24043, 7893, 11551, 8686, 21144, 229, 13998, 15010, 20149, 26110, 20122, 14989, 7098, 25602, 29173, 23263, 16311, 14947, 17197, 11676, 1938, 21922, 9969, 11050, 11496, 4959, 1953, 25412, 19001, 7293, 18626, 5725, 2591, 20213, 19676, 28854, 9628, 27762, 3979, 25644, 20614, 27272, 20837, 27510, 14291, 26637, 3535, 6164, 21886, 7711, 17351, 10741, 26764, 28272, 9024, 10398, 20811, 18943, 14340, 5383, 6400, 28802, 7648, 15867, 25317, 27935, 22523, 23726, 16369, 3512, 6239, 29208, 23731, 28804, 16950, 22256, 13966, 24374, 22319, 26912, 20082, 10121, 2080, 20868, 18250, 22146, 13613, 12019, 17358, 29867, 24732, 12453, 10571, 10213, 19035, 19463, 13581, 26351, 11580, 23316, 18354, 3241, 17136, 16324, 16373, 25893, 5766, 9107, 22328, 4554, 14088, 19229, 12303, 10441, 24470, 11286, 6656, 17363, 25174, 6201, 22540, 4050, 20914, 9245, 13406, 23199, 3930, 9134, 16016, 10544, 17139, 3408, 19715, 23734, 647, 9043, 27315, 3666, 387, 10764, 7371, 8548, 24004, 20516, 21118, 2876, 23223, 9059, 3973, 25477, 14862, 5122, 19053, 3259, 21218, 26573, 22643, 24444, 17374, 5369, 6986, 9270, 3252, 10908, 2261, 25335, 14659, 29036, 11811, 12168, 17270, 24060, 16137, 9668, 23879, 14744, 385, 20650, 28443, 9496, 18227, 8236, 8356, 7783, 3276, 19062, 26733, 14735, 18347, 29345, 19753, 7059, 2548, 5680, 18521, 21026, 5263, 15563, 7387, 21556, 6564, 23650, 10927, 23567, 20587, 2489, 22933, 26659, 2679, 1839, 7072, 8568, 10573, 8819, 24876, 29204, 14287, 21741, 22560, 11942, 29530, 4195, 15375, 15881, 2075, 24536, 23838, 18483, 21522, 26444, 19824, 21320, 8623, 13395, 12148, 11635, 29133, 4491, 8395, 16262, 20906, 13698, 18982, 26017, 8531, 23913, 13572, 23617, 16091, 1508, 28836, 8388, 17493, 22378, 9863, 20090, 13290, 12249, 6845, 13986, 19107, 10033, 24996, 6186, 25914, 13785, 9854, 18200, 16973, 19022, 22357, 24657, 22, 14773, 14968, 22880, 27565, 26968, 15154, 28204, 5852, 26885, 6778, 11840, 28884, 28726, 25014, 1028, 20206, 21519, 27785, 29219, 20382, 8848, 26756, 8841, 3437, 19527, 3616, 3808, 14847, 25462, 9970, 21772, 27437, 26500, 29466, 11201, 12098, 25424, 9842, 6537, 29175, 21775, 11648, 5742, 14478, 23591, 11591, 28392, 29872, 8393, 14301, 24469, 18181, 25146, 5392, 13577, 5959, 17802, 19346, 6875, 4894, 8516, 17200, 29470, 26728, 15051, 6013, 11846, 29865, 9046, 3173, 13020, 13438, 6755, 7358, 28129, 16652, 8358, 11235, 21233, 20873, 7143, 9625, 18476, 840, 21910, 10892, 28805, 2127, 2358, 22191, 2171, 25106, 13104, 18814, 5132, 23520, 14103, 23666, 15408, 19219, 26275, 22336, 15690, 19153, 10838, 1863, 15413, 2371, 17746, 21604, 8066, 3758, 23757, 28207, 17477, 21938, 19678, 885, 11029, 6555, 11713, 8727, 347, 11872, 11825, 21267, 5188, 13702, 5532, 3739, 18925, 15429, 7623, 19821, 22616, 16554, 29914, 22577, 19695, 23339, 11864, 11616, 25638, 1215, 22692, 10028, 18828, 4884, 2801, 24852, 7927, 16686, 23923, 24131, 18798, 3506, 15049, 25595, 5796, 28775, 11810, 7147, 12530, 16229, 5612, 15588, 18604, 26127, 16814, 27976, 24315, 14545, 28788, 28619, 17945, 15486, 11325, 5898, 9319, 25529, 9522, 17497, 10194, 18706, 6953, 19044, 25264, 14503, 16799, 384, 4847, 25231, 26996, 25099, 27655, 17195, 14111, 4909, 27726, 27155, 19943, 4416, 1082, 18199, 16626, 22168, 2689, 20817, 5901, 29784, 10696, 23761, 12139, 7549, 29694, 27713, 26160, 8975, 6029, 11921, 27395, 25161, 12320, 7151, 9263, 1384, 17496, 25523, 6490, 7250, 9244, 14447, 577, 9928, 5763, 3497, 18739, 1862, 11389, 2185, 3775, 25178, 14089, 18188, 1883, 23951, 20025, 2846, 7182, 14635, 2795, 28549, 23869, 11867, 18931, 16015, 18746, 21201, 16449, 19808, 4686, 484, 27197, 25895, 22158, 8656, 16011, 9511, 24607, 13384, 1715, 15317, 28397, 19391, 28618, 13028, 23791, 16556, 1788, 5928, 6039, 22187, 18430, 2635, 11617, 24934, 1554, 5044, 12923, 26274, 17820, 36, 10335, 6585, 25634, 1436, 2886, 29089, 11343, 3934, 21683, 13544, 19383, 3553, 14740, 18245, 22362, 24261, 10216, 10137, 19419, 2802, 11976, 24249, 7678, 8057, 12171, 10155, 14079, 1640, 29205, 15332, 28939, 5196, 12614, 22136, 20458, 13687, 3255, 8837, 9321, 11807, 21921, 28908, 24297, 21785, 33, 11031, 6822, 18956, 4838, 9344, 18496, 24619, 20121, 7412, 20836, 15420, 17899, 5684, 4865, 26092, 4632, 17075, 29561, 453, 15313, 9366, 22735, 9885, 27873, 9811, 26143, 5600, 16766, 3518, 18024, 27257, 829, 10409, 19809, 17888, 13525, 5149, 16196, 7300, 11472, 27505, 2161, 14808, 381, 18641, 6148, 2782, 5199, 24570, 7254, 24483, 4872, 8897, 7395, 14529, 28766, 14993, 23497, 17244, 1899, 18642, 13312, 18195, 14001, 7253, 10709, 307, 14284, 23493, 26895, 29111, 8487, 23334, 24028, 19089, 20058, 22826, 24041, 1251, 25877, 6678, 82, 4769, 12824, 17973, 17384, 16331, 27659, 9121, 1797, 7021, 8937, 19854, 3444, 10400, 25898, 14269, 19511, 10859, 16226, 10060, 4689, 3888, 18256, 10714, 27305, 13393, 26734, 8397, 3136, 10724, 1735, 25252, 15510, 546, 3244, 16870, 14359, 24974, 16394, 19348, 25150, 11439, 12785, 20683, 28263, 9949, 19922, 16241, 3014, 24314, 27182, 16587, 24460, 13310, 10167, 14986, 27689, 20356, 19891, 11261, 14150, 28590, 22870, 27160, 24910, 24071, 9525, 16127, 7192, 593, 3561, 4914, 29908, 29628, 15555, 23843, 14712, 2131, 19794, 17495, 28022, 13551, 21833, 18723, 12705, 28650, 22132, 25517, 9976, 10903, 14252, 15946, 9644, 28220, 23594, 263, 12065, 7835, 3345, 7378, 2033, 155, 13532, 12038, 29990, 16569, 2448, 10865, 4676, 6369, 3938, 7902, 3903, 19247, 24058, 10679, 19679, 11225, 10154, 28946, 13019, 6529, 8609, 15706, 21041, 15402, 27957, 18118, 26216, 29324, 25031, 266, 20505, 27051, 8883, 28771, 28283, 14401, 1649, 1721, 24258, 15255, 24980, 22445, 22166, 16079, 7857, 23453, 2029, 23680, 4550, 7928, 25347, 26630, 8306, 24268, 23881, 196, 15016, 13266, 20436, 9133, 20456, 20702, 12376, 16479, 12456, 12118, 2616, 10590, 3315, 1558, 8599, 9108, 29104, 14272, 12187, 16886, 10378, 8370, 9543, 4971, 1912, 7785, 19688, 26893, 26317, 18659, 28318, 17694, 17751, 21100, 28754, 22101, 4694, 13564, 5160, 29680, 12095, 10141, 2450, 24746, 5376, 9307, 28054, 28484, 22003, 16951, 21860, 12379, 8640, 25197, 9504, 16254, 12364, 15007, 25079, 11022, 4639, 11296, 15535, 28241, 29079, 21397, 26997, 4995, 17692, 6181, 19453, 5509, 13137, 26802, 28886, 14674, 17286, 4410, 13099, 14095, 7941, 27312, 6045, 920, 24614, 4952, 19308, 2015, 109, 15985, 4515, 9427, 8850, 5339, 9430, 29034, 14133, 25346, 22924, 9995, 20949, 16526, 25901, 23267, 4670, 18539, 17961, 23562, 10030, 2023, 27834, 13593, 29267, 28784, 8368, 20696, 10183, 161, 7775, 12859, 3723, 14445, 18079, 23274, 26763, 25659, 27288, 28716, 25818, 617, 1188, 13500, 22170, 17345, 477, 16977, 587, 23506, 13684, 28524, 18393, 27625, 15444, 997, 8749, 19083, 4830, 23742, 629, 17213, 9977, 14865, 18249, 17418, 23655, 26206, 1880, 24644, 20695, 10775, 13919, 16840, 27617, 5218, 6344, 5024, 29879, 24380, 17470, 16022, 21416, 12154, 18006, 29053, 16310, 2860, 5764, 25044, 9031, 5947, 10815, 21351, 22944, 2155, 13225, 24097, 15488, 16719, 19535, 20772, 5055, 28918, 26329, 3249, 14157, 7979, 28668, 4145, 626, 4713, 4382, 29851, 16751, 9086, 15574, 9645, 20537, 25432, 13398, 12815, 12338, 29753, 2519, 29215, 20078, 13482, 8536, 28146, 7028, 13508, 4289, 10974, 4562, 3206, 23248, 6811, 5663, 19112, 6496, 20012, 1098, 26907, 29558, 17599, 27941, 26582, 15266, 8344, 264, 26061, 29744, 21534, 1854, 26068, 13917, 4520, 19068, 11037, 23508, 8317, 28705, 4434, 27416, 415, 10857, 16920, 14189, 5348, 3331, 19248, 22434, 1545, 17755, 27116, 21607, 17855, 5554, 29148, 27414, 217, 10103, 7292, 13957, 26600, 2198, 4482, 27789, 2270, 26953, 15658, 29640, 7333, 15984, 4767, 22079, 25473, 13270, 18162, 3529, 19817, 9953, 3470, 15184, 7585, 23469, 7949, 19479, 5760, 15527, 5926, 20139, 26568, 8812, 27880, 29152, 6763, 12710, 15218, 5678, 10290, 7225, 10582, 15920, 29713, 21245, 7410, 22324, 10913, 10644, 29625, 26081, 8363, 28797, 15571, 27738, 20267, 12146, 13989, 22877, 3088, 3105, 19981, 14025, 11291, 18361, 26793, 4720, 14566, 21884, 22278, 24863, 14329, 11592, 16247, 11508, 21912, 5065, 16825, 12827, 24589, 25057, 18441, 3451, 19746, 9288, 13333, 25732, 27810, 28099, 7547, 3665, 8410, 15550, 16833, 22974, 27611, 23775, 433, 11620, 15403, 4749, 17717, 27302, 21051, 24147, 3844, 4531, 17766, 5500, 17677, 23257, 3005, 29178, 16868, 28564, 16186, 5354, 19828, 16076, 7841, 7579, 25856, 17596, 3216, 17316, 17641, 13655, 4501, 19354, 21564, 10559, 23797, 1367, 23178, 24557, 5204, 14424, 1221, 11689, 28135, 18910, 18821, 28741, 15736, 6405, 13236, 9708, 28256, 21471, 7638, 14618, 13603, 9149, 22236, 6189, 17512, 19082, 4893, 16305, 12569, 25528, 10589, 27491, 28992, 94, 428, 28320, 24385, 27829, 3735, 7357, 8283, 17216, 24550, 7535, 11072, 16738, 24260, 7401, 12803, 12853, 16572, 494, 6222, 18612, 27823, 7388, 5428, 14264, 25861, 16700, 2001, 11317, 19108, 20634, 3172, 8093, 27757, 25489, 24705, 26872, 863, 14490, 20474, 7181, 14505, 3434, 29888, 10823, 27907, 27654, 9557, 15179, 20977, 3541, 10652, 28642, 12144, 28899, 19994, 23376, 2482, 19057, 28821, 2335, 17864, 11902, 7843, 7058, 17467, 24628, 17184, 6276, 25155, 9714, 7474, 7080, 20306, 17468, 2382, 9805, 16141, 3329, 29818, 25449, 8671, 26983, 17402, 8042, 25938, 24753, 17392, 28440, 7196, 3763, 25404, 26441, 21080, 5247, 14907, 14491, 21730, 29615, 28176, 1035, 16228, 29627, 10617, 11997, 10382, 16837, 14615, 20533, 21361, 21228, 19549, 2122, 5467, 3633, 14655, 18994, 29223, 24235, 12407, 22250, 24748, 16885, 29987, 9552, 14075, 27594, 29411, 7726, 17823, 11587, 7706, 6077, 3427, 2088, 28175, 2330, 12402, 1075, 2369, 15683, 1502, 26245, 15328, 26249, 17410, 24092, 6379, 29125, 15926, 15833, 26655, 290, 13583, 27352, 28121, 22550, 11841, 18670, 8688, 22294, 12752, 27657, 18900, 25506, 7852, 19757, 5706, 27500, 6515, 1639, 16470, 11153, 18106, 4470, 10925, 16670, 12033, 10924, 4460, 17584, 10174, 13692, 18072, 20802, 7656, 24196, 1959, 5754, 23216, 13317, 23801, 11730, 27166, 22581, 9255, 5391, 16278, 16929, 9151, 15625, 10664, 29298, 7105, 19887, 4602, 24671, 23012, 5070, 17555, 21208, 19311, 5163, 16623, 17972, 16363, 17092, 27842, 23023, 6036, 23194, 5158, 9038, 5588, 2166, 29819, 11046, 14822, 4288, 6704, 24350, 2731, 5185, 1139, 8485, 26839, 15561, 16187, 7030, 1258, 880, 23547, 22233, 27602, 7767, 6767, 19482, 28723, 9964, 21044, 18782, 2740, 23817, 10733, 6474, 20583, 2287, 27898, 24939, 18728, 1827, 20511, 3155, 21073, 7584, 7159, 16166, 2126, 18164, 23286, 5930, 8295, 15959, 3877, 13376, 29027, 26476, 24280, 8257, 28041, 28369, 16235, 10837, 183, 16966, 7571, 28015, 8435, 12829, 20764, 26203, 18893, 22850, 9145, 3029, 19732, 11527, 18345, 4462, 676, 26224, 22729, 13493, 16693, 15098, 11047, 2647, 12130, 29678, 16685, 4738, 12661, 9181, 19180, 22138, 24264, 23643, 22801, 7373, 6346, 22203, 23002, 12475, 12389, 25336, 27317, 27462, 25307, 6524, 6903, 6796, 9932, 19957, 27646, 26027, 6679, 994, 21979, 6104, 5997, 28463, 16851, 28169, 18919, 234, 25216, 5361, 27141, 10201, 12503, 20526, 8227, 8916, 29169, 1057, 27089, 9585, 28115, 22815, 4295, 18124, 13157, 715, 3127, 9249, 12737, 18841, 19338, 20334, 13748, 29038, 18998, 1582, 21714, 25157, 11423, 21082, 15847, 2073, 21079, 25683, 8742, 22326, 2396, 26811, 17860, 20672, 14779, 12028, 23507, 24609, 27539, 24056, 19812, 29105, 268, 14007, 10231, 11665, 9353, 29191, 20406, 27755, 18269, 20789, 27203, 26050, 18113, 25093, 25976, 11838, 23931, 13237, 6910, 4665, 14452, 6087, 13216, 3202, 8091, 26800, 24860, 20191, 21104, 8073, 2464, 3021, 19939, 3404, 422, 17337, 19016, 7122, 11954, 14634, 2381, 14308, 6391, 13038, 8622, 5757, 22068, 14571, 26442, 2060, 23354, 9272, 28275, 3667, 1793, 14559, 21989, 20771, 5057, 24887, 8993, 1109, 6456, 10160, 13247, 16212, 8781, 18899, 6525, 25907, 17903, 9363, 21550, 17004, 10292, 19098, 22231, 11253, 23320, 9733, 12104, 9282, 15973, 19687, 10011, 13166, 24429, 3925, 18062, 14652, 25344, 11757, 9162, 12089, 2091, 14197, 18480, 17407, 6690, 1851, 25395, 3999, 20950, 11672, 4514, 26478, 21790, 7213, 14494, 3526, 23681, 22762, 4476, 16280, 5208, 20043, 17172, 28633, 26732, 17810, 22239, 386, 2133, 19345, 6114, 5060, 29496, 29856, 2520, 864, 27304, 20784, 8451, 2011, 16755, 12848, 22474, 25910, 19774, 7008, 7377, 22659, 19831, 21721, 159, 29434, 9874, 7017, 28433, 15724, 13681, 18489, 1130, 15699, 6291, 3395, 3820, 17995, 15015, 10480, 10689, 15275, 25850, 5699, 15312, 6733, 8426, 28240, 29765, 18760, 11658, 18607, 4678, 581, 20212, 16252, 2622, 15786, 22521, 2293, 24454, 12957, 10720, 13597, 29418, 29703, 16115, 27783, 9163, 28368, 25396, 13195, 5832, 10192, 24586, 13674, 7245, 84, 17952, 3049, 22708, 11885, 5830, 17747, 3627, 5815, 20720, 9647, 7814, 24738, 1940, 12123, 20467, 9400, 28, 26939, 25221, 3386, 22264, 9640, 9646, 11467, 25210, 29326, 126, 17801, 23305, 16474, 29472, 25770, 2509, 18346, 14038, 28471, 5808, 15099, 20270, 17464, 29106, 11615, 18780, 14199, 10609, 28631, 22693, 23785, 22308, 26291, 28796, 12549, 19302, 4683, 6196, 25046, 7352, 6335, 18553, 9973, 11973, 1099, 22171, 5108, 18291, 25116, 17578, 1599, 23142, 13617, 28894, 23365, 15914, 29349, 26514, 11626, 15723, 5762, 15147, 4479, 11835, 1844, 20999, 6995, 24898, 29736, 4194, 12811, 28438, 18282, 5035, 230, 10042, 19031, 20991, 14982, 22123, 7173, 5482, 19708, 22742, 17462, 11837, 18881, 24447, 7801, 19516, 14317, 14782, 18986, 20274, 15544, 19386, 2115, 26337, 12720, 21985, 15541, 24525, 10259, 10853, 11095, 14216, 3681, 8986, 3203, 17147, 15760, 22953, 2898, 5632, 14368, 10330, 27571, 4171, 6460, 4579, 11929, 17582, 18849, 10038, 17443, 2092, 8876, 8864, 25968, 3112, 18285, 12851, 21028, 19900, 4340, 8910, 7242, 25996, 17919, 4730, 24638, 24259, 7123, 16410, 16350, 16265, 14055, 734, 20907, 6740, 26461, 8193, 14312, 16214, 27146, 29338, 13352, 10912, 15735, 14510, 7627, 7929, 14579, 356, 8729, 25034, 23979, 17970, 3885, 17938, 9627, 954, 7332, 22372, 6539, 18105, 19724, 9950, 17487, 4258, 26056, 9371, 6509, 23383, 9210, 9391, 878, 6795, 25853, 12120, 26438, 15335, 17191, 18081, 827, 5660, 23669, 5016, 7384, 4777, 18458, 9310, 24011, 1220, 3833, 27530, 242, 19091, 18444, 3431, 4371, 23308, 5131, 15981, 7349, 12182, 5086, 1362, 15728, 25524, 1193, 16803, 13629, 9159, 18288, 15168, 10220, 2564, 24492, 12285, 21069, 15357, 1682, 22238, 789, 13243, 5813, 19417, 7652, 18776, 7391, 15718, 28649, 28597, 24095, 10630, 21915, 13647, 5061, 24886, 3332, 28846, 11660, 14196, 28792, 23601, 7054, 28515, 6632, 24123, 8090, 1077, 4903, 7343, 8681, 14332, 23924, 8931, 27345, 2764, 23137, 14958, 25290, 6026, 6395, 28694, 19079, 7236, 4654, 17699, 21167, 19379, 23412, 21087, 2107, 11395, 29017, 10977, 8873, 17933, 2378, 21657, 3420, 18860, 29348, 11169, 23903, 6887, 5274, 1867, 19704, 20644, 17837, 16130, 16220, 27074, 6628, 25924, 17037, 26961, 25100, 20673, 10504, 2168, 23119, 28495, 4281, 10257, 4198, 2652, 26356, 4049, 7580, 22282, 21093, 425, 28180, 5091, 15455, 10674, 8120, 9922, 19545, 22407, 2872, 3826, 14021, 11503, 25257, 13368, 2672, 3482, 25978, 282, 16854, 17722, 21751, 5563, 3378, 3264, 6856, 24367, 16027, 17386, 20230, 18620, 2460, 1992, 12680, 26765, 25354, 19934, 20869, 66, 6522, 23609, 9308, 6830, 25905, 23310, 29124, 6057, 604, 10044, 23550, 25916, 11957, 16348, 4370, 15028, 28682, 7307, 13459, 11711, 1609, 12355, 27805, 7619, 15243, 4508, 821, 2052, 188, 11555, 9797, 29891, 10965, 28223, 15068, 15061, 26330, 20059, 4075, 5596, 17165, 27277, 14917, 25742, 1777, 20522, 24094, 4406, 3089, 26551, 7807, 8741, 29903, 16525, 25297, 15387, 28190, 19349, 6854, 2908, 18359, 18847, 29389, 2813, 23648, 10476, 29280, 13139, 22827, 10712, 20367, 8297, 24942, 2938, 28300, 5178, 7466, 19477, 13749, 29721, 11263, 9838, 10432, 4651, 24148, 13922, 25794, 6630, 18778, 19446, 15547, 28554, 21319, 28977, 27564, 11023, 25041, 24173, 28181, 18975, 25211, 28461, 27349, 16876, 638, 12945, 26628, 15172, 13843, 17168, 27063, 9839, 28520, 17818, 21585, 23988, 24164, 22163, 165, 14102, 6571, 17284, 20363, 12497, 13080, 13845, 5853, 28266, 17422, 15942, 21142, 18526, 5601, 11315, 7989, 24837, 9638, 14854, 12796, 9261, 3254, 1080, 25635, 20774, 11552, 26911, 10149, 22812, 20223, 23847, 28057, 5988, 24168, 5890, 8215, 28493, 5750, 4709, 23600, 1463, 14952, 12622, 23888, 19888, 26930, 19783, 29748, 28232, 11596, 29608, 1217, 21408, 2024, 23574, 611, 19191, 21562, 24154, 1831, 18241, 16821, 2980, 22307, 24137, 5130, 29182, 5214, 4710, 29734, 1652, 3674, 1366, 22790, 24101, 1993, 1917, 5112, 3891, 28497, 22344, 2051, 18066, 6470, 17674, 16679, 1750, 20294, 26448, 18769, 7491, 4506, 8100, 19264, 17540, 20532, 9289, 24054, 19947, 18234, 27130, 19611, 14799, 21823, 18984, 8014, 17314, 16945, 7522, 3965, 73, 2885, 18353, 11823, 2550, 11424, 29212, 16101, 23179, 23102, 16335, 16094, 18083, 26599, 22782, 13422, 28883, 2188, 9359, 18853, 858, 21731, 11734, 5114, 7445, 17901, 1748, 12427, 2673, 29892, 22061, 6206, 26819, 21097, 25287, 11518, 15865, 20888, 23720, 7150, 19385, 27681, 11342, 310, 23428, 28211, 13013, 509, 25029, 5584, 22451, 18034, 5111, 23128, 19860, 17086, 24866, 8322, 18155, 14149, 754, 4585, 2599, 8463, 5827, 14404, 10040, 25291, 6347, 14623, 25781, 8508, 18517, 18796, 18388, 4074, 16761, 8045, 11887, 3247, 18279, 25778, 618, 28907, 24881, 6927, 27569, 26689, 5607, 19524, 6838, 29730, 22859, 27383, 4937, 23319, 11380, 6891, 4682, 9297, 14576, 20372, 5172, 22224, 25040, 14973, 26200, 13426, 17380, 18048, 1562, 22413, 12293, 14697, 15393, 5036, 13894, 7704, 28248, 18646, 3861, 12571, 649, 9955, 18736, 15562, 21246, 890, 20549, 14724, 11774, 19041, 7867, 875, 24801, 11038, 2392, 28567, 16538, 9187, 825, 28439, 17323, 21155, 13893, 4577, 28958, 12895, 9959, 21205, 29977, 13362, 18822, 14568, 16585, 29973, 25832, 28806, 18774, 7244, 29234, 11247, 17492, 11373, 2756, 16006, 23661, 16902, 24668, 17622, 3265, 9314, 11525, 10223, 15174, 21515, 15526, 29783, 22355, 27040, 14581, 19814, 1703, 24650, 27338, 9027, 6019, 22872, 3245, 11498, 5864, 7559, 4149, 29545, 20993, 19540, 11633, 25621, 21759, 25311, 26719, 8898, 23043, 28177, 5166, 9423, 10059, 9694, 18831, 28737, 9147, 9907, 8833, 19702, 10287, 29092, 16372, 15489, 27384, 19558, 20497, 1402, 6194, 3457, 9562, 23707, 24896, 20572, 2788, 5548, 2842, 28420, 27131, 8348, 11918, 24658, 6466, 2157, 16323, 5751, 6719, 1209, 13092, 6582, 12606, 19140, 18616, 18037, 7874, 22992, 6676, 8867, 17052, 24082, 11288, 17177, 17753, 5332, 15331, 15219, 9600, 4299, 3727, 22511, 7534, 21977, 15175, 22844, 14112, 11878, 18111, 4439, 10079, 22847, 18972, 20331, 13766, 27529, 16245, 4415, 12132, 24843, 12169, 23392, 16200, 7784, 8679, 21572, 29368, 7139, 11024, 13401, 14341, 26288, 26530, 13202, 5279, 10702, 7729, 3195, 22167, 3651, 12559, 2480, 10846, 4961, 5164, 2726, 22213, 27071, 25678, 11859, 18420, 28126, 5287, 20822, 25042, 17196, 20948, 12665, 1426, 6272, 21379, 16304, 11594, 13024, 17457, 3405, 29463, 4939, 7104, 2582, 26469, 27181, 27125, 9258, 12222, 7031, 26712, 990, 27064, 5393, 25134, 7283, 14125, 14105, 12008, 6805, 17845, 8405, 7760, 2579, 29158, 6032, 5724, 29683, 7999, 26537, 28625, 15897, 5566, 14811, 17189, 20380, 21643, 23998, 17724, 23377, 20721, 15962, 22425, 516, 8580, 24781, 17712, 25357, 10992, 2129, 18356, 4876, 25243, 9184, 6101, 23236, 24583, 9612, 28628, 19497, 24318, 25055, 29341, 23449, 9639, 14480, 17840, 15192, 20727, 24937, 11433, 9821, 3757, 21685, 27980, 8341, 29648, 7523, 25667, 14074, 2534, 2354, 13456, 18927, 16637, 25599, 13910, 22930, 5427, 7137, 15919, 2494, 10021, 22144, 22153, 11612, 1443, 13942, 8043, 5353, 10487, 18253, 3517, 11306, 7986, 24867, 22559, 12043, 15791, 5389, 18827, 20133, 2208, 18666, 17409, 8581, 18375, 18152, 6508, 19626, 18523, 21174, 9775, 17508, 11538, 12975, 7837, 24684, 11264, 13926, 28544, 351, 26280, 14819, 28349, 14833, 25303, 4452, 20903, 16944, 11262, 17884, 23573, 8951, 17619, 11632, 17326, 8484, 7331, 16205, 70, 2538, 9632, 27273, 621, 26348, 29529, 21377, 6477, 3164, 19015, 23842, 16921, 19510, 26264, 24383, 27532, 16864, 22628, 14337, 28829, 10523, 22244, 2179, 21967, 24287, 17296, 3904, 22395, 18671, 13316, 22298, 23191, 2431, 11450, 16024, 15931, 16063, 12112, 23048, 18561, 5711, 26490, 28402, 7131, 22913, 7770, 29572, 6926, 21951, 29641, 19717, 17473, 10131, 7002, 25325, 19833, 10215, 18172, 2074, 15494, 9396, 11994, 17500, 5386, 14313, 24133, 23432, 8436, 10170, 16642, 23971, 11631, 15122, 4685, 9844, 17001, 27223, 20113, 13846, 23877, 1808, 14829, 21139, 18750, 2193, 2542, 6289, 12242, 21584, 11614, 2123, 5140, 14909, 20539, 16769, 28999, 2486, 21712, 16288, 28659, 2200, 25391, 20783, 5306, 11756, 16172, 3777, 3843, 9933, 2544, 25823, 24712, 11425, 10955, 15100, 19470, 2081, 3400, 3819, 9822, 10909, 1976, 25824, 4859, 10707, 4677, 18482, 21615, 28051, 19801, 1846, 22779, 24253, 11980, 7038, 1881, 9281, 4343, 19707, 14093, 11766, 1152, 25631, 3862, 16586, 4249, 14839, 193, 6452, 10097, 10596, 27915, 28358, 382, 14016, 7115, 12479, 24660, 3228, 6233, 26439, 7359, 24505, 13114, 20776, 19826, 8920, 21617, 17672, 16078, 10585, 29579, 1114, 28852, 22465, 11621, 9262, 20606, 1716, 17523, 2651, 20521, 24345, 16, 27692, 3931, 16702, 25954, 10172, 27698, 8546, 1245, 3563, 6997, 20819, 9132, 10772, 6091, 19137, 9814, 22732, 21398, 21973, 23276, 10333, 5912, 10549, 3855, 15624, 23037, 11088, 29835, 3689, 26795, 6199, 9824, 4395, 24940, 21500, 6250, 117, 10002, 29196, 11556, 14783, 24108, 21843, 11412, 15814, 9466, 20434, 6188, 15373, 19725, 6145, 8392, 984, 29885, 24201, 23557, 9558, 17279, 1828, 8532, 19515, 21826, 20432, 25596, 14472, 20416, 4346, 20336, 8390, 187, 401, 9909, 4716, 3943, 25175, 7257, 12281, 8016, 22835, 25428, 16573, 7588, 14420, 261, 4813, 8096, 24672, 19508, 16160, 14729, 23570, 18405, 20061, 27295, 13351, 12380, 20866, 10553, 26624, 9773, 3618, 257, 29313, 26107, 16610, 24402, 8076, 3291, 25935, 13012, 11413, 20599, 6924, 1520, 841, 27022, 25766, 25707, 22580, 3336, 10570, 21060, 25690, 6503, 17610, 20453, 28557, 26131, 18363, 15483, 21235, 9721, 28230, 4207, 2007, 12129, 29984, 19208, 23067, 20131, 9010, 9588, 2191, 28927, 2419, 17329, 27934, 7258, 21616, 22908, 15581, 14951, 27724, 22524, 25804, 15546, 17248, 16843, 4687, 11829, 11542, 10063, 7153, 10054, 15333, 10234, 10742, 10502, 19706, 24679, 19193, 21186, 20112, 8618, 11431, 3486, 18737, 22291, 28386, 24889, 2617, 25003, 20601, 10145, 24914, 4108, 27846, 17984, 28955, 23649, 16156, 24068, 23006, 1559, 10635, 11227, 14266, 17278, 16793, 16355, 17412, 4633, 10045, 23086, 29033, 17415, 21484, 43, 11816, 9259, 28759, 15491, 4549, 12850, 1030, 6270, 22667, 29685, 12842, 1744, 27737, 27861, 7406, 6852, 4576, 14049, 20024, 5197, 9452, 2551, 27627, 24307, 6457, 4913, 9894, 4216, 27795, 18648, 14274, 22950, 2065, 15467, 20917, 4209, 29032, 1787, 5382, 22299, 17441, 24698, 29796, 5645, 8613, 25937, 4342, 14594, 27319, 24408, 15378, 8464, 15354, 4285, 29471, 7319, 21652, 11602, 18691, 6424, 15121, 25552, 27631, 6271, 5747, 3900, 25574, 25488, 9294, 26408, 22734, 8280, 6544, 1196, 29388, 4201, 7386, 19528, 29636, 13949, 97, 14363, 10087, 14923, 24037, 24976, 25593, 27990, 3690, 11779, 1154, 1055, 1252, 8743, 23671, 2221, 20445, 25147, 29698, 27265, 7713, 11080, 25657, 8017, 10531, 25362, 11128, 14879, 8699, 15809, 5072, 26744, 24377, 9057, 8798, 18564, 7000, 1579, 2611, 4727, 22087, 29900, 24805, 27328, 16194, 18378, 16616, 3969, 24096, 22317, 16336, 28166, 29757, 11340, 16874, 9616, 4202, 19498, 26284, 7850, 25066, 13509, 3242, 21497, 7205, 21333, 14553, 3385, 1024, 2495, 8915, 19895, 1952, 24907, 6228, 15529, 1295, 17985, 171, 8258, 11175, 22271, 17796, 8606, 4483, 12071, 12151, 2636, 13524, 24909, 7166, 2662, 18772, 15176, 23407, 22813, 7184, 25165, 22673, 3634, 7238, 24085, 25446, 24555, 23149, 10910, 2615, 14640, 11628, 22553, 23561, 17944, 16866, 24226, 6418, 28510, 7376, 28040, 6246, 28998, 6471, 13496, 8177, 14787, 10407, 14567, 16722, 28431, 8106, 3460, 928, 24188, 27200, 10467, 19875, 14703, 16023, 2013, 10465, 13116, 9250, 21806, 17121, 12987, 27143, 8589, 11577, 9897, 26931, 5717, 25851, 2299, 13777, 2032, 10732, 27100, 11941, 18166, 20884, 12440, 17460, 29016, 28572, 15228, 24620, 5228, 24435, 21842, 24955, 25944, 5998, 143, 27194, 5288, 10810, 9592, 8803, 17981, 27640, 14383, 16957, 11470, 23100, 19493, 29318, 730, 21152, 6558, 18781, 17094, 1495, 28591, 8425, 16019, 6528, 25061, 29419, 12088, 23111, 22666, 26279, 11335, 17073, 5854, 6100, 4902, 11183, 25610, 5253, 23220, 28165, 12005, 11334, 606, 3963, 29088, 8832, 9559, 16065, 23447, 28672, 5603, 7460, 2516, 24655, 8349, 2563, 9238, 25814, 24079, 4901, 7133, 20598, 22410, 23203, 11944, 29792, 20019, 23641, 6951, 3941, 6863, 7647, 9331, 5767, 11484, 7680, 26701, 17237, 15496, 11374, 26607, 5917, 19529, 23953, 13119, 29983, 3182, 24204, 4739, 17131, 8345, 24254, 20781, 26651, 4168, 8759, 26307, 253, 5553, 9722, 23416, 19924, 5499, 1865, 10416, 21170, 10817, 26077, 24317, 16105, 13255, 14118, 24270, 14810, 2657, 24031, 10564, 6309, 9732, 14877, 15128, 22342, 21001, 16661, 9994, 15169, 8540, 499, 24008, 27085, 13115, 2167, 4066, 25295, 27301, 23900, 2190, 12416, 22265, 5672, 26526, 27167, 9718, 14014, 5863, 6364, 3402, 1475, 25915, 5307, 622, 29535, 23021, 15456, 27940, 15116, 18839, 1481, 14801, 13761, 4523, 14900, 8674, 5265, 25331, 26873, 18867, 13956, 18987, 9299, 472, 5965, 15087, 22315, 19119, 630, 4608, 25047, 2027, 7815, 9943, 17892, 4226, 9003, 26643, 530, 1661, 14177, 29654, 2901, 7490, 26236, 6422, 5671, 22227, 728, 8285, 12124, 4413, 14987, 16447, 21154, 11873, 16273, 27630, 11693, 13168, 9540, 25839, 17557, 24612, 12546, 14927, 860, 21505, 10138, 1277, 18820, 1824, 824, 4399, 26025, 18851, 1906, 8765, 16694, 10926, 15065, 6841, 15752, 7226, 12734, 7720, 17132, 8680, 12177, 10802, 8338, 17167, 18803, 29509, 24145, 12756, 21013, 23855, 16442, 1247, 14610, 2379, 24090, 25070, 7954, 19984, 15618, 7075, 19593, 13232, 21507, 5716, 10586, 4671, 3816, 23867, 2037, 15301, 16513, 25320, 12099, 12423, 26148, 28421, 14918, 2343, 20030, 25435, 910, 25425, 15538, 26726, 18038, 19415, 25191, 2180, 991, 12799, 15469, 11222, 15787, 1539, 28467, 4949, 19649, 9195, 5098, 14671, 13650, 9486, 24526, 3280, 9851, 10563, 2385, 29719, 12916, 23352, 22811, 15829, 8725, 4755, 3625, 4606, 23778, 14384, 6314, 12568, 12459, 27843, 8709, 25288, 26522, 29883, 166, 704, 20128, 18816, 8444, 6428, 25776, 3955, 3600, 7688, 20470, 25708, 21036, 8858, 15334, 19290, 8431, 25072, 17022, 16516, 25339, 11285, 5012, 21349, 8829, 167, 13755, 16773, 3523, 1975, 17265, 23098, 22563, 27053, 11013, 12766, 9436, 2819, 15917, 4101, 20449, 9576, 9869, 10456, 17926, 5667, 17246, 5669, 13981, 12602, 14586, 26470, 5604, 10995, 2510, 8146, 19841, 1561, 15640, 29894, 26313, 281, 11030, 15878, 12419, 25542, 3001, 20563, 11646, 25989, 17282, 16981, 11356, 2694, 23109, 4521, 17338, 13657, 19756, 24862, 29799, 29495, 7664, 28361, 11260, 10807, 9487, 26610, 16687, 18857, 22056, 13640, 21682, 11357, 18650, 15164, 15125, 13455, 4252, 7329, 22737, 22039, 1313, 16181, 8378, 29023, 9833, 29000, 21854, 6738, 21268, 6207, 2257, 294, 5093, 2320, 5440, 28866, 652, 3530, 5687, 11550, 8072, 9374, 4387, 24901, 6037, 2267, 12876, 16215, 3863, 29319, 1697, 4563, 22242, 8250, 17878, 21633, 20706, 23491, 28966, 20364, 11126, 5686, 20623, 15941, 25531, 4353, 21283, 17530, 20105, 8391, 25182, 24674, 20060, 13892, 22883, 3000, 3950, 22010, 6664, 9778, 27544, 26159, 27960, 5312, 2790, 7243, 7233, 5954, 10833, 8981, 21220, 19610, 13699, 27988, 21343, 13765, 5039, 22424, 24950, 20414, 15830, 8052, 17880, 6671, 3769, 14084, 3243, 16789, 5151, 8427, 23188, 15548, 18740, 21846, 25852, 25043, 1279, 14400, 19988, 28745, 1074, 27363, 27262, 25551, 24858, 201, 1029, 20656, 13443, 9740, 5782, 6832, 5125, 28695, 14146, 15948, 1122, 6618, 4573, 483, 4490, 8334, 13898, 7047, 12464, 29123, 11228, 26495, 15753, 6780, 13598, 27195, 22260, 4312, 3128, 17280, 16243, 25064, 6526, 13449, 25280, 338, 29589, 28507, 25739, 29839, 27227, 5570, 506, 14059, 17444, 28330, 28500, 755, 14597, 2970, 12593, 15423, 9135, 3961, 8271, 6225, 16418, 1045, 851, 25235, 14876, 19149, 9342, 15776, 12742, 12329, 29040, 28231, 8165, 14963, 17809, 16261, 11566, 4122, 10607, 9529, 26421, 12079, 6994, 26011, 9524, 21272, 14602, 6896, 239, 2567, 19949, 11724, 11851, 16645, 2010, 15842, 14692, 19392, 12964, 28453, 25533, 23982, 17773, 28517, 12514, 4456, 22154, 5268, 8561, 16162, 26243, 7398, 14328, 29278, 25843, 25023, 27531, 3722, 17607, 26272, 1056, 5599, 28677, 4504, 22985, 12443, 24669, 13203, 18095, 13048, 16320, 18715, 25670, 22980, 5769, 1572, 331, 21608, 24132, 11330, 21553, 29761, 25355, 5710, 912, 13879, 23156, 10450, 1119, 17583, 2772, 15366, 11220, 11702, 4601, 2600, 9671, 28130, 29333, 16656, 28096, 24012, 8171, 9908, 5262, 17066, 20517, 24911, 22650, 26287, 11548, 16255, 2064, 21150, 21346, 19066, 5436, 18274, 28454, 2690, 25129, 26440, 10376, 19076, 24743, 28888, 24906, 16287, 13625, 6720, 1996, 15802, 1984, 19585, 1655, 12047, 29450, 333, 26468, 17634, 22836, 23091, 7697, 18525, 1421, 10136, 10725, 26584, 14589, 560, 19918, 21176, 685, 29665, 19765, 7773, 26324, 22366, 2008, 14942, 24998, 19020, 3063, 8011, 6095, 22573, 29629, 16250, 15359, 19423, 11193, 1185, 20143, 5781, 5848, 16871, 24421, 13740, 21996, 22382, 13063, 14728, 9212, 4889, 10263, 19056, 17152, 23706, 17822, 27944, 1112, 11588, 19486, 8676, 15589, 11607, 24559, 5109, 16342, 14396, 12082, 28036, 18865, 27006, 16128, 7719, 13757, 19623, 14156, 18669, 1004, 10235, 2966, 18247, 26486, 26367, 11578, 17881, 15826, 23511, 11180, 12391, 5547, 11135, 21598, 2237, 25108, 17546, 9634, 16615, 24718, 29707, 13952, 29709, 15339, 20937, 11935, 5102, 18950, 9923, 12507, 13604, 3887, 26559, 25190, 18472, 1781, 20002, 18649, 9311, 29989, 13685, 7741, 25202, 18023, 14110, 24943, 5059, 3773, 19312, 26181, 106, 12412, 27104, 2976, 23014, 6240, 26489, 4572, 12037, 5028, 12023, 26142, 15107, 6836, 14821, 19024, 7562, 23040, 4348, 14316, 1893, 18149, 10032, 9962, 2709, 8757, 10691, 12745, 7113, 8869, 12974, 3501, 27747, 5336, 23501, 9725, 19483, 16317, 27670, 2677, 27334, 6920, 3719, 11844, 9317, 3628, 7084, 26586, 16489, 9040, 24490, 1890, 15282, 871, 23783, 1924, 26098, 27062, 11753, 13720, 17683, 23806, 29449, 15621, 9450, 298, 18494, 6489, 2857, 18261, 5597, 2853, 19684, 23218, 20147, 3455, 8751, 19013, 12142, 16216, 9532, 25821, 12783, 27073, 12972, 27909, 28416, 3731, 674, 20073, 13461, 10080, 27812, 27900, 28019, 22965, 22268, 2327, 25447, 18223, 18052, 970, 7578, 27881, 26248, 27441, 18770, 21101, 22423, 10125, 4873, 28136, 19868, 10951, 4880, 14611, 1644, 7471, 13999, 26418, 24833, 17034, 4146, 8569, 22975, 5224, 12575, 20997, 8547, 25844, 22358, 8459, 22085, 18895, 13557, 13612, 6006, 2154, 22677, 17598, 9703, 11042, 17925, 1317, 10996, 14068, 8852, 25892, 7830, 29122, 28194, 5544, 16041, 2888, 26088, 14678, 3693, 10605, 13510, 7168, 199, 22767, 8746, 17666, 28560, 8286, 23211, 19672, 25220, 24395, 12179, 762, 10009, 24157, 21820, 15424, 10061, 21168, 20556, 6237, 1841, 9456, 11750, 27707, 24250, 29171, 22785, 29816, 22795, 3043, 1809, 10056, 160, 22001, 17605, 29750, 22764, 16502, 1395, 7844, 21206, 26173, 20865, 24468, 29494, 13864, 25204, 26298, 14449, 17579, 2712, 11366, 11652, 2810, 9355, 7908, 5840, 12681, 25450, 13570, 7050, 25122, 8019, 6939, 29647, 6242, 1503, 11208, 3832, 29300, 5907, 26227, 4272, 9750, 27911, 24961, 28686, 10493, 5855, 23347, 14892, 16333, 25276, 4672, 22603, 8936, 26834, 7804, 12891, 26998, 23603, 20947, 15900, 9345, 9544, 7643, 16328, 21212, 16123, 628, 21565, 23219, 29943, 5161, 1957, 18040, 11168, 20503, 23327, 18647, 25826, 11641, 4307, 28301, 22097, 24051, 5300, 7518, 24841, 22089, 17157, 5765, 25026, 5292, 23422, 29546, 8753, 22978, 15181, 25846, 22884, 461, 13051, 24174, 23234, 26085, 29331, 19130, 1273, 8698, 21111, 12382, 24790, 3022, 2806, 13722, 27845, 26818, 4152, 23850, 23713, 28092, 1677, 18606, 14005, 4265, 4454, 8320, 26219, 17181, 18156, 26778, 9888, 14041, 26218, 21138, 24562, 7545, 28853, 5704, 1564, 15476, 29642, 16177, 11782, 24865, 3461, 9813, 12049, 26759, 218, 28377, 10657, 15957, 531, 7199, 9180, 10888, 7768, 16227, 3847, 12220, 23359, 10998, 20860, 17576, 6707, 16566, 3258, 18468, 22447, 24652, 1066, 7180, 19795, 12599, 15788, 5078, 11937, 12676, 10917, 12029, 29160, 8262, 26180, 13005, 9791, 19668, 1643, 20228, 481, 7260, 18505, 18719, 28735, 29203, 26038, 28857, 4783, 16831, 23898, 16199, 65, 564, 23151, 29009, 2245, 21887, 29733, 8874, 9338, 18718, 25555, 9787, 17072, 16949, 26417, 24995, 29059, 8382, 28323, 28539, 1435, 4225, 25427, 11991, 17642, 7478, 21130, 421, 21851, 2004, 22105, 13123, 22510, 22638, 26665, 6518, 27865, 20350, 13049, 24848, 3374, 17949, 14991, 14172, 21648, 25431, 3292, 9113, 1116, 26975, 17757, 27513, 11099, 27282, 5159, 3921, 19150, 1842, 12629, 10849, 891, 24645, 16739, 9658, 16649, 26199, 7728, 12896, 8494, 14120, 16924, 1326, 24358, 14895, 14422, 20219, 16180, 10680, 17162, 10413, 3323, 26404, 16425, 1351, 15473, 7420, 25010, 28508, 2833, 14780, 11206, 10236, 9891, 13291, 14155, 29602, 13097, 2854, 18312, 8752, 495, 7738, 816, 7441, 22476, 20165, 15276, 22276, 19182, 17912, 8490, 18593, 12474, 24077, 20159, 6278, 11699, 27285, 23577, 19101, 14824, 20757, 10205, 24935, 25145, 13641, 15038, 3058, 12292, 2769, 8735, 21647, 15390, 8716, 23928, 1784, 29292, 19955, 2621, 15716, 28444, 7422, 18527, 11308, 25799, 6643, 5972, 2147, 8831, 5205, 26707, 11190, 21952, 18615, 7734, 25271, 18793, 8279, 22263, 20763, 22195, 14800, 13419, 6151, 11359, 7676, 8788, 191, 29428, 10211, 7750, 23851, 4045, 17604, 8560, 6713, 25950, 3594, 20155, 27281, 18652, 22373, 20735, 27187, 19506, 17455, 26009, 24053, 17240, 355, 25316, 2420, 25980, 22353, 29423, 24091, 18421, 2880, 28548, 9066, 24312, 3175, 12270, 5033, 15671, 8196, 9836, 5464, 25180, 28095, 20591, 7167, 3485, 14840, 7187, 22843, 13257, 13281, 20202, 18896, 13106, 4919, 8242, 15672, 3846, 2705, 21653, 8222, 5377, 7859, 28348, 15565, 29062, 7318, 14033, 16884, 1840, 29633, 13489, 18017, 3556, 4321, 5752, 7212, 13296, 19727, 27527, 23733, 4809, 6008, 20627, 15836, 26731, 20127, 3587, 15533, 5213, 28518, 26402, 8821, 5398, 2937, 19601, 26426, 24874, 7278, 21980, 19705, 14902, 26128, 28333, 9864, 22536, 5209, 27906, 8707, 26934, 21239, 7448, 21975, 9201, 27877, 21099, 20927, 11653, 3776, 28069, 4275, 25371, 16721, 6009, 14077, 20610, 12757, 2714, 21166, 20713, 15505, 2209, 22455, 23459, 2036, 22491, 10433, 25795, 11564, 8379, 11710, 29566, 2457, 16923, 1462, 15131, 6622, 23163, 11836, 23204, 27636, 13191, 12150, 15673, 18704, 18462, 25048, 15937, 27107, 4378, 92, 552, 28746, 28100, 29803, 7431, 12494, 11494, 18090, 21800, 14201, 689, 10345, 3511, 9834, 2666, 8839, 10395, 10906, 4001, 1146, 14248, 4038, 20402, 11786, 10799, 19010, 22892, 9691, 10457, 27893, 15968, 9593, 9269, 9756, 4298, 24453, 14436, 4942, 2995, 18794, 18082, 10643, 10633, 24640, 7340, 14358, 9991, 25769, 29517, 16883, 25963, 17542, 11151, 26102, 4669, 17440, 27419, 11238, 3525, 14020, 14386, 26198, 14008, 13044, 7574, 27270, 18018, 26892, 8389, 2668, 12572, 15689, 1023, 5017, 11299, 29834, 10752, 23499, 19503, 18128, 3035, 2623, 15603, 20608, 5575, 23277, 15324, 12161, 27324, 10566, 15060, 5602, 19378, 6097, 18871, 25069, 28598, 8796, 5380, 29655, 13252, 12600, 27133, 8924, 28934, 11740, 15904, 10613, 26320, 3952, 13258, 15453, 312, 22982, 28247, 13448, 3824, 19919, 14506, 14896, 11999, 11686, 19432, 23703, 1013, 11158, 8517, 13526, 16392, 9986, 3619, 366, 4854, 28222, 26552, 13870, 7390, 12664, 10012, 15421, 18923, 19578, 27178, 17164, 16882, 24782, 2114, 12689, 1068, 16736, 16188, 27066, 21122, 4994, 12433, 15807, 1995, 24842, 23568, 27969, 16674, 4640, 27553, 10738, 24694, 12533, 19362, 19962, 27239, 28144, 18834, 12628, 14188, 14934, 4740, 2589, 19110, 29939, 8231, 15577, 1201, 23011, 10829, 20262, 21486, 13084, 9385, 11668, 1768, 23911, 10848, 24693, 13323, 13556, 28296, 13094, 10173, 24989, 25025, 26667, 13575, 1815, 14147, 14035, 11058, 5005, 6565, 17122, 4390, 28274, 27402, 9005, 28487, 12212, 19890, 13970, 22759, 27870, 24771, 18764, 3896, 29913, 14883, 8636, 19719, 9139, 14069, 24221, 17937, 843, 553, 9896, 5040, 17917, 18766, 25418, 9603, 19455, 7787, 6617, 23350, 22140, 6175, 28613, 29749, 17087, 26579, 19656, 10344, 1250, 29540, 4485, 6603, 26031, 25762, 20966, 10047, 18251, 23804, 9440, 29179, 18632, 29820, 4540, 28286, 16375, 29030, 21541, 5791, 14957, 8738, 21291, 29242, 21954, 1096, 784, 29527, 2607, 9802, 6280, 28738, 18789, 11354, 19689, 3606, 26422, 27444, 17039, 8840, 18585, 15225, 11845, 14792, 8149, 28561, 25184, 2435, 2463, 7206, 15994, 21816, 29491, 1218, 22078, 10520, 20020, 8152, 22254, 28153, 7894, 4051, 18176, 23205, 3454, 12181, 8608, 2597, 16668, 18909, 989, 26331, 11297, 12034, 12050, 10626, 11083, 431, 29192, 13131, 3240, 3728, 26966, 13027, 8350, 12657, 14860, 28685, 23852, 28304, 24642, 28360, 21493, 11344, 13964, 10967, 5993, 20101, 27091, 6516, 5074, 16120, 14280, 24472, 21314, 11394, 15208, 6021, 8316, 15785, 13165, 12163, 10043, 511, 2296, 13227, 11462, 4040, 3632, 10754, 8195, 23329, 6409, 10265, 14440, 10058, 6693, 775, 1350, 22711, 5887, 8420, 8210, 13735, 2803, 7516, 19239, 14279, 19700, 28446, 20487, 529, 20908, 20688, 18887, 22505, 17038, 24635, 3045, 4560, 4290, 17670, 6543, 16007, 11033, 14702, 28885, 869, 9871, 25615, 22459, 27685, 20310, 25482, 5424, 5417, 1602, 1905, 21123, 25414, 25408, 216, 5089, 29604, 15211, 20368, 26740, 14836, 23184, 20016, 28227, 28250, 721, 16682, 17297, 3607, 1936, 16713, 853, 8545, 21055, 28858, 8643, 25294, 7043, 27517, 20109, 24332, 12982, 5552, 19481, 15928, 8683, 16271, 23857, 10397, 21958, 10599, 28743, 11187, 22096, 18749, 2176, 13264, 21706, 19961, 8373, 6166, 24502, 20137, 25322, 28501, 22192, 24025, 24265, 28277, 16890, 8851, 4741, 10891, 2514, 7220, 4403, 9286, 26368, 13075, 4015, 24706, 12603, 21705, 3970, 8495, 26922, 817, 20485, 3040, 14748, 11127, 6773, 4283, 4723, 12424, 3822, 16675, 3137, 19407, 14378, 6454, 22229, 3304, 17466, 27799, 11619, 25581, 15738, 11670, 24924, 8810, 13707, 10505, 27464, 3438, 20042, 22760, 3429, 11348, 5879, 5077, 9293, 10116, 28989, 19897, 5123, 10873, 7952, 7854, 23437, 27797, 26457, 3046, 4428, 19573, 11336, 6872, 4519, 28683, 20493, 8328, 13192, 25691, 24941, 10326, 22757, 20371, 16201, 11461, 27857, 8074, 27645, 19277, 6909, 20183, 5661, 1806, 25579, 6307, 9886, 10934, 27961, 17627, 2056, 13954, 6482, 24999, 1915, 2706, 23296, 14295, 1090, 6648, 24982, 14972, 21064, 9236, 16669, 2943, 17803, 3213, 22730, 1552, 2515, 13661, 15477, 23123, 26754, 24381, 5520, 5831, 17352, 23426, 6569, 5452, 24534, 27962, 26293, 17332, 6230, 1184, 29029, 20898, 6356, 8890, 10084, 11778, 10750, 10939, 29692, 29282, 6497, 12809, 2275, 13973, 17516, 63, 12156, 28756, 7298, 21425, 1304, 29394, 4507, 26045, 24719, 22554, 27949, 2917, 1699, 10904, 15915, 3098, 14018, 29101, 9007, 6256, 21259, 17070, 28511, 4586, 23551, 5550, 28396, 1480, 5258, 20746, 3174, 1945, 18464, 19665, 10391, 17873, 4190, 25785, 24149, 28604, 26942, 28586, 3691, 5564, 9251, 26501, 14499, 17535, 23989, 15490, 12511, 17078, 23812, 7154, 27734, 14592, 18167, 4457, 23003, 16444, 11320, 22044, 21628, 4518, 4528, 17335, 9754, 15041, 13902, 9330, 28276, 27973, 15580, 29613, 25045, 25764, 2645, 18065, 20642, 11862, 12090, 16169, 19550, 22691, 15518, 24087, 23938, 25465, 5955, 13813, 12691, 18543, 15272, 15733, 1363, 559, 13728, 20925, 29759, 27278, 1570, 15162, 27928, 8423, 18504, 9432, 15634, 8466, 9715, 22109, 17595, 5892, 16073, 12162, 16677, 1325, 4294, 5823, 24151, 26483, 24742, 3966, 29244, 12226, 14045, 5559, 2323, 8574, 4009, 7176, 9370, 27429, 11477, 20029, 7926, 6992, 12166, 7646, 16849, 12193, 9494, 1053, 12595, 23435, 10006, 29598, 12480, 21760, 19599, 29871, 15471, 20931, 20001, 21287, 12993, 4697, 16508, 29412, 28600, 8591, 9318, 24574, 27888, 11883, 9636, 9148, 15379, 17858, 21765, 5080, 8662, 15043, 12605, 18731, 2103, 5345, 25605, 13117, 14254, 11790, 28037, 13988, 4409, 9418, 16988, 29028, 15554, 28565, 21156, 15573, 20507, 19752, 25008, 5730, 9898, 14154, 29013, 490, 9292, 1432, 25887, 26354, 515, 13040, 18654, 8034, 12529, 23756, 25415, 24729, 18263, 23595, 12450, 17910, 24792, 15869, 22508, 353, 25036, 4268, 26460, 1764, 3954, 14039, 13302, 13580, 15715, 13991, 20513, 2553, 9222, 1726, 21692, 7558, 14751, 2311, 18033, 8226, 23436, 25400, 2469, 8086, 8820, 6798, 24949, 27423, 8775, 8543, 3514, 23950, 8383, 22977, 29904, 1588, 7277, 27452, 999, 18459, 23252, 12289, 911, 20912, 25198, 17609, 19881, 8097, 12771, 19418, 18317, 10569, 23478, 24893, 19638, 17946, 14603, 5773, 7119, 15828, 9595, 5513, 15194, 19054, 19210, 20232, 6423, 21523, 11258, 23751, 643, 20659, 25819, 24965, 6162, 12246, 13372, 22036, 21414, 21184, 22788, 20033, 23343, 21896, 28235, 13283, 15875, 29421, 13516, 26178, 4443, 20619, 26194, 17942, 4079, 62, 29597, 29653, 18977, 5971, 21539, 20630, 28697, 25932, 19063, 5807, 10508, 16411, 23388, 14060, 21129, 16844, 19114, 26675, 2087, 7018, 27370, 8502, 8877, 9420, 493, 23495, 25694, 20204, 12828, 18327, 7423, 805, 22733, 21086, 11409, 21140, 8244, 13045, 16894, 29732, 17790, 4653, 10377, 28281, 28782, 4063, 8407, 19609, 26589, 24565, 20314, 10219, 10773, 4745, 14450, 9619, 21935, 28752, 21315, 6557, 10358, 18873, 1633, 18747, 11020, 25434, 26363, 29656, 6231, 17831, 26406, 1272, 15242, 17427, 25304, 27894, 25207, 28038, 11965, 21459, 10494, 21173, 21199, 24651, 28960, 3749, 10294, 12586, 938, 19467, 13582, 26432, 23606, 22780, 24161, 8359, 4170, 12941, 7439, 9354, 19604, 25669, 25971, 24294, 3362, 27497, 20438, 20259, 15761, 4908, 9431, 12496, 24777, 4388, 25747, 11289, 13814, 14741, 7411, 24427, 24093, 10218, 13688, 20710, 3884, 22292, 16437, 21506, 18507, 6786, 20870, 10010, 5709, 11701, 921, 2132, 2558, 22773, 27771, 10515, 6756, 20959, 11387, 4293, 17528, 12084, 2160, 22415, 4042, 15296, 20187, 26613, 2416, 18945, 17294, 22127, 26837, 13334, 12044, 2601, 12986, 26524, 24647, 21606, 3840, 15578, 5992, 6051, 8467, 25232, 14178, 3349, 10206, 18637, 15564, 8771, 29547, 10945, 4735, 9020, 24517, 7306, 18068, 10105, 25949, 14714, 20031, 27697, 24370, 28242, 485, 18112, 22962, 11535, 18454, 7828, 29385, 12173, 3911, 23057, 27387, 13929, 10581, 14002, 25525, 8818, 9118, 9939, 6273, 26380, 26621, 14325, 10653, 9611, 17813, 23160, 1519, 29901, 26310, 8365, 28559, 19766, 22164, 10237, 26995, 17448, 13732, 26830, 26884, 27480, 1170, 11212, 24088, 17777, 4356, 25759, 27172, 21088, 20692, 20055, 6436, 14195, 13876, 28221, 15772, 13276, 29516, 21817, 24139, 16266, 13878, 15262, 24286, 21011, 1574, 29074, 10896, 4151, 449, 19889, 27917, 10525, 151, 19461, 29387, 8768, 22620, 1132, 27913, 15012, 18763, 8268, 6791, 6723, 11112, 1605, 1674, 24820, 29129, 20256, 26650, 16405, 23084, 20502, 13628, 7851, 1771, 26590, 14220, 26721, 12770, 29864, 29087, 22184, 11241, 26566, 6519, 20411, 4435, 10186, 1778, 11856, 17474, 27664, 12616, 1733, 10540, 17895, 862, 23154, 4935, 21409, 9369, 1497, 5697, 23442, 6900, 5705, 16191, 4571, 16337, 4877, 23930, 12696, 11279, 23170, 23886, 5905, 26084, 21561, 21391, 20681, 2805, 9470, 24030, 19971, 3539, 3527, 5066, 11353, 102, 29942, 5685, 7662, 26044, 2882, 3528, 3544, 18178, 12097, 13818, 14817, 13969, 17114, 26197, 10022, 376, 11522, 28931, 29738, 4636, 26970, 9848, 7576, 13701, 25618, 12422, 23175, 3199, 25911, 12932, 22501, 1206, 9569, 15909, 11245, 16584, 12048, 10349, 9665, 29090, 2098, 24351, 21494, 25498, 8977, 9988, 11735, 1909, 17484, 7624, 27041, 6987, 16596, 28472, 26163, 3380, 24554, 7788, 21435, 25097, 16647, 144, 5967, 3648, 6094, 11559, 22356, 4634, 14633, 5655, 17515, 10889, 2559, 19876, 23230, 8342, 22858, 9443, 25810, 25491, 28765, 22648, 9058, 12938, 1919, 20596, 4781, 29061, 19318, 10311, 11871, 7716, 5903, 12973, 26225, 26666, 6548, 22490, 4474, 22846, 10878, 19772, 25890, 6561, 14797, 18471, 26558, 21172, 2487, 7232, 2094, 25675, 20547, 20753, 14828, 12833, 5984, 12405, 24904, 12157, 25713, 22679, 1834, 1932, 1563, 27833, 3878, 10852, 8212, 1439, 22466, 4110, 28490, 8255, 15656, 13914, 25654, 27786, 17664, 24882, 7531, 4978, 18157, 7194, 5207, 12218, 13717, 9034, 3764, 11181, 14469, 19450, 5625, 27056, 7005, 6074, 23914, 29210, 10288, 29806, 15601, 14599, 19439, 7462, 22784, 21024, 8702, 25592, 13518, 26509, 19027, 24291, 3166, 24880, 3256, 21905, 13089, 20413, 905, 19870, 5305, 17408, 23948, 2653, 29617, 10390, 26654, 28007, 13133, 27140, 19905, 25334, 12996, 18243, 25212, 28196, 25908, 1457, 11544, 25609, 10943, 13927, 18283, 18226, 7095, 29997, 7754, 19565, 922, 14781, 9724, 28602, 16136, 12659, 15239, 12518, 6282, 15763, 2692, 14997, 7946, 27192, 2669, 15694, 1920, 5691, 22375, 21022, 8450, 14423, 5179, 15893, 4488, 11138, 1473, 16748, 11747, 7365, 23229, 25894, 1630, 16491, 28509, 22055, 24755, 22428, 23106, 20960, 14881, 8641, 18890, 6195, 9880, 24340, 24105, 820, 25217, 19412, 2071, 19840, 24052, 24281, 28163, 25891, 11463, 21054, 13972, 2124, 19436, 2280, 25275, 27046, 17907, 1107, 28629, 6152, 3810, 10902, 13507, 0, 6627, 3978, 25375, 22439, 16757, 18173, 10806, 10005, 21305, 9847, 7472, 21337, 11643, 24700, 26724, 23878, 22717, 12604, 27730, 6788, 25368, 16970, 3640, 25453, 7219, 23107, 14397, 14175, 11657, 4782, 15542, 24879, 20359, 28584, 10594, 3208, 4715, 17553, 16552, 28127, 16850, 24166, 18823, 7862, 25513, 18435, 3684, 3997, 17433, 4826, 2152, 20954, 28800, 2021, 6787, 20744, 24224, 4700, 8900, 328, 27238, 26066, 3675, 16869, 18761, 798, 16726, 20430, 23616, 29778, 2357, 3078, 24130, 5018, 10066, 15908, 12190, 21310, 405, 25697, 4789, 8168, 7875, 20312, 15250, 20481, 22970, 6917, 20199, 3296, 16602, 8357, 27748, 15047, 17375, 21601, 856, 17786, 29957, 9810, 14584, 14946, 12548, 15971, 21501, 1016, 13050, 13610, 29659, 29409, 3828, 411, 22621, 25261, 16211, 28107, 13573, 26742, 12652, 22878, 15237, 28681, 6729, 15557, 12326, 27683, 3849, 25952, 5252, 22665, 14182, 2501, 8655, 2522, 24661, 3054, 25407, 24888, 1412, 16786, 13217, 25445, 18085, 15623, 8930, 28257, 8493, 4127, 25173, 10070, 29845, 5920, 12733, 11189, 15918, 11695, 23180, 24178, 11309, 26636, 25872, 29064, 25485, 23732, 10243, 16948, 7710, 25580, 27696, 23966, 10165, 735, 9026, 26973, 29011, 15422, 22629, 13778, 32, 14283, 227, 8220, 24136, 20100, 7620, 659, 212, 14803, 13071, 4734, 24467, 12141, 8577, 29754, 13475, 19334, 8715, 10051, 27656, 4264, 17730, 3686, 11949, 21504, 2204, 5081, 22599, 14425, 27507, 12971, 5776, 10200, 10961, 22753, 11733, 14948, 8290, 19505, 6027, 718, 15259, 16907, 10115, 19767, 4334, 25189, 11581, 7324, 4988, 4083, 28531, 4318, 17327, 24726, 115, 15642, 202, 20767, 22912, 3754, 10414, 25641, 24875, 6820, 10122, 26516, 15201, 12656, 17269, 19843, 3912, 5690, 3038, 18010, 24667, 17434, 26475, 29981, 13072, 8638, 20231, 13787, 18932, 6475, 5478, 9831, 1723, 22398, 4029, 9484, 19408, 12835, 24633, 4328, 16539, 27157, 5489, 8780, 19921, 23085, 19836, 8651, 20527, 23318, 18171, 8229, 5851, 6687, 10296, 13254, 24063, 13623, 28064, 21791, 10463, 10484, 21978, 25728, 12550, 24440, 28393, 28186, 8954, 6416, 2560, 8251, 872, 10367, 21676, 142, 4761, 9091, 1047, 16492, 27031, 3796, 1186, 19621, 12229, 27347, 2644, 4646, 13934, 5355, 12793, 23630, 12404, 651, 6897, 10827, 29150, 10521, 14886, 26866, 4551, 7764, 11893, 23584, 16910, 23190, 21195, 12662, 29843, 5327, 20292, 19241, 226, 11739, 20003, 21438, 27769, 18030, 17807, 22687, 9961, 16858, 913, 2175, 1158, 4005, 22774, 29222, 15960, 14121, 15502, 3310, 6374, 18046, 16494, 24418, 6287, 9213, 18449, 14497, 2105, 3337, 16779, 13711, 2791, 7587, 23049, 3200, 21299, 10092, 27117, 8185, 25406, 5441, 5083, 19534, 3503, 6851, 23824, 20083, 15216, 16816, 25451, 1804, 28902, 5682, 517, 12934, 20081, 14073, 2897, 25953, 15081, 29168, 28458, 1248, 10209, 2443, 29007, 19128, 24279, 7821, 16210, 28841, 760, 18795, 11698, 29652, 29779, 8170, 22819, 27021, 13433, 26581, 23028, 11611, 25733, 17741, 2749, 12259, 18412, 29082, 17071, 2172, 23094, 7076, 22888, 28325, 17032, 6429, 3197, 17483, 29253, 28575, 2763, 5937, 24057, 29269, 20216, 3060, 7096, 10039, 13752, 839, 27550, 16208, 16638, 1477, 10085, 18212, 20354, 18442, 6468, 12754, 6115, 14135, 16466, 12985, 3940, 2894, 15927, 3142, 15751, 20828, 18979, 9798, 18368, 17053, 22535, 2781, 5594, 4820, 11016, 19736, 7282, 5914, 10625, 17534, 14966, 535, 10150, 22301, 13241, 27258, 27029, 26281, 9777, 2988, 25866, 12461, 10381, 7636, 20551, 14651, 29689, 17376, 7276, 19405, 17676, 6245, 21702, 7598, 17736, 25889, 5916, 5539, 26794, 19292, 10323, 6286, 7397, 208, 25162, 11706, 10793, 22251, 16781, 10784, 9290, 6458, 19580, 1237, 11582, 25262, 12042, 15316, 8419, 20651, 1155, 19913, 25356, 4154, 1600, 18619, 842, 26210, 769, 28583, 11493, 9198, 17778, 791, 15205, 7132, 14617, 10227, 11915, 18132, 1819, 265, 1397, 21588, 2609, 6260, 25535, 3678, 1017, 11116, 9516, 21627, 16639, 25187, 8272, 8115, 14621, 15775, 22277, 15008, 24239, 15212, 9313, 19530, 21946, 23233, 25909, 2, 20342, 3154, 4812, 4890, 6142, 6492, 3387, 26341, 17401, 19032, 11821, 23773, 293, 7653, 2834, 9912, 3617, 14855, 4977, 20087, 15504, 4869, 10726, 14945, 5923, 2020, 27248, 1903, 24772, 27641, 6096, 28900, 11316, 28767, 14625, 13149, 3481, 25540, 17232, 23297, 17814, 9712, 26572, 3821, 20282, 12381, 9093, 502, 4973, 13155, 19186, 25873, 26851, 15103, 10637, 11741, 17453, 8353, 15995, 19183, 12302, 27950, 25965, 18917, 11242, 1589, 2960, 24787, 26678, 20684, 18844, 14541, 28343, 13977, 29702, 5693, 8922, 29108, 25319, 14451, 17186, 11323, 24486, 29307, 17966, 16535, 1960, 20843, 4938, 18266, 11102, 10001, 17763, 2540, 20142, 9937, 9323, 21062, 29078, 12810, 2362, 22029, 15966, 21563, 1888, 26254, 17229, 11265, 19065, 25083, 8416, 8919, 8909, 29789, 9056, 28137, 9901, 23055, 4888, 4546, 16368, 4834, 17863, 4945, 5515, 20085, 23282, 18469, 14057, 12917, 8455, 7004, 7978, 26359, 14372, 29857, 21415, 13691, 13354, 7078, 10123, 24917, 24952, 20852, 2626, 27011, 8860, 6739, 21579, 232, 22857, 20945, 2814, 8999, 669, 12250, 14193, 3348, 1137, 25300, 9218, 14565, 22739, 20284, 20605, 3472, 9192, 26230, 1345, 12935, 9904, 21549, 22365, 29813, 12900, 79, 23446, 8658, 8000, 26211, 18465, 10374, 13136, 13175, 17028, 23925, 833, 1257, 16558, 26378, 10049, 56, 7758, 11054, 17490, 28494, 26703, 304, 17661, 4223, 26340, 27028, 1240, 12330, 18320, 16938, 3756, 9972, 973, 722, 9167, 5404, 23155, 21175, 6989, 27377, 27225, 18653, 7335, 14871, 16625, 14158, 17794, 25879, 24405, 29600, 17362, 24804, 13356, 28570, 14139, 11436, 7020, 15307, 21920, 27454, 17850, 15383, 25183, 18322, 16592, 19770, 26550, 9193, 1526, 10035, 19896, 10017, 16895, 5785, 22303, 7310, 2350, 5099, 29347, 12551, 596, 479, 9667, 2242, 23125, 13042, 24035, 26902, 9365, 508, 10459, 28607, 20622, 20308, 17190, 24006, 7128, 17830, 4969, 27542, 20855, 4047, 19662, 9372, 20215, 7834, 6669, 1179, 19262, 27939, 24626, 24723, 17411, 11304, 23217, 25656, 14562, 16522, 18116, 26844, 17018, 6339, 22241, 1467, 4941, 27224, 6732, 18129, 4828, 18021, 2434, 29684, 1817, 28174, 1210, 18639, 8125, 21590, 26515, 19823, 11219, 5062, 21292, 15345, 26420, 14515, 7659, 10182, 24022, 763, 11962, 22680, 14431, 15104, 10328, 4875, 27474, 28437, 18437, 8326, 28408, 24627, 26414, 1591, 16699, 15365, 15157, 8424, 27509, 29686, 7634, 2914, 22593, 26103, 26387, 27115, 852, 27606, 12286, 23805, 14124, 20006, 10406, 28862, 19310, 10426, 6977, 25215, 19754, 21959, 23070, 2461, 24981, 28645, 26706, 5768, 27538, 6200, 6846, 18668, 16848, 26879, 26680, 9549, 7595, 20079, 1358, 15001, 28997, 23126, 25606, 4441, 19011, 633, 20473, 20911, 9495, 16203, 24983, 18022, 28535, 18856, 23872, 7481, 29801, 18314, 3599, 29452, 20506, 25757, 4068, 3426, 27057, 10107, 11563, 17272, 7093, 29275, 15367, 11637, 11819, 10958, 2637, 23419, 22460, 24125, 18209, 13619, 27927, 7567, 21431, 3748, 12852, 25981, 14980, 12760, 23885, 21891, 22492, 26799, 543, 14067, 3945, 6465, 15654, 10373, 15600, 27449, 1763, 3490, 8866, 16195, 8117, 28002, 8634, 16968, 12904, 713, 17797, 13980, 3612, 14239, 23466, 4465, 4714, 8750, 11914, 14119, 10305, 1672, 23868, 29739, 23715, 10099, 23198, 23990, 16454, 20741, 18130, 12211, 21056, 8293, 18287, 4277, 21302, 5758, 21098, 5664, 29737, 5727, 27376, 11904, 29425, 12988, 28189, 9191, 26560, 10717, 2493, 21222, 14344, 16308, 1014, 12638, 6840, 22881, 13207, 18217, 3281, 2649, 16995, 5318, 29905, 19908, 28709, 25413, 16960, 7682, 9022, 774, 20575, 28271, 13107, 11537, 27259, 6696, 21177, 23536, 4695, 6842, 10090, 2232, 5919, 10320, 26782, 26253, 17876, 12976, 8102, 9264, 16038, 17436, 13521, 11520, 12306, 18008, 9599, 8838, 7515, 26674, 18275, 29993, 3909, 1810, 17838, 2017, 23571, 7295, 29991, 21527, 23467, 18888, 19049, 12655, 6043, 12949, 9190, 17405, 6030, 28244, 5546, 6904, 27897, 4314, 5459, 7539, 19093, 2106, 305, 15745, 20376, 3682, 28091, 26326, 7227, 27541, 8767, 10312, 2030, 21997, 3341, 21767, 10687, 29963, 28891, 14187, 26917, 20590, 12316, 207, 1216, 11923, 653, 25345, 18424, 7117, 9491, 21542, 2767, 1731, 1820, 15975, 1535, 8705, 24827, 18379, 4618, 12700, 10937, 16875, 17207, 29317, 4155, 21610, 3860, 20049, 25779, 21214, 24165, 26499, 3695, 13469, 526, 22228, 15326, 28844, 11039, 12332, 18189, 5088, 26019, 28850, 8941, 17671, 21491, 19280, 29107, 5961, 10588, 23811, 9358, 20224, 13762, 15704, 14849, 19, 13992, 18948, 9615, 12579, 8442, 4499, 3306, 6288, 8059, 18759, 18542, 19588, 10831, 9697, 4115, 768, 16959, 27905, 25196, 7822, 23424, 20161, 25717, 1724, 19283, 19590, 18364, 22556, 5524, 29962, 28710, 22954, 10008, 22604, 15880, 25811, 15902, 18735, 10019, 27673, 6697, 18513, 24631, 25156, 25629, 17570, 23264, 1368, 697, 1878, 4028, 8319, 27954, 27761, 12133, 2734, 1340, 14612, 4762, 22028, 22077, 10222, 8147, 5683, 1348, 9698, 20320, 17543, 10300, 10303, 23130, 11417, 4235, 21972, 17225, 16238, 13399, 20662, 21893, 51, 26512, 21368, 8288, 1794, 25487, 14904, 6955, 27867, 28168, 17219, 2415, 29252, 27001, 14427, 13633, 7795, 23017, 20509, 14034, 10159, 3124, 11832, 828, 21680, 21232, 28529, 8174, 20396, 13332, 7273, 7026, 4420, 9000, 10966, 3382, 176, 9052, 20291, 8795, 28342, 9643, 26375, 12872, 20352, 3393, 18951, 7118, 21448, 23828, 29174, 21487, 28621, 23583, 29704, 28152, 3744, 28606, 21251, 25409, 24598, 26132, 26174, 22133, 14473, 25384, 3737, 13268, 20555, 22874, 24807, 26145, 12854, 2192, 22828, 29701, 22867, 9012, 1514, 17589, 24750, 26350, 21132, 12564, 10132, 945, 14454, 13994, 23906, 6358, 2861, 10554, 3086, 10387, 2241, 27017, 2260, 24979, 2305, 12036, 4587, 22822, 29186, 23658, 695, 4805, 13997, 14360, 23722, 19494, 22542, 10758, 14878, 1553, 4674, 20479, 24548, 2716, 9999, 22715, 23936, 6183, 3629, 11532, 4172, 20148, 7262, 16207, 22128, 17031, 9884, 11246, 10550, 11349, 23052, 11390, 5623, 21503, 5540, 22791, 22440, 26220, 24687, 5075, 11056, 10616, 24541, 21510, 19216, 19844, 7442, 13624, 22485, 9829, 11446, 28432, 16967, 7290, 24274, 7215, 21552, 11870, 29447, 6814, 29207, 14789, 20278, 11319, 10778, 3642, 6942, 17951, 20273, 25957, 6996, 231, 12610, 13349, 28151, 29510, 23588, 7203, 3692, 24362, 18921, 21034, 373, 8682, 21462, 7608, 19090, 5367, 6044, 23004, 13370, 5720, 25386, 24320, 1268, 11209, 4254, 374, 19617, 19023, 10109, 1922, 3235, 29266, 1934, 20848, 6117, 9226, 20678, 23122, 13250, 2961, 18150, 25628, 9166, 5030, 25591, 11507, 13434, 11678, 22639, 15743, 4623, 26277, 5986, 23167, 1070, 25917, 7736, 14893, 20332, 4543, 25348, 1404, 24595, 14184, 5027, 28592, 14575, 15901, 21358, 27367, 1222, 13995, 2594, 6411, 2498, 16036, 21813, 14009, 24475, 2537, 8447, 13737, 1722, 27470, 4121, 8051, 5235, 16904, 11028, 8966, 6330, 25367, 6241, 5933, 14267, 27090, 11298, 12609, 27127, 11313, 6498, 25457, 28046, 26060, 26710, 8063, 20460, 27554, 29004, 11718, 29121, 13112, 17228, 14656, 9036, 11133, 29917, 4003, 6779, 15088, 2140, 15027, 23719, 9521, 16551, 1532, 25167, 18002, 26656, 15778, 14523, 14455, 4088, 9982, 7827, 11630, 20867, 4925, 6923, 11500, 6502, 13866, 2201, 576, 3538, 5906, 27163, 7779, 1320, 22182, 11799, 6310, 9141, 14471, 17356, 29250, 14012, 13035, 18175, 25394, 11274, 6025, 4109, 9772, 24861, 4662, 16581, 16483, 24442, 13180, 14932, 25095, 23633, 12769, 13716, 29372, 12313, 12519, 12258, 20833, 21678, 22969, 18727, 11341, 9208, 11570, 19839, 28527, 22206, 1847, 12336, 19977, 18700, 9453, 8088, 7381, 22567, 25603, 13727, 11000, 9989, 7383, 28822, 26987, 20197, 14841, 590, 12217, 3234, 3568, 27476, 16286, 4030, 21196, 21288, 5298, 18146, 6360, 17701, 23032, 24257, 26186, 5174, 20935, 28158, 4948, 25767, 28543, 11890, 3031, 4760, 23922, 19340, 4552, 22895, 18757, 22494, 21992, 1270, 13327, 830, 17342, 25706, 5359, 18858, 27808, 26617, 15742, 2377, 22339, 23241, 26379, 20253, 11371, 18211, 5822, 23597, 6708, 16012, 13458, 7796, 12931, 15748, 27994, 27118, 8079, 9499, 28736, 27482, 22149, 7757, 23072, 28994, 20905, 1964, 16680, 17665, 15031, 959, 29413, 2750, 26780, 21396, 16557, 14129, 8814, 22046, 25650, 29460, 23592, 1758, 20075, 23132, 6639, 12592, 28141, 4213, 12267, 26086, 26946, 17658, 14868, 350, 3320, 24117, 15956, 25658, 11744, 10920, 23945, 28011, 22601, 16913, 14843, 2137, 24616, 3565, 14173, 28562, 10018, 13366, 7009, 1441, 17639, 24398, 6520, 3746, 29723, 8198, 8522, 27866, 28667, 21192, 6247, 17817, 15138, 23876, 4580, 7389, 2936, 8314, 20157, 2892, 29351, 28045, 2072, 8713, 23, 29293, 10614, 17145, 1580, 19075, 24424, 18180, 26303, 19298, 10352, 26427, 330, 1378, 29115, 14940, 29976, 10128, 7692, 18960, 7517, 19518, 21366, 5400, 18817, 2939, 14844, 23652, 11453, 1239, 15472, 18825, 5374, 23682, 22007, 11876, 11842, 22531, 870, 20092, 16422, 23691, 19898, 4025, 8610, 7356, 25758, 1214, 10298, 17141, 7847, 5126, 1224, 2717, 17256, 26881, 1684, 22083, 26382, 13523, 29507, 15277, 523, 13465, 15506, 9761, 326, 27490, 29344, 27221, 29667, 26727, 5356, 25033, 19979, 4940, 12580, 18985, 18810, 23082, 2189, 11179, 15890, 28895, 19925, 6211, 26258, 14814, 11163, 19803, 13566, 5246, 23932, 8481, 10029, 25383, 25737, 8312, 23337, 19017, 17648, 14522, 23192, 6654, 5812, 28199, 9129, 26405, 10887, 24353, 1803, 27291, 24143, 25685, 20186, 478, 7487, 8828, 28423, 29097, 29666, 25437, 3449, 19207, 10756, 25130, 25373, 5927, 14243, 12365, 452, 23830, 24365, 4392, 20647, 22798, 10324, 15113, 21906, 3624, 13065, 18330, 19729, 12763, 7845, 7382, 13571, 26563, 10683, 22583, 19026, 17992, 20558, 4731, 21674, 11077, 17043, 7661, 7264, 25293, 9131, 27055, 4237, 21931, 24762, 29403, 24824, 6432, 27603, 5439, 15009, 28674, 25301, 25326, 28937, 29849, 18390, 157, 834, 16575, 20303, 3123, 25392, 16427, 26715, 13375, 19951, 16218, 17388, 11381, 4530, 20437, 4060, 17437, 3401, 7149, 27394, 7136, 21341, 2134, 11531, 18800, 19372, 18335, 27779, 22972, 29188, 13741, 5865, 13397, 14289, 12858, 7798, 20074, 26058, 12333, 15929, 19261, 4582, 13096, 11255, 12847, 28269, 12411, 13723, 7897, 2006, 18922, 13447, 6169, 1069, 11953, 7327, 11926, 22257, 26100, 1236, 4609, 9120, 13920, 2698, 236, 15139, 9110, 12508, 3614, 112, 7144, 3363, 2427, 7829, 7270, 26841, 13990, 26725, 3491, 10076, 10365, 11006, 15371, 28533, 27607, 22386, 4793, 12775, 2546, 7436, 16978, 510, 28391, 22706, 13885, 2317, 21058, 23646, 24484, 5138, 7434, 19077, 23131, 21433, 800, 21045, 9789, 654, 28956, 12158, 8062, 26860, 4208, 25999, 10313, 1939, 6408, 7714, 9917, 15990, 28171, 10262, 3551, 25919, 28466, 5326, 778, 16914, 3647, 24223, 8731, 13515, 28662, 19299, 18688, 2523, 5723, 11327, 20689, 24518, 11696, 10342, 27485, 24773, 13804, 19607, 17391, 15943, 17737, 17252, 23794, 10748, 27299, 9913, 1525, 20491, 4447, 13132, 14832, 5555, 19012, 1071, 1887, 10386, 18968, 5945, 9070, 18806, 29130, 15167, 9161, 28959, 24503, 11692, 9963, 22898, 9790, 1009, 20465, 17764, 29673, 883, 12543, 28234, 9683, 28122, 23675, 18047, 25163, 24908, 16061, 13828, 19787, 7998, 29446, 28615, 19944, 20190, 18537, 18201, 26007, 20800, 15610, 13118, 2325, 18661, 27499, 19968, 17346, 26612, 17236, 7364, 10736, 27929, 14861, 22183, 2890, 4430, 2625, 16771, 14516, 28312, 11123, 4230, 24113, 27620, 28156, 14793, 17868, 8188, 7316, 18563, 759, 15866, 12083, 25960, 3322, 11174, 25503, 12373, 20248, 20401, 5317, 8482, 2048, 8558, 23380, 8899, 2675, 19975, 892, 28519, 15594, 26929, 12107, 9518, 2316, 25822, 29875, 29506, 9528, 19797, 2658, 12837, 10753, 21078, 23118, 25382, 15002, 16009, 28307, 15755, 3507, 25237, 1619, 26525, 501, 7614, 1048, 13275, 24084, 25502, 10631, 15815, 21131, 9207, 16403, 22988, 29366, 2780, 6303, 1501, 19941, 16389, 22645, 4752, 22396, 23676, 21229, 10354, 6375, 5883, 27863, 13533, 11275, 18434, 8537, 15323, 4057, 23745, 28052, 12598, 22993, 29542, 1902, 6653, 20897, 116, 10062, 2954, 23034, 14935, 469, 23849, 22504, 25478, 21634, 20525, 19393, 6488, 22072, 9753, 4021, 8440, 7061, 10379, 3886, 12955, 3916, 28449, 28128, 19930, 1037, 21603, 27215, 6139, 20357, 6722, 18490, 24915, 14091, 14676, 2164, 28339, 25577, 12969, 4557, 20056, 4733, 27599, 4218, 18698, 21318, 12452, 24936, 24215, 17045, 1032, 25253, 13228, 7409, 2397, 7284, 19325, 3711, 8409, 321, 632, 17205, 136, 24759, 24081, 25103, 13807, 6964, 2349, 1811, 26156, 15619, 9126, 3439, 15035, 25080, 23610, 13201, 124, 14680, 12644, 4817, 252, 3571, 90, 25084, 12442, 15781, 1173, 21557, 21957, 25702, 11043, 28530, 9098, 19762, 11065, 3467, 8472, 27060, 26698, 4680, 18307, 13341, 10088, 29041, 28481, 6476, 20780, 28399, 4967, 10856, 2760, 10595, 21282, 20545, 28986, 616, 18878, 7366, 19440, 28740, 24230, 4992, 18556, 16985, 1687, 7156, 24594, 258, 17312, 14764, 26936, 29042, 11360, 28778, 7635, 9231, 22383, 27246, 10135, 10003, 22716, 25974, 6998, 17870, 14815, 13457, 24246, 28316, 9768, 21445, 14081, 15874, 175, 24140, 27953, 25688, 5801, 25372, 3129, 11801, 14058, 25218, 25143, 19502, 13078, 14064, 27780, 24311, 13541, 10698, 19205, 4790, 15849, 8598, 22855, 3589, 1941, 19222, 8417, 27393, 28097, 5450, 21642, 7637, 25255, 22841, 3564, 22320, 29340, 26805, 16533, 10230, 6302, 19267, 14687, 21084, 15698, 3433, 11124, 11437, 18677, 8887, 1417, 536, 22397, 1613, 26700, 24798, 20466, 21072, 20885, 5433, 14030, 358, 7749, 20797, 7023, 27832, 6828, 3892, 7177, 23001, 26449, 23083, 25001, 1894, 1691, 14802, 2942, 2739, 286, 22185, 4019, 4391, 29304, 12615, 25464, 28773, 26006, 2928, 23902, 15702, 29508, 13683, 9409, 12712, 275, 18486, 15151, 24918, 12679, 10615, 7604, 27952, 9945, 23884, 15304, 24591, 20962, 27222, 28197, 6159, 13222, 29675, 20805, 28924, 15887, 11609, 4200, 24296, 15410, 26126, 8763, 29365, 7939, 26790, 24834, 28580, 11375, 12030, 7252, 6651, 3051, 9709, 6495, 25512, 24441, 26960, 1946, 19400, 15693, 16743, 10715, 9795, 23963, 9446, 27793, 22901, 20680, 16853, 20385, 5589, 24423, 26428, 16382, 28452, 13267, 13391, 1447, 6174, 19320, 10410, 4469, 19798, 519, 1650, 2447, 8747, 1702, 7525, 28826, 2151, 23620, 5014, 13076, 20388, 7601, 16762, 5471, 17420, 11697, 20344, 18295, 11855, 28762, 7465, 156, 1101, 26213, 25366, 19250, 29166, 12351, 27279, 26175, 18134, 23647, 1264, 15351, 3653, 8232, 1759, 17480, 13536, 21847, 12791, 25813, 16391, 4725, 26051, 26822, 6759, 11282, 9018, 27351, 28906, 25805, 20185, 3106, 8564, 26296, 17026, 18208, 5064, 11922, 14558, 8865, 14669, 1529, 7972, 27035, 10118, 4693, 10944, 19648, 1410, 8982, 8604, 14330, 11568, 17202, 28578, 5870, 5240, 1062, 2040, 16651, 29177, 16263, 2356, 15358, 3073, 19745, 1885, 9224, 26386, 13292, 12927, 18864, 7129, 21761, 17705, 25723, 5176, 13184, 3163, 2608, 720, 28311, 6808, 1328, 22259, 1280, 14076, 22594, 25352, 9006, 13601, 28605, 16332, 512, 10258, 17347, 22611, 28048, 26033, 7709, 16048, 24926, 16302, 6959, 17721, 11091, 4999, 16842, 27479, 24432, 15458, 18224, 7355, 15858, 6154, 28630, 22249, 3593, 6776, 14897, 23054, 15461, 19414, 25486, 11501, 418, 29895, 2505, 28044, 8588, 23820, 15764, 27791, 19699, 6670, 6831, 27887, 2347, 21892, 3167, 23089, 19434, 21260, 24448, 22418, 1198, 8914, 25918, 20518, 20703, 4380, 11351, 25572, 28205, 677, 12451, 10221, 24267, 5842, 4135, 27333, 1177, 29380, 29330, 18914, 28202, 3706, 25006, 22000, 18748, 22091, 780, 27519, 7032, 6121, 2407, 1645, 26796, 10119, 16174, 24169, 7774, 20362, 5236, 1971, 17549, 16117, 1219, 14305, 15381, 5829, 14981, 26874, 29139, 22610, 7995, 4363, 18216, 12106, 5194, 15500, 7394, 8138, 19120, 18077, 25666, 13659, 12308, 10767, 7007, 1512, 9183, 20271, 17507, 7630, 8219, 19204, 9016, 21370, 1963, 21696, 2364, 18039, 15770, 15552, 23626, 21248, 21856, 8861, 25869, 21986, 5485, 21071, 6969, 27234, 25012, 2984, 28055, 28370, 18779, 10555, 9563, 26234, 16334, 9659, 7896, 407, 3410, 2402, 23387, 9663, 12984, 9623, 21331, 18248, 26903, 8856, 18235, 8438, 21230, 26171, 19469, 21407, 18970, 11221, 19421, 24039, 20562, 11571, 663, 184, 2303, 8799, 22830, 8902, 11365, 17393, 7542, 27700, 24850, 7919, 22462, 26020, 4765, 11690, 541, 20461, 29618, 15145, 25420, 11444, 6143, 11854, 19929, 4148, 7696, 15863, 27235, 28317, 12244, 29281, 8704, 26531, 4797, 13070, 4385, 11489, 18999, 4822, 18204, 26858, 23425, 6472, 16319, 12397, 1433, 28264, 23099, 14807, 8303, 12723, 11063, 2660, 21895, 15183, 28364, 2969, 12121, 26972, 21240, 24042, 14403, 13715, 21869, 18011, 19901, 5504, 28627, 5641, 3165, 5189, 22019, 7322, 9992, 10620, 25982, 8529, 9812, 7079, 25831, 24838, 22662, 6184, 10057, 4407, 664, 20317, 28603, 14913, 10624, 20315, 25589, 8518, 12122, 13746, 19305, 1679, 15155, 16760, 25258, 17201, 15582, 5562, 4541, 19583, 18131, 17799, 17471, 2089, 24877, 18714, 631, 29012, 6879, 22363, 1289, 16482, 15299, 6570, 4166, 6725, 23110, 237, 16624, 2618, 17988, 12892, 24913, 23272, 15050, 399, 21046, 4510, 26034, 14364, 1300, 22926, 9517, 24014, 22865, 1494, 15052, 10348, 1944, 2506, 8913, 12159, 12101, 15337, 5561, 28489, 27310, 12521, 28502, 1138, 857, 25481, 2697, 27521, 21578, 13400, 2603, 14127, 29190, 26349, 5994, 17852, 24563, 14487, 369, 5861, 6038, 12731, 24047, 16784, 28952, 9404, 6279, 19100, 5314, 7457, 11705, 16362, 1712, 5987, 16112, 19005, 15249, 2587, 29149, 1954, 15475, 10914, 28066, 6129, 27003, 3445, 25094, 19780, 19175, 448, 2948, 3797, 10308, 4692, 15300, 26815, 2348, 29577, 9472, 17894, 26251, 15083, 3369, 22314, 22174, 17425, 19796, 26244, 28313, 13246, 7860, 29503, 15779, 20612, 29846, 10822, 20200, 12587, 15889, 8418, 21090, 21160, 2994, 2990, 29271, 917, 13363, 23513, 28293, 5025, 21502, 28932, 28843, 14534, 19551, 20880, 5746, 1419, 10658, 16633, 3873, 3360, 7974, 17510, 10655, 29638, 8621, 3605, 25285, 609, 2449, 29100, 18277, 4444, 5974, 27190, 5239, 26878, 9217, 8925, 18294, 21119, 27405, 15978, 24713, 14315, 18738, 28067, 26565, 28149, 3475, 20574, 19353, 19953, 615, 18797, 12524, 550, 17389, 24524, 6667, 6451, 3532, 19433, 23874, 4910, 1955, 6443, 21836, 15925, 27924, 9841, 12180, 24300, 3303, 7082, 18614, 6357, 16452, 11560, 27498, 2150, 7564, 24153, 28492, 9748, 544, 2554, 21999, 14027, 748, 23454, 16818, 6705, 23549, 24000, 28109, 24045, 4930, 26437, 4165, 28739, 24740, 10651, 28155, 12787, 6205, 11600, 6721, 16004, 20895, 1166, 21405, 5662, 1785, 24303, 1255, 3132, 10161, 6105, 14107, 21231, 19413, 16899, 25875, 7707, 13947, 18286, 7249, 25930, 9666, 20418, 12594, 5384, 22783, 7451, 1382, 16940, 17853, 2459, 6178, 13805, 8513, 24683, 13159, 19061, 4128, 28742, 25493, 13764, 7799, 23253, 28105, 7700, 22910, 27931, 8882, 14613, 10890, 19737, 28976, 27690, 28835, 15532, 18802, 4778, 11639, 27098, 28447, 296, 8748, 7501, 3473, 6711, 18961, 23919, 27996, 28727, 13269, 1524, 1403, 18336, 5543, 20494, 10905, 6079, 27534, 9463, 3750, 10850, 28303, 3425, 23182, 4643, 24768, 87, 6281, 3004, 28238, 12741, 25500, 18589, 23590, 29291, 28302, 28666, 19163, 23165, 20027, 11951, 6792, 5918, 6547, 10600, 17367, 2549, 26539, 23840, 3790, 11078, 5217, 21124, 8509, 8413, 16542, 4798, 8287, 13374, 28916, 11025, 29861, 8480, 24561, 460, 16285, 26010, 18870, 538, 11134, 4987, 5929, 5460, 28957, 21148, 3783, 7892, 205, 5619, 27481, 14265, 12256, 19616, 26843, 29773, 8470, 8263, 14464, 757, 25170, 28925, 14663, 18103, 7945, 29213, 28721, 16501, 2062, 10266, 22318, 29112, 4596, 8476, 3251, 15308, 55, 26965, 12055, 3055, 7528, 5626, 17689, 24760, 11966, 10662, 28873, 28555, 8026, 12164, 7174, 2112, 2196, 25834, 27401, 561, 12925, 18697, 9755, 28610, 28372, 30, 7135, 23845, 12767, 21427, 27760, 710, 6527, 2556, 24912, 1998, 5884, 22300, 18588, 26415, 17476, 12145, 15501, 19602, 15346, 15774, 9826, 6290, 9017, 18787, 8885, 20554, 12581, 4355, 28663, 1544, 29921, 10830, 22285, 19800, 27820, 16505, 23314, 3725, 13378, 1587, 22463, 131, 22004, 14512, 16503, 13068, 14299, 7069, 3902, 15163, 13622, 25340, 26955, 27682, 18926, 13979, 18460, 16952, 12883, 19512, 13403, 13985, 3430, 23839, 25988, 24891, 6449, 11874, 14914, 16511, 27371, 5432, 2993, 26647, 12716, 25077, 18808, 13423, 17591, 3278, 8430, 26491, 12709, 1911, 20390, 23000, 18470, 4627, 14984, 12304, 14461, 29774, 26054, 6362, 10562, 6421, 11530, 23752, 29273, 28878, 10000, 5238, 6020, 5805, 3061, 15388, 23789, 9661, 22348, 24957, 1064, 19123, 22590, 3709, 5269, 27989, 22890, 2256, 13386, 2627, 25725, 8584, 13220, 13146, 2696, 20077, 11032, 15662, 173, 18293, 16730, 9679, 7739, 17518, 16774, 15912, 3562, 21574, 3730, 28004, 21904, 24167, 6937, 10279, 8183, 21651, 28812, 9581, 18376, 1978, 4297, 22751, 23246, 29907, 12026, 11613, 20394, 16559, 11868, 23709, 21576, 16775, 6855, 6813, 13189, 15132, 3591, 16149, 9539, 17950, 26269, 24599, 24324, 25541, 24539, 21849, 11350, 13891, 24646, 13472, 4333, 19259, 22481, 6606, 1701, 2252, 935, 5517, 23162, 21840, 21284, 12434, 23240, 17432, 18296, 28008, 4493, 11540, 15213, 16486, 22948, 12808, 27587, 29417, 13547, 28043, 21864, 19872, 15848, 8158, 13298, 2101, 13656, 12080, 5534, 17632, 16020, 23933, 6714, 2022, 26443, 6589, 3499, 11585, 5962, 12631, 20225, 4374, 548, 24581, 5966, 6453, 28579, 18788, 4120, 26729, 29634, 2243, 9082, 15063, 334, 16111, 213, 2422, 6868, 15140, 1547, 11443, 1493, 6614, 7081, 21729, 27150, 6560, 1263, 1034, 818, 10893, 8191, 20459, 16943, 3519, 9124, 10654, 11599, 5293, 13950, 24023, 1269, 27110, 27916, 4065, 6726, 11524, 17159, 1548, 29945, 11593, 12070, 10879, 8031, 302, 25096, 5144, 17504, 21180, 7266, 5558, 6266, 3152, 20196, 1144, 20737, 2149, 27070, 24578, 635, 18205, 6146, 24089, 28486, 22804, 1414, 6203, 4559, 26877, 11145, 17904, 28075, 18088, 21143, 2972, 18597, 18230, 11624, 13993, 11442, 22135, 7496, 2169, 17148, 29167, 2655, 24437, 4169, 2701, 24714, 19655, 21668, 21773, 6794, 18433, 12257, 2530, 5390, 29155, 28441, 5530, 61, 3623, 20886, 12701, 17014, 23635, 26304, 25679, 8630, 21623, 9101, 2363, 27014, 634, 9631, 14393, 16546, 20235, 16980, 21066, 3116, 8089, 29055, 3579, 19627, 9045, 27245, 26162, 25645, 26831, 14850, 4503, 15782, 3800, 9454, 22787, 20423, 11839, 28764, 6406, 5357, 16404, 2061, 20070, 1354, 17435, 11805, 26826, 14749, 10762, 27382, 21971, 27162, 29676, 29699, 25199, 24895, 24615, 9509, 7506, 29760, 15583, 12535, 16935, 26153, 5735, 22062, 22902, 3168, 10276, 15436, 23148, 3317, 874, 14933, 13653, 22726, 12727, 10545, 2851, 15783, 19805, 5469, 2915, 17264, 19660, 10768, 14777, 21577, 21187, 10179, 7780, 23396, 5337, 20096, 28965, 2998, 22602, 21365, 9867, 1892, 21673, 10454, 26760, 20126, 29590, 23406, 16737, 26267, 2987, 8380, 16732, 16414, 13689, 21614, 3084, 13479, 27412, 262, 25349, 23413, 27112, 10500, 20233, 2491, 11720, 5286, 5549, 6663, 8740, 4020, 8949, 4070, 18966, 14975, 2909, 26749, 21882, 26753, 3721, 27970, 15793, 27249, 22452, 24597, 3928, 5615, 19818, 12334, 27561, 27271, 18717, 1921, 21669, 1249, 1929, 1967, 20247, 8434, 437, 15930, 8241, 5323, 26240, 15817, 2702, 5395, 8646, 13887, 3099, 3100, 22738, 17939, 19437, 20104, 21325, 15531, 10228, 3325, 23795, 462, 1246, 14152, 23991, 27321, 6248, 13344, 10269, 22088, 4046, 3677, 15499, 17874, 13088, 22189, 1038, 9940, 17117, 21723, 22188, 12073, 9605, 7806, 13444, 22155, 9660, 3813, 1555, 4985, 574, 27004, 10512, 15789, 18912, 3160, 14255, 22360, 8003, 21571, 17310, 24414, 27813, 1994, 25444, 20629, 17706, 15202, 12889, 3421, 7871, 7211, 22013, 27775, 12136, 22325, 6930, 4878, 4861, 1276, 16114, 20635, 2058, 16067, 3450, 20806, 23860, 23450, 25365, 2578, 27406, 5894, 10718, 10233, 14192, 19576, 7962, 13897, 2639, 9498, 16039, 16666, 12711, 8281, 11905, 1734, 15071, 2319, 26154, 12943, 8976, 19792, 29804, 18260, 20236, 22478, 2130, 22829, 14292, 6401, 7552, 24537, 19669, 4477, 9194, 29354, 2148, 23207, 20400, 27938, 904, 15695, 7910, 15288, 29445, 5503, 17064, 5537, 24962, 6138, 9987, 19564, 787, 4565, 6932, 8878, 29277, 18308, 28346, 17538, 22814, 10203, 6579, 12300, 6770, 716, 11397, 20613, 12063, 28748, 20632, 22712, 13916, 2584, 1121, 16095, 14457, 26639, 475, 10795, 802, 10134, 29164, 20668, 28347, 20965, 1999, 13337, 21421, 12675, 153, 7100, 14588, 18254, 28504, 23544, 25755, 5910, 24329, 21424, 5759, 24256, 8488, 10337, 28367, 16813, 14166, 15325, 793, 1755, 7432, 13514, 9523, 4352, 4090, 19322, 26494, 21865, 15503, 2997, 24240, 21699, 12715, 13205, 2336, 16829, 20863, 25646, 25549, 26228, 26761, 23737, 28451, 2844, 2725, 26164, 13760, 16033, 14912, 27072, 29176, 211, 12607, 2718, 1187, 21181, 20846, 16092, 3801, 16979, 2569, 23721, 18863, 17134, 20275, 6123, 8970, 23702, 27585, 19577, 5875, 5708, 18824, 8687, 13299, 826, 23041, 7671, 11791, 19658, 15251, 20355, 26047, 2975, 3471, 28033, 18617, 8294, 12726, 16947, 27487, 13703, 1816, 20117, 24327, 8479, 1377, 18981, 19109, 3919, 4427, 26250, 12, 1344, 6361, 1662, 12301, 26577, 9762, 23470, 23455, 22961, 21075, 15258, 25267, 4542, 2374, 14191, 14414, 13543, 2796, 174, 23397, 1775, 24623, 9380, 24112, 955, 10692, 5419, 9335, 25172, 393, 26748, 4449, 1629, 27875, 18126, 7920, 26570, 17940, 1476, 28273, 11096, 15034, 9758, 28896, 24242, 6815, 9158, 19682, 16543, 23899, 28185, 15800, 15180, 7508, 22235, 17479, 6821, 3080, 13382, 3729, 14990, 1926, 17234, 702, 4161, 22237, 15405, 9629, 10475, 24449, 22681, 29083, 13796, 23439, 13067, 29776, 14757, 26788, 24634, 14031, 474, 18027, 1418, 14856, 10251, 10495, 12072, 4402, 2574, 27629, 12583, 12922, 15329, 1043, 1729, 4300, 1665, 14901, 14587, 12324, 11361, 27326, 10124, 4014, 24785, 24844, 28928, 1153, 1956, 28483, 19914, 19274, 26956, 17149, 22093, 13039, 27359, 7040, 12126, 28321, 15238, 2875, 26315, 18115, 2285, 6943, 26255, 17993, 11986, 19546, 27699, 16933, 19738, 24007, 29247, 15886, 15916, 11863, 11131, 15077, 1343, 745, 12888, 7818, 25484, 2974, 21914, 18031, 20918, 16395, 19286, 6554, 21704, 20419, 1374, 26627, 4837, 9602, 15074, 15953, 20205, 25838, 19786, 467, 11875, 22157, 25727, 4113, 11647, 29874, 8330, 21455, 13614, 19301, 29284, 7301, 8597, 24625, 1864, 18577, 22724, 24478, 29994, 12297, 11234, 26951, 6404, 8110, 27331, 10623, 23146, 28988, 9461, 27103, 26185, 19776, 2583, 13129, 23776, 8708, 17230, 11959, 19998, 23604, 7419, 20114, 23619, 10068, 6197, 2077, 24711, 29058, 27525, 1986, 20468, 4103, 12649, 4645, 24048, 9071, 2568, 25899, 2365, 27058, 24252, 737, 16928, 22197, 10130, 23139, 15158, 26214, 23997, 4870, 21327, 15260, 25765, 2250, 12526, 16565, 2322, 29407, 29881, 25975, 12601, 19788, 19989, 3115, 27274, 10789, 27336, 26657, 19758, 7642, 17450, 8770, 10496, 19495, 16085, 19008, 12817, 27547, 8148, 12539, 17355, 2613, 1464, 4431, 319, 15115, 2927, 9421, 24018, 27339, 10574, 8175, 5273, 3002, 29996, 10948, 11406, 18541, 2104, 17180, 7127, 10427, 24731, 6839, 23172, 6052, 2078, 20839, 12807, 2026, 11939, 29440, 1050, 6149, 8607, 8207, 29605, 15425, 18558, 14812, 26785, 25554, 12481, 21000, 3488, 8590, 11155, 8336, 6533, 9399, 28087, 24593, 537, 17909, 25772, 25576, 29575, 2445, 2512, 9442, 5457, 12347, 14976, 15784, 16640, 11230, 1369, 12801, 8786, 6608, 20607, 13233, 12255, 9445, 29677, 182, 379, 25225, 29473, 21453, 14926, 23121, 20664, 6504, 1312, 19938, 28596, 22820, 14441, 11603, 7997, 14772, 10907, 5073, 24119, 16942, 4175, 3920, 3260, 1136, 16230, 7114, 3354, 5169, 21717, 25532, 19646, 23081, 18777, 12899, 4751, 7164, 28160, 2518, 18993, 16756, 15766, 18622, 9716, 16398, 10792, 2536, 2744, 23341, 22201, 7435, 12236, 25511, 19566, 15036, 23114, 13181, 16282, 23504, 8366, 5951, 8269, 15507, 1988, 19050, 18848, 26807, 19569, 20279, 18811, 28664, 11752, 14786, 19055, 15520, 5410, 25138, 5979, 11079, 6112, 23977, 10947, 26875, 26737, 28354, 21203, 29612, 2745, 12100, 7778, 3196, 17417, 1666, 12764, 10510, 10628, 16371, 13826, 24551, 8206, 28870, 26750, 17047, 14050, 1987, 5210, 4059, 28356, 29143, 10871, 25562, 28080, 18630, 121, 19395, 14376, 23088, 22631, 11654, 10422, 8414, 24761, 15834, 17451, 3114, 4310, 14501, 15105, 15650, 26623, 9172, 6060, 20893, 348, 13780, 9243, 20755, 12012, 21106, 24111, 28305, 25583, 8291, 28078, 13588, 3850, 5342, 2738, 2031, 29847, 2360, 10050, 9416, 22281, 29325, 8766, 8958, 6080, 28905, 20138, 753, 15824, 26289, 10781, 9573, 12762, 25208, 26508, 23704, 19556, 12929, 13059, 13026, 19147, 10744, 15768, 11907, 2410, 13842, 4855, 28406, 21015, 12024, 12194, 22646, 24769, 11092, 12702, 26309, 29363, 28170, 22449, 23452, 21794, 18003, 5308, 22619, 2924, 5408, 22727, 24643, 14144, 14959, 23411, 26261, 17008, 18070, 624, 28879, 21089, 23741, 23487, 13965, 26921, 19912, 5771, 26861, 14086, 8139, 19156, 20323, 16709, 27809, 20041, 26497, 25410, 16497, 18567, 28418, 20661, 20227, 26487, 5331, 15972, 23035, 22211, 18265, 4139, 28053, 10249, 2220, 13648, 19240, 24104, 441, 23405, 26104, 29980, 4118, 13022, 6599, 15969, 26864, 25857, 758, 10360, 15719, 14083, 8563, 29763, 18640, 7639, 22770, 12013, 25904, 26372, 19970, 1710, 1543, 24737, 21281, 15198, 9801, 19755, 68, 13218, 25864, 20560, 20007, 19594, 5505, 6444, 6180, 16934, 17456, 607, 15003, 21907, 14224, 14582, 8889, 15568, 3104, 23972, 24791, 10861, 5647, 3637, 12565, 13029, 24422, 3937, 29094, 28816, 2811, 21948, 2828, 5203, 6534, 7289, 27261, 7838, 27092, 16301, 16037, 2693, 9458, 29635, 2333, 882, 26633, 21204, 7314, 26361, 17111, 24766, 16402, 1444, 6701, 8906, 1973, 5492, 4048, 10538, 27904, 3857, 3294, 18225, 9136, 10864, 28730, 12058, 16998, 24538, 13079, 16463, 7469, 3246, 12947, 22408, 24083, 6215, 1086, 13538, 16081, 25729, 29931, 17673, 19125, 20989, 24703, 23766, 22551, 28969, 4459, 8946, 21476, 17930, 4806, 9832, 20220, 4706, 16445, 13081, 26278, 8061, 24200, 19190, 14094, 8261, 27512, 4954, 2302, 25803, 3513, 19642, 2345, 2685, 7632, 18933, 22114, 19973, 2236, 12015, 8846, 19131, 21003, 29868, 7092, 12632, 17719, 24473, 8792, 4106, 21063, 8249, 20226, 16922, 10248, 16800, 29742, 26825, 24665, 23799, 26172, 2266, 5226, 21966, 7085, 27679, 11468, 25763, 22633, 21822, 24443, 9785, 21693, 5079, 13377, 16855, 29147, 10656, 23007, 23915, 14066, 17524, 23862, 24648, 29311, 14169, 790, 23946, 16003, 22709, 10611, 2581, 14722, 14061, 18324, 26809, 24871, 8573, 5501, 28414, 16184, 21755, 25192, 19369, 5732, 12620, 17397, 6506, 3659, 17118, 12845, 13265, 7512, 23345, 27473, 6257, 27433, 4036, 18484, 17861, 10782, 18503, 14402, 13976, 2203, 18744, 29671, 21558, 6258, 17396, 5698, 10096, 20301, 15022, 2845, 906, 21171, 24569, 17690, 3741, 1149, 20988, 28390, 23431, 22688, 20441, 4660, 5871, 27836, 29199, 6988, 25704, 4429, 14837, 27593, 13803, 17395, 9375, 4344, 25250, 19721, 7413, 8267, 12111, 23907, 24610, 12001, 14858, 1231, 22900, 17044, 14331, 28419, 14202, 21489, 22207, 3190, 20928, 6702, 5654, 6450, 17058, 4255, 5498, 13289, 2873, 12444, 24325, 10513, 7450, 23261, 26223, 6700, 28983, 1942, 26548, 28388, 21390, 979, 20209, 1442, 6441, 15661, 24736, 17273, 18380, 3006, 21726, 13637, 5707, 9911, 20255, 20611, 2298, 26232, 6925, 7607, 1767, 23528, 11469, 25652, 7996, 19710, 21964, 14996, 17304, 6427, 9865, 12802, 15256, 11449, 744, 22958, 5783, 6931, 23113, 9828, 14605, 24988, 8978, 20519, 26067, 10780, 11331, 29441, 16030, 2047, 19028, 11669, 13797, 21241, 3639, 17293, 28612, 17146, 23790, 1769, 5191, 29051, 20464, 20749, 27668, 18138, 2588, 10385, 19272, 25062, 17153, 8515, 12633, 11748, 11089, 12755, 20942, 1521, 11869, 21158, 1873, 26925, 17704, 12747, 11884, 8642, 20427, 717, 2228, 28382, 10202, 19472, 21582, 5121, 1670, 5135, 23093, 20548, 8695, 8615, 6392, 15, 21795, 21709, 15067, 22156, 23409, 28623, 23711, 8186, 29639, 18874, 24066, 1780, 13280, 4839, 26978, 7035, 5147, 1928, 9389, 1504, 22006, 1749, 19903, 29938, 16597, 18916, 248, 9015, 6306, 3248, 20856, 424, 1866, 17339, 12234, 5806, 3768, 5381, 6381, 27844, 7593, 10307, 6718, 5624, 27536, 10429, 13585, 15932, 17856, 25931, 5225, 23029, 14371, 12299, 29824, 19589, 24244, 8649, 2222, 2153, 6483, 27703, 25177, 16284, 148, 3924, 16534, 14167, 12585, 3531, 13113, 25272, 28712, 17378, 13754, 27455, 10466, 29764, 14222, 25858, 14214, 24036, 26786, 29255, 18177, 20786, 3018, 731, 6745, 28047, 14484, 23975, 21262, 7514, 17887, 17049, 5610, 4027, 20941, 12477, 23578, 22600, 28020, 23265, 25074, 6218, 4758, 22412, 4986, 7415, 27556, 13719, 6673, 5001, 2905, 987, 15185, 700, 12704, 4746, 17348, 21313, 24212, 1585, 27313, 11369, 26004, 4702, 3263, 25934, 8132, 28164, 14528, 7938, 3118, 12641, 19368, 20787, 13095, 15348, 24629, 6659, 7231, 8807, 1487, 23378, 2136, 4396, 13320, 23999, 22943, 2186, 28261, 1876, 4569, 14736, 25082, 1822, 17291, 11364, 9895, 20288, 22989, 27149, 14321, 20214, 29544, 8252, 2041, 19650, 2055, 20424, 28094, 18485, 7172, 19775, 3257, 15754, 28079, 25623, 19390, 18450, 16555, 10578, 5775, 21742, 20990, 27380, 15820, 6463, 11802, 6461, 11405, 19910, 6110, 6171, 29952, 5068, 10568, 3872, 9298, 27504, 2414, 6890, 28972, 7120, 7312, 21787, 1577, 28724, 6747, 28911, 6975, 6253, 19691, 13032, 23273, 9719, 11192, 6464, 10108, 23705, 20646, 5893, 20827, 9809, 22607, 6304, 29378, 26919, 23168, 1406, 16417, 24927, 18220, 19641, 16962, 21868, 12865, 4522, 867, 13221, 27596, 26580, 24038, 29193, 3907, 21984, 27390, 14122, 19644, 20809, 9845, 5092, 12781, 11675, 9204, 29768, 6493, 26454, 1232, 19441, 19297, 16710, 12186, 1356, 19853, 4111, 22122, 16993, 26833, 26193, 5569, 15516, 6735, 1104, 11017, 1901, 11519, 22809, 15686, 15298, 6016, 10291, 1708, 15961, 16158, 15283, 19230, 4526, 4795, 13883, 27010, 29014, 28084, 9320, 28412, 19507, 11252, 9284, 27884, 16689, 5847, 21437, 20098, 27520, 1361, 12439, 12515, 10357, 19965, 19500, 27216, 28409, 7360, 2398, 19172, 22935, 20887, 8453, 15451, 23740, 9527, 16306, 26463, 9179, 27148, 9054, 22295, 1267, 6249, 22475, 19571, 23518, 18583, 6277, 24596, 8492, 17360, 14520, 16965, 16593, 14639, 6976, 9185, 6431, 24923, 27508, 17862, 7334, 1228, 14614, 7130, 19295, 20309, 24477, 19789, 25318, 28077, 4243, 22160, 5316, 25148, 23788, 20277, 14467, 16612, 6377, 29970, 13036, 10699, 520, 8114, 1534, 22959, 6717, 17857, 20211, 20201, 12021, 25387, 7041, 9771, 23289, 20254, 5394, 15372, 16040, 9741, 20553, 23565, 2470, 992, 25643, 22976, 26451, 9590, 22942, 24776, 25000, 1314, 15947, 11849, 7186, 27858, 14293, 29432, 27792, 2555, 26670, 21554, 28646, 16824, 27501, 20005, 17550, 7275, 27460, 25226, 1829, 20775, 26619, 5041, 18510, 2899, 20260, 29893, 4219, 13405, 7230, 4796, 8354, 7134, 12669, 21402, 22067, 10329, 2989, 299, 7872, 16374, 6338, 10212, 29924, 19189, 7936, 22500, 7895, 23908, 814, 8473, 13357, 29322, 22103, 5897, 9175, 26150, 10676, 11125, 9228, 21655, 9816, 3906, 2438, 13127, 9444, 6574, 1989, 25998, 10361, 25902, 22605, 19394, 6426, 5322, 18676, 9815, 3131, 13587, 27677, 426, 25049, 23060, 19034, 11243, 2824, 8050, 306, 20640, 9728, 26974, 2956, 19544, 20933, 19790, 10660, 27979, 24185, 16905, 16165, 11488, 6235, 8783, 18213, 12717, 17050, 11987, 7094, 22214, 6584, 18657, 5913, 22697, 12000, 7856, 12368, 17113, 9860, 27562, 22915, 12962, 14816, 12995, 14826, 18799, 2729, 1889, 16828, 8429, 8411, 19215, 25568, 7797, 15120, 15311, 21596, 6601, 17896, 971, 26208, 413, 17005, 23445, 5375, 7628, 24938, 29091, 10774, 20920, 18660, 133, 18009, 17844, 15744, 7239, 23747, 23905, 20392, 7907, 11574, 25793, 12584, 2650, 18569, 6071, 21261, 9743, 23918, 5728, 2019, 23152, 881, 7712, 1234, 7889, 3834, 29044, 27635, 10695, 27233, 15319, 18603, 28970, 7447, 29565, 2830, 12214, 7565, 11650, 13863, 15309, 16540, 12352, 12266, 1533, 14863, 6042, 29731, 5186, 7924, 15940, 3720, 13734, 10968, 4130, 11655, 19033, 189, 9130, 14354, 1287, 11820, 7752, 1826, 23074, 6514, 18268, 13346, 24233, 23730, 24720, 18884, 17414, 7955, 2783, 19628, 14323, 11847, 8332, 28658, 16527, 12125, 6140, 3309, 1683, 16236, 12375, 26345, 16326, 18252, 22744, 15394, 27303, 29189, 11368, 16532, 18946, 12348, 27515, 23807, 28708, 4481, 8552, 9701, 6559, 9889, 12081, 19291, 11384, 13579, 20845, 1200, 8385, 9028, 21994, 29235, 7033, 28653, 3447, 18264, 12138, 10053, 21369, 23808, 28344, 14668, 4097, 24109, 25015, 10575, 12926, 29940, 3204, 8448, 8661, 29136, 420, 27722, 14624, 3767, 9993, 12298, 13319, 20032, 17960, 18073, 10579, 10597, 2508, 11333, 18063, 23108, 23934, 22076, 25808, 966, 23427, 15765, 9537, 11948, 21871, 27878, 25582, 28260, 888, 8845, 7353, 18628, 29825, 19151, 18952, 11775, 3210, 27686, 21095, 7044, 13812, 5451, 27551, 22002, 10693, 10682, 26152, 26789, 23786, 3019, 9650, 7865, 28187, 8104, 20193, 27790, 8058, 11302, 25078, 4105, 16487, 1623, 20180, 13937, 6015, 16770, 14653, 22669, 19865, 4997, 16428, 14694, 5982, 3573, 18439, 4229, 1244, 28538, 132, 13730, 3085, 2174, 11040, 4744, 19793, 13713, 2412, 27171, 18092, 8041, 15803, 7802, 20119, 19547, 7006, 11164, 24894, 7286, 2859, 7519, 28133, 3762, 9451, 7870, 23563, 25323, 26752, 11005, 9428, 23980, 14123, 25626, 11487, 2500, 15149, 22404, 17710, 21909, 13646, 5585, 6023, 21883, 23053, 15342, 28042, 5183, 2145, 20454, 1832, 10546, 27910, 699, 12254, 7513, 17955, 22904, 2922, 18289, 22050, 19690, 20261, 12647, 28148, 11623, 22390, 7027, 60, 12788, 26376, 3198, 5828, 7171, 342, 15612, 10747, 7505, 27972, 22699, 19177, 12189, 19554, 16244, 750, 14518, 21469, 4325, 27821, 10650, 20896, 25337, 18093, 3852, 7492, 29321, 10474, 28935, 5285, 12690, 22448, 15156, 16720, 9160, 13311, 8692, 18366, 9497, 25454, 29972, 21778, 14573, 26980, 18194, 6264, 2054, 5128, 20017, 13010, 9736, 24931, 4842, 11664, 572, 26036, 14462, 14874, 9368, 15064, 26591, 22632, 28491, 29249, 3177, 28936, 6655, 5753, 29541, 8278, 8355, 12455, 4933, 14132, 14944, 2742, 26123, 22686, 13150, 24778, 2144, 3588, 8116, 16135, 23701, 1194, 244, 6182, 22654, 24343, 3604, 7256, 29552, 16352, 26108, 8121, 75, 5795, 4331, 10973, 837, 15790, 20108, 8594, 4018, 2902, 13003, 15877, 11817, 17325, 6445, 1985, 13811, 17482, 24364, 3272, 27210, 23634, 29039, 14065, 2389, 29306, 7861, 21645, 372, 1713, 18382, 5266, 7985, 1979, 17875, 4054, 2063, 21012, 15938, 797, 20794, 3708, 525, 2135, 5946, 29457, 18413, 15330, 9551, 25256, 6442, 11307, 8284, 15349, 24956, 9702, 26105, 20879, 28880, 18672, 12836, 12172, 4086, 19232, 16237, 17068, 14664, 14013, 1680, 23460, 19478, 457, 10537, 21719, 26482, 8983, 19319, 21733, 16367, 10404, 11667, 29950, 14256, 18055, 6011, 7991, 1254, 6136, 2619, 18239, 20064, 20595, 26161, 9835, 26890, 300, 12463, 557, 20530, 5983, 27237, 3742, 1705, 21544, 7533, 6911, 4816, 8233, 1627, 16138, 15417, 23104, 139, 7446, 12884, 3423, 15818, 20618, 27440, 7188, 9234, 19266, 8367, 12645, 1427, 29890, 7911, 27418, 29797, 15234, 10994, 28576, 3703, 6467, 5571, 2570, 22409, 26270, 10238, 4583, 28893, 18584, 20682, 25662, 5798, 26357, 9654, 1506, 13339, 15037, 311, 20892, 15679, 17421, 10198, 4345, 26791, 11148, 28869, 5232, 7024, 6523, 29163, 5740, 25921, 8387, 23461, 2727, 24709, 5536, 21650, 6160, 26854, 11106, 13546, 20008, 17618, 9568, 8098, 5810, 26089, 17463, 2539, 4833, 20405, 12466, 24775, 17968, 16202, 20955, 22682, 18228, 19029, 14606, 3090, 11583, 20102, 14387, 130, 575, 16717, 7836, 4829, 4274, 14460, 27386, 24966, 10932, 25550, 24245, 25151, 11815, 24445, 26988, 13664, 28644, 29743, 5800, 26170, 14766, 24065, 3740, 10935, 4500, 26776, 4539, 19237, 22288, 24885, 12798, 19636, 26587, 1891, 12963, 22150, 20745, 19874, 3026, 747, 11565, 20015, 14591, 687, 25884, 12460, 4841, 16646, 4788, 28996, 23129, 12310, 17977, 7090, 16898, 12537, 27229, 28546, 6967, 10146, 8036, 22391, 10727, 5643, 17502, 27708, 8310, 17161, 12191, 8836, 20922, 5713, 25748, 24822, 28915, 26473, 16657, 14276, 23278, 23981, 24573, 21286, 2216, 22889, 23243, 16972, 4269, 898, 25903, 16307, 19632, 7809, 14962, 12485, 4983, 26362, 26266, 10217, 14108, 3635, 15347, 10770, 28961, 20992, 8908, 20422, 18423, 24456, 18326, 25107, 6176, 4386, 18340, 10601, 28140, 14029, 12639, 26926, 16083, 16299, 29837, 10341, 3389, 3662, 11086, 1408, 4810, 6918, 18830, 15657, 7055, 4964, 21855, 7051, 15495, 1855, 666, 21052, 21363, 20782, 19596, 17416, 8048, 24075, 24328, 2310, 19285, 27801, 3838, 10252, 6541, 9346, 24921, 11118, 3522, 496, 18016, 5714, 15739, 7769, 7502, 21157, 13788, 13224, 21096, 10411, 25923, 25773, 20793, 6067, 3156, 24721, 1078, 25139, 23959, 20099, 5301, 12200, 18078, 21829, 7817, 847, 2614, 7001, 20540, 28926, 29951, 28353, 29185, 9165, 25466, 4366, 9626, 27740, 11858, 3141, 21480, 4567, 5978, 23921, 6501, 22098, 1167, 10899, 24263, 13578, 14063, 18242, 2646, 18094, 2109, 7062, 23904, 23249, 26195, 20269, 14235, 26827, 1336, 4232, 5117, 2910, 18232, 22152, 14470, 23527, 20123, 17541, 18229, 2992, 7684, 19946, 1052, 5572, 22289, 19344, 7191, 28088, 25760, 12045, 13821, 23848, 2507, 26484, 27432, 1285, 14246, 27468, 10956, 11595, 23414, 17359, 20134, 13869, 18967, 1740, 13574, 16900, 5652, 27717, 14711, 5995, 5120, 19221, 27514, 125, 12395, 27763, 26832, 4082, 24064, 14219, 1568, 3489, 20654, 11888, 8296, 17193, 1925, 15265, 7473, 12901, 27767, 16704, 24003, 13535, 19978, 7915, 15677, 17048, 21740, 13273, 22702, 4270, 15720, 24779, 18086, 2957, 24144, 20239, 3747, 7234, 4980, 26828, 27174, 11034, 29297, 3656, 27674, 24835, 1124, 13669, 29308, 26896, 7330, 11305, 20625, 5023, 1156, 12648, 27242, 9215, 22891, 5676, 3236, 24564, 10901, 15819, 1611, 22806, 29681, 25051, 22162, 7308, 12590, 1927, 24049, 6078, 18165, 595, 28049, 11383, 20979, 21649, 22557, 6736, 10532, 927, 949, 23443, 6332, 13413, 3701, 29492, 5925, 12384, 19142, 4091, 5193, 3109, 29161, 6699, 12231, 19330, 6899, 16459, 27885, 6462, 14524, 12912, 14721, 15767, 8153, 8933, 18775, 3230, 4234, 835, 16240, 27400, 4072, 29025, 19986, 4703, 14131, 20765, 24273, 25774, 8633, 27189, 371, 13402, 22876, 14374, 26039, 12378, 15714, 14349, 20234, 5338, 21983, 6709, 19358, 21677, 7570, 6412, 8512, 6399, 22887, 20779, 19804, 23986, 18013, 6649, 22509, 17404, 19735, 20998, 28455, 20704, 21981, 18955, 17091, 21423, 3610, 1001, 13090, 9112, 15638, 25990, 20366, 671, 14820, 3848, 17987, 18397, 26865, 26660, 25440, 23667, 21290, 3853, 8943, 16916, 19661, 9531, 9974, 21640, 5069, 1389, 11505, 6908, 18344, 4754, 28233, 2346, 21703, 1800, 1631, 10862, 14508, 7631, 15812, 18396, 18042, 5477, 18838, 3866, 10918, 11708, 15058, 4750, 15432, 12611, 25687, 7344, 23632, 9744, 22626, 14136, 28525, 13753, 9386, 3572, 28581, 12225, 19496, 6946, 16089, 6, 1283, 13260, 15838, 29521, 7013, 4369, 1128, 15655, 26383, 12698, 4157, 18218, 5054, 22286, 29077, 4089, 21758, 25556, 623, 21660, 5420, 28807, 2093, 17188, 14887, 18207, 903, 2883, 10281, 4868, 25126, 7372, 28071, 21452, 19144, 22015, 20701, 2792, 11793, 22994, 18732, 5446, 23153, 18348, 20609, 17772, 12272, 23910, 11930, 12928, 4372, 23615, 17371, 20981, 4267, 8720, 8081, 7193, 22674, 29218, 14788, 13690, 7826, 14140, 8989, 8541, 9542, 29833, 28962, 19088, 9105, 20023, 12294, 2911, 1688, 8128, 23015, 17693, 29988, 23484, 27831, 12203, 22672, 7222, 3416, 14851, 12003, 21338, 14320, 8596, 5222, 18107, 4347, 22769, 15409, 15297, 26608, 22376, 12149, 16594, 16385, 7956, 24438, 13287, 25699, 6895, 9341, 29201, 12961, 11981, 15197, 22052, 25299, 3787, 23974, 23281, 9800, 15913, 12670, 6829, 5718, 26905, 9053, 9760, 6915, 22499, 28718, 25238, 17776, 9481, 9582, 13421, 13478, 27997, 451, 4991, 15224, 21059, 17210, 6766, 11416, 24228, 28445, 7723, 1297, 7591, 20208, 29398, 12545, 7721, 17659, 21271, 29021, 9819, 19730, 21068, 20785, 11295, 25309, 6083, 28785, 17093, 505, 6724, 23916, 6753, 5082, 12143, 22482, 3192, 24330, 20316, 8697, 15949, 11388, 1489, 3992, 27325, 27765, 2142, 15086, 7345, 6343, 315, 20711, 6300, 8441, 7606, 7966, 11376, 11889, 23500, 11736, 17313, 12205, 29162, 31, 464, 27715, 28820, 15905, 27743, 2009, 2277, 28540, 21436, 22261, 4361, 14631, 1696, 8501, 14554, 12501, 17245, 21422, 17754, 21135, 23441, 28113, 1306, 19882, 14343, 15236, 8408, 3590, 28496, 28837, 7065, 25543, 21301, 21877, 23754, 24600, 8107, 2403, 4691, 16764, 24187, 29859, 12504, 18894, 18540, 1401, 10981, 1271, 27586, 8020, 6982, 6119, 6905, 6638, 26622, 8497, 9128, 18758, 21776, 15111, 7452, 26179, 2867, 20939, 27121, 25296, 26246, 3552, 23640, 12426, 17317, 9384, 20010, 168, 8706, 28218, 223, 21179, 24155, 749, 19195, 25886, 571, 5146, 20508, 27552, 15017, 21200, 18278, 1498, 11101, 16409, 16712, 28732, 20299, 28706, 11312, 18684, 18422, 26433, 22502, 2804, 19268, 4260, 7456, 27448, 16054, 20850, 5141, 15892, 6084, 3815, 28693, 15614, 13706, 13467, 24459, 28255, 22483, 489, 6459, 12371, 27463, 21594, 9861, 6059, 13802, 18866, 5701, 8318, 7393, 6592, 3868, 1172, 28875, 3753, 29661, 23802, 5792, 22230, 1089, 28698, 29812, 15293, 9140, 3602, 14629, 6683, 26588, 2798, 6191, 19856, 11273, 26459, 5087, 8744, 14087, 3189, 27807, 14309, 6757, 9536, 15056, 29256, 21317, 21919, 1578, 21555, 4455, 22527, 12091, 11178, 15611, 4437, 1517, 27220, 8650, 7940, 28680, 5184, 29594, 28635, 8967, 19365, 20538, 29383, 28702, 24208, 13015, 15808, 9287, 3130, 12910, 23695, 23893, 11159, 1910, 28039, 7520, 20663, 19501, 1805, 12109, 13347, 20585, 4726, 23480, 20649, 20457, 2837, 29443, 5445, 15106, 12062, 8853, 7560, 7209, 6320, 20258, 23120, 4187, 1364, 11085, 27566, 25878, 21926, 9106, 25796, 2632, 20796, 27477, 26891, 9186, 16716, 7255, 26271, 2076, 1531, 21962, 19398, 22799, 1021, 7880, 8955, 19404, 10880, 23369, 12903, 22851, 21243, 12500, 2383, 17357, 2329, 18904, 20529, 28588, 16469, 11377, 11978, 16289, 3823, 22198, 24102, 23692, 8921, 10769, 12654, 11554, 17154, 24799, 20821, 10734, 14834, 26403, 16142, 24269, 2178, 6948, 16139, 23964, 29854, 527, 23984, 11070, 28794, 12410, 4064, 17681, 29956, 20975, 3091, 4358, 17488, 21277, 1342, 26187, 7214, 11097, 23684, 17519, 17241, 21490, 25720, 12640, 21762, 7753, 18594, 20723, 8094, 26963, 1261, 408, 20132, 13432, 8457, 18193, 24802, 18222, 5653, 9807, 9606, 25880, 1120, 22469, 22262, 15419, 21897, 3162, 7621, 6321, 7248, 16835, 12697, 3702, 8445, 15697, 13944, 639, 3463, 28173, 26562, 17350, 25135, 24222, 3688, 22113, 11932, 3185, 11248, 5303, 6907, 26838, 1266, 21007, 25820, 26957, 3738, 6596, 5021, 25342, 3288, 18837, 29035, 19161, 2620, 7885, 18117, 5315, 16053, 24465, 3663, 6916, 6385, 13103, 16340, 27886, 11011, 12953, 29019, 25847, 25883, 12589, 12344, 27036, 26290, 24991, 17170, 27306, 16600, 16536, 20039, 19769, 26602, 20751, 28834, 11172, 25476, 19663, 23784, 2535, 20245, 19694, 20666, 2121, 9116, 17824, 3495, 17156, 14622, 17947, 6698, 8013, 16703, 7686, 10535, 21710, 26598, 18596, 9394, 25363, 25830, 9926, 8012, 26222, 29660, 9510, 16312, 28971, 24390, 2159, 7886, 1668, 24636, 16209, 9808, 9482, 9734, 6640, 15040, 21987, 14636, 15011, 28749, 12290, 19904, 13499, 1182, 22758, 26594, 6517, 1848, 21136, 25236, 10204, 14632, 22147, 1434, 15835, 21583, 12198, 23870, 1296, 10020, 26184, 6531, 2229, 15046, 3743, 12906, 2766, 11509, 15556, 2429, 20153, 25247, 8789, 23251, 23498, 25994, 5378, 3668, 925, 20687, 4748, 26235, 5964, 14474, 16632, 26188, 23503, 2566, 5071, 15343, 18592, 22696, 4058, 10997, 14186, 6712, 27335, 22266, 23612, 24558, 672, 11434, 28984, 11144, 3077, 20463, 25979, 6494, 6947, 278, 11988, 20144, 24702, 19877, 5284, 4052, 7912, 28770, 16134, 24232, 17976, 19228, 14090, 23476, 14845, 26745, 21047, 21735, 9882, 2784, 18215, 26540, 3613, 15586, 7235, 1566, 10964, 2826, 17835, 3636, 3717, 21711, 18767, 14941, 28103, 23451, 11466, 14098, 12046, 17465, 25209, 27816, 29468, 776, 25622, 25361, 20324, 28777, 5850, 17065, 2573, 15204, 25534, 16384, 27492, 4614, 16676, 13666, 15906, 10839, 11110, 20660, 12920, 1061, 17506, 24905, 1515, 14532, 8, 8273, 11251, 11408, 8265, 17729, 19995, 1007, 5526, 27826, 23306, 5799, 22273, 25009, 3017, 7463, 8136, 28117, 22503, 6177, 6024, 1966, 17109, 20004, 20151, 25614, 12414, 13355, 28887, 23942, 9343, 26713, 15627, 7210, 6568, 14432, 10162, 21404, 682, 19007, 15253, 21771, 5957, 17431, 9571, 4825, 27948, 2552, 3956, 17616, 7649, 5722, 23724, 22137, 13670, 15235, 15392, 5981, 20643, 13865, 5124, 9111, 18198, 22562, 19475, 1159, 2720, 22283, 2786, 18025, 21178, 3025, 21441, 29410, 8248, 11804, 2713, 4273, 22190, 24284, 12958, 21968, 12714, 7657, 8454, 2879, 18349, 23346, 28172, 27993, 3338, 24384, 20921, 19499, 28943, 16000, 10701, 10869, 2214, 24592, 5009, 194, 3159, 6124, 5325, 15482, 28475, 3660, 28786, 28239, 18965, 20095, 8111, 26209, 12276, 6615, 9164, 24819, 16277, 18940, 8204, 13128, 18206, 4742, 7108, 15633, 1637, 26576, 12155, 1174, 25496, 10551, 28179, 27811, 6912, 24359, 18202, 8835, 21126, 17130, 8498, 13251, 27540, 27942, 4037, 4400, 16655, 2779, 28426, 6480, 28138, 28609, 12134, 3262, 20377, 22473, 13540, 26937, 943, 27543, 29690, 11897, 19810, 6033, 54, 7045, 7853, 255, 5816, 9395, 19254, 21875, 23993, 703, 17381, 16071, 18415, 29512, 12484, 18807, 28753, 27537, 28473, 4588, 7687, 12748, 13186, 12879, 8164, 23019, 3865, 19987, 13193, 26669, 10075, 16118, 2083, 1095, 7470, 26869, 27263, 27647, 16058, 3462, 19559, 497, 884, 4377, 14543, 27467, 24202, 14937, 28021, 5156, 1571, 2028, 2195, 13102, 28351, 20488, 22622, 15841, 2353, 8678, 7717, 6857, 18953, 3947, 16926, 11226, 15592, 28781, 19916, 7718, 19985, 2711, 7155, 25263, 17, 13948, 7200, 15991, 1151, 29941, 13733, 7251, 12467, 24127, 26239, 1947, 1807, 16692, 11182, 15440, 28751, 11438, 26046, 22218, 4041, 15986, 28280, 19124, 11961, 26136, 25102, 18829, 23266, 10408, 23389, 28258, 14608, 18937, 13286, 2663, 22956, 6438, 21725, 9334, 5447, 28725, 20395, 6906, 22041, 5659, 1982, 8723, 24142, 24509, 29700, 24389, 21449, 28945, 13329, 11332, 17051, 8084, 11301, 16541, 3939, 17635, 18716, 16050, 9246, 27618, 11967, 9085, 21748, 4556, 28086, 11457, 15353, 15439, 13904, 20840, 15252, 26852, 26318, 22009, 2986, 5518, 20573, 26094, 20615, 1238, 11009, 10350, 12703, 23025, 19849, 10158, 13951, 23395, 20901, 4757, 9122, 18240, 12470, 24321, 27667, 22053, 27563, 19625, 22340, 10369, 13770, 13953, 21020, 14527, 26653, 17990, 23367, 21110, 11346, 23195, 13185, 7668, 4630, 9981, 28720, 1838, 28106, 9655, 12578, 16930, 15794, 14544, 26028, 14600, 18109, 20283, 23645, 1338, 20375, 27872, 2456, 17685, 10602, 17222, 5761, 14456, 3993, 16213, 19126, 11229, 20934, 23232, 18813, 21993, 28262, 20313, 5969, 21043, 8178, 5877, 28757, 25019, 26848, 26389, 11149, 7790, 5941, 2177, 5431, 26073, 17979, 25617, 21513, 26012, 19025, 13971, 6010, 4044, 2643, 7977, 13244, 78, 6333, 13592, 3831, 21739, 20093, 27442, 4424, 17954, 2686, 11345, 17714, 26014, 27410, 19352, 14931, 27930, 13394, 17743, 11993, 1385, 27728, 5949, 14040, 27086, 18929, 10809, 25251, 13963, 22117, 14630, 24508, 18384, 18443, 10081, 2295, 5145, 7679, 10603, 2014, 18897, 8032, 5975, 21406, 641, 3683, 3585, 29113, 13958, 3713, 2743, 28005, 15418, 18067, 6173, 12323, 29119, 16954, 3218, 11649, 16630, 29550, 29557, 15989, 14496, 20374, 11767, 23644, 21165, 4350, 19388, 2337, 27804, 24455, 26273, 17321, 1669, 21961, 15816, 26683, 698, 13700, 9803, 26597, 5648, 4982, 9102, 19246, 26133, 25848, 17793, 24100, 22647, 24847, 25321, 19555, 25353, 17678, 25539, 24451, 360, 20152, 24251, 10153, 8039, 12682, 6695, 19521, 11186, 16560, 9023, 5401, 2440, 25787, 3300, 7053, 15882, 25039, 10225, 2533, 16860, 26168, 4787, 15152, 24825, 28488, 17552, 11114, 25330, 10587, 17275, 28648, 1262, 13011, 13056, 22642, 26481, 23302, 5043, 10836, 19438, 15651, 29650, 8162, 14319, 29619, 6685, 20996, 29982, 3858, 15666, 10164, 19166, 12864, 1551, 18144, 15513, 23202, 13548, 9840, 3293, 4461, 12489, 25849, 12102, 15681, 26821, 12366, 12472, 11749, 8605, 28154, 9248, 2025, 10383, 28404, 23530, 6860, 21589, 3474, 8160, 20360, 22549, 3205, 3716, 23598, 3883, 16918, 3422, 16473, 16778, 4538, 27151, 29959, 22057, 24399, 27546, 6575, 26336, 26447, 5787, 14607, 8247, 6111, 23735, 14408, 17449, 24373, 14969, 2571, 4707, 29551, 23841, 8726, 13495, 3724, 26189, 29886, 7148, 2871, 6849, 27535, 22578, 12686, 4142, 8259, 19956, 27184, 10402, 29260, 12174, 10858, 8761, 23628, 24818, 2332, 2099, 7407, 25448, 3672, 15196, 4263, 13800, 15710, 22655, 8137, 6658, 24692, 12393, 22084, 5976, 23781, 19030, 16314, 27784, 20403, 3284, 8092, 25734, 8496, 16614, 21081, 8187, 9846, 26933, 20958, 14998, 8575, 5143, 17978, 17108, 76, 4055, 8046, 13239, 9434, 7202, 29519, 20014, 28641, 25754, 18695, 28470, 21632, 16448, 25632, 4821, 22204, 811, 9196, 10452, 4527, 7557, 11093, 13124, 2473, 13120, 4756, 4421, 6966, 16390, 22740, 20071, 7162, 21444, 3626, 21270, 12128, 3520, 20173, 13424, 9170, 21294, 4663, 18645, 4231, 21903, 21116, 29587, 9253, 12061, 5819, 27741, 19698, 15664, 18473, 20972, 13589, 13729, 14517, 19519, 13850, 24462, 28252, 19606, 3268, 1765, 23837, 29539, 4056, 26052, 6573, 13825, 19249, 15648, 4535, 6363, 22873, 23258, 12668, 367, 18210, 24466, 7766, 15777, 4186, 2815, 4850, 1189, 11452, 18605, 27693, 10091, 8337, 1814, 7791, 23342, 9706, 20639, 7141, 23810, 29841, 3466, 21456, 15687, 12522, 15602, 8711, 3394, 27882, 7546, 25179, 4405, 12239, 14519, 25546, 5480, 21810, 11903, 15487, 280, 29815, 11485, 19722, 3381, 4332, 24186, 10606, 19652, 15150, 27185, 21982, 4364, 11283, 10207, 22400, 17914, 12458, 23270, 482, 1332, 13001, 14339, 10700, 8648, 10403, 6952, 8762, 23607, 5944, 19179, 27253, 13435, 25689, 3586, 28074, 22212, 27397, 24846, 4701, 3581, 28951, 13960, 14206, 19907, 3869, 28701, 13638, 24392, 23532, 6085, 20842, 8462, 27764, 26909, 23124, 29233, 17545, 8859, 6765, 15305, 7228, 1692, 28601, 6803, 5373, 23066, 22979, 17732, 12025, 19389, 5212, 119, 3942, 25109, 11213, 18991, 28707, 11512, 22069, 20482, 22570, 1106, 23242, 21091, 27362, 17372, 28913, 11119, 6371, 21876, 20250, 7121, 8511, 4440, 14758, 28308, 19420, 28825, 4271, 20483, 29315, 15795, 21732, 9099, 12905, 17883, 1197, 26625, 6407, 23030, 20923, 23410, 1592, 2240, 1091, 17636, 25324, 11479, 8572, 16697, 5310, 20218, 18911, 12773, 11311, 19170, 10004, 12018, 12576, 10690, 3107, 1790, 26949, 13815, 25370, 5522, 21364, 27533, 23882, 24067, 21252, 9519, 6485, 6312, 12209, 7970, 19634, 21350, 24735, 23221, 29309, 9157, 13983, 25833, 17564, 22145, 17340, 28831, 26024, 4968, 11157, 28422, 18304, 15459, 24326, 5573, 4658, 24293, 12751, 3282, 20915, 17020, 19233, 12360, 6572, 1039, 23164, 9983, 16983, 29431, 27773, 25745, 2079, 13476, 26358, 26692, 10295, 8305, 17922, 190, 11268, 16561, 20665, 25711, 16579, 4898, 27322, 18369, 13504, 19276, 24851, 9137, 6743, 18001, 11913, 14970, 2184, 940, 3621, 3011, 5891, 21311, 24696, 3468, 13350, 1060, 15286, 19858, 13849, 13697, 235, 24491, 952, 9235, 9958, 26547, 16590, 28912, 3215, 1549, 27709, 27958, 7864, 21, 3967, 7626, 9449, 9664, 26327, 11329, 13226, 6682, 21949, 5211, 18656, 19522, 8067, 25564, 22352, 16161, 14391, 14974, 1673, 22498, 21109, 24044, 5778, 11232, 24944, 10372, 11605, 6936, 808, 6688, 11117, 996, 27781, 29814, 23738, 645, 15231, 29536, 23417, 10894, 11549, 542, 26693, 16143, 4681, 12813, 12732, 11764, 18104, 12736, 26718, 5134, 26252, 26373, 20978, 24114, 1541, 27568, 4704, 18515, 11826, 27207, 2361, 25642, 18665, 4119, 23777, 25278, 4250, 21970, 19224, 21646, 12493, 27152, 10157, 902, 25281, 2313, 5365, 22025, 2012, 25401, 28661, 12789, 26677, 4827, 14943, 3415, 19586, 29728, 9474, 14525, 23689, 11681, 2648, 14211, 23117, 20731, 3995, 8398, 6553, 21637, 13418, 10898, 20946, 12367, 24829, 20592, 14298, 1686, 2521, 20853, 27644, 29752, 13767, 14434, 7183, 12534, 21265, 20326, 13861, 8991, 5007, 17537, 5462, 15727, 222, 18306, 21121, 17655, 2590, 23803, 4144, 7592, 6367, 2528, 2143, 12390, 27471, 26758, 18168, 18160, 14954, 23058, 27132, 19683, 21442, 16865, 18122, 9422, 27610, 17843, 21061, 12956, 25327, 16475, 16231, 3576, 7428, 4011, 14430, 29480, 23448, 1895, 3027, 11386, 26685, 27526, 27579, 739, 2707, 5167, 18409, 29043, 28830, 28118, 21530, 7493, 20379, 26155, 24397, 14475, 447, 19915, 29523, 967, 13606, 24331, 19630, 17532, 10524, 16634, 24339, 1513, 2958, 4584, 675, 8701, 9919, 10232, 16705, 14838, 8901, 13179, 4849, 16678, 2452, 17290, 2288, 18957, 10788, 12531, 240, 19899, 24313, 1019, 24034, 29054, 15400, 295, 16901, 177, 21873, 13890, 26696, 18790, 17684, 29118, 25131, 4442, 16927, 24181, 7464, 3502, 15732, 1003, 18120, 15398, 4832, 4923, 18333, 9029, 14743, 11421, 26652, 25471, 12277, 15963, 6681, 17866, 26424, 24334, 20281, 605, 28031, 20203, 13321, 23304, 21591, 1093, 22279, 12315, 19952, 25637, 16495, 18973, 27243, 23268, 8961, 24, 7575, 27633, 25166, 17007, 25060, 9674, 18755, 20676, 15220, 16064, 22596, 8626, 4177, 8340, 26751, 5335, 13649, 17597, 8603, 24452, 18100, 9448, 8844, 6414, 1783, 16387, 7695, 7405, 19902, 19000, 11398, 23693, 27048, 17594, 25575, 18587, 2838, 13847, 12041, 4327, 4835, 14677, 14395, 16031, 7189, 5454, 924, 5935, 23145, 23746, 26314, 7698, 1693, 12694, 13249, 9700, 14521, 24530, 27314, 11160, 23214, 13823, 13530, 269, 2547, 5455, 22364, 27634, 5739, 18528, 29116, 23362, 12403, 1347, 3048, 29455, 26477, 25827, 12795, 1370, 26682, 24751, 25104, 24009, 27653, 6853, 4621, 47, 25984, 4401, 1877, 812, 27095, 2818, 2233, 20116, 22388, 25091, 17851, 15524, 1857, 7524, 4031, 11237, 3111, 1621, 21720, 5844, 1281, 15284, 14642, 9078, 24238, 19779, 25374, 29832, 15248, 21587, 18020, 15246, 25920, 16456, 13672, 16620, 12725, 13936, 8948, 8570, 1850, 16808, 14848, 29392, 25557, 23896, 8857, 22297, 16108, 18602, 28917, 17567, 3227, 9830, 8625, 11659, 25519, 27337, 15006, 1590, 25328, 16767, 6716, 7011, 10936, 2985, 27484, 14649, 1597, 20604, 21624, 8620, 12942, 12774, 11943, 29302, 13388, 8973, 22525, 19645, 3452, 19622, 27044, 3483, 23039, 7813, 11440, 14366, 21137, 12517, 24416, 9843, 26030, 466, 24613, 792, 20034, 24873, 4846, 3413, 15240, 20129, 3944, 19332, 29658, 1027, 3417, 29775, 20420, 15713, 12135, 11543, 11014, 21413, 18633, 11787, 4053, 27573, 12153, 24812, 14382, 25160, 24193, 20484, 14547, 21665, 14628, 859, 22684, 10636, 819, 25514, 7368, 13618, 7313, 4785, 14412, 29795, 20409, 28297, 803, 23401, 23883, 22118, 19363, 24788, 26015, 20084, 3899, 28963, 22130, 8732, 430, 5657, 28376, 3524, 26553, 29290, 861, 4126, 21707, 15109, 11236, 12870, 15084, 26690, 4, 5029, 13497, 5651, 129, 8150, 29006, 26464, 27827, 1376, 16887, 29790, 6710, 23059, 29643, 25789, 15508, 15484, 11454, 29144, 19667, 28068, 24757, 10814, 24463, 25230, 29382, 20816, 24493, 20425, 12262, 26814, 26480, 29287, 15545, 13901, 14921, 1373, 17390, 16393, 7969, 20492, 28652, 978, 7913, 2497, 16665, 13667, 10805, 25205, 24499, 10473, 8635, 11082, 15450, 6378, 1638, 27438, 25201, 25578, 29236, 12967, 10729, 29109, 10528, 19520, 3333, 18872, 3194, 27399, 13545, 27871, 27626, 8018, 9710, 6334, 23112, 2393, 4496, 4864, 10766, 23762, 21824, 9747, 20983, 10197, 52, 9256, 12979, 28050, 6050, 566, 28413, 24681, 6394, 28387, 27959, 28359, 10464, 27920, 15222, 22745, 25973, 9089, 23660, 8784, 27201, 9589, 12846, 6301, 9068, 10310, 15537, 26908, 15613, 10425, 20026, 22332, 7944, 26257, 12855, 8855, 7763, 2991, 11940, 7042, 4772, 27669, 1054, 24372, 7426, 2524, 20835, 21411, 19381, 18690, 4616, 7482, 18686, 7548, 16994, 12441, 17010, 3935, 5105, 28582, 1812, 28632, 29798, 9088, 13645, 24523, 14230, 13031, 9857, 10577, 20272, 17848, 11276, 2492, 4626, 8156, 28624, 13052, 13170, 4367, 6789, 11147, 17017, 20932, 5658, 24412, 25456, 27364, 14734, 2973, 9227, 29695, 9906, 6768, 21659, 12327, 17902, 11909, 1253, 18233, 6473, 21488, 15876, 27819, 21419, 20330, 2687, 26736, 5634, 723, 13454, 12337, 4600, 15254, 15997, 25056, 10120, 7453, 25567, 8960, 403, 13654, 3699, 15215, 8119, 708, 16707, 13130, 28245, 2068, 179, 7380, 8764, 6308, 10482, 18143, 16358, 8827, 11471, 18403, 6889, 27009, 20145, 19328, 24272, 13439, 14249, 11818, 11324, 5608, 17016, 15680, 10370, 10627, 24275, 6728, 18582, 18416, 2003, 3342, 23873, 16987, 22803, 29853, 21454, 25149, 28717, 28715, 12994, 25660, 21031, 10046, 2328, 15360, 26641, 10931, 8087, 18410, 20168, 5352, 27896, 20899, 7106, 746, 19471, 24504, 1399, 6597, 13025, 134, 897, 15463, 756, 10439, 9570, 3784, 25508, 4214, 28690, 19651, 28526, 2110, 14334, 5889, 11704, 16468, 26312, 27457, 6762, 12729, 1102, 16075, 1918, 24262, 6674, 25751, 2757, 28119, 412, 12483, 14823, 25452, 918, 19653, 6578, 8542, 4164, 27361, 23147, 16627, 9783, 4802, 15712, 22750, 6284, 8478, 1719, 3066, 4176, 22695, 9021, 7670, 5541, 8579, 12311, 24662, 16740, 29022, 4013, 26003, 19750, 19457, 25682, 9473, 9476, 12210, 1742, 4779, 2173, 40, 19568, 642, 8804, 27651, 23608, 4141, 18351, 23947, 27082, 8205, 22515, 5779, 16424, 29314, 23743, 27015, 14443, 440, 26256, 1331, 14530, 17660, 1302, 24580, 8218, 11808, 9633, 14160, 22588, 27409, 13034, 7609, 8994, 7963, 26746, 25964, 24498, 28814, 21238, 23736, 17399, 15868, 8157, 24241, 297, 27860, 14428, 23987, 28457, 24040, 11640, 254, 14236, 7056, 22999, 24027, 1896, 1456, 27768, 932, 16353, 19431, 13483, 18447, 28728, 8854, 2044, 10721, 29356, 17024, 21357, 886, 25067, 16104, 18298, 3794, 17469, 15462, 13053, 17785, 7675, 29008, 16537, 3780, 19748, 20297, 17971, 22598, 6267, 11497, 17885, 6251, 23295, 24783, 20103, 21947, 18983, 16119, 2896, 28647, 10185, 15678, 29705, 3398, 26583, 16759, 29481, 9301, 16239, 2504, 1371, 13261, 8208, 152, 17478, 15112, 6305, 29672, 14174, 19447, 22678, 409, 480, 19435, 11165, 7566, 19046, 17768, 20957, 23816, 21125, 22327, 5568, 6576, 10665, 11794, 19674, 12363, 18551, 665, 17929, 21532, 11059, 28229, 11908, 5198, 5637, 23321, 13925, 5453, 4389, 1614, 24630, 5958, 17247, 20760, 4766, 1105, 18942, 16359, 28914, 20426, 21995, 14044, 29717, 18627, 22864, 25154, 9580, 23224, 3074, 7089, 18238, 10922, 1127, 20472, 7705, 21916, 29157, 11776, 16406, 24210, 13600, 25350, 11266, 6238, 27047, 20407, 2424, 3882, 20812, 28876, 27619, 13903, 18026, 17406, 20790, 13047, 2226, 15289, 2878, 28921, 19426, 14754, 6040, 21814, 13415, 29232, 3290, 6706, 12251, 7052, 10530, 24579, 23525, 13503, 9083, 13342, 21353, 2483, 17160, 21878, 2294, 4537, 21888, 21718, 29969, 28150, 18370, 8979, 10453, 4533, 2562, 16381, 17370, 11249, 27923, 26527, 26777, 8942, 4445, 4874, 19356, 11036, 24739, 14231, 17783, 10989, 28365, 5777, 15553, 985, 16545, 11475, 16206, 27083, 25417, 16419, 5418, 7296, 15923, 20831, 6760, 3145, 15356, 29992, 22426, 39, 29624, 21008, 12651, 27209, 22685, 22394, 1664, 12919, 4698, 27214, 974, 3028, 19263, 1411, 25329, 15898, 23357, 9381, 2887, 20861, 2289, 12230, 27344, 9927, 5642, 11960, 6012, 29786, 6265, 24606, 15020, 17808, 10336, 15292, 4222, 11562, 3321, 9189, 16658, 6662, 15054, 4438, 8321, 9764, 6170, 9594, 14116, 17812, 29416, 5755, 19937, 9827, 19315, 24184, 5656, 15888, 20498, 13658, 6254, 18855, 11938, 5254, 28513, 29657, 16531, 17206, 9985, 17536, 29295, 1802, 7499, 11292, 11833, 6595, 21210, 3980, 18453, 4244, 19185, 9859, 3110, 7882, 25004, 19993, 8736, 24659, 2747, 9356, 23157, 6990, 19894, 19820, 16691, 9233, 9042, 7808, 28450, 4131, 19227, 18381, 1168, 26784, 29276, 19121, 10610, 28938, 19476, 740, 11198, 7269, 13077, 1492, 6902, 7185, 5050, 3761, 19073, 22907, 8145, 28456, 14885, 29669, 6058, 1190, 15534, 17211, 8719, 21595, 10941, 507, 10526, 18360, 15203, 29949, 1752, 21656, 5405, 8021, 16741, 24322, 18850, 14240, 16147, 10558, 14682, 1341, 27241, 28352, 14540, 3399, 20858, 26638, 18613, 13016, 23075, 21749, 16042, 26813, 3097, 7820, 18406, 28898, 7375, 26950, 21715, 4062, 29727, 22722, 15261, 15108, 24207, 23537, 3897, 9438, 17975, 12758, 27578, 13918, 5579, 25286, 14000, 22547, 3396, 17740, 29720, 21872, 14433, 3509, 4917, 15701, 15645, 16711, 3914, 2557, 28687, 29644, 29718, 25855, 29165, 15048, 10455, 5872, 15939, 13134, 19371, 8802, 22100, 7891, 26723, 17560, 444, 16628, 6730, 28810, 16173, 24124, 26055, 20890, 22565, 4418, 27388, 24305, 2477, 8923, 15004, 25802, 26401, 19326, 181, 15597, 13501, 23309, 5413, 3795, 25936, 12170, 3316, 23662, 28289, 1606, 24282, 11722, 5052, 25359, 21857, 3827, 18281, 5291, 25117, 17084, 27702, 419, 13627, 13440, 18276, 19664, 24830, 9200, 23534, 1042, 4803, 11824, 4570, 20830, 9271, 23569, 15096, 22885, 15374, 423, 24653, 786, 28733, 8225, 24278, 1388, 809, 5904, 11358, 16903, 17328, 26886, 6193, 6703, 15340, 12140, 25753, 24604, 19206, 10567, 12862, 12204, 1129, 21053, 12779, 22967, 21804, 19384, 13721, 10163, 4296, 6979, 12445, 22393, 3698, 14867, 4221, 25222, 21189, 24710, 24590, 19452, 26347, 18572, 21716, 5231, 24107, 12075, 3732, 10681, 25483, 23239, 9515, 14453, 21799, 25499, 24531, 20321, 9283, 2732, 10921, 16863, 1458, 26631, 9971, 14971, 584, 1727, 27413, 27749, 16915, 21388, 18246, 18882, 17620, 5290, 18710, 12930, 1423, 204, 11680, 13369, 23231, 18924, 14684, 22450, 10984, 26431, 16528, 9855, 21249, 10100, 21818, 26810, 20318, 5533, 6950, 17715, 5388, 4246, 6221, 3537, 3428, 10876, 27236, 26452, 5788, 849, 8578, 17208, 4451, 1761, 19047, 27774, 26410, 23917, 1537, 13660, 17759, 29046, 15059, 10356, 1542, 14429, 16109, 14784, 3283, 18713, 1695, 5580, 6804, 13172, 25784, 5545, 9279, 17800, 10694, 2950, 9727, 29085, 361, 27663, 10388, 5321, 26087, 6089, 21805, 9073, 6223, 24821, 5168, 2758, 2823, 29554, 2292, 19983, 13002, 19333, 24216, 20561, 21117, 10855, 27744, 13245, 29246, 21295, 8710, 22981, 22636, 1598, 27068, 6327, 13279, 29060, 6801, 9547, 5529, 20818, 16635, 19289, 16604, 27922, 14085, 24639, 19256, 18875, 26620, 27145, 19409, 400, 17709, 26927, 3335, 13841, 22267, 12482, 12022, 25809, 7568, 9699, 28006, 20169, 24295, 135, 8758, 14271, 24304, 14916, 23625, 7881, 9315, 29312, 2165, 28953, 8912, 22108, 19935, 26947, 12237, 14930, 5999, 6500, 8830, 6323, 2850, 6954, 16274, 17394, 23793, 16992, 17305, 6014, 13464, 12421, 18051, 1355, 5259, 10180, 15933, 23158, 29902, 15659, 27978, 27275, 2708, 13631, 23073, 13616, 13663, 29098, 5689, 4181, 13827, 13591, 292, 22037, 7993, 27493, 7879, 4000, 8734, 1161, 736, 24001, 1431, 3759, 12724, 22572, 22765, 5206, 1315, 25381, 4644, 17267, 16303, 19723, 19749, 22284, 26887, 5048, 28131, 25144, 8113, 17565, 29808, 15669, 24649, 13534, 23871, 22520, 8534, 1849, 545, 12520, 9713, 18337, 17281, 20742, 16005, 26430, 11053, 10844, 24553, 25558, 18783, 24015, 8538, 24920, 13473, 5387, 22947, 27179, 5824, 6047, 782, 1046, 7461, 22374, 22991, 21796, 4467, 8300, 12730, 12108, 22879, 6827, 7611, 24611, 24021, 1334, 6843, 14813, 21257, 10423, 27583, 1685, 29611, 14790, 1010, 13163, 13868, 18939, 28417, 10641, 12528, 18711, 29578, 15979, 17770, 22323, 19982, 14062, 26971, 21911, 14859, 10686, 3010, 9921, 2667, 6970, 28634, 15731, 4251, 18818, 28566, 4597, 14379, 1085, 17158, 993, 16499, 29632, 4304, 4679, 3854, 19360, 24576, 12997, 20176, 6790, 19040, 4193, 11216, 8374, 24206, 24813, 20338, 25343, 25480, 21296, 17074, 28638, 14273, 2269, 4129, 22258, 13271, 29911, 10078, 27396, 27638, 25862, 5484, 27570, 8055, 7309, 2085, 964, 4852, 21728, 19909, 2949, 19410, 21568, 17198, 26352, 12538, 28817, 21629, 27777, 8069, 866, 26286, 18076, 2016, 10102, 24632, 7267, 21821, 21867, 26141, 27188, 178, 6348, 13143, 15899, 4180, 4453, 14296, 23541, 24520, 16116, 28859, 17125, 29946, 19095, 16457, 3837, 1459, 29866, 14688, 9230, 3279, 27609, 19677, 5294, 19039, 20944, 14056, 23631, 15281, 1324, 3286, 24832, 14873, 29525, 27268, 26561, 25859, 21202, 4067, 9065, 15950, 19857, 2840, 394, 23750, 9072, 327, 11004, 2971, 28114, 13164, 17711, 28132, 5745, 3024, 25463, 29237, 29031, 9096, 7221, 29086, 25050, 22548, 907, 24360, 24005, 26918, 18267, 12878, 4511, 1301, 10446, 27008, 7727, 26064, 15433, 558, 21332, 28903, 14263, 7317, 25153, 29071, 12418, 5639, 5465, 29751, 24170, 18754, 313, 2624, 24803, 18949, 7346, 26137, 25993, 21037, 27862, 10229, 14413, 29766, 15894, 2721, 19834, 13427, 25783, 21191, 9223, 10706, 7765, 27914, 11984, 10176, 4316, 7480, 10818, 29522, 11338, 23068, 23892, 2246, 1330, 8276, 22776, 29482, 4450, 5115, 15965, 6616, 11996, 8124, 22246, 5257, 1135, 22670, 12881, 10514, 958, 26072, 25443, 8712, 28337, 5646, 5362, 29741, 15114, 3301, 22075, 10014, 6934, 21386, 20559, 24070, 4906, 14109, 14825, 250, 10519, 16562, 22287, 20167, 11254, 28093, 11627, 20290, 16152, 5032, 11250, 26695, 12574, 23596, 21681, 26166, 10086, 16259, 11712, 26446, 29560, 170, 14215, 15124, 22338, 24368, 5363, 2612, 23815, 23535, 1874, 19212, 22392, 6144, 16563, 1438, 24406, 27731, 19294, 22802, 26237, 10327, 5638, 7596, 16183, 20054, 9624, 20967, 24361, 18623, 20550, 9696, 1507, 21664, 26808, 14654, 23208, 11060, 16436, 16724, 10506, 9414, 27691, 795, 12721, 11233, 8362, 3991, 19194, 10711, 14804, 29381, 1843, 7241, 11337, 24099, 20565, 1294, 11404, 19265, 3211, 6922, 14082, 14228, 6130, 24870, 25164, 18835, 23374, 12948, 6550, 7124, 4495, 14737, 14355, 8403, 937, 27665, 9960, 20636, 19489, 27680, 20719, 26139, 20510, 15190, 14598, 4993, 29439, 20512, 10309, 22126, 24800, 1698, 25636, 7350, 13234, 22095, 10152, 13744, 28108, 23539, 15964, 15136, 23475, 28147, 23353, 21573, 1290, 16490, 25956, 10351, 29979, 9781, 17104, 29072, 4899, 20431, 20807, 28910, 6413, 14936, 19950, 8230, 22805, 14148, 12908, 7640, 6777, 17368, 9924, 27330, 22937, 12570, 4132, 8600, 12207, 18012, 18959, 17652, 27770, 18357, 17637, 25816, 15428, 20514, 24811, 26849, 24529, 19742, 11928, 23018, 20504, 6065, 15018, 20724, 27824, 28882, 17040, 6513, 14142, 5956, 8458, 21517, 4815, 29548, 22226, 16735, 24990, 21516, 8038, 20305, 27358, 17128, 16570, 24146, 15996, 22020, 10317, 25422, 3680, 3135, 6491, 245, 21309, 260, 8266, 9951, 22493, 42, 20106, 18436, 16622, 19533, 24118, 22713, 3889, 2386, 24717, 6337, 1058, 16106, 4487, 10293, 3269, 28558, 8289, 26738, 25284, 20237, 463, 12074, 17650, 16309, 20383, 24857, 13420, 5002, 24496, 9468, 27766, 8997, 23212, 4668, 8703, 21127, 19562, 7497, 25035, 13553, 19675, 17192, 19192, 25692, 20378, 6268, 26541, 22181, 22049, 1396, 5960, 11663, 1930, 25672, 19864, 18044, 25604, 11919, 22635, 27967, 21023, 6296, 26339, 20475, 5744, 5507, 29622, 21908, 26504, 13731, 10703, 12509, 22116, 23858, 29048, 29435, 17343, 23366, 18576, 22446, 19342, 7197, 7489, 6833, 7063, 13602, 7425, 19673, 6521, 20495, 5772, 8823, 13907, 1117, 10760, 6135, 10819, 25073, 20544, 22794, 17675, 23056, 2211, 4594, 29915, 4257, 22960, 26323, 4673, 19835, 1770, 1741, 24816, 27849, 12596, 29800, 22660, 16683, 21236, 22304, 29852, 17059, 14342, 16643, 19966, 9327, 22305, 16380, 8200, 15000, 20826, 23315, 26616, 19096, 16953, 4341, 233, 7068, 6874, 11731, 23955, 12273, 14557, 26458, 16047, 17283, 20577, 1694, 22480, 21005, 24577, 4972, 20057, 8309, 12646, 17657, 22731, 23171, 14929, 27966, 378, 5909, 5216, 28076, 14791, 4724, 24836, 9769, 5153, 22997, 4566, 15285, 16178, 2255, 1651, 13565, 27213, 6435, 6376, 6800, 27613, 2215, 11504, 17366, 3652, 7878, 24754, 6469, 5621, 8029, 18290, 2920, 5351, 29010, 20691, 673, 12232, 1935, 9441, 180, 15315, 5881, 26923, 13923, 15257, 14047, 16873, 1510, 7884, 3959, 13537, 21495, 7669, 14106, 23985, 28547, 2606, 10663, 15327, 24585, 7281, 23379, 22173, 27436, 12009, 815, 28909, 16880, 21376, 17525, 7747, 3895, 27137, 80, 23384, 12469, 14281, 17568, 13277, 12960, 21244, 2468, 2771, 15676, 27776, 25195, 12619, 29670, 17263, 9642, 4217, 23618, 18321, 4536, 9206, 5320, 14537, 2773, 6484, 13791, 1203, 29932, 15540, 13087, 21698, 22169, 6131, 12823, 17733, 7740, 13445, 7677, 2300, 19071, 729, 24897, 27038, 3789, 10470, 17387, 1540, 29379, 3271, 25314, 7967, 21626, 4843, 10399, 27354, 13884, 28228, 9447, 11120, 23579, 9533, 18545, 10274, 29863, 10285, 13326, 21900, 23779, 23227, 15199, 16984, 14351, 17869, 26238, 3670, 20319, 7660, 9952, 17854, 3704, 13315, 21253, 1981, 25030, 6715, 21533, 18662, 28259, 9872, 21372, 3893, 22595, 1845, 13468, 1675, 3120, 5347, 21638, 28143, 4773, 24306, 26120, 14003, 19014, 16300, 2116, 5170, 12119, 23700, 17563, 29018, 19523, 28889, 5330, 19159, 6744, 6093, 15607, 27782, 26546, 11203, 6893, 11393, 27732, 14053, 21783, 19036, 25721, 15135, 15823, 29610, 4684, 4276, 2406, 12557, 25812, 18365, 25597, 14864, 20648, 26888, 12608, 20289, 19122, 4831, 23941, 22756, 1612, 18054, 22761, 473, 23687, 16070, 11895, 29995, 27033, 26388, 14569, 20136, 27067, 27023, 18339, 17299, 19879, 8223, 13520, 16564, 16103, 12435, 24308, 14350, 11638, 3718, 24225, 8772, 10592, 26846, 4932, 10542, 19815, 18549, 7208, 9144, 6505, 14426, 21194, 16460, 8127, 26023, 5242, 13550, 6637, 12096, 5636, 4547, 27575, 21348, 1226, 8352, 28373, 5309, 24213, 8863, 23712, 13599, 901, 20871, 19279, 17439, 14357, 7777, 8971, 486, 1617, 23255, 24994, 7744, 8616, 27608, 22316, 3108, 6859, 23542, 4921, 3580, 18903, 6455, 9929, 4383, 28503, 10970, 16958, 12284, 23926, 4116, 28688, 24795, 6004, 18154, 26618, 23250, 22110, 6668, 11021, 16293, 3781, 25881, 20792, 10184, 13718, 24845, 25181, 13303, 1690, 3536, 21789, 15711, 13307, 5729, 26823, 14137, 26400, 19557, 7367, 23813, 14262, 13367, 11244, 7102, 10565, 17731, 8126, 17226, 4227, 7070, 12553, 4936, 18581, 23978, 6108, 3012, 9914, 8224, 15302, 11510, 18139, 28142, 14616, 10171, 20919, 16185, 27733, 9030, 3184, 14590, 9534, 8956, 5181, 6817, 26192, 29103, 25472, 19146, 5063, 14394, 22983, 18743, 3407, 9577, 6163, 458, 21990, 28210, 28061, 524, 528, 29391, 29967, 26080, 28123, 24194, 1678, 9273, 27778, 15268, 19382, 288, 9464, 23187, 13206, 23663, 15798, 11662, 9746, 7819, 24933, 25587, 26993, 19127, 28345, 24277, 27478, 16346, 12369, 7794, 114, 12176, 24319, 22159, 13875, 28780, 2841, 28499, 22934, 16969, 11777, 25224, 11622, 23863, 1284, 29569, 17166, 28868, 25171, 27800, 16989, 363, 1776, 10148, 17127, 11886, 8843, 10963, 7873, 19572, 24951, 23553, 19726, 2774, 23887, 14, 22293, 5895, 20500, 19198, 7667, 12532, 1833, 17054, 23196, 22747, 22720, 27559, 783, 29974, 6610, 27378, 3542, 14483, 16701, 4448, 18192, 26042, 25369, 26632, 23593, 17646, 14672, 29374, 18119, 26069, 9920, 12977, 3419, 1970, 22497, 10593, 26672, 21355, 45, 6824, 24722, 4657, 8947, 24138, 17235, 21401, 5264, 2765, 11610, 9211, 11362, 982, 15911, 21473, 18350, 6764, 8213, 25586, 15725, 11715, 58, 22854, 25854, 19143, 25053, 3546, 29352, 3358, 29438, 13784, 6556, 15567, 27839, 25419, 22194, 20345, 13231, 4648, 2884, 28309, 24916, 10731, 22658, 4308, 25090, 13017, 16696, 8514, 2399, 20626, 29662, 24199, 14477, 2968, 5817, 2194, 4262, 17686, 7555, 22512, 17695, 10923, 25695, 23531, 21701, 18599, 13199, 17769, 939, 10302, 24019, 19548, 15663, 6886, 24826, 13452, 23138, 12269, 8637, 16295, 648, 1298, 3549, 8932, 4801, 4426, 20263, 7905, 23519, 11418, 6825, 10622, 27815, 24237, 19157, 27217, 15142, 6216, 14411, 17271, 27899, 26196, 27381, 13301, 22034, 1714, 22630, 24163, 22905, 20124, 18418, 16653, 25530, 8527, 29897, 29323, 18135, 27756, 24948, 4124, 752, 11300, 8122, 21032, 27289, 23433, 23390, 6991, 12454, 9171, 22653, 25013, 14658, 11066, 22296, 13154, 27750, 26343, 27453, 17288, 3356, 21641, 27392, 16804, 12874, 28722, 26671, 12959, 1836, 228, 27736, 17266, 25128, 29320, 5695, 15449, 29599, 25613, 20365, 22349, 1872, 28787, 6179, 6212, 18535, 10661, 14746, 18185, 2881, 6901, 21027, 23283, 9080, 4712, 15485, 13196, 603, 19822, 2849, 2279, 12832, 259, 21225, 709, 13854, 25239, 23809, 9401, 11972, 8437, 13240, 9849, 10572, 16268, 986, 246, 17249, 28479, 1858, 15870, 16397, 22899, 25459, 15030, 12722, 29127, 14548, 7443, 16636, 12885, 5911, 12983, 336, 8787, 20708, 20645, 1720, 27016, 15171, 28468, 18568, 20347, 19945, 26462, 12400, 9500, 28012, 24103, 9717, 24214, 14526, 18565, 3559, 27000, 23077, 25972, 761, 16082, 926, 27567, 10415, 1307, 12692, 10678, 3641, 8202, 29268, 12331, 10884, 21163, 17943, 19659, 26536, 7326, 2874, 11363, 29397, 25545, 2598, 26941, 4061, 15575, 69, 3094, 8068, 19111, 17662, 15519, 1022, 7338, 2367, 14846, 14303, 10392, 13725, 1977, 20729, 9584, 23176, 8793, 25714, 10539, 19223, 10885, 4471, 3971, 14769, 20343, 27465, 18466, 22853, 247, 6419, 1523, 12637, 7097, 16189, 20346, 2770, 20398, 29762, 22223, 7800, 21479, 7953, 10389, 4160, 22897, 149, 22973, 20524, 6190, 16792, 12683, 11107, 11455, 1754, 1451, 1020, 14389, 11068, 19785, 7725, 18136, 26355, 20329, 10517, 21300, 21304, 4688, 24992, 21708, 5940, 22016, 27391, 16975, 8199, 23859, 16568, 22837, 2978, 19364, 599, 104, 15922, 23678, 18693, 1452, 23522, 28923, 8028, 20734, 23330, 21307, 694, 4975, 6837, 14760, 29501, 2465, 18935, 28929, 26488, 274, 14585, 21684, 19960, 5985, 1886, 1180, 29334, 14514, 12794, 12457, 8805, 21263, 23768, 28448, 1798, 7414, 18595, 2752, 25955, 27718, 7294, 11671, 5784, 27165, 26371, 16056, 27798, 24691, 3397, 17377, 20072, 13768, 24542, 8585, 8474, 215, 29225, 3376, 2301, 12413, 23031, 9001, 13215, 4335, 20582, 316, 9752, 5150, 24203, 24135, 10142, 4631, 25398, 287, 17260, 24544, 17060, 25168, 9792, 6602, 6862, 13390, 24954, 16578, 11173, 2777, 11983, 4581, 16269, 16553, 8396, 10460, 19933, 17900, 4836, 12738, 27431, 12208, 15746, 9100, 19778, 23386, 22011, 3477, 9232, 21663, 19004, 4659, 24061, 14048, 19351, 7036, 25405, 12624, 22951, 14023, 14905, 18663, 9767, 2517, 9946, 27987, 7691, 8893, 25244, 13978, 29406, 14919, 29172, 7644, 9412, 25516, 4360, 6675, 3188, 22955, 11355, 3598, 1212, 28514, 11812, 23589, 15852, 10277, 23079, 28573, 4649, 2206, 9397, 1145, 4591, 5096, 26959, 8469, 6646, 2488, 404, 15080, 2572, 17991, 21303, 25630, 2722, 719, 25426, 29935, 5902, 4512, 21770, 14955, 9763, 9225, 13759, 5789, 28991, 18742, 10270, 28551, 25752, 23206, 7617, 6147, 518, 19052, 11964, 9893, 23144, 20115, 15844, 27912, 20536, 3697, 25986, 50, 20182, 18733, 343, 20766, 6692, 3008, 14054, 26316, 22222, 24192, 19893, 24883, 25059, 2642, 14163, 11003, 11483, 21834, 5741, 27256, 26090, 1689, 9247, 15241, 21666, 17551, 21766, 4951, 29241, 26982, 21870, 37, 6185, 26578, 1725, 26661, 18191, 24756, 19542, 1852, 10412, 7906, 18099, 314, 95, 28090, 19597, 15617, 1134, 24892, 23555, 25092, 22963, 5202, 13567, 2423, 18438, 28654, 2307, 28082, 11899, 6968, 16673, 11661, 889, 8264, 283, 20938, 22104, 25141, 15397, 13809, 15322, 15832, 16881, 14268, 19341, 14709, 27751, 3615, 1195, 1610, 7071, 14978, 19323, 11429, 12635, 3056, 28838, 16170, 13135, 4203, 10024, 17994, 25377, 2223, 13498, 11557, 29015, 21880, 46, 13336, 1646, 21103, 24141, 16298, 3478, 582, 2340, 13888, 26471, 3829, 8085, 8214, 6802, 2900, 3867, 20600, 12678, 9339, 7510, 8399, 22274, 4916, 3655, 13108, 21394, 1470, 11579, 15512, 1907, 23016, 8047, 12707, 9351, 21014, 22625, 23958, 15244, 16002, 13151, 27415, 9117, 25792, 12052, 3811, 1274, 15399, 12924, 26545, 25119, 15127, 29442, 9239, 24987, 5908, 19118, 4920, 18511, 741, 15879, 26396, 17718, 5346, 29823, 18675, 24872, 21722, 19019, 6847, 28973, 3403, 23796, 3153, 26994, 20677, 9079, 23322, 18280, 14145, 1227, 20243, 16752, 21621, 9737, 24680, 21569, 15279, 4595, 22196, 28553, 22071, 7803, 13794, 6393, 98, 23262, 21478, 10113, 12561, 24388, 6751, 8460, 21686, 17572, 15386, 3752, 6785, 12965, 27688, 4824, 6769, 4635, 29221, 8666, 9938, 23727, 27109, 17651, 26043, 11150, 6499, 10868, 29479, 9954, 11303, 23543, 18190, 17886, 23415, 8189, 22255, 13793, 16872, 28877, 7325, 10347, 8277, 26529, 26867, 5811, 17203, 3370, 7475, 5531, 24482, 27065, 6069, 946, 25786, 20714, 3644, 9333, 20969, 21395, 4807, 29371, 975, 21463, 19425, 15845, 22597, 27424, 12093, 9934, 16548, 2262, 3225, 19942, 5825, 2281, 19253, 29860, 7832, 17936, 26904, 5003, 23285, 14365, 13982, 17735, 16440, 17882, 1933, 24770, 10978, 10250, 12562, 18756, 16834, 22705, 2401, 4619, 1659, 9035, 17716, 21250, 18692, 12175, 915, 164, 9966, 27020, 15021, 23686, 15813, 11990, 961, 12540, 13708, 7288, 26065, 13789, 683, 23983, 27908, 3219, 9575, 26850, 7581, 6684, 3976, 6285, 6580, 18123, 22479, 10647, 13274, 20621, 29145, 25815, 12007, 3926, 25684, 15226, 13460, 21747, 25673, 8197, 4162, 6388, 18300, 8870, 25566, 8201, 6783, 17958, 15210, 7507, 12448, 8347, 25829, 17734, 4084, 29294, 19468, 29596, 29614, 2259, 20769, 18532, 3596, 16193, 5650, 7569, 18842, 25054, 1100, 9692, 2315, 2967, 15223, 14493, 23174, 13007, 17867, 29679, 22441, 20188, 551, 14141, 26300, 12370, 20832, 23024, 22334, 6754, 5743, 22939, 29562, 21481, 12636, 10516, 18768, 26775, 26167, 14300, 16937, 16480, 16401, 18679, 20013, 28512, 27840, 22810, 24419, 1413, 15509, 916, 1594, 13880, 19211, 5223, 6635, 23994, 13411, 26741, 23294, 23764, 22243, 5591, 25298, 26158, 21976, 27421, 7641, 24853, 23502, 2525, 28626, 28237, 19288, 27511, 10189, 3650, 16896, 6870, 11866, 25188, 12728, 7690, 21030, 23400, 16919, 14180, 4558, 28203, 19740, 5015, 12131, 813, 9788, 19051, 14979, 3412, 24513, 12077, 3125, 19862, 15859, 19424, 25241, 11762, 9425, 25828, 22797, 8777, 13853, 16660, 24953, 2700, 10841, 16598, 20097, 23834, 15186, 15525, 4860, 25140, 844, 15263, 16714, 25520, 18705, 6383, 13877, 29362, 14036, 2050, 8800, 8822, 28322, 10393, 17520, 6971, 14290, 18673, 13371, 11618, 10649, 22775, 20328, 19513, 15682, 26119, 2737, 3990, 887, 27712, 4900, 5673, 10629, 668, 21744, 23679, 5814, 20815, 10813, 13569, 3390, 27342, 24701, 7503, 21734, 6963, 23033, 18655, 6486, 12215, 3020, 5858, 4398, 22821, 6382, 25159, 21661, 24764, 2983, 26496, 7321, 26518, 23853, 19620, 23599, 8879, 27445, 6365, 26836, 3013, 3352, 19967, 3543, 23311, 8216, 10942, 20393, 3344, 6293, 26962, 13144, 25313, 4266, 18989, 10104, 6002, 20567, 5581, 3081, 27710, 21321, 14130, 8173, 22247, 10267, 9063, 26071, 4568, 19313, 1171, 3859, 12940, 8022, 6898, 5996, 29001, 8167, 12247, 14657, 3558, 4414, 24511, 20268, 6878, 18035, 13930, 23996, 16768, 21105, 209, 1211, 19492, 612, 1511, 5869, 6372, 9285, 2820, 1111, 24682, 9033, 28703, 2759, 12684, 29971, 19466, 8151, 16906, 23468, 19339, 6229, 14693, 4625, 7511, 20018, 2951, 14732, 21297, 1160, 19465, 21644, 19543, 14333, 3989, 22437, 5922, 25510, 16859, 22668, 29404, 22964, 17889, 15391, 6063, 16032, 5299, 16718, 26615, 24884, 11933, 23798, 11111, 17142, 5868, 10447, 16823, 20902, 3273, 28901, 2390, 7759, 13940, 1569, 23127, 9257, 5409, 5118, 12420, 15523, 19747, 12907, 26308, 17613, 23890, 26986, 12886, 3664, 9965, 6425, 2869, 6232, 4517, 17023, 5031, 2965, 12471, 1728, 25668, 6035, 29498, 21475, 11517, 18493, 12913, 12224, 11955, 16232, 7877, 7755, 4313, 20717, 1607, 7724, 12059, 18557, 1044, 16233, 4134, 5042, 22094, 22714, 4087, 23943, 23210, 15146, 23836, 26122, 10301, 15944, 846, 16810, 28201, 6650, 26668, 19685, 21215, 20791, 19092, 15271, 19635, 19906, 29953, 24533, 5486, 3193, 22161, 21216, 1760, 12283, 12890, 22818, 10166, 21837, 14011, 11486, 14307, 6133, 16129, 11162, 7544, 26914, 20088, 13158, 16595, 18721, 20397, 17447, 8105, 23510, 27428, 16671, 23621, 13862, 4960, 20442, 9868, 27671, 8166, 13046, 11528, 4076, 9349, 28217, 26365, 26129, 14967, 6689, 25021, 5665, 4125, 22637, 24175, 13679, 2868, 29451, 28691, 28246, 10675, 9419, 29370, 23976, 22060, 13801, 16415, 12060, 5804, 19043, 28023, 22957, 7374, 13182, 18425, 930, 2829, 26041, 27168, 21067, 22379, 19480, 11328, 11084, 13256, 8082, 14244, 7776, 7145, 8108, 12814, 4323, 4637, 27435, 25260, 15773, 14335, 7771, 2408, 549, 7067, 15118, 5343, 9607, 18316, 14176, 13083, 25867, 6604, 24393, 21323, 29810, 29240, 8927, 13790, 13425, 1499, 4927, 15303, 2197, 25837, 468, 24106, 714, 19538, 25193, 8728, 5476, 24501, 27892, 12699, 18988, 9916, 28498, 24765, 5255, 6619, 12160, 9930, 22634, 7363, 8253, 17999, 10027, 8190, 21825, 19768, 25268, 13176, 4259, 11140, 12196, 14168, 13967, 9095, 25647, 7816, 12415, 18832, 10405, 11797, 8491, 26767, 29454, 24017, 2182, 28599, 3033, 29746, 6345, 28462, 29898, 22436, 23685, 16574, 1796, 28763, 2918, 25442, 899, 11843, 9751, 19217, 16438, 10437, 5479, 18720, 22786, 29862, 16163, 26177, 2341, 21074, 16619, 18310, 29802, 18411, 27706, 26538, 10140, 15274, 21354, 4867, 3700, 18142, 12431, 22221, 21400, 6292, 28897, 27818, 13389, 29353, 1557, 23901, 11318, 20752, 9759, 29583, 29198, 29771, 8862, 2681, 26981, 2306, 4931, 5474, 28608, 10239, 14170, 14835, 3669, 20120, 12319, 29828, 29073, 20732, 10095, 7272, 23135, 2953, 21525, 14538, 9219, 450, 25698, 19720, 23940, 7509, 2202, 11103, 24285, 7019, 11211, 26593, 29296, 6297, 26717, 4956, 8690, 5444, 4823, 9142, 23080, 7554, 11272, 28028, 25661, 28058, 2799, 21586, 5094, 14556, 28403, 16889, 29511, 15229, 10608, 24480, 8228, 5886, 26747, 17756, 5715, 15165, 21815, 10445, 17019, 8465, 25458, 555, 9662, 22193, 22495, 18678, 7602, 21551, 18978, 29965, 9489, 26492, 21658, 15230, 5270, 19401, 317, 10065, 23627, 14052, 18478, 17792, 1275, 29429, 5734, 19282, 16577, 19560, 28536, 21974, 18140, 14488, 29899, 19270, 12068, 21498, 28178, 11716, 27251, 4092, 18358, 12685, 29682, 2484, 3330, 2748, 17771, 17744, 1292, 22848, 1983, 14024, 7392, 25977, 17322, 27995, 29355, 3987, 17287, 27933, 12486, 11857, 16069, 7694, 848, 19173, 7583, 27853, 16204, 14660, 3905, 4622, 12591, 20546, 8211, 21529, 29183, 23290, 1299, 21839, 21499, 5737, 3657, 14706, 29726, 28968, 24413, 9398, 16518, 27, 24831, 26859, 4808, 5614, 18712, 2213, 8301, 3435, 8583, 12264, 5932, 7742, 20287, 16325, 12525, 11931, 10673, 27475, 7992, 20754, 15983, 27403, 12780, 2665, 20501, 10254, 20579, 16838, 5846, 9478, 15217, 7305, 20050, 18745, 4197, 24967, 11495, 16498, 14535, 5938, 3974, 1601, 15267, 19145, 7109, 963, 28833, 20777, 24786, 20341, 22205, 11721, 6317, 15352, 8135, 24116, 1430, 16708, 5260, 8778, 17962, 26663, 15796, 569, 9890, 26149, 29533, 19178, 25625, 29505, 22341, 4220, 10541, 16506, 13714, 2610, 10670, 2342, 6793, 28734, 9931, 8432, 6064, 9467, 26804, 23624, 24191, 17580, 13756, 476, 11142, 1123, 5011, 2436, 26021, 26976, 6686, 25240, 24357, 11785, 4736, 17767, 10598, 18689, 6581, 1063, 2426, 5702, 13230, 4100, 17135, 29769, 11432, 2376, 3126, 13840, 13173, 1282, 14171, 2565, 3366, 20913, 23587, 17905, 24059, 2753, 26416, 24890, 5468, 23299, 12115, 26829, 6331, 12233, 5403, 22048, 3347, 26555, 20581, 17212, 14675, 29947, 21612, 24344, 28314, 22852, 23181, 24806, 19980, 5430, 12243, 23284, 5421, 17085, 12566, 16356, 25058, 1192, 10638, 19038, 21384, 20667, 16986, 14564, 6437, 12914, 24809, 10355, 751, 19350, 14247, 23189, 13466, 22544, 13272, 21190, 2254, 3314, 17461, 23580, 919, 18259, 29358, 13872, 7152, 26897, 9583, 29475, 8217, 3079, 6620, 29787, 16242, 23729, 976, 3068, 5490, 1157, 9378, 838, 10261, 1951, 16330, 1772, 8755, 7917, 12086, 914, 19575, 20849, 12921, 17554, 28478, 1241, 6645, 29870, 27119, 16471, 3505, 11385, 1229, 11553, 11447, 16811, 5103, 5679, 16275, 17221, 16248, 17209, 29906, 24335, 29415, 4918, 23823, 16045, 20930, 7299, 1556, 23438, 26880, 13839, 27037, 727, 23200, 5874, 17959, 28430, 8995, 23186, 28714, 18809, 27346, 163, 23462, 23483, 1596, 25961, 26523, 15465, 28110, 24689, 19464, 17067, 4675, 1242, 23780, 15891, 2699, 8246, 2090, 19442, 17076, 9818, 17112, 23792, 28550, 11087, 15287, 11215, 2321, 26686, 12768, 15498, 24403, 25648, 3016, 4912, 15166, 28381, 2863, 8446, 18862, 16150, 1937, 4747, 14609, 435, 22345, 19231, 28225, 6810, 7901, 3220, 11703, 25801, 18071, 6202, 5521, 23552, 13110, 22427, 21597, 10353, 13836, 21162, 14700, 14650, 88, 3707, 16446, 20637, 2532, 397, 15384, 23651, 18262, 8406, 6022, 15090, 17720, 26450, 14043, 20799, 8985, 691, 8602, 16318, 24338, 17760, 16055, 12252, 20987, 4241, 25076, 15590, 29248, 18625, 13142, 20480, 19886, 17691, 23150, 12039, 27545, 18869, 3643, 26035, 10783, 9596, 1205, 19255, 17920, 24514, 22832, 29592, 9729, 19697, 22533, 20207, 4598, 4362, 8384, 25797, 6660, 706, 23770, 7883, 15595, 29609, 22309, 5738, 14415, 13474, 13726, 25411, 5047, 21147, 19235, 15026, 21991, 20252, 13284, 27114, 8325, 22592, 2057, 23087, 11435, 2926, 27266, 16179, 657, 9364, 6210, 12582, 26691, 7086, 18098, 13282, 29850, 7297, 1036, 23046, 22840, 27964, 27604, 9064, 10226, 29430, 11852, 26915, 18426, 4140, 26212, 11569, 11481, 28375, 13678, 13519, 11970, 17745, 17231, 16879, 20080, 18804, 3964, 16897, 16892, 16991, 20738, 25987, 1339, 29005, 29616, 5952, 11644, 6157, 12274, 28063, 18299, 2736, 9240, 6255, 16794, 25588, 3418, 21639, 12693, 438, 8075, 5334, 4446, 7824, 23533, 5973, 2947, 15825, 28139, 18451, 3791, 13428, 3548, 1663, 17859, 8030, 23787, 14898, 5463, 10497, 8664, 16338, 28124, 12687, 9875, 1757, 686, 9084, 680, 27605, 27977, 122, 16826, 27451, 25214, 24855, 12597, 28000, 16249, 20761, 7645, 20171, 22941, 12542, 19074, 8140, 9176, 16758, 15177, 20011, 10424, 11971, 28214, 2503, 3679, 15780, 2235, 7468, 27802, 4498, 10708, 11130, 3496, 8439, 6003, 5688, 5841, 11430, 10322, 18303, 6784, 19928, 17298, 900, 9049, 1162, 344, 5245, 17997, 26676, 20063, 6034, 9459, 19202, 10428, 16088, 3222, 3384, 4357, 24129, 24930, 3936, 24675, 2210, 8245, 6612, 22831, 9156, 1148, 21306, 16530, 3409, 16648, 18876, 14725, 29958, 25967, 25273, 22748, 29239, 9429, 26435, 16192, 14778, 17725, 14465, 8015, 23927, 2234, 18934, 14762, 7612, 27869, 6402, 20265, 17649, 10619, 1265, 14681, 27019, 16753, 2797, 11137, 25870, 3766, 15290, 13295, 3825, 27459, 1974, 9014, 3951, 9731, 20616, 29444, 3448, 9676, 13820, 23063, 29534, 17621, 23360, 956, 11270, 12192, 16827, 7099, 16087, 14644, 13662, 4043, 7965, 29424, 12869, 10321, 16360, 3134, 724, 3908, 15452, 5133, 2059, 24494, 3658, 11139, 8582, 22952, 24946, 5595, 26510, 2097, 22651, 12035, 12626, 21526, 28676, 16124, 16096, 24516, 7950, 20242, 16520, 8163, 22940, 2847, 10129, 26, 9820, 20304, 12527, 27420, 14805, 18391, 20851, 21861, 26169, 7291, 22861, 11758, 1500, 16198, 4007, 22017, 14922, 27753, 6746, 14375, 2496, 3161, 24588, 23166, 23364, 10177, 10278, 11912, 9957, 16802, 12429, 14126, 9295, 28684, 26679, 26991, 14302, 4753, 20874, 23418, 10469, 22615, 16971, 6818, 21768, 7216, 5000, 7218, 12076, 29576, 21141, 14306, 13512, 24026, 17556, 1202, 9942, 18516, 1620, 25871, 19225, 14710, 4196, 10275, 16728, 8335, 16396, 14593, 20566, 4924, 11917, 13430, 25970, 28711, 20940, 24724, 21050, 5622, 11916, 6448, 25206, 12577, 27411, 6262, 2218, 25585, 8935, 10845, 16591, 5104, 5116, 26977, 6384, 23765, 23247, 19861, 1191, 2595, 9690, 20594, 19115, 28306, 25490, 12350, 7526, 29231, 15703, 15338, 13294, 2425, 13607, 26048, 16291, 4592, 8556, 23045, 11814, 19275, 19243, 14418, 18325, 9630, 25940, 25249, 21925, 6993, 16496, 5084, 7693, 26954, 13882, 28429, 26812, 13313, 18681, 14004, 4368, 16788, 9705, 6070, 21780, 12374, 17182, 19102, 9009, 14442, 7858, 20435, 28415, 13621, 12887, 19731, 2816, 6125, 29228, 13442, 15076, 48, 10509, 14875, 6127, 26049, 2070, 27159, 17624, 781, 7077, 398, 26429, 26059, 12843, 16026, 12053, 10064, 20089, 12812, 17795, 6644, 28380, 13160, 16613, 22721, 27856, 27284, 27956, 22387, 28285, 3170, 21065, 23481, 29485, 4245, 895, 24784, 21786, 9114, 18944, 28611, 15895, 27986, 15707, 19647, 19164, 10746, 27430, 15637, 1483, 13214, 8938, 3793, 17669, 1308, 16742, 27458, 13431, 7476, 93, 29194, 11322, 6877, 19456, 10151, 25308, 20726, 7745, 12067, 11204, 27230, 13223, 5885, 1450, 9152, 696, 10133, 9637, 6583, 12321, 27883, 27729, 5113, 15670, 12314, 22035, 15692, 9538, 5582, 15921, 10919, 22438, 10755, 15958, 6056, 26857, 13209, 26507, 25475, 26606, 24458, 21764, 21458, 4306, 29484, 22082, 19317, 10645, 24439, 22882, 2977, 12398, 19850, 9408, 4922, 10419, 339, 1359, 12968, 19531, 20198, 20709, 15130, 6935, 27841, 22587, 5110, 13396, 16529, 2827, 25120, 6880, 22755, 10990, 28505, 22384, 28295, 11048, 17276, 1667, 12822, 21531, 15182, 21410, 17021, 13528, 5797, 20712, 3391, 7302, 23654, 26140, 3469, 6734, 29663, 5617, 1398, 29153, 341, 25865, 11769, 2661, 4136, 23967, 6076, 26900, 1799, 5820, 9254, 2945, 3238, 498, 26207, 8722, 2405, 24159, 26364, 18258, 1321, 25771, 10796, 10659, 13091, 14481, 19176, 6985, 1853, 13677, 15380, 646, 26575, 7421, 13586, 3133, 18608, 26268, 22763, 6774, 29301, 14162, 15363, 5297, 28219, 21430, 20882, 20570, 5137, 27616, 27615, 9265, 1031, 14661, 2825, 2904, 6957, 18550, 8428, 16133, 1233, 16034, 15935, 5629, 17505, 25547, 7685, 14458, 15843, 18962, 11946, 5873, 26144, 446, 4436, 21460, 9168, 4696, 19999, 13913, 2111, 7287, 794, 13911, 14218, 29975, 4279, 7975, 19257, 15396, 21933, 1837, 2138, 20671, 4666, 29817, 25868, 9956, 3232, 20222, 28183, 27926, 18318, 6122, 8953, 2247, 14489, 20984, 27992, 24115, 13330, 9883, 27822, 108, 7110, 22064, 29827, 640, 21254, 13694, 14032, 17046, 8669, 8872, 5201, 24371, 20486, 6647, 17906, 14691, 16589, 5551, 17215, 29715, 11310, 13527, 26609, 14446, 9910, 11269, 11256, 100, 10394, 20762, 29433, 17097, 7429, 1871, 25896, 26513, 7947, 6928, 17307, 14277, 12735, 9770, 9390, 17826, 24977, 5666, 21120, 6761, 13859, 25115, 19085, 17428, 12261, 26629, 11284, 27614, 26979, 19639, 22609, 9275, 23526, 18407, 23331, 14128, 6172, 14938, 7673, 12275, 9362, 25007, 12933, 11372, 8952, 3608, 7477, 26709, 21969, 28013, 4375, 14134, 10074, 6591, 26928, 20980, 10299, 7561, 8064, 4545, 21077, 20995, 14466, 14539, 22589, 25132, 28024, 29197, 7761, 23335, 27353, 2326, 24678, 18004, 26201, 8992, 2372, 22430, 18618, 2962, 15233, 4309, 28270, 21428, 4425, 20974, 11798, 5649, 8612, 25380, 20490, 7903, 17983, 3676, 20829, 5058, 19711, 2999, 16688, 18057, 23092, 12877, 3221, 17749, 11094, 17430, 20048, 14720, 29788, 1658, 17547, 20266, 7521, 16354, 24699, 8203, 225, 18879, 4534, 19880, 7930, 445, 17174, 22842, 16805, 26338, 1642, 23572, 1560, 19220, 16430, 19563, 10031, 26121, 27205, 28167, 29184, 13856, 3157, 2375, 9220, 29937, 28427, 28324, 6633, 16631, 10972, 22817, 17400, 16734, 27404, 8004, 7418, 16583, 11584, 8235, 15998, 6775, 12627, 28595, 16074, 20795, 6741, 23235, 15934, 20184, 908, 18702, 26687, 3183, 17761, 5129, 19443, 28384, 17697, 28967, 28298, 1530, 17559, 10255, 22032, 14437, 13219, 2755, 9169, 24495, 19948, 10867, 931, 8456, 29288, 27052, 21797, 25719, 6137, 17815, 28030, 19932, 18475, 15539, 15280, 1424, 17155, 27093, 10800, 5067, 25338, 23385, 6958, 16219, 3696, 22541, 7622, 19009, 8243, 6634, 11459, 26985, 29065, 12346, 26157, 29456, 1792, 23215, 19974, 14327, 27754, 3557, 13961, 20857, 28636, 29740, 13450, 14080, 26032, 22849, 5845, 12296, 18762, 14561, 29259, 29910, 12880, 13093, 25016, 16795, 6546, 8007, 19813, 28145, 21035, 23008, 23957, 154, 12495, 6611, 4950, 27204, 4069, 23420, 13817, 17533, 17056, 2715, 3685, 12911, 8184, 4620, 29486, 8377, 3375, 8737, 24156, 17932, 24050, 17003, 7732, 25712, 19155, 25900, 14662, 4393, 11339, 5328, 29664, 14260, 20335, 8056, 13636, 17175, 20293, 25521, 10716, 12127, 9566, 11608, 13873, 4799, 8065, 7396, 5942, 29555, 2318, 27472, 26924, 22911, 6120, 13263, 25515, 6062, 25845, 14953, 15273, 26845, 26385, 14739, 13962, 17364, 23935, 26856, 8968, 26467, 25746, 1897, 3359, 4301, 7037, 21258, 29712, 14190, 22488, 6107, 6198, 2981, 19883, 7976, 15245, 23835, 11035, 28995, 8499, 21403, 9514, 20307, 21927, 2418, 15389, 3217, 28435, 14259, 29286, 16524, 26517, 19165, 14237, 4492, 99, 26091, 13747, 13033, 4516, 9766, 9780, 9457, 15314, 25, 22513, 7107, 23185, 19181, 8221, 13874, 4291, 5538, 17765, 27794, 10468, 18395, 831, 12020, 15907, 10253, 24134, 5703, 27787, 15207, 22369, 20910, 5426, 2219, 15294, 22538, 19848, 10338, 19158, 1908, 27999, 8112, 2324, 16316, 25671, 16936, 5283, 8601, 24929, 29887, 2529, 13798, 20446, 22368, 9322, 1169, 11445, 26611, 14574, 6858, 3957, 20111, 19781, 18313, 5627, 20571, 206, 9067, 5423, 21697, 16822, 25509, 13502, 5438, 27142, 21956, 2688, 4411, 3631, 10242, 3500, 2274, 23440, 21889, 13996, 18203, 20194, 23753, 27102, 22346, 12990, 14409, 12634, 21146, 1428, 29140, 7551, 1460, 10870, 28813, 20448, 434, 1141, 26556, 7810, 23372, 16999, 27379, 15696, 29422, 24337, 24794, 7064, 24656, 27879, 6390, 2761, 12510, 22411, 29758, 28700, 8433, 4955, 23818, 15646, 1948, 23027, 11723, 19552, 28696, 7811, 5046, 417, 27851, 21134, 15558, 796, 13187, 2100, 1469, 27158, 16931, 13938, 6073, 15566, 25559, 2809, 6781, 7467, 22543, 4794, 24975, 12183, 20179, 3649, 21902, 13835, 7737, 25075, 8619, 19657, 20140, 24864, 20069, 16908, 27469, 14117, 12939, 21890, 25305, 27576, 5835, 17574, 23026, 21521, 23065, 6204, 14370, 11502, 13838, 15855, 27662, 10798, 15085, 3547, 12342, 20386, 20804, 23458, 4882, 18174, 10023, 13539, 22014, 11223, 1962, 16167, 2125, 25696, 16567, 2417, 10560, 6941, 11800, 6226, 16222, 18531, 21164, 11067, 22986, 15457, 20076, 16629, 1884, 11064, 18492, 18446, 8652, 11745, 2380, 3996, 3798, 4397, 12245, 14324, 16349, 4236, 24098, 20037, 11992, 29386, 21592, 26592, 20531, 8101, 23962, 1743, 3355, 21021, 21866, 7825, 14482, 24849, 17491, 6621, 1813, 3601, 15032, 17825, 22922, 12040, 8083, 21945, 9935, 4863, 21848, 14346, 9469, 586, 2433, 17292, 13105, 14153, 21450, 2430, 24276, 15441, 24266, 4926, 8256, 12658, 24741, 12032, 20825, 10672, 7887, 26325, 11156, 27005, 22021, 24428, 22657, 8486, 2454, 1015, 2170, 21863, 15860, 24512, 18271, 10503, 23403, 5497, 7812, 26820, 22443, 27389, 8614, 12677, 738, 12937, 15187, 11795, 22824, 22623, 3842, 6168, 28195, 29687, 21528, 25364, 27918, 16749, 13832, 21298, 19608, 3053, 6355, 13763, 24507, 29110, 3818, 5278, 29142, 11561, 5358, 23865, 20653, 10420, 12197, 24431, 13198, 11200, 9502, 16663, 243, 21392, 21611, 13141, 2485, 29350, 8483, 12839, 9203, 21593, 12666, 20440, 23759, 20, 27483, 11121, 20798, 22694, 26191, 10013, 29691, 279, 11474, 128, 20924, 4458, 17527, 15857, 18902, 14234, 20340, 8360, 20768, 17204, 3181, 22772, 4006, 28920, 27287, 22321, 19343, 20421, 29916, 16772, 12078, 18579, 19764, 27643, 25651, 2855, 20361, 28545, 27373, 27254, 16146, 26276, 14683, 7899, 27494, 29960, 5618, 23690, 11257, 18091, 16224, 8700, 9817, 15976, 11642, 12105, 16500, 733, 28541, 6324, 17426, 23269, 28363, 4026, 19260, 1420, 16504, 1491, 10380, 15443, 12178, 18179, 25791, 20389, 16315, 1608, 15188, 12861, 28035, 4302, 933, 16077, 5256, 19873, 20748, 6053, 1065, 21929, 22202, 10264, 27639, 6672, 25800, 10334, 6318, 11271, 6866, 16690, 1825, 11526, 8782, 20515, 5506, 19116, 14278, 20584, 15622, 8182, 20499, 436, 6244, 10273, 8023, 21289, 22698, 24355, 25640, 12573, 24487, 9237, 16090, 10952, 6353, 19064, 27704, 24839, 24464, 1025, 9858, 26485, 17095, 3436, 16745, 9520, 19537, 19784, 11217, 27456, 8950, 11771, 8806, 12383, 4143, 29464, 21472, 28224, 19236, 14015, 28111, 20067, 22545, 12054, 13331, 24985, 20369, 19671, 5215, 11853, 22086, 15385, 15861, 19613, 28655, 13018, 12695, 6261, 9392, 491, 18546, 16001, 23517, 29580, 16747, 17403, 9260, 1390, 13620, 6737, 10677, 9742, 9410, 11167, 5360, 14504, 27007, 12356, 27293, 22919, 19136, 8896, 28267, 19582, 1468, 25958, 14204, 29, 18908, 1049, 22606, 20162, 23864, 12897, 14549, 14042, 6315, 16431, 7831, 17061, 2933, 22710, 23496, 22736, 25600, 8962, 29093, 14531, 308, 28950, 8670, 15521, 7361, 29756, 27348, 14385, 22518, 12838, 22199, 5049, 25674, 20443, 29399, 26635, 19099, 17176, 18187, 29099, 26283, 2946, 22402, 29936, 13305, 26260, 22671, 5324, 13404, 24745, 2513, 23866, 22971, 13563, 9280, 11714, 28861, 13513, 19643, 17220, 17727, 1604, 28622, 14229, 4989, 26322, 21335, 11379, 6771, 2248, 13906, 2158, 26883, 28001, 15801, 6848, 25438, 6750, 25219, 4224, 27968, 1372, 21211, 17509, 4486, 28665, 13912, 10976, 17982, 10854, 8471, 19428, 3484, 8323, 23375, 27425, 15178, 28060, 17106, 16388, 15053, 26434, 13792, 18244, 21017, 18125, 21183, 27292, 11784, 15376, 24519, 14270, 6888, 7683, 21340, 2428, 19696, 16765, 251, 22458, 788, 11115, 5244, 1583, 17361, 1737, 3353, 27447, 27309, 1147, 3458, 15636, 17150, 26053, 13212, 7342, 81, 9680, 17398, 5175, 28434, 24205, 14468, 28428, 8714, 18197, 8672, 1913, 5719, 11, 3392, 5311, 602, 8917, 29462, 13900, 7279, 18114, 26952, 25071, 521, 8489, 27111, 10803, 873, 12744, 18629, 16731, 19296, 9892, 25560, 11197, 5560, 13190, 29693, 18947, 18257, 29524, 6134, 15144, 18792, 13383, 6980, 2212, 22313, 6481, 23116, 2455, 17301, 21451, 14806, 24993, 26603, 10529, 14601, 3411, 23213, 23992, 21342, 10175, 17295, 21371, 1380, 17834, 22030, 27228, 15247, 28083, 15416, 13335, 5528, 732, 26263, 2923, 23831, 7195, 22789, 20743, 5736, 14798, 27088, 270, 4240, 13436, 5414, 29668, 6165, 2227, 20476, 2351, 26008, 20217, 186, 3876, 5095, 2952, 9688, 20808, 4791, 17647, 16733, 10041, 23897, 18709, 18725, 24179, 777, 28840, 16746, 25474, 5675, 9604, 26392, 15437, 15630, 1647, 8660, 29621, 29884, 13831, 28729, 8733, 28521, 19846, 29328, 21792, 21039, 10127, 2314, 3694, 28860, 24195, 14399, 5790, 22210, 17893, 6396, 20617, 26596, 3144, 3187, 19567, 21219, 465, 6187, 2478, 11906, 26002, 20952, 9513, 23782, 13529, 29500, 26332, 5333, 17009, 2400, 26436, 26083, 13062, 13486, 3007, 10396, 18045, 27558, 1882, 18448, 12719, 10548, 12318, 17055, 17897, 9774, 10991, 8054, 22042, 17931, 14889, 20750, 4667, 26029, 22624, 20370, 11062, 10511, 22343, 11950, 28213, 21853, 18598, 3158, 17107, 9572, 17569, 25700, 9008, 28890, 12819, 16617, 3326, 21691, 24971, 11041, 27113, 11656, 23013, 15667, 17964, 19799, 20444, 29538, 23408, 3047, 21418, 23373, 5780, 7610, 20759, 1126, 4575, 11170, 5670, 26916, 22018, 2309, 3071, 15173, 4016, 28480, 19927, 24608, 9980, 11267, 72, 20276, 948, 21161, 2754, 26969, 7572, 13441, 25749, 8760, 15675, 24425, 17475, 21620, 25962, 1335, 10210, 4238, 6807, 6487, 17373, 27955, 2703, 18664, 4138, 8653, 17258, 27759, 9352, 11045, 22823, 10959, 22208, 26862, 27806, 24283, 21965, 10957, 9669, 19287, 11751, 25544, 21960, 13014, 15318, 28669, 26101, 19830, 19592, 25063, 27255, 1681, 1448, 2067, 17615, 24032, 20065, 20229, 12544, 7654, 390, 17805, 23672, 26474, 27097, 9403, 24010, 2207, 28556, 20028, 22090, 4963, 6213, 1898, 26549, 18520, 11399, 392, 23659, 27921, 1383, 15350, 9711, 9435, 24152, 21570, 21828, 2586, 9076, 12674, 13492, 12902, 29400, 28157, 12343, 13008, 18050, 17336, 7909, 14551, 15023, 20541, 2785, 2344, 27049, 3782, 27191, 20110, 25992, 17935, 21988, 9460, 7347, 15511, 25460, 23538, 1018, 6294, 19782, 19739, 17227, 12893, 12268, 14685, 9617, 7311, 3574, 14686, 24176, 23101, 26247, 22119, 4351, 23894, 13822, 26005, 20451, 10188, 13407, 13324, 6086, 1900, 44, 16608, 6389, 25245, 21803, 7430, 18734, 19911, 8562, 1213, 15427, 25686, 13004, 5013, 23602, 24180, 2119, 18169, 25461, 26001, 18221, 2710, 3772, 4555, 10247, 21662, 20824, 5712, 5748, 13057, 24972, 28824, 25455, 20286, 29674, 3986, 22269, 16046, 14476, 28795, 22471, 15072, 13066, 22862, 301, 22232, 15415, 7315, 16014, 27985, 12834, 22683, 1756, 18461, 15414, 9407, 18329, 23226, 16221, 20175, 24220, 28516, 19827, 29357, 12430, 16783, 19148, 210, 28254, 26876, 24566, 22743, 14046, 8996, 7259, 7304, 25127, 6981, 14242, 10648, 9406, 19633, 16292, 15221, 17630, 22453, 10938, 22058, 11141, 19374, 22442, 21781, 20758, 4776, 8888, 9051, 21482, 24654, 15435, 1316, 21426, 14707, 3802, 28411, 13931, 7537, 5157, 13819, 15160, 6325, 29289, 9125, 6551, 3277, 17429, 11010, 3368, 10431, 13829, 28332, 16035, 29651, 8779, 15446, 16576, 11732, 1381, 11606, 28425, 8130, 3030, 29070, 18056, 11850, 27577, 20251, 20496, 13101, 24840, 1286, 4853, 18631, 27385, 2789, 21242, 1318, 28587, 23748, 1490, 20452, 28699, 5578, 18474, 15468, 7849, 1079, 7615, 14689, 8044, 9417, 19574, 23833, 17663, 23009, 29571, 1303, 17784, 22825, 13470, 29474, 13675, 11464, 24400, 4394, 3898, 21375, 29448, 10928, 29811, 9997, 9455, 10114, 3521, 27624, 3340, 15896, 28278, 7932, 2384, 22863, 29586, 27652, 20534, 14733, 14665, 14310, 17163, 4763, 1746, 2395, 22996, 19561, 25948, 12305, 19845, 1005, 15438, 4137, 27080, 10797, 12206, 7925, 10828, 17006, 24290, 29437, 28315, 28779, 6446, 23326, 11683, 27503, 5142, 23434, 12825, 27081, 16478, 13308, 16763, 5953, 2128, 28059, 1375, 2822, 15708, 23370, 10710, 5010, 4891, 15170, 8980, 3901, 19135, 27591, 12952, 5491, 5880, 3508, 2102, 200, 24744, 11352, 28982, 22728, 7994, 16549, 13968, 5991, 18590, 18954, 16996, 12027, 1223, 25705, 13561, 9574, 9530, 14759, 16644, 19376, 26938, 22752, 19713, 16407, 2543, 2630, 8180, 3121, 8550, 14701, 22792, 26894, 16982, 7125, 19069, 29270, 26935, 15382, 10969, 27176, 10962, 17601, 9087, 1163, 24055, 391, 13830, 12219, 2268, 9749, 8109, 5496, 22918, 1175, 23313, 9475, 15153, 5774, 22023, 5051, 10284, 14010, 19976, 23744, 6940, 942, 8049, 1323, 12377, 27946, 20221, 27772, 16509, 25479, 10442, 15980, 23095, 24426, 24686, 21879, 23488, 24560, 29933, 4962, 24394, 13634, 7833, 14718, 18319, 7111, 13806, 27648, 8475, 6417, 19138, 28089, 20699, 11910, 4871, 21545, 11314, 28872, 13073, 7916, 14369, 28405, 10440, 14419, 24369, 10325, 29966, 410, 28874, 1103, 26702, 26787, 5859, 1310, 17029, 24666, 11410, 25504, 4184, 4096, 27108, 3929, 25312, 2308, 10915, 21667, 18846, 22984, 28355, 9918, 18644, 20404, 3582, 8053, 22833, 28334, 3072, 17334, 12362, 9004, 27975, 27128, 18404, 21217, 3169, 24928, 8524, 25743, 13253, 24347, 18586, 12447, 16654, 998, 17126, 16917, 3927, 7504, 11894, 21942, 10765, 20586, 9990, 4107, 25680, 26016, 24387, 17827, 6007, 22845, 936, 4311, 12280, 14225, 4024, 13314, 14717, 14738, 1072, 20716, 2304, 10007, 8080, 26265, 10343, 9641, 8308, 19637, 6415, 17365, 10478, 28236, 14939, 1002, 27623, 24752, 965, 2368, 7633, 24900, 22856, 19133, 1235, 26824, 1914, 28731, 22024, 16510, 21937, 22354, 5878, 15117, 19306, 26658, 29377, 18428, 16891, 26868, 4804, 8239, 29206, 2751, 22995, 13248, 11707, 14842, 5968, 24271, 10486, 7793, 8959, 2355, 4705, 25423, 25991, 1379, 7336, 26863, 12265, 28815, 5448, 29532, 3778, 1868, 12341, 6588, 402, 21827, 21383, 25005, 16517, 20021, 3871, 23875, 11963, 22429, 12011, 9610, 27043, 11651, 26319, 14882, 12672, 14438, 10757, 15454, 23280, 28010, 26505, 27555, 11827, 17571, 2730, 214, 27528, 29607, 17626, 5372, 277, 13471, 28871, 3654, 25282, 12271, 26783, 15660, 14552, 3119, 16049, 5837, 17144, 27486, 12465, 5565, 13889, 18508, 19485, 15368, 19842, 25125, 5606, 8143, 26282, 23358, 7730, 15045, 17333, 12778, 17713, 4718, 17120, 6397, 5461, 17289, 7599, 7577, 3806, 3839, 21412, 26096, 26521, 27817, 7495, 12708, 25393, 5856, 9097, 4650, 14241, 14347, 23225, 2462, 11822, 20471, 6834, 26739, 7029, 14019, 28424, 7229, 13750, 23642, 9657, 10584, 13576, 24815, 11956, 29922, 16426, 7454, 21389, 20178, 5277, 18121, 23333, 8644, 26542, 6806, 24074, 25863, 2272, 29515, 20349, 29342, 21899, 12567, 3146, 6387, 4728, 22059, 24758, 9138, 2916, 29920, 6752, 14880, 4885, 5415, 27830, 5674, 24547, 5882, 17928, 3143, 1387, 6626, 23973, 17501, 26964, 25011, 7003, 3770, 23760, 11755, 3917, 10016, 22121, 20528, 3367, 24932, 27218, 8592, 249, 9109, 7046, 29375, 7968, 11044, 6082, 5085, 18419, 25390, 5511, 1990, 3566, 11516, 16909, 619, 3953, 8576, 879, 27649, 10375, 21492, 10052, 19570, 29335, 110, 22414, 309, 7553, 15644, 18237, 8404, 24310, 1536, 1632, 24902, 12966, 27719, 10911, 17654, 8987, 18097, 3224, 28827, 7083, 22640, 10168, 18938, 981, 28692, 12202, 5900, 5611, 14715, 21654, 8647, 15097, 11945, 25664, 15872, 19686, 23143, 13487, 15479, 14245, 26519, 12800, 29274, 16605, 1738, 10083, 18332, 26532, 1, 18456, 12468, 23328, 29384, 8141, 11428, 7015, 3266, 12547, 1997, 7923, 27002, 29591, 432, 29238, 29367, 11281, 12399, 6536, 16029, 22054, 4278, 17041, 3212, 12103, 13560, 29159, 20164, 5950, 6478, 20733, 10843, 1337, 1243, 13030, 20125, 20700, 2593, 21266, 16370, 10421, 14114, 29299, 17100, 2604, 16043, 17088, 2352, 19048, 25860, 11460, 15717, 25185, 953, 6430, 9707, 10761, 14713, 12776, 15474, 18400, 4432, 15481, 10260, 7170, 18533, 12291, 20929, 17521, 10881, 4099, 3465, 1416, 8024, 18323, 10763, 29420, 3890, 8926, 1094, 24489, 27252, 3070, 5700, 4239, 7014, 10055, 12673, 471, 9614, 3082, 22487, 16715, 29926, 29037, 19460, 9411, 4256, 8826, 16523, 19321, 24572, 10983, 8665, 18522, 16010, 21483, 9439, 29842, 23486, 19640, 13259, 8234, 15982, 14596, 25835, 29826, 10986, 6731, 2404, 8275, 25841, 3673, 8934, 13837, 1660, 1671, 21275, 15688, 276, 18074, 28014, 9104, 29135, 11573, 25912, 29840, 11492, 8282, 24727, 4035, 27077, 28542, 4711, 29649, 13844, 1445, 362, 23674, 18701, 22178, 26699, 12114, 1256, 23699, 27039, 14151, 12057, 10214, 10749, 7964, 15616, 1259, 8957, 9682, 28637, 24342, 29265, 24247, 21782, 810, 26479, 4743, 29373, 25655, 6694, 8505, 17187, 2082, 26870, 8298, 12761, 2531, 14233, 14964, 3075, 28288, 21859, 21700, 21688, 3357, 4408, 14745, 27212, 947, 14498, 22766, 27522, 15536, 20694, 17354, 9252, 1654, 692, 17105, 2787, 10808, 4404, 2959, 27144, 17116, 9635, 17385, 19584, 4204, 13808, 6865, 9656, 21362, 4494, 14716, 19199, 20739, 21477, 25584, 9205, 29563, 19605, 20241, 8144, 2043, 3042, 15102, 9738, 15609, 25495, 16514, 17137, 11458, 25885, 12322, 17214, 22335, 3371, 2258, 18601, 1393, 5921, 547, 9188, 24150, 24725, 6113, 20872, 10621, 19474, 23473, 15853, 21198, 27059, 21420, 10479, 26913, 27408, 18488, 24767, 16126, 21939, 15133, 2592, 20588, 567, 24730, 23020, 27601, 19884, 10667, 11113, 7039, 19293, 8567, 20985, 19416, 26311, 7762, 12739, 24984, 7708, 28964, 22073, 17967, 5605, 11788, 23819, 1183, 6835, 13125, 3093, 83, 11294, 11934, 1516, 3645, 26743, 470, 2585, 20976, 17257, 3440, 26640, 17459, 12228, 19619, 19037, 16451, 26377, 15517, 27838, 11184, 8551, 6816, 23714, 12478, 26528, 8240, 11781, 9177, 18971, 9555, 25098, 14690, 28892, 11448, 1449, 15134, 16507, 22186, 22618, 12841, 23566, 8500, 11231, 15591, 27466, 6005, 3442, 24229, 7530, 1142, 203, 24774, 11152, 1860, 11001, 22081, 14580, 27859, 19281, 6217, 8307, 13774, 8443, 12643, 28290, 22807, 1595, 17703, 27549, 4617, 2388, 16706, 13100, 13745, 16062, 15320, 23769, 17752, 23952, 1528, 2479, 12417, 4729, 13776, 2244, 14809, 17791, 1353, 8928, 24391, 8724, 18387, 8142, 10488, 1453, 22066, 10283, 6850, 20373, 1762, 5516, 16021, 15129, 2387, 2561, 1407, 19670, 27327, 16776, 4532, 17806, 24796, 2046, 28941, 5187, 22470, 21485, 2836, 11891, 21374, 1425, 4862, 11979, 11523, 27971, 2441, 2053, 8565, 27850, 21329, 11392, 8894, 6209, 9925, 21536, 21042, 24919, 22987, 1972, 10461, 14138, 24076, 1076, 16379, 25118, 3915, 13955, 10286, 15270, 15605, 16322, 19366, 14285, 11476, 25223, 28585, 25798, 19819, 8797, 4984, 18487, 488, 3835, 13939, 27595, 23546, 28719, 28026, 20053, 10144, 12688, 27078, 28569, 16383, 22070, 29305, 19744, 25945, 6691, 21221, 16519, 25376, 27502, 20302, 7983, 14965, 28062, 21618, 27247, 1329, 29084, 12425, 11382, 9305, 8628, 17030, 9326, 24024, 21852, 25897, 8412, 22539, 6552, 25570, 17306, 3705, 459, 19380, 9979, 24535, 6677, 7605, 19141, 24695, 15988, 22333, 22026, 17586, 16621, 25926, 4104, 2839, 18573, 20747, 13816, 24197, 2870, 3275, 10916, 7073, 6214, 17424, 11861, 22311, 29584, 6510, 18377, 24543, 13857, 29805, 14092, 22613, 17739, 5557, 24582, 24062, 12490, 27026, 845, 27854, 17151, 29427, 21145, 1484, 17025, 13213, 10126, 12354, 16550, 9998, 1656, 13736, 2224, 23317, 16791, 29573, 26705, 23477, 19806, 28469, 20543, 16946, 5977, 1657, 17577, 7935, 14502, 6208, 1260, 13360, 9377, 13409, 8593, 20264, 3365, 10384, 11947, 29909, 3799, 19184, 7370, 22329, 28671, 28056, 7733, 15854, 5053, 15653, 13156, 27300, 1081, 9506, 23076, 7855, 16345, 10181, 21237, 10777, 25032, 21133, 24986, 13174, 26242, 27365, 28772, 25233, 3687, 12016, 29526, 16845, 11347, 20257, 25825, 6263, 25761, 1391, 22519, 16267, 18029, 26022, 22008, 1795, 7563, 22496, 13932, 13210, 8539, 7616, 17179, 2338, 22612, 21575, 17798, 16819, 13147, 5076, 7494, 9902, 6999, 3874, 1485, 29791, 17839, 13061, 10826, 27183, 2659, 23688, 5379, 25966, 19355, 21038, 28881, 5514, 6593, 9673, 25756, 500, 23275, 7823, 23382, 18915, 18534, 6885, 15631, 26018, 22875, 15652, 22990, 8504, 15729, 24624, 10015, 17963, 21016, 24637, 29337, 18552, 9784, 13824, 17748, 27025, 14768, 19811, 3298, 2359, 12056, 10556, 6366, 2113, 21605, 18467, 20353, 980, 19117, 19553, 11539, 10340, 832, 1415, 24506, 22584, 16477, 13559, 6882, 11007, 11129, 3377, 20740, 17255, 6562, 20552, 28949, 4080, 4365, 13855, 3922, 18163, 19018, 18145, 801, 1676, 15730, 6132, 9492, 6298, 29258, 2680, 3308, 20578, 21113, 28713, 18414, 4359, 21636, 20135, 16052, 19336, 26425, 24997, 29141, 1472, 17829, 14546, 13642, 14380, 19002, 5731, 6439, 2963, 26534, 2286, 13886, 29263, 18292, 2768, 26770, 21382, 22566, 2002, 5924, 23292, 23338, 17775, 6243, 26026, 8624, 17948, 2545, 22591, 16343, 28954, 41, 5770, 23556, 28930, 4642, 6680, 20045, 27864, 23560, 28948, 10435, 12918, 11772, 28017, 22361, 26093, 7087, 7772, 27439, 20381, 17611, 22484, 20844, 24386, 19359, 23540, 7629, 4513, 10872, 14261, 1422, 21324, 6598, 27557, 27422, 22422, 9508, 24515, 2852, 7498, 28326, 26202, 8001, 19072, 21898, 28981, 10646, 28120, 103, 20854, 25315, 19536, 10668, 21108, 1293, 24854, 27269, 28249, 13285, 2541, 17728, 15992, 1349, 1352, 28485, 22869, 6629, 29925, 6299, 16547, 3186, 27079, 11898, 8386, 197, 17027, 16153, 25639, 6234, 346, 4505, 21224, 20210, 3881, 23069, 12492, 28161, 14006, 16750, 8060, 13632, 12221, 3302, 1131, 13779, 8988, 3715, 18667, 13668, 13481, 23755, 2118, 15762, 969, 8886, 3178, 1584, 5227, 28974, 22063, 3918, 9693, 29156, 11224, 4979, 7158, 9870, 9199, 9653, 19003, 29180, 2283, 86, 19733, 12188, 20489, 21844, 17239, 1730, 22781, 23042, 19375, 18651, 15431, 224, 28027, 28436, 12409, 9561, 24828, 610, 10786, 25274, 21508, 26409, 6881, 18560, 18958, 15191, 21631, 21234, 15042, 929, 22777, 6884, 19329, 4628, 27925, 27876, 25176, 9019, 19837, 1753, 15722, 12740, 17115, 972, 21316, 14890, 24348, 25310, 7943, 11109, 14595, 532, 15044, 29405, 29601, 6984, 1766, 4206, 17217, 11598, 8503, 12446, 26040, 19777, 13871, 15737, 20046, 23623, 8005, 12951, 25663, 18137, 8776, 12462, 13364, 16798, 14536, 26642, 25110, 25718, 3504, 7379, 25279, 14251, 7866, 6542, 13242, 13511, 24728, 5022, 15355, 28182, 27612, 19203, 11171, 29395, 6116, 24780, 18680, 7402, 20847, 13611, 28568, 21049, 941, 20327, 24945, 968, 1856, 6128, 19703, 23725, 2264, 4647, 11161, 4473, 12199, 19097, 18481, 18859, 18892, 2095, 20469, 12278, 11098, 15480, 27032, 18518, 21378, 11278, 23723, 23323, 656, 1178, 23479, 6380, 3765, 3981, 23022, 25522, 12241, 8401, 20756, 5006, 17458, 18385, 324, 29499, 10268, 19105, 12915, 28102, 7022, 6403, 29360, 988, 8361, 10280, 6090, 15758, 28208, 29264, 9123, 2108, 3103, 2864, 27666, 10930, 1931, 10834, 289, 26115, 2704, 16028, 11071, 11985, 29390, 644, 12765, 10417, 10306, 9672, 17789, 9541, 23891, 340, 19714, 8595, 7538, 22456, 1012, 14161, 14336, 4524, 26321, 137, 1509, 26967, 7981, 22860, 8639, 627, 26241, 21474, 16376, 17382, 24685, 26920, 6758, 5733, 2877, 2682, 27548, 26520, 29327, 23664, 7689, 25086, 11558, 868, 22946, 20009, 8773, 28571, 17643, 14646, 123, 9720, 15336, 29747, 11407, 15227, 24797, 27136, 1603, 12361, 1087, 15091, 23398, 26871, 6512, 11090, 16110, 8566, 21580, 28016, 22129, 25037, 8033, 20834, 28823, 8519, 10933, 16955, 29303, 4907, 15993, 25277, 12746, 10835, 7748, 10745, 13453, 20971, 21881, 12010, 12950, 9915, 9011, 11051, 17723, 17526, 9480, 19791, 29502, 1818, 554, 13200, 20038, 21033, 7500, 17742, 693, 1437, 24903, 24664, 14985, 15606, 5576, 1779, 8801, 17119, 19773, 24793, 11688, 16990, 12387, 17908, 4887, 4174, 20770, 13852, 22641, 5329, 4123, 15369, 4759, 24086, 19859, 8911, 1113, 17110, 15460, 28689, 19716, 6018, 9361, 13773, 24160, 9154, 4484, 2282, 26037, 13799, 18559, 10527, 24715, 364, 26165, 28801, 26335, 1875, 7484, 26397, 12981, 3807, 977, 1943, 416, 22689, 29279, 1823, 1635, 16100, 20146, 352, 29102, 21285, 16801, 1207, 24500, 162, 27919, 5681, 3318, 4502, 7594, 11728, 18658, 29697, 9324, 10759, 21963, 23846, 11789, 9776, 29476, 23254, 3479, 19936, 7178, 12759, 19614, 377, 15936, 24584, 20859, 27998, 25995, 9507, 13229, 5302, 13881, 3313, 17561, 7348, 9062, 12936, 22920, 25788, 10522, 1357, 8002, 3388, 27012, 13696, 19271, 20520, 27443, 13171, 16606, 28331, 21581, 2475, 8238, 20333, 19106, 9757, 24969, 1636, 29986, 4656, 11896, 21808, 7746, 22896, 22725, 26722, 9804, 13365, 22675, 16754, 29781, 492, 9493, 4381, 26095, 11136, 7960, 20801, 29581, 21950, 13451, 6933, 13058, 9535, 16018, 10669, 29285, 22966, 598, 5598, 24960, 4974, 4957, 158, 26711, 15291, 20455, 5692, 17013, 16812, 28460, 1835, 8691, 1870, 14181, 1097, 23889, 19458, 13743, 21917, 17098, 28065, 28159, 11122, 29582, 7488, 22027, 9608, 20894, 13673, 4093, 12260, 10825, 10271, 10971, 11780, 7933, 7103, 9598, 20322, 21932, 4845, 38, 4561, 9526, 14275, 24947, 12706, 25332, 17261, 26124, 28385, 25590, 26217, 4315, 21918, 6161, 12753, 29543, 4253, 2664, 27340, 9704, 27581, 10036, 17442, 21599, 25385, 20311, 12998, 29556, 28032, 22038, 1711, 26493, 10245, 6048, 4339, 17413, 16182, 8270, 11892, 24481, 10101, 25677, 17587, 6269, 22421, 16684, 22617, 1586, 7904, 18153, 27027, 22676, 15674, 10498, 29504, 325, 9649, 17489, 26681, 2996, 14925, 28073, 12536, 24528, 20778, 22608, 14051, 14753, 13772, 12449, 21625, 18990, 13833, 13834, 25213, 27164, 18477, 2263, 9405, 4376, 4895, 29226, 27890, 16344, 17608, 27156, 9153, 25997, 19347, 28294, 19367, 17277, 29283, 7613, 12857, 26798, 17077, 29254, 6220, 836, 7839, 24964, 25738, 13235, 8507, 21496, 11547, 11176, 8549, 15668, 14071, 16861, 26932, 23492, 21924, 3139, 10483, 8905, 11925, 15364, 8376, 4349, 29710, 22350, 11677, 23613, 19399, 23471, 25943, 1923, 7898, 21862, 19300, 26768, 1616, 12650, 13446, 26835, 8645, 3064, 3714, 13739, 19863, 7427, 3875, 6883, 15924, 24587, 21622, 2290, 26109, 5876, 16464, 24354, 20280, 25242, 28863, 13974, 21169, 18455, 18819, 18014, 28034, 19252, 14908, 12385, 14388, 28003, 23298, 11194, 14282, 8311, 17811, 2800, 19963, 29261, 8477, 20170, 2856, 23861, 2205, 4286, 25018, 18538, 29645, 2778, 923, 2444, 5633, 25501, 2794, 9579, 27852, 4114, 4844, 21440, 18687, 3630, 27018, 21845, 9968, 7842, 13554, 19396, 21944, 21213, 15530, 6153, 14866, 21635, 7703, 580, 15871, 15029, 1747, 23708, 1486, 12992, 16729, 15954, 29488, 4319, 29408, 13178, 21713, 24899, 24545, 22225, 18374, 3297, 15560, 29414, 7782, 27524, 10359, 12328, 15493, 2812, 22489, 18500, 21457, 3464, 8677, 4589, 20730, 19188, 2807, 4944, 17259, 3913, 7666, 4981, 19187, 7016, 5694, 12372, 19162, 23291, 25959, 6613, 29978, 18080, 23995, 15143, 5980, 6826, 26853, 540, 10069, 4248, 7743, 17318, 24396, 16159, 712, 5090, 354, 22834, 14115, 14183, 20300, 2527, 13783, 503, 17057, 13810, 15395, 3096, 23912, 4896, 15411, 21293, 22701, 21467, 10208, 17762, 14286, 22771, 6844, 8557, 15910, 11218, 1040, 17774, 24415, 13867, 5412, 11154, 15551, 22586, 22585, 11195, 25946, 10436, 7805, 1181, 25750, 16867, 13860, 29114, 9947, 13148, 16408, 22180, 29467, 26816, 1322, 28532, 18570, 389, 2265, 3984, 18785, 23044, 12004, 23800, 2284, 13851, 9103, 12871, 21367, 4965, 22031, 14377, 15464, 21227, 25358, 19067, 807, 10751, 10866, 23576, 8176, 27855, 5866, 9143, 22209, 27427, 23960, 17315, 3147, 742, 613, 19273, 19269, 18771, 5860, 4775, 9856, 1305, 28679, 6961, 10671, 17199, 29490, 25429, 21630, 4708, 11202, 5466, 3050, 15570, 21512, 26146, 10737, 11529, 11738, 25302, 7988, 23429, 6894, 23822, 27947, 27695, 22381, 7951, 27600, 4384, 18272, 18976, 12359, 6433, 8825, 18726, 2297, 10371, 17423, 21010, 14670, 20339, 4112, 23404, 12909, 3364, 1773, 11743, 29876, 1980, 1327, 2432, 14853, 17143, 20964, 2339, 198, 12516, 20325, 20285, 17511, 14695, 12248, 4183, 16351, 896, 10282, 19866, 11989, 8133, 9621, 28506, 59, 4303, 26342, 7786, 17842, 27661, 11982, 24749, 11760, 22175, 23465, 13712, 5963, 2334, 11761, 5943, 15846, 11100, 7573, 1319, 1208, 10451, 707, 27597, 9564, 8037, 29243, 16154, 15094, 8327, 365, 522, 13343, 4780, 16246, 6295, 25710, 5915, 18059, 12116, 14238, 4732, 18183, 5899, 26079, 14353, 24356, 27138, 578, 9127, 29770, 6440, 23103, 21102, 7597, 9823, 8965, 147, 17079, 19940, 23582, 14555, 1968, 18186, 4033, 2935, 17758, 14977, 28528, 18547, 11514, 23340, 14698, 9609, 2670, 13505, 8402, 26901, 7049, 23010, 4661, 26634, 10430, 4475, 26000, 24959, 22921, 5843, 600, 27582, 7937, 13152, 4774, 5045, 21269, 17274, 4990, 11796, 17708, 22472, 11214, 3493, 20244, 9881, 29262, 8939, 3076, 22938, 3299, 21874, 64, 272, 22700, 13795, 8892, 11081, 504, 11773, 10518, 14070, 19377, 5502, 11210, 14314, 23698, 951, 25333, 25722, 9077, 3289, 21756, 15079, 11108, 118, 29735, 585, 14755, 4976, 21724, 16856, 16122, 29646, 18371, 23482, 414, 11105, 28401, 22517, 13437, 2843, 6782, 662, 1365, 26231, 29478, 28577, 24379, 2005, 16641, 20576, 5304, 26771, 1706, 24922, 7848, 23558, 13379, 14410, 5802, 8461, 13781, 21006, 6126, 11924, 8027, 18765, 13751, 25731, 14416, 14421, 13695, 11441, 22627, 25137, 22220, 19709, 4970, 13605, 10366, 10507, 21247, 563, 22275, 10821, 10533, 934, 29257, 7600, 962, 23361, 10576, 22614, 7541, 21998, 21322, 11684, 24309, 9267, 11073, 19693, 20166, 28474, 6657, 9048, 4329, 8998, 19258, 13416, 26394, 24546, 28378, 1821, 29593, 12663, 14774, 21736, 26301, 25906, 27244, 49, 20580, 7914, 23036, 12014, 11545, 18383, 13921, 2217, 9433, 13775, 14159, 13348, 29595, 23288, 22569, 5586, 14392, 19991, 11026, 28849, 19448, 8181, 19214, 27186, 16060, 25724, 3560, 27678, 2474, 2453, 9578, 17548, 11763, 3577]\n"
     ]
    }
   ],
   "source": [
    "important_features_dict = {}\n",
    "for x,i in enumerate(rf.feature_importances_):\n",
    "    important_features_dict[x]=i\n",
    "\n",
    "\n",
    "important_features_list = sorted(important_features_dict,\n",
    "                                 key=important_features_dict.get,\n",
    "                                 reverse=True)\n",
    "\n",
    "print ('Most important features: %s' %important_features_list)"
   ]
  },
  {
   "cell_type": "code",
   "execution_count": 14,
   "metadata": {},
   "outputs": [
    {
     "data": {
      "text/plain": [
       "[29631, 28980, 17787, 10824, 13771, 14647, 29251, 2472, 25002, 5026]"
      ]
     },
     "execution_count": 14,
     "metadata": {},
     "output_type": "execute_result"
    }
   ],
   "source": [
    "im=important_features_list[:10]\n",
    "im"
   ]
  },
  {
   "cell_type": "code",
   "execution_count": 42,
   "metadata": {},
   "outputs": [
    {
     "name": "stdout",
     "output_type": "stream",
     "text": [
      "[(0.0039334077624448936, 'year'), (0.003637594902814758, 'work'), (0.0034995696981739407, 'not'), (0.0034808583400663825, 'great'), (0.0030592703412694057, 'life'), (0.003019061004157059, 'love'), (0.002759315528026539, 'wors'), (0.0027529880014091983, 'best'), (0.0026193306052638685, 'take'), (0.002429841641924803, 'day')]\n",
      "[(5.100412648442984e-07, 'miracl medic'), (4.934070780423934e-07, 'thank thank'), (4.806528738544995e-07, 'caus start'), (4.661463383444151e-07, 'vera'), (4.1076716730336116e-07, 'best anti'), (3.610646264810061e-07, 'benefit far'), (3.606362781510064e-07, 'free thank'), (3.2005648328433564e-07, 'no fear'), (3.0827076380424535e-07, 'hold job'), (2.3417869968147855e-07, 'cd viral')]\n"
     ]
    }
   ],
   "source": [
    "CoefNames = list(zip(rf.feature_importances_, vect.get_feature_names()))\n",
    "CoefNames.sort(reverse=True)\n",
    "print(CoefNames[:10])\n",
    "print(CoefNames[-10:])"
   ]
  },
  {
   "cell_type": "code",
   "execution_count": 39,
   "metadata": {},
   "outputs": [
    {
     "ename": "TypeError",
     "evalue": "get_feature_names() takes 1 positional argument but 2 were given",
     "output_type": "error",
     "traceback": [
      "\u001b[0;31m---------------------------------------------------------------------------\u001b[0m",
      "\u001b[0;31mTypeError\u001b[0m                                 Traceback (most recent call last)",
      "\u001b[0;32m<ipython-input-39-9d21d2f59514>\u001b[0m in \u001b[0;36m<module>\u001b[0;34m\u001b[0m\n\u001b[0;32m----> 1\u001b[0;31m \u001b[0mvect\u001b[0m\u001b[0;34m.\u001b[0m\u001b[0mget_feature_names\u001b[0m\u001b[0;34m(\u001b[0m\u001b[0;36m29631\u001b[0m\u001b[0;34m)\u001b[0m\u001b[0;34m\u001b[0m\u001b[0;34m\u001b[0m\u001b[0m\n\u001b[0m",
      "\u001b[0;31mTypeError\u001b[0m: get_feature_names() takes 1 positional argument but 2 were given"
     ]
    }
   ],
   "source": []
  },
  {
   "cell_type": "code",
   "execution_count": 41,
   "metadata": {},
   "outputs": [
    {
     "ename": "AttributeError",
     "evalue": "columns not found",
     "output_type": "error",
     "traceback": [
      "\u001b[0;31m---------------------------------------------------------------------------\u001b[0m",
      "\u001b[0;31mAttributeError\u001b[0m                            Traceback (most recent call last)",
      "\u001b[0;32m<ipython-input-41-4251296952da>\u001b[0m in \u001b[0;36m<module>\u001b[0;34m\u001b[0m\n\u001b[1;32m      1\u001b[0m feature_importances = pd.DataFrame(rf.feature_importances_,\n\u001b[0;32m----> 2\u001b[0;31m                                    \u001b[0mindex\u001b[0m \u001b[0;34m=\u001b[0m \u001b[0mX_train1\u001b[0m\u001b[0;34m.\u001b[0m\u001b[0mcolumns\u001b[0m\u001b[0;34m,\u001b[0m\u001b[0;34m\u001b[0m\u001b[0;34m\u001b[0m\u001b[0m\n\u001b[0m\u001b[1;32m      3\u001b[0m                                     columns=['importance']).sort_values('importance', ascending=False)\n",
      "\u001b[0;32m/opt/conda/envs/fastai/lib/python3.7/site-packages/scipy/sparse/base.py\u001b[0m in \u001b[0;36m__getattr__\u001b[0;34m(self, attr)\u001b[0m\n\u001b[1;32m    689\u001b[0m             \u001b[0;32mreturn\u001b[0m \u001b[0mself\u001b[0m\u001b[0;34m.\u001b[0m\u001b[0mgetnnz\u001b[0m\u001b[0;34m(\u001b[0m\u001b[0;34m)\u001b[0m\u001b[0;34m\u001b[0m\u001b[0;34m\u001b[0m\u001b[0m\n\u001b[1;32m    690\u001b[0m         \u001b[0;32melse\u001b[0m\u001b[0;34m:\u001b[0m\u001b[0;34m\u001b[0m\u001b[0;34m\u001b[0m\u001b[0m\n\u001b[0;32m--> 691\u001b[0;31m             \u001b[0;32mraise\u001b[0m \u001b[0mAttributeError\u001b[0m\u001b[0;34m(\u001b[0m\u001b[0mattr\u001b[0m \u001b[0;34m+\u001b[0m \u001b[0;34m\" not found\"\u001b[0m\u001b[0;34m)\u001b[0m\u001b[0;34m\u001b[0m\u001b[0;34m\u001b[0m\u001b[0m\n\u001b[0m\u001b[1;32m    692\u001b[0m \u001b[0;34m\u001b[0m\u001b[0m\n\u001b[1;32m    693\u001b[0m     \u001b[0;32mdef\u001b[0m \u001b[0mtranspose\u001b[0m\u001b[0;34m(\u001b[0m\u001b[0mself\u001b[0m\u001b[0;34m,\u001b[0m \u001b[0maxes\u001b[0m\u001b[0;34m=\u001b[0m\u001b[0;32mNone\u001b[0m\u001b[0;34m,\u001b[0m \u001b[0mcopy\u001b[0m\u001b[0;34m=\u001b[0m\u001b[0;32mFalse\u001b[0m\u001b[0;34m)\u001b[0m\u001b[0;34m:\u001b[0m\u001b[0;34m\u001b[0m\u001b[0;34m\u001b[0m\u001b[0m\n",
      "\u001b[0;31mAttributeError\u001b[0m: columns not found"
     ]
    }
   ],
   "source": [
    "feature_importances = pd.DataFrame(rf.feature_importances_,\n",
    "                                   index = X_train1.columns,\n",
    "                                    columns=['importance']).sort_values('importance', ascending=False)"
   ]
  },
  {
   "cell_type": "code",
   "execution_count": 51,
   "metadata": {},
   "outputs": [
    {
     "data": {
      "text/plain": [
       "RandomForestClassifier(bootstrap=True, ccp_alpha=0.0, class_weight='balanced',\n",
       "                       criterion='gini', max_depth=None, max_features='auto',\n",
       "                       max_leaf_nodes=None, max_samples=None,\n",
       "                       min_impurity_decrease=0.0, min_impurity_split=None,\n",
       "                       min_samples_leaf=1, min_samples_split=2,\n",
       "                       min_weight_fraction_leaf=0.0, n_estimators=100,\n",
       "                       n_jobs=None, oob_score=False, random_state=None,\n",
       "                       verbose=0, warm_start=False)"
      ]
     },
     "execution_count": 51,
     "metadata": {},
     "output_type": "execute_result"
    }
   ],
   "source": [
    "rf2=RandomForestClassifier(n_estimators=100,class_weight='balanced')\n",
    "rf2.fit(X_train2,y_train2)"
   ]
  },
  {
   "cell_type": "code",
   "execution_count": 52,
   "metadata": {},
   "outputs": [
    {
     "name": "stdout",
     "output_type": "stream",
     "text": [
      "[(0.0051341338967589275, 'not'), (0.004693994618873936, 'work'), (0.004685443668120152, 'year'), (0.003926414712394104, 'life'), (0.0038813031830783272, 'great'), (0.0036382413017411624, 'take'), (0.003467443682049926, 'wors'), (0.003378534432052155, 'effect'), (0.0032933135959713777, 'love'), (0.00327336178322055, 'no')]\n",
      "[(2.4392657486838257e-07, 'hospit told'), (2.372894944453935e-07, 'free thank'), (2.3397205986899408e-07, 'bleed today'), (2.272048577945738e-07, 'use suprep'), (2.001359164182398e-07, 'smoke cessat'), (1.8539361132473305e-07, 'gradual got'), (1.3982580876330505e-07, 'great make'), (1.2936583025949983e-07, 'anxieti general'), (7.921343455014906e-08, 'alway sore'), (4.6258952369816486e-08, 'mood elev')]\n"
     ]
    }
   ],
   "source": [
    "CoefNames = list(zip(rf2.feature_importances_, tf.get_feature_names()))\n",
    "CoefNames.sort(reverse=True)\n",
    "print(CoefNames[:10])\n",
    "print(CoefNames[-10:])"
   ]
  },
  {
   "cell_type": "code",
   "execution_count": 43,
   "metadata": {},
   "outputs": [
    {
     "data": {
      "text/plain": [
       "LogisticRegression(C=1.0, class_weight='balanced', dual=False,\n",
       "                   fit_intercept=True, intercept_scaling=1, l1_ratio=None,\n",
       "                   max_iter=1000, multi_class='auto', n_jobs=None, penalty='l2',\n",
       "                   random_state=0, solver='lbfgs', tol=0.0001, verbose=0,\n",
       "                   warm_start=False)"
      ]
     },
     "execution_count": 43,
     "metadata": {},
     "output_type": "execute_result"
    }
   ],
   "source": [
    "lr1=LogisticRegression(random_state=0,solver='lbfgs',max_iter=1000,multi_class='auto',class_weight='balanced')\n",
    "lr1.fit(X_train1,y_train1)"
   ]
  },
  {
   "cell_type": "code",
   "execution_count": 44,
   "metadata": {},
   "outputs": [
    {
     "name": "stdout",
     "output_type": "stream",
     "text": [
      "[(2.0440256532662446, 'hungrier'), (2.0351930310730797, 'no better'), (1.8415473138852871, 'no improv'), (1.7448306800950708, 'may good'), (1.7425273976908904, 'no help'), (1.72850722605163, 'worthless'), (1.7145818871290535, 'stay away'), (1.6275591142677586, 'still problem'), (1.5987313877365303, 'not recommend'), (1.58602231506744, 'weight due')]\n",
      "[(-1.5448336415419233, 'hope never'), (-1.551645128447588, 'excel'), (-1.565820412126497, 'no doubt'), (-1.5669278651041532, 'chang life'), (-1.5928490141515725, 'felt need'), (-1.639337382677501, 'slowli get'), (-1.6592755577077574, 'add adhd'), (-1.6766164215085277, 'pill back'), (-1.788662364022194, 'back lower'), (-2.0348864512026297, 'issu still')]\n"
     ]
    }
   ],
   "source": [
    "CoefNames = list(zip(lr1.coef_[0], vect.get_feature_names()))\n",
    "CoefNames.sort(reverse=True)\n",
    "print(CoefNames[:10])\n",
    "print(CoefNames[-10:])"
   ]
  },
  {
   "cell_type": "code",
   "execution_count": 45,
   "metadata": {},
   "outputs": [
    {
     "name": "stdout",
     "output_type": "stream",
     "text": [
      "[(1.9850892926745691, 'help thank'), (1.8990307014582792, 'much drug'), (1.848898444063551, 'day sick'), (1.7356433657645887, 'caus serious'), (1.7040491080304216, 'cramp everyday'), (1.701468972274204, 'emot state'), (1.6825657596862325, 'dose within'), (1.6786398773009845, 'eighteen'), (1.652030195516038, 'tri reduc'), (1.6435814794512165, 'middl pack')]\n",
      "[(-1.5743808878674448, 'worthless'), (-1.5964311724574638, 'bad review'), (-1.6348502210483558, 'anxious feel'), (-1.63773316103638, 'point get'), (-1.654328097010876, 'stop want'), (-1.6591172643656662, 'bloat weight'), (-1.7078330390211274, 'month littl'), (-1.7530366939230906, 'sinc month'), (-1.7698540450388256, 'blockag'), (-1.854849724835316, 'think like')]\n"
     ]
    }
   ],
   "source": [
    "CoefNames = list(zip(lr1.coef_[1], vect.get_feature_names()))\n",
    "CoefNames.sort(reverse=True)\n",
    "print(CoefNames[:10])\n",
    "print(CoefNames[-10:])"
   ]
  },
  {
   "cell_type": "code",
   "execution_count": 46,
   "metadata": {},
   "outputs": [
    {
     "name": "stdout",
     "output_type": "stream",
     "text": [
      "[(2.2519743554058596, 'chang life'), (2.0439583327112847, 'lifesav'), (1.84740476877151, 'tire want'), (1.7395189592894316, 'famili not'), (1.6926732554901243, 'hope continu'), (1.6186810478034368, 'high recommend'), (1.5673707125862462, 'almost normal'), (1.5538476754758896, 'brilliant'), (1.5306891607990154, 'improv dramat'), (1.5233946812853976, 'phenomen')]\n",
      "[(-1.641838101812837, 'effect kind'), (-1.6451538541089668, 'not impress'), (-1.719891845358733, 'anastrozol'), (-1.737076823896459, 'no benefit'), (-1.7513339821686111, 'hope miracl'), (-1.7757827610536936, 'slight decreas'), (-1.7832309617647308, 'not great'), (-1.8430442682810848, 'longer work'), (-1.8536073851386712, 'would love'), (-2.0981349333485055, 'not worth')]\n"
     ]
    }
   ],
   "source": [
    "CoefNames = list(zip(lr1.coef_[2], vect.get_feature_names()))\n",
    "CoefNames.sort(reverse=True)\n",
    "print(CoefNames[:10])\n",
    "print(CoefNames[-10:])"
   ]
  },
  {
   "cell_type": "code",
   "execution_count": 47,
   "metadata": {},
   "outputs": [
    {
     "data": {
      "text/plain": [
       "LogisticRegression(C=1.0, class_weight='balanced', dual=False,\n",
       "                   fit_intercept=True, intercept_scaling=1, l1_ratio=None,\n",
       "                   max_iter=1000, multi_class='auto', n_jobs=None, penalty='l2',\n",
       "                   random_state=0, solver='lbfgs', tol=0.0001, verbose=0,\n",
       "                   warm_start=False)"
      ]
     },
     "execution_count": 47,
     "metadata": {},
     "output_type": "execute_result"
    }
   ],
   "source": [
    "lr2=LogisticRegression(random_state=0,solver='lbfgs',max_iter=1000,multi_class='auto',class_weight='balanced')\n",
    "lr2.fit(X_train2,y_train2)"
   ]
  },
  {
   "cell_type": "code",
   "execution_count": 48,
   "metadata": {},
   "outputs": [
    {
     "name": "stdout",
     "output_type": "stream",
     "text": [
      "[(5.2110268016863195, 'wors'), (5.1155589885466854, 'not recommend'), (4.692056820451777, 'not worth'), (4.262056675120906, 'not work'), (4.200395031669408, 'worst'), (4.1371212981655185, 'no improv'), (4.01302779124969, 'disappoint'), (3.7297495847384563, 'wast'), (3.5198096345849135, 'never'), (3.50500849105063, 'stay away')]\n",
      "[(-3.441363269009365, 'complaint'), (-3.4974342135248664, 'worri'), (-3.5359034402225658, 'best'), (-3.590933693741786, 'excel'), (-3.648932072423585, 'would recommend'), (-3.72368647265073, 'miracl'), (-3.7461108092148, 'overal'), (-4.441461499342267, 'amaz'), (-4.474959284303004, 'great'), (-5.039945432871854, 'love')]\n"
     ]
    }
   ],
   "source": [
    "CoefNames = list(zip(lr2.coef_[0], tf.get_feature_names()))\n",
    "CoefNames.sort(reverse=True)\n",
    "print(CoefNames[:10])\n",
    "print(CoefNames[-10:])"
   ]
  },
  {
   "cell_type": "code",
   "execution_count": 49,
   "metadata": {},
   "outputs": [
    {
     "name": "stdout",
     "output_type": "stream",
     "text": [
      "[(3.899048257866621, 'howev'), (3.2421424367722262, 'hope'), (2.6442485684040054, 'plastic'), (2.6191914600927193, 'not sure'), (2.3244445077978457, 'not happi'), (2.2868979496472663, 'yet'), (2.2732323625722577, 'good bad'), (2.2403302181277804, 'feel nausea'), (2.238229386727537, 'prevent pregnanc'), (2.217130329392793, 'littl better')]\n",
      "[(-1.9844583675278344, 'get littl'), (-2.004331348626718, 'worthless'), (-2.044827822681161, 'month littl'), (-2.1218541556876684, 'negat review'), (-2.2174376757989633, 'recommend anyon'), (-2.2727539430055637, 'chang life'), (-2.310447130866687, 'life'), (-2.3689582409322107, 'wast'), (-2.38253280253164, 'high recommend'), (-3.262808809400307, 'recommend')]\n"
     ]
    }
   ],
   "source": [
    "CoefNames = list(zip(lr2.coef_[1], tf.get_feature_names()))\n",
    "CoefNames.sort(reverse=True)\n",
    "print(CoefNames[:10])\n",
    "print(CoefNames[-10:])"
   ]
  },
  {
   "cell_type": "code",
   "execution_count": 50,
   "metadata": {},
   "outputs": [
    {
     "name": "stdout",
     "output_type": "stream",
     "text": [
      "[(6.220806274431284, 'love'), (5.780368386285489, 'amaz'), (5.587480552902525, 'chang life'), (5.551102661316655, 'miracl'), (4.955129030039039, 'best'), (4.8896976408780075, 'high recommend'), (4.366983369881906, 'great'), (3.770939394042177, 'lifesav'), (3.7066083404429406, 'life'), (3.6996855442510705, 'happi')]\n",
      "[(-2.8794495468402084, 'stop take'), (-2.884919822496726, 'not great'), (-3.00620464846876, 'no effect'), (-3.0602229281884266, 'disappoint'), (-3.261660074983972, 'not work'), (-3.335052830597924, 'not happi'), (-3.4931145530440153, 'worst'), (-4.456977188042037, 'not recommend'), (-4.836201408118143, 'wors'), (-5.70682726473253, 'not worth')]\n"
     ]
    }
   ],
   "source": [
    "CoefNames = list(zip(lr2.coef_[2], tf.get_feature_names()))\n",
    "CoefNames.sort(reverse=True)\n",
    "print(CoefNames[:10])\n",
    "print(CoefNames[-10:])"
   ]
  },
  {
   "cell_type": "code",
   "execution_count": 53,
   "metadata": {},
   "outputs": [
    {
     "name": "stdout",
     "output_type": "stream",
     "text": [
      "[-1.  0.  1.]\n",
      "[-1.  0.  1.]\n"
     ]
    }
   ],
   "source": [
    "print(lr1.classes_)\n",
    "print(lr2.classes_)"
   ]
  },
  {
   "cell_type": "code",
   "execution_count": 61,
   "metadata": {},
   "outputs": [],
   "source": [
    "k1=[]\n",
    "k2=[]\n",
    "\n",
    "for i in range(10000,55000,5000): \n",
    "\n",
    "    vect=CountVectorizer(analyzer='word',tokenizer=None,preprocessor=None, stop_words=None,min_df=2, ngram_range=(1,3),max_features=i)\n",
    "    tf=TfidfVectorizer(analyzer='word',tokenizer=None,preprocessor=None, stop_words=None,min_df=2, ngram_range=(1,3),max_features=i)\n",
    "#tf=TfidfVectorizer(ngram_range=(1,2))\n",
    "\n",
    "#pipeline=Pipeline([('vect',vect)])\n",
    "\n",
    "#df_features=pipeline.fit_transform(df['review_clean'])\n",
    "    df_features3=vect.fit_transform(final_df['review_clean'])\n",
    "    df_features4=tf.fit_transform(final_df['review_clean'])\n",
    "\n",
    "    k1.append(df_features3)\n",
    "    k2.append(df_features4)\n",
    "    #X_train, X_test, y_train, y_test=train_test_split(df_features1, df['label'], test_size=0.25, random_state=0)\n"
   ]
  },
  {
   "cell_type": "code",
   "execution_count": 62,
   "metadata": {},
   "outputs": [
    {
     "name": "stdout",
     "output_type": "stream",
     "text": [
      "loop= 0\n",
      "loop= 1\n",
      "loop= 2\n",
      "loop= 3\n",
      "loop= 4\n",
      "loop= 5\n",
      "loop= 6\n",
      "loop= 7\n",
      "loop= 8\n"
     ]
    }
   ],
   "source": [
    "#multinomial nb\n",
    "\n",
    "num_features=10000\n",
    "\n",
    "train_acc_cv7=[]\n",
    "test_acc_cv7=[]\n",
    "train_acc_tf7=[]\n",
    "test_acc_tf7=[]\n",
    "\n",
    "\n",
    "for i in range(9):\n",
    "    \n",
    "    print(\"loop=\",i)\n",
    "#     [train_x1,test_x1]=ngram_features(min_ngram, max_ngram, X_train, X_test, i)\n",
    "#     [train_x2,test_x2]=tf_features(min_ngram, max_ngram, X_train, X_test, i)\n",
    "#     print(\"hello\")\n",
    "#     X_train, X_test, y_train, y_test=train_test_split(h1[i], df['label'], test_size=0.25, random_state=0)\n",
    "    X_train1, X_test1, y_train1, y_test1=train_test_split(k1[i], final_df['label'], test_size=0.25, random_state=0)\n",
    "\n",
    "    X_train2, X_test2, y_train2, y_test2=train_test_split(k2[i], final_df['label'], test_size=0.25, random_state=0)\n",
    "\n",
    "    [a1,b1]=multi_nb(X_train1,y_train1,X_test1,y_test1)\n",
    "    [a2,b2]=multi_nb(X_train2,y_train2,X_test2,y_test2)\n",
    "    \n",
    "    train_acc_cv7.append(a1)\n",
    "    test_acc_cv7.append(b1)\n",
    "    train_acc_tf7.append(a2)\n",
    "    test_acc_tf7.append(b2)"
   ]
  },
  {
   "cell_type": "code",
   "execution_count": 63,
   "metadata": {},
   "outputs": [
    {
     "data": {
      "text/plain": [
       "Text(0, 0.5, 'accuracy %')"
      ]
     },
     "execution_count": 63,
     "metadata": {},
     "output_type": "execute_result"
    },
    {
     "data": {
      "image/png": "[encoded data removed]",
      "text/plain": [
       "<Figure size 576x360 with 1 Axes>"
      ]
     },
     "metadata": {
      "needs_background": "light"
     },
     "output_type": "display_data"
    }
   ],
   "source": [
    "plt.figure(figsize=(8,5))\n",
    "n=range(10000,55000,5000)\n",
    "# plt.plot(n,train_acc_cv4,\"-b\",label=\"training data for count vectors\")\n",
    "# plt.plot(n,test_acc_cv4,\"-r\",label=\"test data for count vectors\")\n",
    "# plt.plot(n,train_acc_tf4, \"-g\",label=\"training data for tdif\")\n",
    "# plt.plot(n,test_acc_tf4, \"-c\",label=\"test data for tdif\")\n",
    "\n",
    "sns.lineplot(n,train_acc_cv7,palette='dark',label=\"training data for bag-of-words\")\n",
    "sns.lineplot(n,test_acc_cv7,palette='dark',label=\"test data for bag-of-words\")\n",
    "sns.lineplot(n,train_acc_tf7, palette='dark',label=\"training data for tdidf\")\n",
    "sns.lineplot(n,test_acc_tf7, palette='dark',label=\"test data for tdidf\")\n",
    "\n",
    "#plt.legend(loc=\"upper left\",prop={\"size\":8})\n",
    "#plt.title(\"line chart of e\")\n",
    "plt.legend(bbox_to_anchor=(0.5,-0.2), loc='center', borderaxespad=0.,ncol=2, mode=\"expand\")\n",
    "\n",
    "plt.xlabel(\"# of features\")\n",
    "plt.ylabel(\"accuracy %\")"
   ]
  },
  {
   "cell_type": "code",
   "execution_count": null,
   "metadata": {},
   "outputs": [],
   "source": [
    "print(train_acc_cv7)\n",
    "print(test_acc_cv7)\n",
    "print(train_acc_tf7)\n",
    "print(test_acc_tf7)"
   ]
  },
  {
   "cell_type": "code",
   "execution_count": null,
   "metadata": {},
   "outputs": [],
   "source": [
    "print(mean(train_acc_cv7))\n",
    "print(mean(test_acc_cv7))\n",
    "print(mean(train_acc_tf7))\n",
    "print(mean(test_acc_tf7))"
   ]
  },
  {
   "cell_type": "code",
   "execution_count": null,
   "metadata": {},
   "outputs": [],
   "source": [
    "#for logistic regression\n",
    "\n",
    "min_ngram=1\n",
    "max_ngram=2\n",
    "\n",
    "num_features=10000\n",
    "\n",
    "train_acc_cv8=[]\n",
    "test_acc_cv8=[]\n",
    "train_acc_tf8=[]\n",
    "test_acc_tf8=[]\n",
    "\n",
    "\n",
    "for i in range(9):\n",
    "    \n",
    "    print(\"no of features=\",i)\n",
    "    X_train1, X_test1, y_train1, y_test1=train_test_split(k1[i], final_df['label'], test_size=0.25, random_state=0)\n",
    "\n",
    "    X_train2, X_test2, y_train2, y_test2=train_test_split(k2[i], final_df['label'], test_size=0.25, random_state=0)\n",
    "\n",
    "    \n",
    "    [a1,b1]=logistic_regression(X_train1,y_train1,X_test1,y_test1)\n",
    "    [a2,b2]=logistic_regression(X_train2,y_train2,X_test2,y_test2)\n",
    "    \n",
    "    train_acc_cv8.append(a1)\n",
    "    test_acc_cv8.append(b1)\n",
    "    train_acc_tf8.append(a2)\n",
    "    test_acc_tf8.append(b2)"
   ]
  },
  {
   "cell_type": "code",
   "execution_count": null,
   "metadata": {},
   "outputs": [],
   "source": [
    "plt.figure(figsize=(8,5))\n",
    "n=range(10000,55000,5000)\n",
    "# plt.plot(n,train_acc_cv4,\"-b\",label=\"training data for count vectors\")\n",
    "# plt.plot(n,test_acc_cv4,\"-r\",label=\"test data for count vectors\")\n",
    "# plt.plot(n,train_acc_tf4, \"-g\",label=\"training data for tdif\")\n",
    "# plt.plot(n,test_acc_tf4, \"-c\",label=\"test data for tdif\")\n",
    "\n",
    "sns.lineplot(n,train_acc_cv8,palette='dark',label=\"training data for bag-of-words\")\n",
    "sns.lineplot(n,test_acc_cv8,palette='dark',label=\"test data for bag-of-words\")\n",
    "sns.lineplot(n,train_acc_tf8, palette='dark',label=\"training data for tdidf\")\n",
    "sns.lineplot(n,test_acc_tf8, palette='dark',label=\"test data for tdidf\")\n",
    "\n",
    "#plt.legend(loc=\"upper left\",prop={\"size\":8})\n",
    "#plt.title(\"line chart of e\")\n",
    "plt.legend(bbox_to_anchor=(0.5,-0.2), loc='center', borderaxespad=0.,ncol=2, mode=\"expand\")\n",
    "\n",
    "plt.xlabel(\"# of features\")\n",
    "plt.ylabel(\"accuracy %\")"
   ]
  },
  {
   "cell_type": "code",
   "execution_count": null,
   "metadata": {},
   "outputs": [],
   "source": [
    "print(train_acc_cv8)\n",
    "print(test_acc_cv8)\n",
    "print(train_acc_tf8)\n",
    "print(test_acc_tf8)"
   ]
  },
  {
   "cell_type": "code",
   "execution_count": null,
   "metadata": {},
   "outputs": [],
   "source": [
    "print(mean(train_acc_cv8))\n",
    "print(mean(test_acc_cv8))\n",
    "print(mean(train_acc_tf8))\n",
    "print(mean(test_acc_tf8))"
   ]
  },
  {
   "cell_type": "code",
   "execution_count": 1,
   "metadata": {},
   "outputs": [],
   "source": [
    "# df_p=pd.concat([data_p['condition'],df])\n",
    "conditions=['Birth Control', 'Depression','Pain', 'Anxiety', 'Acne']\n",
    "# df_p.head()\n",
    "\n",
    "def m_d(condition):\n",
    "    df_c=df[df['condition']==condition]\n",
    "    vect=CountVectorizer(analyzer='word',tokenizer=None,preprocessor=None, stop_words=None,min_df=2, ngram_range=(1,2),max_features=20000)\n",
    "#     tf=TfidfVectorizer(analyzer='word',tokenizer=None,preprocessor=None, stop_words=None,min_df=2, ngram_range=(1,2),max_features=20000)\n",
    "    df_p=vect.fit_transform(df_c['review_clean'])\n",
    "    X_train,X_test,y_train,y_test=train_test_split(df_p, df_c['label'], test_size=0.25, random_state=0)\n",
    "    return X_train, X_test, y_train, y_test\n",
    "    "
   ]
  },
  {
   "cell_type": "code",
   "execution_count": 2,
   "metadata": {},
   "outputs": [
    {
     "ename": "NameError",
     "evalue": "name 'df' is not defined",
     "output_type": "error",
     "traceback": [
      "\u001b[0;31m---------------------------------------------------------------------------\u001b[0m",
      "\u001b[0;31mNameError\u001b[0m                                 Traceback (most recent call last)",
      "\u001b[0;32m<ipython-input-2-17b0ecdb9eec>\u001b[0m in \u001b[0;36m<module>\u001b[0;34m\u001b[0m\n\u001b[0;32m----> 1\u001b[0;31m \u001b[0mX_BC_train\u001b[0m\u001b[0;34m,\u001b[0m\u001b[0mX_BC_test\u001b[0m\u001b[0;34m,\u001b[0m \u001b[0my_BC_train\u001b[0m\u001b[0;34m,\u001b[0m \u001b[0my_BC_test\u001b[0m \u001b[0;34m=\u001b[0m \u001b[0mm_d\u001b[0m\u001b[0;34m(\u001b[0m\u001b[0;34m'Birth Control'\u001b[0m\u001b[0;34m)\u001b[0m\u001b[0;34m\u001b[0m\u001b[0;34m\u001b[0m\u001b[0m\n\u001b[0m\u001b[1;32m      2\u001b[0m \u001b[0mX_D_train\u001b[0m\u001b[0;34m,\u001b[0m \u001b[0mX_D_test\u001b[0m\u001b[0;34m,\u001b[0m \u001b[0my_D_train\u001b[0m\u001b[0;34m,\u001b[0m \u001b[0my_D_test\u001b[0m \u001b[0;34m=\u001b[0m \u001b[0mm_d\u001b[0m\u001b[0;34m(\u001b[0m\u001b[0;34m'Depression'\u001b[0m\u001b[0;34m)\u001b[0m\u001b[0;34m\u001b[0m\u001b[0;34m\u001b[0m\u001b[0m\n\u001b[1;32m      3\u001b[0m \u001b[0mX_P_train\u001b[0m\u001b[0;34m,\u001b[0m \u001b[0mX_P_test\u001b[0m\u001b[0;34m,\u001b[0m \u001b[0my_P_train\u001b[0m\u001b[0;34m,\u001b[0m \u001b[0my_P_test\u001b[0m \u001b[0;34m=\u001b[0m \u001b[0mm_d\u001b[0m\u001b[0;34m(\u001b[0m\u001b[0;34m'Pain'\u001b[0m\u001b[0;34m)\u001b[0m\u001b[0;34m\u001b[0m\u001b[0;34m\u001b[0m\u001b[0m\n\u001b[1;32m      4\u001b[0m \u001b[0mX_A_train\u001b[0m\u001b[0;34m,\u001b[0m \u001b[0mX_A_test\u001b[0m\u001b[0;34m,\u001b[0m \u001b[0my_A_train\u001b[0m\u001b[0;34m,\u001b[0m \u001b[0my_A_test\u001b[0m \u001b[0;34m=\u001b[0m \u001b[0mm_d\u001b[0m\u001b[0;34m(\u001b[0m\u001b[0;34m'Anxiety'\u001b[0m\u001b[0;34m)\u001b[0m\u001b[0;34m\u001b[0m\u001b[0;34m\u001b[0m\u001b[0m\n\u001b[1;32m      5\u001b[0m \u001b[0mX_Dia_train\u001b[0m\u001b[0;34m,\u001b[0m \u001b[0mX_Dia_test\u001b[0m\u001b[0;34m,\u001b[0m \u001b[0my_Dia_train\u001b[0m\u001b[0;34m,\u001b[0m \u001b[0my_Dia_test\u001b[0m \u001b[0;34m=\u001b[0m \u001b[0mm_d\u001b[0m\u001b[0;34m(\u001b[0m\u001b[0;34m'Diabetes, Type 2'\u001b[0m\u001b[0;34m)\u001b[0m\u001b[0;34m\u001b[0m\u001b[0;34m\u001b[0m\u001b[0m\n",
      "\u001b[0;32m<ipython-input-1-92c411910b25>\u001b[0m in \u001b[0;36mm_d\u001b[0;34m(condition)\u001b[0m\n\u001b[1;32m      4\u001b[0m \u001b[0;34m\u001b[0m\u001b[0m\n\u001b[1;32m      5\u001b[0m \u001b[0;32mdef\u001b[0m \u001b[0mm_d\u001b[0m\u001b[0;34m(\u001b[0m\u001b[0mcondition\u001b[0m\u001b[0;34m)\u001b[0m\u001b[0;34m:\u001b[0m\u001b[0;34m\u001b[0m\u001b[0;34m\u001b[0m\u001b[0m\n\u001b[0;32m----> 6\u001b[0;31m     \u001b[0mdf_c\u001b[0m\u001b[0;34m=\u001b[0m\u001b[0mdf\u001b[0m\u001b[0;34m[\u001b[0m\u001b[0mdf\u001b[0m\u001b[0;34m[\u001b[0m\u001b[0;34m'condition'\u001b[0m\u001b[0;34m]\u001b[0m\u001b[0;34m==\u001b[0m\u001b[0mcondition\u001b[0m\u001b[0;34m]\u001b[0m\u001b[0;34m\u001b[0m\u001b[0;34m\u001b[0m\u001b[0m\n\u001b[0m\u001b[1;32m      7\u001b[0m     \u001b[0mvect\u001b[0m\u001b[0;34m=\u001b[0m\u001b[0mCountVectorizer\u001b[0m\u001b[0;34m(\u001b[0m\u001b[0manalyzer\u001b[0m\u001b[0;34m=\u001b[0m\u001b[0;34m'word'\u001b[0m\u001b[0;34m,\u001b[0m\u001b[0mtokenizer\u001b[0m\u001b[0;34m=\u001b[0m\u001b[0;32mNone\u001b[0m\u001b[0;34m,\u001b[0m\u001b[0mpreprocessor\u001b[0m\u001b[0;34m=\u001b[0m\u001b[0;32mNone\u001b[0m\u001b[0;34m,\u001b[0m \u001b[0mstop_words\u001b[0m\u001b[0;34m=\u001b[0m\u001b[0;32mNone\u001b[0m\u001b[0;34m,\u001b[0m\u001b[0mmin_df\u001b[0m\u001b[0;34m=\u001b[0m\u001b[0;36m2\u001b[0m\u001b[0;34m,\u001b[0m \u001b[0mngram_range\u001b[0m\u001b[0;34m=\u001b[0m\u001b[0;34m(\u001b[0m\u001b[0;36m1\u001b[0m\u001b[0;34m,\u001b[0m\u001b[0;36m2\u001b[0m\u001b[0;34m)\u001b[0m\u001b[0;34m,\u001b[0m\u001b[0mmax_features\u001b[0m\u001b[0;34m=\u001b[0m\u001b[0;36m20000\u001b[0m\u001b[0;34m)\u001b[0m\u001b[0;34m\u001b[0m\u001b[0;34m\u001b[0m\u001b[0m\n\u001b[1;32m      8\u001b[0m \u001b[0;31m#     tf=TfidfVectorizer(analyzer='word',tokenizer=None,preprocessor=None, stop_words=None,min_df=2, ngram_range=(1,2),max_features=20000)\u001b[0m\u001b[0;34m\u001b[0m\u001b[0;34m\u001b[0m\u001b[0;34m\u001b[0m\u001b[0m\n",
      "\u001b[0;31mNameError\u001b[0m: name 'df' is not defined"
     ]
    }
   ],
   "source": [
    "X_BC_train,X_BC_test, y_BC_train, y_BC_test = m_d('Birth Control')\n",
    "X_D_train, X_D_test, y_D_train, y_D_test = m_d('Depression')\n",
    "X_P_train, X_P_test, y_P_train, y_P_test = m_d('Pain')\n",
    "X_A_train, X_A_test, y_A_train, y_A_test = m_d('Anxiety')\n",
    "X_Dia_train, X_Dia_test, y_Dia_train, y_Dia_test = m_d('Diabetes, Type 2')"
   ]
  },
  {
   "cell_type": "code",
   "execution_count": null,
   "metadata": {},
   "outputs": [],
   "source": [
    "train_str_Inputs = [['X_BC_train', 'y_BC_train'],['X_D_train', 'y_D_train'], ['X_P_train','y_P_train'], ['X_A_train','y_A_train'],['X_Dia_train','y_Dia_train']]\n",
    "test_str_Inputs = [['X_BC_test','y_BC_test'], ['X_D_test','y_D_test'],['X_P_test','y_P_test'],['X_A_test','y_A_test'],['X_Dia_test','y_Dia_test']]\n",
    "     \n",
    "string_combination= [t+j for j in test_str_Inputs for t in train_str_Inputs]\n",
    "\n",
    "\n",
    " \n",
    "train_var_Inputs= [(X_BC_train, y_BC_train),(X_D_train, y_D_train), (X_P_train,y_P_train), (X_A_train,y_A_train),(X_Dia_train,y_Dia_train)]\n",
    "test_var_Inputs = [(X_BC_test,y_BC_test), (X_D_test,y_D_test),(X_P_test,y_P_test),(X_A_test,y_A_test),(X_Dia_test,y_Dia_test)]\n",
    "var_combination= [t+j for j in test_var_Inputs for t in train_var_Inputs]"
   ]
  },
  {
   "cell_type": "code",
   "execution_count": null,
   "metadata": {},
   "outputs": [],
   "source": [
    "#v = CountVectorizer(analyzer = \"word\", ngram_range= (1,2))\n",
    "dicti= {}\n",
    "dicti['train']=[]\n",
    "dicti['test']=[]\n",
    "dicti['accuracy']=[]\n",
    "\n",
    "for i , (X_train, y_train,X_test,  y_test) in zip(string_combination, var_combination):\n",
    "#         print('-'*100)\n",
    "    print(i)\n",
    "#         print('-'*100)\n",
    "        \n",
    "        \n",
    "#         train_features= v.fit_transform(X_train)\n",
    "\n",
    "#         test_features=v.transform(X_test)\n",
    "#         dense_features=train_features.toarray()\n",
    "#         dense_test= test_features.toarray()\n",
    "\n",
    "    lr=LogisticRegression(random_state=0,solver='lbfgs',max_iter=1000,multi_class='auto')\n",
    "    lr.fit(X_train,y_train)\n",
    "    y_pred=lr.predict(X_test)\n",
    "    accuracy = accuracy_score(y_pred,y_test)\n",
    "       \n",
    "    dicti['train'].append(i[0][2:4])\n",
    "    dicti['test'].append(i[3][2:4])\n",
    "    dicti['accuracy'].append(float(accuracy))  \n",
    "    print('Accuracy = ' +str(accuracy))\n",
    "    "
   ]
  },
  {
   "cell_type": "code",
   "execution_count": null,
   "metadata": {},
   "outputs": [],
   "source": [
    "cross_domain= pd.DataFrame.from_dict(dicti)\n",
    "cross_domain['test'].unique()\n",
    "\n",
    "abbreviation= ['BC', 'D_', 'P_', 'A_', 'Di']\n",
    "\n",
    "cross_domain.replace(to_replace=abbreviation, value=conditions,inplace=True)\n",
    "\n",
    "cross_data_logistic=cross_domain.pivot_table(values='accuracy', index= 'train', columns='test')"
   ]
  },
  {
   "cell_type": "code",
   "execution_count": null,
   "metadata": {},
   "outputs": [],
   "source": [
    "cross_data_logistic_s= cross_data_logistic.reindex(index=['Depression', 'Anxiety','Pain', 'Birth Control','Diabetes, Type 2' ],columns= ['Depression', 'Anxiety','Pain', 'Birth Control','Diabetes, Type 2' ])\n",
    "cross_data_logistic_s['avg train accuracy']=cross_data_logistic_s[cross_data_logistic_s.columns[::-1]].mean(axis=1)\n",
    "cross_data_logistic_s.loc['avg test accuracy']=cross_data_logistic_s[cross_data_logistic_s.columns[::-1]].mean(axis=0)\n",
    "cross_data_logistic_s"
   ]
  }
 ],
 "metadata": {
  "kernelspec": {
   "display_name": "Python 3",
   "language": "python",
   "name": "python3"
  },
  "language_info": {
   "codemirror_mode": {
    "name": "ipython",
    "version": 3
   },
   "file_extension": ".py",
   "mimetype": "text/x-python",
   "name": "python",
   "nbconvert_exporter": "python",
   "pygments_lexer": "ipython3",
   "version": "3.7.3"
  }
 },
 "nbformat": 4,
 "nbformat_minor": 4
}
